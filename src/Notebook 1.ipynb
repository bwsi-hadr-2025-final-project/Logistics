{
  "cells": [
    {
      "cell_type": "markdown",
      "metadata": {
        "formattedRanges": [],
        "cell_id": "e90b45087df448b898078bcfbbae1ba6",
        "deepnote_cell_type": "text-cell-p"
      },
      "source": "",
      "block_group": "222f8102863e4c95b281fcdd6c136d4b"
    },
    {
      "cell_type": "markdown",
      "metadata": {
        "formattedRanges": [],
        "cell_id": "5f2ba949613041baa0c13cdc62417a98",
        "deepnote_cell_type": "text-cell-h1"
      },
      "source": "# Configuration",
      "block_group": "a45b878b3db84090b67e849199d61150"
    },
    {
      "cell_type": "code",
      "metadata": {
        "source_hash": "7958d4a9",
        "execution_start": 1753811908065,
        "execution_millis": 13014,
        "is_output_hidden": false,
        "execution_context_id": "985ff817-7ce4-41b9-b8fb-fc7eeb87fa87",
        "deepnote_to_be_reexecuted": true,
        "deepnote_app_is_output_hidden": true,
        "cell_id": "f79265ea4ef240648b919c6d2ae085fc",
        "deepnote_cell_type": "code"
      },
      "source": "!pip install -r requirements.txt\n!pip install requests --upgrade\n!pip install urllib3 --upgrade\n#<-- if you are pip installing locally like from vscode use [%] instead of [!] ex:\n#%pip install -r requirements.txt\n#%pip install requests --upgrade\n#%pip install urllib3 --upgrade",
      "block_group": "f1b7dc89345b4d64b485b7013fcaf506",
      "execution_count": 91,
      "outputs": [
        {
          "name": "stdout",
          "text": "Requirement already satisfied: contextily in /root/venv/lib/python3.10/site-packages (from -r requirements.txt (line 1)) (1.6.2)\nRequirement already satisfied: folium>=0.12 in /root/venv/lib/python3.10/site-packages (from -r requirements.txt (line 2)) (0.20.0)\nRequirement already satisfied: osmnx in /root/venv/lib/python3.10/site-packages (from -r requirements.txt (line 3)) (2.0.5)\nRequirement already satisfied: networkx in /root/venv/lib/python3.10/site-packages (from -r requirements.txt (line 4)) (3.4.2)\nRequirement already satisfied: geopandas in /root/venv/lib/python3.10/site-packages (from -r requirements.txt (line 5)) (1.1.1)\nRequirement already satisfied: mapclassify in /root/venv/lib/python3.10/site-packages (from -r requirements.txt (line 6)) (2.8.1)\nRequirement already satisfied: ee in /root/venv/lib/python3.10/site-packages (from -r requirements.txt (line 7)) (0.2)\nCollecting geemap (from -r requirements.txt (line 8))\n  Downloading geemap-0.36.0-py3-none-any.whl.metadata (14 kB)\nRequirement already satisfied: geopy in /root/venv/lib/python3.10/site-packages (from contextily->-r requirements.txt (line 1)) (2.4.1)\nRequirement already satisfied: matplotlib in /root/venv/lib/python3.10/site-packages (from contextily->-r requirements.txt (line 1)) (3.6.3)\nRequirement already satisfied: mercantile in /root/venv/lib/python3.10/site-packages (from contextily->-r requirements.txt (line 1)) (1.2.1)\nRequirement already satisfied: pillow in /root/venv/lib/python3.10/site-packages (from contextily->-r requirements.txt (line 1)) (11.3.0)\nRequirement already satisfied: rasterio in /root/venv/lib/python3.10/site-packages (from contextily->-r requirements.txt (line 1)) (1.4.3)\nRequirement already satisfied: requests in /root/venv/lib/python3.10/site-packages (from contextily->-r requirements.txt (line 1)) (2.32.4)\nRequirement already satisfied: joblib in /root/venv/lib/python3.10/site-packages (from contextily->-r requirements.txt (line 1)) (1.5.1)\nRequirement already satisfied: xyzservices in /root/venv/lib/python3.10/site-packages (from contextily->-r requirements.txt (line 1)) (2025.4.0)\nRequirement already satisfied: branca>=0.6.0 in /root/venv/lib/python3.10/site-packages (from folium>=0.12->-r requirements.txt (line 2)) (0.8.1)\nRequirement already satisfied: jinja2>=2.9 in /root/venv/lib/python3.10/site-packages (from folium>=0.12->-r requirements.txt (line 2)) (3.1.6)\nRequirement already satisfied: numpy in /root/venv/lib/python3.10/site-packages (from folium>=0.12->-r requirements.txt (line 2)) (1.25.2)\nRequirement already satisfied: pandas>=1.4 in /root/venv/lib/python3.10/site-packages (from osmnx->-r requirements.txt (line 3)) (2.1.4)\nRequirement already satisfied: shapely>=2.0 in /root/venv/lib/python3.10/site-packages (from osmnx->-r requirements.txt (line 3)) (2.1.1)\nRequirement already satisfied: pyogrio>=0.7.2 in /root/venv/lib/python3.10/site-packages (from geopandas->-r requirements.txt (line 5)) (0.11.0)\nRequirement already satisfied: packaging in /root/venv/lib/python3.10/site-packages (from geopandas->-r requirements.txt (line 5)) (25.0)\nRequirement already satisfied: pyproj>=3.5.0 in /root/venv/lib/python3.10/site-packages (from geopandas->-r requirements.txt (line 5)) (3.7.1)\nRequirement already satisfied: scikit-learn>=1.0 in /root/venv/lib/python3.10/site-packages (from mapclassify->-r requirements.txt (line 6)) (1.1.3)\nRequirement already satisfied: scipy>=1.8 in /root/venv/lib/python3.10/site-packages (from mapclassify->-r requirements.txt (line 6)) (1.9.3)\nRequirement already satisfied: blessings in /root/venv/lib/python3.10/site-packages (from ee->-r requirements.txt (line 7)) (1.7)\nCollecting anywidget (from geemap->-r requirements.txt (line 8))\n  Downloading anywidget-0.9.18-py3-none-any.whl.metadata (8.9 kB)\nCollecting bqplot (from geemap->-r requirements.txt (line 8))\n  Downloading bqplot-0.12.45-py2.py3-none-any.whl.metadata (6.4 kB)\nCollecting colour (from geemap->-r requirements.txt (line 8))\n  Downloading colour-0.1.5-py2.py3-none-any.whl.metadata (18 kB)\nCollecting earthengine-api>=1.0.0 (from geemap->-r requirements.txt (line 8))\n  Downloading earthengine_api-1.6.1-py3-none-any.whl.metadata (2.2 kB)\nCollecting eerepr>=0.1.0 (from geemap->-r requirements.txt (line 8))\n  Downloading eerepr-0.1.2-py3-none-any.whl.metadata (4.2 kB)\nCollecting geocoder (from geemap->-r requirements.txt (line 8))\n  Downloading geocoder-1.38.1-py2.py3-none-any.whl.metadata (14 kB)\nCollecting ipyevents (from geemap->-r requirements.txt (line 8))\n  Downloading ipyevents-2.0.2-py3-none-any.whl.metadata (2.9 kB)\nCollecting ipyfilechooser>=0.6.0 (from geemap->-r requirements.txt (line 8))\n  Downloading ipyfilechooser-0.6.0-py3-none-any.whl.metadata (6.4 kB)\nCollecting ipyleaflet>=0.19.2 (from geemap->-r requirements.txt (line 8))\n  Downloading ipyleaflet-0.20.0-py3-none-any.whl.metadata (5.3 kB)\nCollecting ipytree (from geemap->-r requirements.txt (line 8))\n  Downloading ipytree-0.2.2-py2.py3-none-any.whl.metadata (849 bytes)\nRequirement already satisfied: plotly in /root/venv/lib/python3.10/site-packages (from geemap->-r requirements.txt (line 8)) (6.2.0)\nCollecting pyperclip (from geemap->-r requirements.txt (line 8))\n  Downloading pyperclip-1.9.0.tar.gz (20 kB)\n  Preparing metadata (setup.py) ... \u001b[?25ldone\n\u001b[?25hCollecting pyshp>=2.3.1 (from geemap->-r requirements.txt (line 8))\n  Downloading pyshp-2.3.1-py2.py3-none-any.whl.metadata (55 kB)\nCollecting python-box (from geemap->-r requirements.txt (line 8))\n  Downloading python_box-7.3.2-cp310-cp310-manylinux_2_17_x86_64.manylinux2014_x86_64.whl.metadata (7.8 kB)\nCollecting scooby (from geemap->-r requirements.txt (line 8))\n  Downloading scooby-0.10.1-py3-none-any.whl.metadata (15 kB)\nCollecting google-cloud-storage (from earthengine-api>=1.0.0->geemap->-r requirements.txt (line 8))\n  Downloading google_cloud_storage-3.2.0-py3-none-any.whl.metadata (13 kB)\nCollecting google-api-python-client>=1.12.1 (from earthengine-api>=1.0.0->geemap->-r requirements.txt (line 8))\n  Downloading google_api_python_client-2.177.0-py3-none-any.whl.metadata (7.0 kB)\nRequirement already satisfied: google-auth>=1.4.1 in /root/venv/lib/python3.10/site-packages (from earthengine-api>=1.0.0->geemap->-r requirements.txt (line 8)) (2.40.3)\nCollecting google-auth-httplib2>=0.0.3 (from earthengine-api>=1.0.0->geemap->-r requirements.txt (line 8))\n  Downloading google_auth_httplib2-0.2.0-py2.py3-none-any.whl.metadata (2.2 kB)\nCollecting httplib2<1dev,>=0.9.2 (from earthengine-api>=1.0.0->geemap->-r requirements.txt (line 8))\n  Downloading httplib2-0.22.0-py3-none-any.whl.metadata (2.6 kB)\nRequirement already satisfied: pyparsing!=3.0.0,!=3.0.1,!=3.0.2,!=3.0.3,<4,>=2.4.2 in /root/venv/lib/python3.10/site-packages (from httplib2<1dev,>=0.9.2->earthengine-api>=1.0.0->geemap->-r requirements.txt (line 8)) (3.2.3)\nRequirement already satisfied: google-api-core!=2.0.*,!=2.1.*,!=2.2.*,!=2.3.0,<3.0.0,>=1.31.5 in /toolkit-cache/0.2.27/python3.10/kernel-libs/lib/python3.10/site-packages (from google-api-python-client>=1.12.1->earthengine-api>=1.0.0->geemap->-r requirements.txt (line 8)) (2.19.2)\nCollecting uritemplate<5,>=3.0.1 (from google-api-python-client>=1.12.1->earthengine-api>=1.0.0->geemap->-r requirements.txt (line 8))\n  Downloading uritemplate-4.2.0-py3-none-any.whl.metadata (2.6 kB)\nRequirement already satisfied: googleapis-common-protos<2.0.dev0,>=1.56.2 in /toolkit-cache/0.2.27/python3.10/kernel-libs/lib/python3.10/site-packages (from google-api-core!=2.0.*,!=2.1.*,!=2.2.*,!=2.3.0,<3.0.0,>=1.31.5->google-api-python-client>=1.12.1->earthengine-api>=1.0.0->geemap->-r requirements.txt (line 8)) (1.65.0)\nRequirement already satisfied: protobuf!=3.20.0,!=3.20.1,!=4.21.0,!=4.21.1,!=4.21.2,!=4.21.3,!=4.21.4,!=4.21.5,<6.0.0.dev0,>=3.19.5 in /root/venv/lib/python3.10/site-packages (from google-api-core!=2.0.*,!=2.1.*,!=2.2.*,!=2.3.0,<3.0.0,>=1.31.5->google-api-python-client>=1.12.1->earthengine-api>=1.0.0->geemap->-r requirements.txt (line 8)) (4.25.8)\nRequirement already satisfied: proto-plus<2.0.0dev,>=1.22.3 in /toolkit-cache/0.2.27/python3.10/kernel-libs/lib/python3.10/site-packages (from google-api-core!=2.0.*,!=2.1.*,!=2.2.*,!=2.3.0,<3.0.0,>=1.31.5->google-api-python-client>=1.12.1->earthengine-api>=1.0.0->geemap->-r requirements.txt (line 8)) (1.24.0)\nRequirement already satisfied: cachetools<6.0,>=2.0.0 in /root/venv/lib/python3.10/site-packages (from google-auth>=1.4.1->earthengine-api>=1.0.0->geemap->-r requirements.txt (line 8)) (5.5.2)\nRequirement already satisfied: pyasn1-modules>=0.2.1 in /root/venv/lib/python3.10/site-packages (from google-auth>=1.4.1->earthengine-api>=1.0.0->geemap->-r requirements.txt (line 8)) (0.4.2)\nRequirement already satisfied: rsa<5,>=3.1.4 in /root/venv/lib/python3.10/site-packages (from google-auth>=1.4.1->earthengine-api>=1.0.0->geemap->-r requirements.txt (line 8)) (4.9.1)\nRequirement already satisfied: charset_normalizer<4,>=2 in /root/venv/lib/python3.10/site-packages (from requests->contextily->-r requirements.txt (line 1)) (3.4.2)\nRequirement already satisfied: idna<4,>=2.5 in /root/venv/lib/python3.10/site-packages (from requests->contextily->-r requirements.txt (line 1)) (3.10)\nRequirement already satisfied: urllib3<3,>=1.21.1 in /root/venv/lib/python3.10/site-packages (from requests->contextily->-r requirements.txt (line 1)) (2.5.0)\nRequirement already satisfied: certifi>=2017.4.17 in /root/venv/lib/python3.10/site-packages (from requests->contextily->-r requirements.txt (line 1)) (2025.7.14)\nRequirement already satisfied: pyasn1>=0.1.3 in /root/venv/lib/python3.10/site-packages (from rsa<5,>=3.1.4->google-auth>=1.4.1->earthengine-api>=1.0.0->geemap->-r requirements.txt (line 8)) (0.6.1)\nCollecting ipywidgets (from ipyfilechooser>=0.6.0->geemap->-r requirements.txt (line 8))\n  Downloading ipywidgets-8.1.7-py3-none-any.whl.metadata (2.4 kB)\nCollecting jupyter-leaflet<0.21,>=0.20 (from ipyleaflet>=0.19.2->geemap->-r requirements.txt (line 8))\n  Downloading jupyter_leaflet-0.20.0-py3-none-any.whl.metadata (2.4 kB)\nCollecting traittypes<3,>=0.2.1 (from ipyleaflet>=0.19.2->geemap->-r requirements.txt (line 8))\n  Downloading traittypes-0.2.1-py2.py3-none-any.whl.metadata (1.0 kB)\nRequirement already satisfied: comm>=0.1.3 in /toolkit-cache/0.2.27/python3.10/kernel-libs/lib/python3.10/site-packages (from ipywidgets->ipyfilechooser>=0.6.0->geemap->-r requirements.txt (line 8)) (0.2.2)\nRequirement already satisfied: ipython>=6.1.0 in /root/venv/lib/python3.10/site-packages (from ipywidgets->ipyfilechooser>=0.6.0->geemap->-r requirements.txt (line 8)) (8.37.0)\nRequirement already satisfied: traitlets>=4.3.1 in /root/venv/lib/python3.10/site-packages (from ipywidgets->ipyfilechooser>=0.6.0->geemap->-r requirements.txt (line 8)) (5.14.3)\nCollecting widgetsnbextension~=4.0.14 (from ipywidgets->ipyfilechooser>=0.6.0->geemap->-r requirements.txt (line 8))\n  Downloading widgetsnbextension-4.0.14-py3-none-any.whl.metadata (1.6 kB)\nCollecting jupyterlab_widgets~=3.0.15 (from ipywidgets->ipyfilechooser>=0.6.0->geemap->-r requirements.txt (line 8))\n  Downloading jupyterlab_widgets-3.0.15-py3-none-any.whl.metadata (20 kB)\nRequirement already satisfied: decorator in /root/venv/lib/python3.10/site-packages (from ipython>=6.1.0->ipywidgets->ipyfilechooser>=0.6.0->geemap->-r requirements.txt (line 8)) (5.2.1)\nRequirement already satisfied: exceptiongroup in /root/venv/lib/python3.10/site-packages (from ipython>=6.1.0->ipywidgets->ipyfilechooser>=0.6.0->geemap->-r requirements.txt (line 8)) (1.3.0)\nRequirement already satisfied: jedi>=0.16 in /root/venv/lib/python3.10/site-packages (from ipython>=6.1.0->ipywidgets->ipyfilechooser>=0.6.0->geemap->-r requirements.txt (line 8)) (0.19.2)\nRequirement already satisfied: matplotlib-inline in /root/venv/lib/python3.10/site-packages (from ipython>=6.1.0->ipywidgets->ipyfilechooser>=0.6.0->geemap->-r requirements.txt (line 8)) (0.1.7)\nRequirement already satisfied: pexpect>4.3 in /root/venv/lib/python3.10/site-packages (from ipython>=6.1.0->ipywidgets->ipyfilechooser>=0.6.0->geemap->-r requirements.txt (line 8)) (4.9.0)\nRequirement already satisfied: prompt_toolkit<3.1.0,>=3.0.41 in /root/venv/lib/python3.10/site-packages (from ipython>=6.1.0->ipywidgets->ipyfilechooser>=0.6.0->geemap->-r requirements.txt (line 8)) (3.0.51)\nRequirement already satisfied: pygments>=2.4.0 in /root/venv/lib/python3.10/site-packages (from ipython>=6.1.0->ipywidgets->ipyfilechooser>=0.6.0->geemap->-r requirements.txt (line 8)) (2.19.2)\nRequirement already satisfied: stack_data in /root/venv/lib/python3.10/site-packages (from ipython>=6.1.0->ipywidgets->ipyfilechooser>=0.6.0->geemap->-r requirements.txt (line 8)) (0.6.3)\nRequirement already satisfied: typing_extensions>=4.6 in /root/venv/lib/python3.10/site-packages (from ipython>=6.1.0->ipywidgets->ipyfilechooser>=0.6.0->geemap->-r requirements.txt (line 8)) (4.14.1)\nRequirement already satisfied: wcwidth in /root/venv/lib/python3.10/site-packages (from prompt_toolkit<3.1.0,>=3.0.41->ipython>=6.1.0->ipywidgets->ipyfilechooser>=0.6.0->geemap->-r requirements.txt (line 8)) (0.2.13)\nRequirement already satisfied: parso<0.9.0,>=0.8.4 in /root/venv/lib/python3.10/site-packages (from jedi>=0.16->ipython>=6.1.0->ipywidgets->ipyfilechooser>=0.6.0->geemap->-r requirements.txt (line 8)) (0.8.4)\nRequirement already satisfied: MarkupSafe>=2.0 in /root/venv/lib/python3.10/site-packages (from jinja2>=2.9->folium>=0.12->-r requirements.txt (line 2)) (3.0.2)\nRequirement already satisfied: python-dateutil>=2.8.2 in /root/venv/lib/python3.10/site-packages (from pandas>=1.4->osmnx->-r requirements.txt (line 3)) (2.9.0.post0)\nRequirement already satisfied: pytz>=2020.1 in /root/venv/lib/python3.10/site-packages (from pandas>=1.4->osmnx->-r requirements.txt (line 3)) (2025.2)\nRequirement already satisfied: tzdata>=2022.1 in /root/venv/lib/python3.10/site-packages (from pandas>=1.4->osmnx->-r requirements.txt (line 3)) (2025.2)\nRequirement already satisfied: ptyprocess>=0.5 in /root/venv/lib/python3.10/site-packages (from pexpect>4.3->ipython>=6.1.0->ipywidgets->ipyfilechooser>=0.6.0->geemap->-r requirements.txt (line 8)) (0.7.0)\nRequirement already satisfied: six>=1.5 in /root/venv/lib/python3.10/site-packages (from python-dateutil>=2.8.2->pandas>=1.4->osmnx->-r requirements.txt (line 3)) (1.17.0)\nRequirement already satisfied: threadpoolctl>=2.0.0 in /root/venv/lib/python3.10/site-packages (from scikit-learn>=1.0->mapclassify->-r requirements.txt (line 6)) (3.6.0)\nCollecting psygnal>=0.8.1 (from anywidget->geemap->-r requirements.txt (line 8))\n  Downloading psygnal-0.14.0-cp310-cp310-manylinux2014_x86_64.manylinux_2_17_x86_64.manylinux_2_28_x86_64.whl.metadata (6.0 kB)\nRequirement already satisfied: click in /root/venv/lib/python3.10/site-packages (from geocoder->geemap->-r requirements.txt (line 8)) (8.2.1)\nRequirement already satisfied: future in /root/venv/lib/python3.10/site-packages (from geocoder->geemap->-r requirements.txt (line 8)) (1.0.0)\nCollecting ratelim (from geocoder->geemap->-r requirements.txt (line 8))\n  Downloading ratelim-0.1.6-py2.py3-none-any.whl.metadata (1.4 kB)\nRequirement already satisfied: geographiclib<3,>=1.52 in /root/venv/lib/python3.10/site-packages (from geopy->contextily->-r requirements.txt (line 1)) (2.0)\nCollecting google-cloud-core<3.0.0,>=2.4.2 (from google-cloud-storage->earthengine-api>=1.0.0->geemap->-r requirements.txt (line 8))\n  Downloading google_cloud_core-2.4.3-py2.py3-none-any.whl.metadata (2.7 kB)\nRequirement already satisfied: google-resumable-media<3.0.0,>=2.7.2 in /toolkit-cache/0.2.27/python3.10/kernel-libs/lib/python3.10/site-packages (from google-cloud-storage->earthengine-api>=1.0.0->geemap->-r requirements.txt (line 8)) (2.7.2)\nRequirement already satisfied: google-crc32c<2.0.0,>=1.1.3 in /toolkit-cache/0.2.27/python3.10/kernel-libs/lib/python3.10/site-packages (from google-cloud-storage->earthengine-api>=1.0.0->geemap->-r requirements.txt (line 8)) (1.5.0)\nRequirement already satisfied: contourpy>=1.0.1 in /root/venv/lib/python3.10/site-packages (from matplotlib->contextily->-r requirements.txt (line 1)) (1.3.2)\nRequirement already satisfied: cycler>=0.10 in /root/venv/lib/python3.10/site-packages (from matplotlib->contextily->-r requirements.txt (line 1)) (0.12.1)\nRequirement already satisfied: fonttools>=4.22.0 in /root/venv/lib/python3.10/site-packages (from matplotlib->contextily->-r requirements.txt (line 1)) (4.59.0)\nRequirement already satisfied: kiwisolver>=1.0.1 in /root/venv/lib/python3.10/site-packages (from matplotlib->contextily->-r requirements.txt (line 1)) (1.4.8)\nRequirement already satisfied: narwhals>=1.15.1 in /root/venv/lib/python3.10/site-packages (from plotly->geemap->-r requirements.txt (line 8)) (1.47.1)\nRequirement already satisfied: affine in /root/venv/lib/python3.10/site-packages (from rasterio->contextily->-r requirements.txt (line 1)) (2.4.0)\nRequirement already satisfied: attrs in /root/venv/lib/python3.10/site-packages (from rasterio->contextily->-r requirements.txt (line 1)) (25.3.0)\nRequirement already satisfied: cligj>=0.5 in /root/venv/lib/python3.10/site-packages (from rasterio->contextily->-r requirements.txt (line 1)) (0.7.2)\nRequirement already satisfied: click-plugins in /root/venv/lib/python3.10/site-packages (from rasterio->contextily->-r requirements.txt (line 1)) (1.1.1.2)\nRequirement already satisfied: executing>=1.2.0 in /root/venv/lib/python3.10/site-packages (from stack_data->ipython>=6.1.0->ipywidgets->ipyfilechooser>=0.6.0->geemap->-r requirements.txt (line 8)) (2.2.0)\nRequirement already satisfied: asttokens>=2.1.0 in /root/venv/lib/python3.10/site-packages (from stack_data->ipython>=6.1.0->ipywidgets->ipyfilechooser>=0.6.0->geemap->-r requirements.txt (line 8)) (3.0.0)\nRequirement already satisfied: pure-eval in /root/venv/lib/python3.10/site-packages (from stack_data->ipython>=6.1.0->ipywidgets->ipyfilechooser>=0.6.0->geemap->-r requirements.txt (line 8)) (0.2.3)\nDownloading geemap-0.36.0-py3-none-any.whl (631 kB)\n\u001b[2K   \u001b[90m━━━━━━━━━━━━━━━━━━━━━━━━━━━━━━━━━━━━━━━━\u001b[0m \u001b[32m631.3/631.3 kB\u001b[0m \u001b[31m27.3 MB/s\u001b[0m eta \u001b[36m0:00:00\u001b[0m\n\u001b[?25hDownloading earthengine_api-1.6.1-py3-none-any.whl (463 kB)\nDownloading httplib2-0.22.0-py3-none-any.whl (96 kB)\nDownloading eerepr-0.1.2-py3-none-any.whl (9.5 kB)\nDownloading google_api_python_client-2.177.0-py3-none-any.whl (13.7 MB)\n\u001b[2K   \u001b[90m━━━━━━━━━━━━━━━━━━━━━━━━━━━━━━━━━━━━━━━━\u001b[0m \u001b[32m13.7/13.7 MB\u001b[0m \u001b[31m113.0 MB/s\u001b[0m eta \u001b[36m0:00:00\u001b[0m\n\u001b[?25hDownloading google_auth_httplib2-0.2.0-py2.py3-none-any.whl (9.3 kB)\nDownloading uritemplate-4.2.0-py3-none-any.whl (11 kB)\nDownloading ipyfilechooser-0.6.0-py3-none-any.whl (11 kB)\nDownloading ipyleaflet-0.20.0-py3-none-any.whl (31 kB)\nDownloading ipywidgets-8.1.7-py3-none-any.whl (139 kB)\nDownloading jupyter_leaflet-0.20.0-py3-none-any.whl (1.1 MB)\n\u001b[2K   \u001b[90m━━━━━━━━━━━━━━━━━━━━━━━━━━━━━━━━━━━━━━━━\u001b[0m \u001b[32m1.1/1.1 MB\u001b[0m \u001b[31m51.3 MB/s\u001b[0m eta \u001b[36m0:00:00\u001b[0m\n\u001b[?25hDownloading jupyterlab_widgets-3.0.15-py3-none-any.whl (216 kB)\nDownloading traittypes-0.2.1-py2.py3-none-any.whl (8.6 kB)\nDownloading widgetsnbextension-4.0.14-py3-none-any.whl (2.2 MB)\n\u001b[2K   \u001b[90m━━━━━━━━━━━━━━━━━━━━━━━━━━━━━━━━━━━━━━━━\u001b[0m \u001b[32m2.2/2.2 MB\u001b[0m \u001b[31m71.5 MB/s\u001b[0m eta \u001b[36m0:00:00\u001b[0m\n\u001b[?25hDownloading pyshp-2.3.1-py2.py3-none-any.whl (46 kB)\nDownloading anywidget-0.9.18-py3-none-any.whl (220 kB)\nDownloading psygnal-0.14.0-cp310-cp310-manylinux2014_x86_64.manylinux_2_17_x86_64.manylinux_2_28_x86_64.whl (847 kB)\n\u001b[2K   \u001b[90m━━━━━━━━━━━━━━━━━━━━━━━━━━━━━━━━━━━━━━━━\u001b[0m \u001b[32m848.0/848.0 kB\u001b[0m \u001b[31m40.3 MB/s\u001b[0m eta \u001b[36m0:00:00\u001b[0m\n\u001b[?25hDownloading bqplot-0.12.45-py2.py3-none-any.whl (1.2 MB)\n\u001b[2K   \u001b[90m━━━━━━━━━━━━━━━━━━━━━━━━━━━━━━━━━━━━━━━━\u001b[0m \u001b[32m1.2/1.2 MB\u001b[0m \u001b[31m69.0 MB/s\u001b[0m eta \u001b[36m0:00:00\u001b[0m\n\u001b[?25hDownloading colour-0.1.5-py2.py3-none-any.whl (23 kB)\nDownloading geocoder-1.38.1-py2.py3-none-any.whl (98 kB)\nDownloading google_cloud_storage-3.2.0-py3-none-any.whl (176 kB)\nDownloading google_cloud_core-2.4.3-py2.py3-none-any.whl (29 kB)\nDownloading ipyevents-2.0.2-py3-none-any.whl (101 kB)\nDownloading ipytree-0.2.2-py2.py3-none-any.whl (1.3 MB)\n\u001b[2K   \u001b[90m━━━━━━━━━━━━━━━━━━━━━━━━━━━━━━━━━━━━━━━━\u001b[0m \u001b[32m1.3/1.3 MB\u001b[0m \u001b[31m67.6 MB/s\u001b[0m eta \u001b[36m0:00:00\u001b[0m\n\u001b[?25hDownloading python_box-7.3.2-cp310-cp310-manylinux_2_17_x86_64.manylinux2014_x86_64.whl (4.0 MB)\n\u001b[2K   \u001b[90m━━━━━━━━━━━━━━━━━━━━━━━━━━━━━━━━━━━━━━━━\u001b[0m \u001b[32m4.0/4.0 MB\u001b[0m \u001b[31m93.0 MB/s\u001b[0m eta \u001b[36m0:00:00\u001b[0m\n\u001b[?25hDownloading ratelim-0.1.6-py2.py3-none-any.whl (4.0 kB)\nDownloading scooby-0.10.1-py3-none-any.whl (18 kB)\nBuilding wheels for collected packages: pyperclip\n\u001b[33m  DEPRECATION: Building 'pyperclip' using the legacy setup.py bdist_wheel mechanism, which will be removed in a future version. pip 25.3 will enforce this behaviour change. A possible replacement is to use the standardized build interface by setting the `--use-pep517` option, (possibly combined with `--no-build-isolation`), or adding a `pyproject.toml` file to the source tree of 'pyperclip'. Discussion can be found at https://github.com/pypa/pip/issues/6334\u001b[0m\u001b[33m\n\u001b[0m  Building wheel for pyperclip (setup.py) ... \u001b[?25ldone\n\u001b[?25h  Created wheel for pyperclip: filename=pyperclip-1.9.0-py3-none-any.whl size=11001 sha256=2d95b0580283c8dc78d66a4fab4545cd2ed93d187a4a98ab2f2e02a85313dd64\n  Stored in directory: /root/.cache/pip/wheels/cc/ae/36/ee17d1de094fcb61e24106cb329b5103861e819f94bef5e10a\nSuccessfully built pyperclip\nInstalling collected packages: pyperclip, colour, widgetsnbextension, uritemplate, traittypes, scooby, ratelim, python-box, pyshp, psygnal, jupyterlab_widgets, jupyter-leaflet, httplib2, geocoder, ipywidgets, google-auth-httplib2, ipytree, ipyleaflet, ipyfilechooser, ipyevents, google-cloud-core, google-api-python-client, bqplot, anywidget, google-cloud-storage, earthengine-api, eerepr, geemap\n\u001b[2K  Attempting uninstall: google-cloud-core\n\u001b[2K    Found existing installation: google-cloud-core 2.4.1\n\u001b[2K    Not uninstalling google-cloud-core at /toolkit-cache/0.2.27/python3.10/kernel-libs/lib/python3.10/site-packages, outside environment /root/venv\n\u001b[2K    Can't uninstall 'google-cloud-core'. No files were found to uninstall.\n\u001b[2K   \u001b[90m━━━━━━━━━━━━━━━━━━━━━━━━━━━━━━━━━━━━━━━━\u001b[0m \u001b[32m28/28\u001b[0m [geemap]\n\u001b[1A\u001b[2KSuccessfully installed anywidget-0.9.18 bqplot-0.12.45 colour-0.1.5 earthengine-api-1.6.1 eerepr-0.1.2 geemap-0.36.0 geocoder-1.38.1 google-api-python-client-2.177.0 google-auth-httplib2-0.2.0 google-cloud-core-2.4.3 google-cloud-storage-3.2.0 httplib2-0.22.0 ipyevents-2.0.2 ipyfilechooser-0.6.0 ipyleaflet-0.20.0 ipytree-0.2.2 ipywidgets-8.1.7 jupyter-leaflet-0.20.0 jupyterlab_widgets-3.0.15 psygnal-0.14.0 pyperclip-1.9.0 pyshp-2.3.1 python-box-7.3.2 ratelim-0.1.6 scooby-0.10.1 traittypes-0.2.1 uritemplate-4.2.0 widgetsnbextension-4.0.14\n",
          "output_type": "stream"
        }
      ],
      "outputs_reference": null,
      "content_dependencies": null
    },
    {
      "cell_type": "code",
      "metadata": {
        "source_hash": "94a33552",
        "execution_start": 1753966273358,
        "execution_millis": 1941,
        "execution_context_id": "c74293c2-2daa-45ba-8e85-7f1e73b7d376",
        "cell_id": "6f3125379a404641aac726fe6c3dd33a",
        "deepnote_cell_type": "code"
      },
      "source": "import networkx as nx # need networkx >= 2.5\nimport osmnx as ox\nimport contextily as ctx\nfrom matplotlib import pyplot as plt\nfrom shapely.geometry import Point, Polygon, LineString\nimport folium\nimport numpy as np\nimport matplotlib.patches as mpatches\nimport geopandas as gpd\nfrom shapely.ops import nearest_points\nimport pandas as pd\nimport io\nfrom io import StringIO\nimport pathlib\nimport requests\nimport ee",
      "block_group": "1777da039fb54cd69b59749644ec2e8a",
      "execution_count": 4,
      "outputs": [],
      "outputs_reference": null,
      "content_dependencies": null
    },
    {
      "cell_type": "markdown",
      "metadata": {
        "formattedRanges": [],
        "cell_id": "109081447db04b4eb29520715c7f6fe3",
        "deepnote_cell_type": "text-cell-h1"
      },
      "source": "# Tasks",
      "block_group": "3f87453ef8ca43a7a63a5669e4568ff5"
    },
    {
      "cell_type": "code",
      "metadata": {
        "source_hash": "68d5fe67",
        "execution_start": 1753966573088,
        "execution_millis": 8837,
        "execution_context_id": "c74293c2-2daa-45ba-8e85-7f1e73b7d376",
        "cell_id": "7530e9981abe4270bc0efc76adf0c5e2",
        "deepnote_cell_type": "code"
      },
      "source": "prefix = \"\"\n#prefix = \"../\" # <- If running locally from the git\n#url = \"https://files.bwsi-remote-sensing.net/data/final/day2/day2_track_past.geojson\"\n#response = requests.get(url)\n#with open(\"day2_track_past.geojson\", \"wb\") as f:\n#    f.write(response.content)\n\nhospital_df = gpd.read_file(prefix + 'data/Hospitals_2025.geojson')\nshelters_df = gpd.read_file(prefix + 'data/Shelters_2025.geojson')\ngame_grid_df = gpd.read_file(prefix + 'data/game_grid_2025.geojson')\n\nd1_forecasts = gpd.read_file(prefix + \"data/day1/day1_forecasts_2025.geojson\")\nd1_trackpast = gpd.read_file(prefix + \"data/day1/day1_track_past.geojson\")\n\nd2_forecasts = gpd.read_file(\"data/day2/day2_forecasts_2025.geojson\")\nd2_trackpast = gpd.read_file(prefix + \"data/day2/day2_track_past.geojson\")\n",
      "block_group": "a277999f883746028c8e1f5b86865b6e",
      "execution_count": 13,
      "outputs": [],
      "outputs_reference": null,
      "content_dependencies": null
    },
    {
      "cell_type": "code",
      "metadata": {
        "source_hash": "5cf45ce5",
        "execution_start": 1753803867078,
        "execution_millis": 36,
        "deepnote_table_state": {
          "sortBy": [],
          "filters": [],
          "pageSize": 10,
          "pageIndex": 22,
          "columnOrder": [
            "OBJECTID",
            "ID",
            "NAME",
            "ADDRESS",
            "CITY",
            "STATE",
            "ZIP",
            "ZIP4",
            "TELEPHONE",
            "TYPE",
            "STATUS",
            "POPULATION",
            "COUNTY",
            "COUNTYFIPS",
            "COUNTRY",
            "LATITUDE",
            "LONGITUDE",
            "NAICS_CODE",
            "NAICS_DESC",
            "SOURCE",
            "SOURCEDATE",
            "VAL_METHOD",
            "VAL_DATE",
            "WEBSITE",
            "STATE_ID",
            "ALT_NAME",
            "ST_FIPS",
            "OWNER",
            "TTL_STAFF",
            "BEDS",
            "TRAUMA",
            "HELIPAD",
            "geometry"
          ],
          "hiddenColumnIds": [],
          "columnDisplayNames": [],
          "conditionalFilters": [],
          "cellFormattingRules": [],
          "wrappedTextColumnIds": []
        },
        "execution_context_id": "6bcbe7b0-968e-40d1-8a16-fde552e2efc5",
        "deepnote_table_loading": false,
        "deepnote_to_be_reexecuted": true,
        "cell_id": "f22aa3c6ac374a9486cd57721597f1af",
        "deepnote_cell_type": "code"
      },
      "source": "hospital_df",
      "block_group": "58be18c7427e412b8a5f9cde9d5d1add",
      "execution_count": 4,
      "outputs": [
        {
          "output_type": "execute_result",
          "execution_count": 4,
          "data": {
            "application/vnd.deepnote.dataframe.v3+json": {
              "column_count": 33,
              "columns": [
                {
                  "name": "OBJECTID",
                  "dtype": "int32",
                  "stats": {
                    "unique_count": 351,
                    "nan_count": 0,
                    "min": "49",
                    "max": "7733",
                    "histogram": [
                      {
                        "bin_start": 49,
                        "bin_end": 817.4,
                        "count": 62
                      },
                      {
                        "bin_start": 817.4,
                        "bin_end": 1585.8,
                        "count": 33
                      },
                      {
                        "bin_start": 1585.8,
                        "bin_end": 2354.2,
                        "count": 31
                      },
                      {
                        "bin_start": 2354.2,
                        "bin_end": 3122.6,
                        "count": 41
                      },
                      {
                        "bin_start": 3122.6,
                        "bin_end": 3891,
                        "count": 34
                      },
                      {
                        "bin_start": 3891,
                        "bin_end": 4659.4,
                        "count": 24
                      },
                      {
                        "bin_start": 4659.4,
                        "bin_end": 5427.8,
                        "count": 41
                      },
                      {
                        "bin_start": 5427.8,
                        "bin_end": 6196.2,
                        "count": 53
                      },
                      {
                        "bin_start": 6196.2,
                        "bin_end": 6964.599999999999,
                        "count": 13
                      },
                      {
                        "bin_start": 6964.599999999999,
                        "bin_end": 7733,
                        "count": 19
                      }
                    ],
                    "categories": null
                  }
                },
                {
                  "name": "ID",
                  "dtype": "object",
                  "stats": {
                    "unique_count": 351,
                    "nan_count": 0,
                    "min": null,
                    "max": null,
                    "histogram": null,
                    "categories": [
                      {
                        "name": "0013402908",
                        "count": 1
                      },
                      {
                        "name": "0000502891",
                        "count": 1
                      },
                      {
                        "name": "349 others",
                        "count": 349
                      }
                    ]
                  }
                },
                {
                  "name": "NAME",
                  "dtype": "object",
                  "stats": {
                    "unique_count": 346,
                    "nan_count": 0,
                    "min": null,
                    "max": null,
                    "histogram": null,
                    "categories": [
                      {
                        "name": "NORTHEAST REHABILITATION HOSPITAL",
                        "count": 3
                      },
                      {
                        "name": "SHRINERS' HOSPITAL FOR CHILDREN",
                        "count": 2
                      },
                      {
                        "name": "344 others",
                        "count": 346
                      }
                    ]
                  }
                },
                {
                  "name": "ADDRESS",
                  "dtype": "object",
                  "stats": {
                    "unique_count": 347,
                    "nan_count": 0,
                    "min": null,
                    "max": null,
                    "histogram": null,
                    "categories": [
                      {
                        "name": "8 PROSPECT STREET",
                        "count": 2
                      },
                      {
                        "name": "9 HOPE AVENUE",
                        "count": 2
                      },
                      {
                        "name": "345 others",
                        "count": 347
                      }
                    ]
                  }
                },
                {
                  "name": "CITY",
                  "dtype": "object",
                  "stats": {
                    "unique_count": 221,
                    "nan_count": 0,
                    "min": null,
                    "max": null,
                    "histogram": null,
                    "categories": [
                      {
                        "name": "BOSTON",
                        "count": 22
                      },
                      {
                        "name": "PROVIDENCE",
                        "count": 8
                      },
                      {
                        "name": "219 others",
                        "count": 321
                      }
                    ]
                  }
                },
                {
                  "name": "STATE",
                  "dtype": "object",
                  "stats": {
                    "unique_count": 7,
                    "nan_count": 0,
                    "min": null,
                    "max": null,
                    "histogram": null,
                    "categories": [
                      {
                        "name": "MA",
                        "count": 136
                      },
                      {
                        "name": "ME",
                        "count": 51
                      },
                      {
                        "name": "5 others",
                        "count": 164
                      }
                    ]
                  }
                },
                {
                  "name": "ZIP",
                  "dtype": "object",
                  "stats": {
                    "unique_count": 286,
                    "nan_count": 0,
                    "min": null,
                    "max": null,
                    "histogram": null,
                    "categories": [
                      {
                        "name": "04330",
                        "count": 5
                      },
                      {
                        "name": "02130",
                        "count": 4
                      },
                      {
                        "name": "284 others",
                        "count": 342
                      }
                    ]
                  }
                },
                {
                  "name": "ZIP4",
                  "dtype": "object",
                  "stats": {
                    "unique_count": 12,
                    "nan_count": 0,
                    "min": null,
                    "max": null,
                    "histogram": null,
                    "categories": [
                      {
                        "name": "NOT AVAILABLE",
                        "count": 340
                      },
                      {
                        "name": "3549",
                        "count": 1
                      },
                      {
                        "name": "10 others",
                        "count": 10
                      }
                    ]
                  }
                },
                {
                  "name": "TELEPHONE",
                  "dtype": "object",
                  "stats": {
                    "unique_count": 304,
                    "nan_count": 0,
                    "min": null,
                    "max": null,
                    "histogram": null,
                    "categories": [
                      {
                        "name": "NOT AVAILABLE",
                        "count": 32
                      },
                      {
                        "name": "(603) 893-2900",
                        "count": 5
                      },
                      {
                        "name": "302 others",
                        "count": 314
                      }
                    ]
                  }
                },
                {
                  "name": "TYPE",
                  "dtype": "object",
                  "stats": {
                    "unique_count": 10,
                    "nan_count": 0,
                    "min": null,
                    "max": null,
                    "histogram": null,
                    "categories": [
                      {
                        "name": "GENERAL ACUTE CARE",
                        "count": 210
                      },
                      {
                        "name": "PSYCHIATRIC",
                        "count": 43
                      },
                      {
                        "name": "8 others",
                        "count": 98
                      }
                    ]
                  }
                },
                {
                  "name": "STATUS",
                  "dtype": "object",
                  "stats": {
                    "unique_count": 2,
                    "nan_count": 0,
                    "min": null,
                    "max": null,
                    "histogram": null,
                    "categories": [
                      {
                        "name": "OPEN",
                        "count": 342
                      },
                      {
                        "name": "CLOSED",
                        "count": 9
                      }
                    ]
                  }
                },
                {
                  "name": "POPULATION",
                  "dtype": "int32",
                  "stats": {
                    "unique_count": 191,
                    "nan_count": 0,
                    "min": "-999",
                    "max": "1541",
                    "histogram": [
                      {
                        "bin_start": -999,
                        "bin_end": -745,
                        "count": 23
                      },
                      {
                        "bin_start": -745,
                        "bin_end": -491,
                        "count": 0
                      },
                      {
                        "bin_start": -491,
                        "bin_end": -237,
                        "count": 0
                      },
                      {
                        "bin_start": -237,
                        "bin_end": 17,
                        "count": 14
                      },
                      {
                        "bin_start": 17,
                        "bin_end": 271,
                        "count": 260
                      },
                      {
                        "bin_start": 271,
                        "bin_end": 525,
                        "count": 42
                      },
                      {
                        "bin_start": 525,
                        "bin_end": 779,
                        "count": 9
                      },
                      {
                        "bin_start": 779,
                        "bin_end": 1033,
                        "count": 1
                      },
                      {
                        "bin_start": 1033,
                        "bin_end": 1287,
                        "count": 1
                      },
                      {
                        "bin_start": 1287,
                        "bin_end": 1541,
                        "count": 1
                      }
                    ],
                    "categories": null
                  }
                },
                {
                  "name": "COUNTY",
                  "dtype": "object",
                  "stats": {
                    "unique_count": 69,
                    "nan_count": 0,
                    "min": null,
                    "max": null,
                    "histogram": null,
                    "categories": [
                      {
                        "name": "MIDDLESEX",
                        "count": 26
                      },
                      {
                        "name": "SUFFOLK",
                        "count": 25
                      },
                      {
                        "name": "67 others",
                        "count": 300
                      }
                    ]
                  }
                },
                {
                  "name": "COUNTYFIPS",
                  "dtype": "object",
                  "stats": {
                    "unique_count": 78,
                    "nan_count": 0,
                    "min": null,
                    "max": null,
                    "histogram": null,
                    "categories": [
                      {
                        "name": "25025",
                        "count": 24
                      },
                      {
                        "name": "25017",
                        "count": 24
                      },
                      {
                        "name": "76 others",
                        "count": 303
                      }
                    ]
                  }
                },
                {
                  "name": "COUNTRY",
                  "dtype": "object",
                  "stats": {
                    "unique_count": 1,
                    "nan_count": 0,
                    "min": null,
                    "max": null,
                    "histogram": null,
                    "categories": [
                      {
                        "name": "USA",
                        "count": 351
                      }
                    ]
                  }
                },
                {
                  "name": "LATITUDE",
                  "dtype": "float64",
                  "stats": {
                    "unique_count": 351,
                    "nan_count": 0,
                    "min": "41.014392248000036",
                    "max": "47.265582057000074",
                    "histogram": [
                      {
                        "bin_start": 41.014392248000036,
                        "bin_end": 41.63951122890004,
                        "count": 49
                      },
                      {
                        "bin_start": 41.63951122890004,
                        "bin_end": 42.264630209800046,
                        "count": 88
                      },
                      {
                        "bin_start": 42.264630209800046,
                        "bin_end": 42.889749190700044,
                        "count": 111
                      },
                      {
                        "bin_start": 42.889749190700044,
                        "bin_end": 43.51486817160005,
                        "count": 28
                      },
                      {
                        "bin_start": 43.51486817160005,
                        "bin_end": 44.139987152500055,
                        "count": 26
                      },
                      {
                        "bin_start": 44.139987152500055,
                        "bin_end": 44.76510613340006,
                        "count": 31
                      },
                      {
                        "bin_start": 44.76510613340006,
                        "bin_end": 45.390225114300065,
                        "count": 11
                      },
                      {
                        "bin_start": 45.390225114300065,
                        "bin_end": 46.015344095200064,
                        "count": 2
                      },
                      {
                        "bin_start": 46.015344095200064,
                        "bin_end": 46.64046307610007,
                        "count": 1
                      },
                      {
                        "bin_start": 46.64046307610007,
                        "bin_end": 47.265582057000074,
                        "count": 4
                      }
                    ],
                    "categories": null
                  }
                },
                {
                  "name": "LONGITUDE",
                  "dtype": "float64",
                  "stats": {
                    "unique_count": 351,
                    "nan_count": 0,
                    "min": "-73.99968712199995",
                    "max": "-67.26801571399994",
                    "histogram": [
                      {
                        "bin_start": -73.99968712199995,
                        "bin_end": -73.32651998119995,
                        "count": 52
                      },
                      {
                        "bin_start": -73.32651998119995,
                        "bin_end": -72.65335284039995,
                        "count": 41
                      },
                      {
                        "bin_start": -72.65335284039995,
                        "bin_end": -71.98018569959996,
                        "count": 40
                      },
                      {
                        "bin_start": -71.98018569959996,
                        "bin_end": -71.30701855879995,
                        "count": 61
                      },
                      {
                        "bin_start": -71.30701855879995,
                        "bin_end": -70.63385141799995,
                        "count": 103
                      },
                      {
                        "bin_start": -70.63385141799995,
                        "bin_end": -69.96068427719995,
                        "count": 20
                      },
                      {
                        "bin_start": -69.96068427719995,
                        "bin_end": -69.28751713639994,
                        "count": 14
                      },
                      {
                        "bin_start": -69.28751713639994,
                        "bin_end": -68.61434999559995,
                        "count": 8
                      },
                      {
                        "bin_start": -68.61434999559995,
                        "bin_end": -67.94118285479995,
                        "count": 8
                      },
                      {
                        "bin_start": -67.94118285479995,
                        "bin_end": -67.26801571399994,
                        "count": 4
                      }
                    ],
                    "categories": null
                  }
                },
                {
                  "name": "NAICS_CODE",
                  "dtype": "object",
                  "stats": {
                    "unique_count": 3,
                    "nan_count": 0,
                    "min": null,
                    "max": null,
                    "histogram": null,
                    "categories": [
                      {
                        "name": "622110",
                        "count": 274
                      },
                      {
                        "name": "622310",
                        "count": 39
                      },
                      {
                        "name": "622210",
                        "count": 38
                      }
                    ]
                  }
                },
                {
                  "name": "NAICS_DESC",
                  "dtype": "object",
                  "stats": {
                    "unique_count": 10,
                    "nan_count": 0,
                    "min": null,
                    "max": null,
                    "histogram": null,
                    "categories": [
                      {
                        "name": "GENERAL MEDICAL AND SURGICAL HOSPITALS",
                        "count": 268
                      },
                      {
                        "name": "PSYCHIATRIC AND SUBSTANCE ABUSE HOSPITALS",
                        "count": 31
                      },
                      {
                        "name": "8 others",
                        "count": 52
                      }
                    ]
                  }
                },
                {
                  "name": "SOURCE",
                  "dtype": "object",
                  "stats": {
                    "unique_count": 10,
                    "nan_count": 0,
                    "min": null,
                    "max": null,
                    "histogram": null,
                    "categories": [
                      {
                        "name": "http://www.mass.gov/eohhs/gov/departments/dph/programs/hcq/healthcare-quality/",
                        "count": 133
                      },
                      {
                        "name": "https://profiles.health.ny.gov/hospital/county_or_region/",
                        "count": 44
                      },
                      {
                        "name": "8 others",
                        "count": 174
                      }
                    ]
                  }
                },
                {
                  "name": "SOURCEDATE",
                  "dtype": "datetime64[ms, UTC]",
                  "stats": {
                    "unique_count": 16,
                    "nan_count": 0,
                    "min": "2012-10-25 00:00:00+00:00",
                    "max": "2020-10-22 00:00:00+00:00",
                    "histogram": [
                      {
                        "bin_start": 1351123200000,
                        "bin_end": 1376343360000,
                        "count": 8
                      },
                      {
                        "bin_start": 1376343360000,
                        "bin_end": 1401563520000,
                        "count": 0
                      },
                      {
                        "bin_start": 1401563520000,
                        "bin_end": 1426783680000,
                        "count": 0
                      },
                      {
                        "bin_start": 1426783680000,
                        "bin_end": 1452003840000,
                        "count": 0
                      },
                      {
                        "bin_start": 1452003840000,
                        "bin_end": 1477224000000,
                        "count": 3
                      },
                      {
                        "bin_start": 1477224000000,
                        "bin_end": 1502444160000,
                        "count": 1
                      },
                      {
                        "bin_start": 1502444160000,
                        "bin_end": 1527664320000,
                        "count": 0
                      },
                      {
                        "bin_start": 1527664320000,
                        "bin_end": 1552884480000,
                        "count": 2
                      },
                      {
                        "bin_start": 1552884480000,
                        "bin_end": 1578104640000,
                        "count": 0
                      },
                      {
                        "bin_start": 1578104640000,
                        "bin_end": 1603324800000,
                        "count": 337
                      }
                    ],
                    "categories": null
                  }
                },
                {
                  "name": "VAL_METHOD",
                  "dtype": "object",
                  "stats": {
                    "unique_count": 3,
                    "nan_count": 0,
                    "min": null,
                    "max": null,
                    "histogram": null,
                    "categories": [
                      {
                        "name": "IMAGERY",
                        "count": 177
                      },
                      {
                        "name": "IMAGERY/OTHER",
                        "count": 173
                      },
                      {
                        "name": "GEOCODE",
                        "count": 1
                      }
                    ]
                  }
                },
                {
                  "name": "VAL_DATE",
                  "dtype": "datetime64[ms, UTC]",
                  "stats": {
                    "unique_count": 43,
                    "nan_count": 0,
                    "min": "2013-05-29 00:00:00+00:00",
                    "max": "2021-05-06 00:00:00+00:00",
                    "histogram": [
                      {
                        "bin_start": 1369785600000,
                        "bin_end": 1394832960000,
                        "count": 251
                      },
                      {
                        "bin_start": 1394832960000,
                        "bin_end": 1419880320000,
                        "count": 0
                      },
                      {
                        "bin_start": 1419880320000,
                        "bin_end": 1444927680000,
                        "count": 24
                      },
                      {
                        "bin_start": 1444927680000,
                        "bin_end": 1469975040000,
                        "count": 11
                      },
                      {
                        "bin_start": 1469975040000,
                        "bin_end": 1495022400000,
                        "count": 49
                      },
                      {
                        "bin_start": 1495022400000,
                        "bin_end": 1520069760000,
                        "count": 0
                      },
                      {
                        "bin_start": 1520069760000,
                        "bin_end": 1545117120000,
                        "count": 0
                      },
                      {
                        "bin_start": 1545117120000,
                        "bin_end": 1570164480000,
                        "count": 6
                      },
                      {
                        "bin_start": 1570164480000,
                        "bin_end": 1595211840000,
                        "count": 4
                      },
                      {
                        "bin_start": 1595211840000,
                        "bin_end": 1620259200000,
                        "count": 6
                      }
                    ],
                    "categories": null
                  }
                },
                {
                  "name": "WEBSITE",
                  "dtype": "object",
                  "stats": {
                    "unique_count": 331,
                    "nan_count": 0,
                    "min": null,
                    "max": null,
                    "histogram": null,
                    "categories": [
                      {
                        "name": "NOT AVAILABLE",
                        "count": 6
                      },
                      {
                        "name": "https://www.mainegeneral.org/pages/home.aspx",
                        "count": 3
                      },
                      {
                        "name": "329 others",
                        "count": 342
                      }
                    ]
                  }
                },
                {
                  "name": "STATE_ID",
                  "dtype": "object",
                  "stats": {
                    "unique_count": 224,
                    "nan_count": 0,
                    "min": null,
                    "max": null,
                    "histogram": null,
                    "categories": [
                      {
                        "name": "NOT AVAILABLE",
                        "count": 124
                      },
                      {
                        "name": "2M5H",
                        "count": 2
                      },
                      {
                        "name": "222 others",
                        "count": 225
                      }
                    ]
                  }
                },
                {
                  "name": "ALT_NAME",
                  "dtype": "object",
                  "stats": {
                    "unique_count": 98,
                    "nan_count": 0,
                    "min": null,
                    "max": null,
                    "histogram": null,
                    "categories": [
                      {
                        "name": "NOT AVAILABLE",
                        "count": 254
                      },
                      {
                        "name": "BETH ISRAEL DEACONESS HOSPITAL",
                        "count": 1
                      },
                      {
                        "name": "96 others",
                        "count": 96
                      }
                    ]
                  }
                },
                {
                  "name": "ST_FIPS",
                  "dtype": "object",
                  "stats": {
                    "unique_count": 7,
                    "nan_count": 0,
                    "min": null,
                    "max": null,
                    "histogram": null,
                    "categories": [
                      {
                        "name": "25",
                        "count": 136
                      },
                      {
                        "name": "23",
                        "count": 51
                      },
                      {
                        "name": "5 others",
                        "count": 164
                      }
                    ]
                  }
                },
                {
                  "name": "OWNER",
                  "dtype": "object",
                  "stats": {
                    "unique_count": 7,
                    "nan_count": 0,
                    "min": null,
                    "max": null,
                    "histogram": null,
                    "categories": [
                      {
                        "name": "NON-PROFIT",
                        "count": 249
                      },
                      {
                        "name": "PROPRIETARY",
                        "count": 50
                      },
                      {
                        "name": "5 others",
                        "count": 52
                      }
                    ]
                  }
                },
                {
                  "name": "TTL_STAFF",
                  "dtype": "int32",
                  "stats": {
                    "unique_count": 1,
                    "nan_count": 0,
                    "min": "-999",
                    "max": "-999",
                    "histogram": [
                      {
                        "bin_start": -999.5,
                        "bin_end": -999.4,
                        "count": 0
                      },
                      {
                        "bin_start": -999.4,
                        "bin_end": -999.3,
                        "count": 0
                      },
                      {
                        "bin_start": -999.3,
                        "bin_end": -999.2,
                        "count": 0
                      },
                      {
                        "bin_start": -999.2,
                        "bin_end": -999.1,
                        "count": 0
                      },
                      {
                        "bin_start": -999.1,
                        "bin_end": -999,
                        "count": 0
                      },
                      {
                        "bin_start": -999,
                        "bin_end": -998.9,
                        "count": 351
                      },
                      {
                        "bin_start": -998.9,
                        "bin_end": -998.8,
                        "count": 0
                      },
                      {
                        "bin_start": -998.8,
                        "bin_end": -998.7,
                        "count": 0
                      },
                      {
                        "bin_start": -998.7,
                        "bin_end": -998.6,
                        "count": 0
                      },
                      {
                        "bin_start": -998.6,
                        "bin_end": -998.5,
                        "count": 0
                      }
                    ],
                    "categories": null
                  }
                },
                {
                  "name": "BEDS",
                  "dtype": "float64",
                  "stats": {
                    "unique_count": 191,
                    "nan_count": 0,
                    "min": "-999.0",
                    "max": "1541.0",
                    "histogram": [
                      {
                        "bin_start": -999,
                        "bin_end": -745,
                        "count": 23
                      },
                      {
                        "bin_start": -745,
                        "bin_end": -491,
                        "count": 0
                      },
                      {
                        "bin_start": -491,
                        "bin_end": -237,
                        "count": 0
                      },
                      {
                        "bin_start": -237,
                        "bin_end": 17,
                        "count": 14
                      },
                      {
                        "bin_start": 17,
                        "bin_end": 271,
                        "count": 260
                      },
                      {
                        "bin_start": 271,
                        "bin_end": 525,
                        "count": 42
                      },
                      {
                        "bin_start": 525,
                        "bin_end": 779,
                        "count": 9
                      },
                      {
                        "bin_start": 779,
                        "bin_end": 1033,
                        "count": 1
                      },
                      {
                        "bin_start": 1033,
                        "bin_end": 1287,
                        "count": 1
                      },
                      {
                        "bin_start": 1287,
                        "bin_end": 1541,
                        "count": 1
                      }
                    ],
                    "categories": null
                  }
                },
                {
                  "name": "TRAUMA",
                  "dtype": "object",
                  "stats": {
                    "unique_count": 8,
                    "nan_count": 0,
                    "min": null,
                    "max": null,
                    "histogram": null,
                    "categories": [
                      {
                        "name": "NOT AVAILABLE",
                        "count": 297
                      },
                      {
                        "name": "LEVEL III",
                        "count": 16
                      },
                      {
                        "name": "6 others",
                        "count": 38
                      }
                    ]
                  }
                },
                {
                  "name": "HELIPAD",
                  "dtype": "object",
                  "stats": {
                    "unique_count": 3,
                    "nan_count": 0,
                    "min": null,
                    "max": null,
                    "histogram": null,
                    "categories": [
                      {
                        "name": "N",
                        "count": 199
                      },
                      {
                        "name": "Y",
                        "count": 149
                      },
                      {
                        "name": "NOT AVAILABLE",
                        "count": 3
                      }
                    ]
                  }
                },
                {
                  "name": "geometry",
                  "dtype": "geometry",
                  "stats": {
                    "unique_count": 351,
                    "nan_count": 0,
                    "min": null,
                    "max": null,
                    "histogram": null,
                    "categories": [
                      {
                        "name": "POINT (-71.43314954499994 41.83213908400006)",
                        "count": 1
                      },
                      {
                        "name": "POINT (-71.82530324099997 41.36218907500006)",
                        "count": 1
                      },
                      {
                        "name": "349 others",
                        "count": 349
                      }
                    ]
                  }
                },
                {
                  "name": "_deepnote_index_column",
                  "dtype": "int64"
                }
              ],
              "row_count": 351,
              "preview_row_count": 351,
              "rows": [
                {
                  "OBJECTID": 4530,
                  "ID": "0001603894",
                  "NAME": "HUGGINS HOSPITAL",
                  "ADDRESS": "240 SOUTH MAIN STREET",
                  "CITY": "WOLFEBORO",
                  "STATE": "NH",
                  "ZIP": "03894",
                  "ZIP4": "NOT AVAILABLE",
                  "TELEPHONE": "(603) 569-7500",
                  "TYPE": "GENERAL ACUTE CARE",
                  "STATUS": "OPEN",
                  "POPULATION": 25,
                  "COUNTY": "CARROLL",
                  "COUNTYFIPS": "33003",
                  "COUNTRY": "USA",
                  "LATITUDE": 43.58173941500007,
                  "LONGITUDE": -71.20036410499995,
                  "NAICS_CODE": "622110",
                  "NAICS_DESC": "GENERAL MEDICAL AND SURGICAL HOSPITALS",
                  "SOURCE": "http://www.dhhs.nh.gov/oos/bhfa/documents/licensedfacilities.pdf",
                  "SOURCEDATE": "2020-08-08 00:00:00+00:00",
                  "VAL_METHOD": "IMAGERY",
                  "VAL_DATE": "2014-02-10 00:00:00+00:00",
                  "WEBSITE": "http://www.hugginshospital.org",
                  "STATE_ID": "NOT AVAILABLE",
                  "ALT_NAME": "NOT AVAILABLE",
                  "ST_FIPS": "33",
                  "OWNER": "NON-PROFIT",
                  "TTL_STAFF": -999,
                  "BEDS": 25,
                  "TRAUMA": "NOT AVAILABLE",
                  "HELIPAD": "Y",
                  "geometry": "POINT (-71.20036410499995 43.58173941500007)",
                  "_deepnote_index_column": 220
                },
                {
                  "OBJECTID": 4533,
                  "ID": "0000403264",
                  "NAME": "SPEARE MEMORIAL HOSPITAL",
                  "ADDRESS": "16 HOSPITAL ROAD",
                  "CITY": "PLYMOUTH",
                  "STATE": "NH",
                  "ZIP": "03264",
                  "ZIP4": "NOT AVAILABLE",
                  "TELEPHONE": "(603) 536-1120",
                  "TYPE": "GENERAL ACUTE CARE",
                  "STATUS": "OPEN",
                  "POPULATION": 25,
                  "COUNTY": "GRAFTON",
                  "COUNTYFIPS": "33009",
                  "COUNTRY": "USA",
                  "LATITUDE": 43.757737631000055,
                  "LONGITUDE": -71.69518792699995,
                  "NAICS_CODE": "622110",
                  "NAICS_DESC": "GENERAL MEDICAL AND SURGICAL HOSPITALS",
                  "SOURCE": "http://www.dhhs.nh.gov/oos/bhfa/documents/licensedfacilities.pdf",
                  "SOURCEDATE": "2020-08-08 00:00:00+00:00",
                  "VAL_METHOD": "IMAGERY",
                  "VAL_DATE": "2014-03-12 00:00:00+00:00",
                  "WEBSITE": "http://www.spearehospital.com",
                  "STATE_ID": "NOT AVAILABLE",
                  "ALT_NAME": "NOT AVAILABLE",
                  "ST_FIPS": "33",
                  "OWNER": "NON-PROFIT",
                  "TTL_STAFF": -999,
                  "BEDS": 25,
                  "TRAUMA": "NOT AVAILABLE",
                  "HELIPAD": "Y",
                  "geometry": "POINT (-71.69518792699995 43.757737631000055)",
                  "_deepnote_index_column": 221
                },
                {
                  "OBJECTID": 4549,
                  "ID": "0001005478",
                  "NAME": "NORTHWESTERN MEDICAL CENTER",
                  "ADDRESS": "133 FAIRFIELD ST",
                  "CITY": "ST. ALBANS",
                  "STATE": "VT",
                  "ZIP": "05478",
                  "ZIP4": "NOT AVAILABLE",
                  "TELEPHONE": "(802) 524-5911",
                  "TYPE": "GENERAL ACUTE CARE",
                  "STATUS": "OPEN",
                  "POPULATION": 70,
                  "COUNTY": "FRANKLIN",
                  "COUNTYFIPS": "50011",
                  "COUNTRY": "USA",
                  "LATITUDE": 44.80773961700004,
                  "LONGITUDE": -73.07251308599996,
                  "NAICS_CODE": "622110",
                  "NAICS_DESC": "GENERAL MEDICAL AND SURGICAL HOSPITALS",
                  "SOURCE": "http://www.healthvermont.gov/health-statistics-vital-records/health-care-systems-reporting/hospital-report-cards",
                  "SOURCEDATE": "2020-08-08 00:00:00+00:00",
                  "VAL_METHOD": "IMAGERY",
                  "VAL_DATE": "2014-02-10 00:00:00+00:00",
                  "WEBSITE": "http://www.northwesternmedicalcenter.org/",
                  "STATE_ID": "NOT AVAILABLE",
                  "ALT_NAME": "NOT AVAILABLE",
                  "ST_FIPS": "50",
                  "OWNER": "NON-PROFIT",
                  "TTL_STAFF": -999,
                  "BEDS": 70,
                  "TRAUMA": "NOT AVAILABLE",
                  "HELIPAD": "N",
                  "geometry": "POINT (-73.07251308599996 44.80773961700004)",
                  "_deepnote_index_column": 222
                },
                {
                  "OBJECTID": 4589,
                  "ID": "0006802132",
                  "NAME": "VA MEDICAL CENTER - WEST ROXBURY DIVISION",
                  "ADDRESS": "1400 VFW PKY",
                  "CITY": "WEST ROXBURY",
                  "STATE": "MA",
                  "ZIP": "02132",
                  "ZIP4": "NOT AVAILABLE",
                  "TELEPHONE": "NOT AVAILABLE",
                  "TYPE": "MILITARY",
                  "STATUS": "OPEN",
                  "POPULATION": 448,
                  "COUNTY": "SUFFOLK",
                  "COUNTYFIPS": "25025",
                  "COUNTRY": "USA",
                  "LATITUDE": 42.27462729800004,
                  "LONGITUDE": -71.17169802199999,
                  "NAICS_CODE": "622110",
                  "NAICS_DESC": "GENERAL MEDICAL AND SURGICAL HOSPITALS",
                  "SOURCE": "https://www.va.gov/directory/guide/allstate.asp",
                  "SOURCEDATE": "2020-09-25 00:00:00+00:00",
                  "VAL_METHOD": "IMAGERY/OTHER",
                  "VAL_DATE": "2015-05-20 00:00:00+00:00",
                  "WEBSITE": "http://www.boston.va.gov/",
                  "STATE_ID": "NOT AVAILABLE",
                  "ALT_NAME": "NOT AVAILABLE",
                  "ST_FIPS": "25",
                  "OWNER": "GOVERNMENT - FEDERAL",
                  "TTL_STAFF": -999,
                  "BEDS": 448,
                  "TRAUMA": "NOT AVAILABLE",
                  "HELIPAD": "N",
                  "geometry": "POINT (-71.17169802199999 42.27462729800004)",
                  "_deepnote_index_column": 223
                },
                {
                  "OBJECTID": 4594,
                  "ID": "0015105009",
                  "NAME": "VA MEDICAL CENTER - WHITE RIVER JUNCTION",
                  "ADDRESS": "163 VETERANS DR",
                  "CITY": "WHITE RIVER JUNCTION",
                  "STATE": "VT",
                  "ZIP": "05009",
                  "ZIP4": "NOT AVAILABLE",
                  "TELEPHONE": "NOT AVAILABLE",
                  "TYPE": "MILITARY",
                  "STATUS": "OPEN",
                  "POPULATION": -999,
                  "COUNTY": "WINDSOR",
                  "COUNTYFIPS": "50027",
                  "COUNTRY": "USA",
                  "LATITUDE": 43.64849322100008,
                  "LONGITUDE": -72.34253657299996,
                  "NAICS_CODE": "622110",
                  "NAICS_DESC": "GENERAL MEDICAL AND SURGICAL HOSPITALS",
                  "SOURCE": "https://www.va.gov/directory/guide/allstate.asp",
                  "SOURCEDATE": "2020-09-25 00:00:00+00:00",
                  "VAL_METHOD": "IMAGERY/OTHER",
                  "VAL_DATE": "2015-05-29 00:00:00+00:00",
                  "WEBSITE": "http://www.whiteriver.va.gov/",
                  "STATE_ID": "NOT AVAILABLE",
                  "ALT_NAME": "NOT AVAILABLE",
                  "ST_FIPS": "50",
                  "OWNER": "GOVERNMENT - FEDERAL",
                  "TTL_STAFF": -999,
                  "BEDS": -999,
                  "TRAUMA": "NOT AVAILABLE",
                  "HELIPAD": "N",
                  "geometry": "POINT (-72.34253657299996 43.64849322100008)",
                  "_deepnote_index_column": 224
                },
                {
                  "OBJECTID": 4717,
                  "ID": "0007102135",
                  "NAME": "KINDRED HOSPITAL BOSTON",
                  "ADDRESS": "1515 COMMONWEALTH AVENUE",
                  "CITY": "BOSTON",
                  "STATE": "MA",
                  "ZIP": "02135",
                  "ZIP4": "NOT AVAILABLE",
                  "TELEPHONE": "(617) 254-1100",
                  "TYPE": "LONG TERM CARE",
                  "STATUS": "CLOSED",
                  "POPULATION": 59,
                  "COUNTY": "SUFFOLK",
                  "COUNTYFIPS": "25025",
                  "COUNTRY": "USA",
                  "LATITUDE": 42.3466,
                  "LONGITUDE": -71.1419,
                  "NAICS_CODE": "622110",
                  "NAICS_DESC": "GENERAL MEDICAL AND SURGICAL HOSPITALS",
                  "SOURCE": "http://www.mass.gov/eohhs/gov/departments/dph/programs/hcq/healthcare-quality/",
                  "SOURCEDATE": "2020-08-15 00:00:00+00:00",
                  "VAL_METHOD": "IMAGERY/OTHER",
                  "VAL_DATE": "2014-02-10 00:00:00+00:00",
                  "WEBSITE": "http://www.kindredbos.com/",
                  "STATE_ID": "72",
                  "ALT_NAME": "KINDRED HOSPITAL - BOSTON",
                  "ST_FIPS": "25",
                  "OWNER": "PROPRIETARY",
                  "TTL_STAFF": -999,
                  "BEDS": 59,
                  "TRAUMA": "NOT AVAILABLE",
                  "HELIPAD": "N",
                  "geometry": "POINT (-71.1419 42.3466)",
                  "_deepnote_index_column": 225
                },
                {
                  "OBJECTID": 4718,
                  "ID": "0008502130",
                  "NAME": "VA BOSTON HEALTHCARE SYSTEM - JAMAICA PLAIN",
                  "ADDRESS": "150 S. HUNTINGTON AVENUE",
                  "CITY": "JAMAICA PLAIN",
                  "STATE": "MA",
                  "ZIP": "02130",
                  "ZIP4": "NOT AVAILABLE",
                  "TELEPHONE": "NOT AVAILABLE",
                  "TYPE": "MILITARY",
                  "STATUS": "OPEN",
                  "POPULATION": 361,
                  "COUNTY": "SUFFOLK",
                  "COUNTYFIPS": "25025",
                  "COUNTRY": "USA",
                  "LATITUDE": 42.327,
                  "LONGITUDE": -71.1103,
                  "NAICS_CODE": "622110",
                  "NAICS_DESC": "GENERAL MEDICAL AND SURGICAL HOSPITALS",
                  "SOURCE": "http://www.mass.gov/eohhs/gov/departments/dph/programs/hcq/healthcare-quality/",
                  "SOURCEDATE": "2020-08-15 00:00:00+00:00",
                  "VAL_METHOD": "IMAGERY/OTHER",
                  "VAL_DATE": "2013-12-13 00:00:00+00:00",
                  "WEBSITE": "http://www.boston.va.gov/",
                  "STATE_ID": "NOT AVAILABLE",
                  "ALT_NAME": "VA BOSTON - JAMAICA PLAIN",
                  "ST_FIPS": "25",
                  "OWNER": "GOVERNMENT - FEDERAL",
                  "TTL_STAFF": -999,
                  "BEDS": 361,
                  "TRAUMA": "NOT AVAILABLE",
                  "HELIPAD": "N",
                  "geometry": "POINT (-71.1103 42.327)",
                  "_deepnote_index_column": 226
                },
                {
                  "OBJECTID": 4749,
                  "ID": "0012202346",
                  "NAME": "HIGH POINT TREATMENT CENTER",
                  "ADDRESS": "52 OAK STREET",
                  "CITY": "MIDDLEBOROUGH",
                  "STATE": "MA",
                  "ZIP": "02346",
                  "ZIP4": "NOT AVAILABLE",
                  "TELEPHONE": "(774) 628-1011",
                  "TYPE": "PSYCHIATRIC",
                  "STATUS": "OPEN",
                  "POPULATION": 72,
                  "COUNTY": "PLYMOUTH",
                  "COUNTYFIPS": "25023",
                  "COUNTRY": "USA",
                  "LATITUDE": 41.89439787300006,
                  "LONGITUDE": -70.91450019899997,
                  "NAICS_CODE": "622210",
                  "NAICS_DESC": "PSYCHIATRIC AND SUBSTANCE ABUSE HOSPITALS",
                  "SOURCE": "http://www.mass.gov/eohhs/gov/departments/dph/programs/hcq/healthcare-quality/",
                  "SOURCEDATE": "2020-08-15 00:00:00+00:00",
                  "VAL_METHOD": "IMAGERY",
                  "VAL_DATE": "2016-08-01 00:00:00+00:00",
                  "WEBSITE": "http://www.hptc.org/hospital.php",
                  "STATE_ID": "20ZH",
                  "ALT_NAME": "NOT AVAILABLE",
                  "ST_FIPS": "25",
                  "OWNER": "NON-PROFIT",
                  "TTL_STAFF": -999,
                  "BEDS": 72,
                  "TRAUMA": "NOT AVAILABLE",
                  "HELIPAD": "N",
                  "geometry": "POINT (-70.91450019899997 41.89439787300006)",
                  "_deepnote_index_column": 227
                },
                {
                  "OBJECTID": 4750,
                  "ID": "0013401581",
                  "NAME": "WHITTIER REHABILITATION HOSPITAL",
                  "ADDRESS": "150 FLANDERS RD",
                  "CITY": "WESTBOROUGH",
                  "STATE": "MA",
                  "ZIP": "01581",
                  "ZIP4": "NOT AVAILABLE",
                  "TELEPHONE": "(508) 870-2222",
                  "TYPE": "REHABILITATION",
                  "STATUS": "OPEN",
                  "POPULATION": 88,
                  "COUNTY": "WORCESTER",
                  "COUNTYFIPS": "25027",
                  "COUNTRY": "USA",
                  "LATITUDE": 42.27647967200005,
                  "LONGITUDE": -71.56784177699996,
                  "NAICS_CODE": "622310",
                  "NAICS_DESC": "REHABILITATION HOSPITALS (EXCEPT ALCOHOLISM, DRUG ADDICTION)",
                  "SOURCE": "http://www.mass.gov/eohhs/gov/departments/dph/programs/hcq/healthcare-quality/",
                  "SOURCEDATE": "2020-08-15 00:00:00+00:00",
                  "VAL_METHOD": "IMAGERY",
                  "VAL_DATE": "2016-08-02 00:00:00+00:00",
                  "WEBSITE": "http://www.whittierhealth.com/rehabilitation_hospitals/westborough.html",
                  "STATE_ID": "293Q",
                  "ALT_NAME": "NOT AVAILABLE",
                  "ST_FIPS": "25",
                  "OWNER": "PROPRIETARY",
                  "TTL_STAFF": -999,
                  "BEDS": 88,
                  "TRAUMA": "NOT AVAILABLE",
                  "HELIPAD": "N",
                  "geometry": "POINT (-71.56784177699996 42.27647967200005)",
                  "_deepnote_index_column": 228
                },
                {
                  "OBJECTID": 4765,
                  "ID": "0010802302",
                  "NAME": "ENCOMPASS HEALTH BRAINTREE REHABILITATION HOSPITAL",
                  "ADDRESS": "250 POND ST",
                  "CITY": "BRAINTREE",
                  "STATE": "MA",
                  "ZIP": "02184",
                  "ZIP4": "NOT AVAILABLE",
                  "TELEPHONE": "(781) 848-5353",
                  "TYPE": "REHABILITATION",
                  "STATUS": "OPEN",
                  "POPULATION": 166,
                  "COUNTY": "NORFOLK",
                  "COUNTYFIPS": "25021",
                  "COUNTRY": "USA",
                  "LATITUDE": 42.198133073000065,
                  "LONGITUDE": -71.01851252299997,
                  "NAICS_CODE": "622310",
                  "NAICS_DESC": "REHABILITATION HOSPITALS (EXCEPT ALCOHOLISM, DRUG ADDICTION)",
                  "SOURCE": "http://www.mass.gov/eohhs/gov/departments/dph/programs/hcq/healthcare-quality/",
                  "SOURCEDATE": "2020-08-15 00:00:00+00:00",
                  "VAL_METHOD": "IMAGERY/OTHER",
                  "VAL_DATE": "2016-08-01 00:00:00+00:00",
                  "WEBSITE": "http://www.healthsouthbraintree.com/",
                  "STATE_ID": "2333",
                  "ALT_NAME": "NOT AVAILABLE",
                  "ST_FIPS": "25",
                  "OWNER": "PROPRIETARY",
                  "TTL_STAFF": -999,
                  "BEDS": 166,
                  "TRAUMA": "NOT AVAILABLE",
                  "HELIPAD": "N",
                  "geometry": "POINT (-71.01851252299997 42.198133073000065)",
                  "_deepnote_index_column": 229
                }
              ],
              "type": "dataframe"
            },
            "text/plain": "     OBJECTID          ID                                     NAME  \\\n0          49  0013402908           VA MEDICAL CENTER - PROVIDENCE   \n1          98  0000502891                        WESTERLY HOSPITAL   \n2         116  0009802703                   ARBOUR FULLER HOSPITAL   \n3         117  0009702146          ARBOUR HUMAN RESOURCE INSTITUTE   \n4         120  0003906250                  NATCHAUG HOSPITAL, INC.   \n..        ...         ...                                      ...   \n346      7578  0018971434       TARAVISTA BEHAVIORAL HEALTH CENTER   \n347      7609  0196706457                WHITING FORENSIC HOSPITAL   \n348      7682  0196784161              THE CONNECTICUT HOSPICE INC   \n349      7723  0196784202  HARTFORD HOSPITAL (INSTITUTE OF LIVING)   \n350      7733  0196784212  MAINE MEDICAL CENTER -TRANSPLANT CENTER   \n\n                 ADDRESS              CITY STATE    ZIP           ZIP4  \\\n0     830 CHALKSTONE AVE        PROVIDENCE    RI  02908  NOT AVAILABLE   \n1            25 WELLS ST          WESTERLY    RI  02891  NOT AVAILABLE   \n2         200 MAY STREET         ATTLEBORO    MA  02703  NOT AVAILABLE   \n3     227 BABCOCK STREET         BROOKLINE    MA  02146  NOT AVAILABLE   \n4          189 STORRS RD  MANSFIELD CENTER    CT  06250  NOT AVAILABLE   \n..                   ...               ...   ...    ...            ...   \n346       85 PATTON ROAD              AYER    MA  01434  NOT AVAILABLE   \n347         70 OBRIEN DR        MIDDLETOWN    CT  06457           3945   \n348  100 DOUBLE BEACH RD          BRANFORD    CT  06405           4909   \n349   200 RETREAT AVENUE          HARTFORD    CT  06106           3315   \n350       22 BRAMHALL ST          PORTLAND    ME  04102  NOT AVAILABLE   \n\n          TELEPHONE                TYPE  ...  \\\n0     NOT AVAILABLE  GENERAL ACUTE CARE  ...   \n1    (401) 596-6000  GENERAL ACUTE CARE  ...   \n2    (508) 761-8500         PSYCHIATRIC  ...   \n3    (617) 731-3200         PSYCHIATRIC  ...   \n4    (860) 456-1311         PSYCHIATRIC  ...   \n..              ...                 ...  ...   \n346  (978) 615-5200         PSYCHIATRIC  ...   \n347  (860) 262-5400         PSYCHIATRIC  ...   \n348   NOT AVAILABLE  GENERAL ACUTE CARE  ...   \n349   NOT AVAILABLE  GENERAL ACUTE CARE  ...   \n350  (207) 662-7181             SPECIAL  ...   \n\n                                               WEBSITE       STATE_ID  \\\n0                        http://www.providence.va.gov/  NOT AVAILABLE   \n1                     http://www.westerlyhospital.org/              6   \n2    http://arbourhealth.com/organizations/arbour-f...           2836   \n3    http://arbourhealth.com/organizations/arbour-h...           2005   \n4                             http://www.natchaug.org/  NOT AVAILABLE   \n..                                                 ...            ...   \n346                        https://www.taravista.care/           2AY6   \n347  https://portal.ct.gov/dmhas/wfh/whiting-forens...  NOT AVAILABLE   \n348                                      NOT AVAILABLE             67   \n349                                      NOT AVAILABLE             46   \n350                                      NOT AVAILABLE  NOT AVAILABLE   \n\n          ALT_NAME ST_FIPS                 OWNER  TTL_STAFF   BEDS  \\\n0    NOT AVAILABLE      44  GOVERNMENT - FEDERAL       -999 -999.0   \n1    NOT AVAILABLE      44            NON-PROFIT       -999  125.0   \n2    NOT AVAILABLE      25           PROPRIETARY       -999  103.0   \n3    NOT AVAILABLE      25           PROPRIETARY       -999   66.0   \n4    NOT AVAILABLE      09            NON-PROFIT       -999   57.0   \n..             ...     ...                   ...        ...    ...   \n346  NOT AVAILABLE      25         NOT AVAILABLE       -999  108.0   \n347  NOT AVAILABLE      09    GOVERNMENT - STATE       -999  229.0   \n348  NOT AVAILABLE      09         NOT AVAILABLE       -999 -999.0   \n349  NOT AVAILABLE      09         NOT AVAILABLE       -999 -999.0   \n350  NOT AVAILABLE      23         NOT AVAILABLE       -999 -999.0   \n\n            TRAUMA        HELIPAD                    geometry  \n0    NOT AVAILABLE              N  POINT (-71.43315 41.83214)  \n1    NOT AVAILABLE              N   POINT (-71.8253 41.36219)  \n2    NOT AVAILABLE              N  POINT (-71.36112 41.92408)  \n3    NOT AVAILABLE              N  POINT (-71.12124 42.35078)  \n4    NOT AVAILABLE              N   POINT (-72.19801 41.7411)  \n..             ...            ...                         ...  \n346  NOT AVAILABLE              N  POINT (-71.61498 42.53026)  \n347  NOT AVAILABLE              N  POINT (-72.62589 41.55204)  \n348  NOT AVAILABLE  NOT AVAILABLE  POINT (-72.83284 41.25681)  \n349  NOT AVAILABLE  NOT AVAILABLE  POINT (-72.68213 41.74967)  \n350  NOT AVAILABLE  NOT AVAILABLE  POINT (-70.27631 43.65309)  \n\n[351 rows x 33 columns]",
            "text/html": "<div>\n<style scoped>\n    .dataframe tbody tr th:only-of-type {\n        vertical-align: middle;\n    }\n\n    .dataframe tbody tr th {\n        vertical-align: top;\n    }\n\n    .dataframe thead th {\n        text-align: right;\n    }\n</style>\n<table border=\"1\" class=\"dataframe\">\n  <thead>\n    <tr style=\"text-align: right;\">\n      <th></th>\n      <th>OBJECTID</th>\n      <th>ID</th>\n      <th>NAME</th>\n      <th>ADDRESS</th>\n      <th>CITY</th>\n      <th>STATE</th>\n      <th>ZIP</th>\n      <th>ZIP4</th>\n      <th>TELEPHONE</th>\n      <th>TYPE</th>\n      <th>...</th>\n      <th>WEBSITE</th>\n      <th>STATE_ID</th>\n      <th>ALT_NAME</th>\n      <th>ST_FIPS</th>\n      <th>OWNER</th>\n      <th>TTL_STAFF</th>\n      <th>BEDS</th>\n      <th>TRAUMA</th>\n      <th>HELIPAD</th>\n      <th>geometry</th>\n    </tr>\n  </thead>\n  <tbody>\n    <tr>\n      <th>0</th>\n      <td>49</td>\n      <td>0013402908</td>\n      <td>VA MEDICAL CENTER - PROVIDENCE</td>\n      <td>830 CHALKSTONE AVE</td>\n      <td>PROVIDENCE</td>\n      <td>RI</td>\n      <td>02908</td>\n      <td>NOT AVAILABLE</td>\n      <td>NOT AVAILABLE</td>\n      <td>GENERAL ACUTE CARE</td>\n      <td>...</td>\n      <td>http://www.providence.va.gov/</td>\n      <td>NOT AVAILABLE</td>\n      <td>NOT AVAILABLE</td>\n      <td>44</td>\n      <td>GOVERNMENT - FEDERAL</td>\n      <td>-999</td>\n      <td>-999.0</td>\n      <td>NOT AVAILABLE</td>\n      <td>N</td>\n      <td>POINT (-71.43315 41.83214)</td>\n    </tr>\n    <tr>\n      <th>1</th>\n      <td>98</td>\n      <td>0000502891</td>\n      <td>WESTERLY HOSPITAL</td>\n      <td>25 WELLS ST</td>\n      <td>WESTERLY</td>\n      <td>RI</td>\n      <td>02891</td>\n      <td>NOT AVAILABLE</td>\n      <td>(401) 596-6000</td>\n      <td>GENERAL ACUTE CARE</td>\n      <td>...</td>\n      <td>http://www.westerlyhospital.org/</td>\n      <td>6</td>\n      <td>NOT AVAILABLE</td>\n      <td>44</td>\n      <td>NON-PROFIT</td>\n      <td>-999</td>\n      <td>125.0</td>\n      <td>NOT AVAILABLE</td>\n      <td>N</td>\n      <td>POINT (-71.8253 41.36219)</td>\n    </tr>\n    <tr>\n      <th>2</th>\n      <td>116</td>\n      <td>0009802703</td>\n      <td>ARBOUR FULLER HOSPITAL</td>\n      <td>200 MAY STREET</td>\n      <td>ATTLEBORO</td>\n      <td>MA</td>\n      <td>02703</td>\n      <td>NOT AVAILABLE</td>\n      <td>(508) 761-8500</td>\n      <td>PSYCHIATRIC</td>\n      <td>...</td>\n      <td>http://arbourhealth.com/organizations/arbour-f...</td>\n      <td>2836</td>\n      <td>NOT AVAILABLE</td>\n      <td>25</td>\n      <td>PROPRIETARY</td>\n      <td>-999</td>\n      <td>103.0</td>\n      <td>NOT AVAILABLE</td>\n      <td>N</td>\n      <td>POINT (-71.36112 41.92408)</td>\n    </tr>\n    <tr>\n      <th>3</th>\n      <td>117</td>\n      <td>0009702146</td>\n      <td>ARBOUR HUMAN RESOURCE INSTITUTE</td>\n      <td>227 BABCOCK STREET</td>\n      <td>BROOKLINE</td>\n      <td>MA</td>\n      <td>02146</td>\n      <td>NOT AVAILABLE</td>\n      <td>(617) 731-3200</td>\n      <td>PSYCHIATRIC</td>\n      <td>...</td>\n      <td>http://arbourhealth.com/organizations/arbour-h...</td>\n      <td>2005</td>\n      <td>NOT AVAILABLE</td>\n      <td>25</td>\n      <td>PROPRIETARY</td>\n      <td>-999</td>\n      <td>66.0</td>\n      <td>NOT AVAILABLE</td>\n      <td>N</td>\n      <td>POINT (-71.12124 42.35078)</td>\n    </tr>\n    <tr>\n      <th>4</th>\n      <td>120</td>\n      <td>0003906250</td>\n      <td>NATCHAUG HOSPITAL, INC.</td>\n      <td>189 STORRS RD</td>\n      <td>MANSFIELD CENTER</td>\n      <td>CT</td>\n      <td>06250</td>\n      <td>NOT AVAILABLE</td>\n      <td>(860) 456-1311</td>\n      <td>PSYCHIATRIC</td>\n      <td>...</td>\n      <td>http://www.natchaug.org/</td>\n      <td>NOT AVAILABLE</td>\n      <td>NOT AVAILABLE</td>\n      <td>09</td>\n      <td>NON-PROFIT</td>\n      <td>-999</td>\n      <td>57.0</td>\n      <td>NOT AVAILABLE</td>\n      <td>N</td>\n      <td>POINT (-72.19801 41.7411)</td>\n    </tr>\n    <tr>\n      <th>...</th>\n      <td>...</td>\n      <td>...</td>\n      <td>...</td>\n      <td>...</td>\n      <td>...</td>\n      <td>...</td>\n      <td>...</td>\n      <td>...</td>\n      <td>...</td>\n      <td>...</td>\n      <td>...</td>\n      <td>...</td>\n      <td>...</td>\n      <td>...</td>\n      <td>...</td>\n      <td>...</td>\n      <td>...</td>\n      <td>...</td>\n      <td>...</td>\n      <td>...</td>\n      <td>...</td>\n    </tr>\n    <tr>\n      <th>346</th>\n      <td>7578</td>\n      <td>0018971434</td>\n      <td>TARAVISTA BEHAVIORAL HEALTH CENTER</td>\n      <td>85 PATTON ROAD</td>\n      <td>AYER</td>\n      <td>MA</td>\n      <td>01434</td>\n      <td>NOT AVAILABLE</td>\n      <td>(978) 615-5200</td>\n      <td>PSYCHIATRIC</td>\n      <td>...</td>\n      <td>https://www.taravista.care/</td>\n      <td>2AY6</td>\n      <td>NOT AVAILABLE</td>\n      <td>25</td>\n      <td>NOT AVAILABLE</td>\n      <td>-999</td>\n      <td>108.0</td>\n      <td>NOT AVAILABLE</td>\n      <td>N</td>\n      <td>POINT (-71.61498 42.53026)</td>\n    </tr>\n    <tr>\n      <th>347</th>\n      <td>7609</td>\n      <td>0196706457</td>\n      <td>WHITING FORENSIC HOSPITAL</td>\n      <td>70 OBRIEN DR</td>\n      <td>MIDDLETOWN</td>\n      <td>CT</td>\n      <td>06457</td>\n      <td>3945</td>\n      <td>(860) 262-5400</td>\n      <td>PSYCHIATRIC</td>\n      <td>...</td>\n      <td>https://portal.ct.gov/dmhas/wfh/whiting-forens...</td>\n      <td>NOT AVAILABLE</td>\n      <td>NOT AVAILABLE</td>\n      <td>09</td>\n      <td>GOVERNMENT - STATE</td>\n      <td>-999</td>\n      <td>229.0</td>\n      <td>NOT AVAILABLE</td>\n      <td>N</td>\n      <td>POINT (-72.62589 41.55204)</td>\n    </tr>\n    <tr>\n      <th>348</th>\n      <td>7682</td>\n      <td>0196784161</td>\n      <td>THE CONNECTICUT HOSPICE INC</td>\n      <td>100 DOUBLE BEACH RD</td>\n      <td>BRANFORD</td>\n      <td>CT</td>\n      <td>06405</td>\n      <td>4909</td>\n      <td>NOT AVAILABLE</td>\n      <td>GENERAL ACUTE CARE</td>\n      <td>...</td>\n      <td>NOT AVAILABLE</td>\n      <td>67</td>\n      <td>NOT AVAILABLE</td>\n      <td>09</td>\n      <td>NOT AVAILABLE</td>\n      <td>-999</td>\n      <td>-999.0</td>\n      <td>NOT AVAILABLE</td>\n      <td>NOT AVAILABLE</td>\n      <td>POINT (-72.83284 41.25681)</td>\n    </tr>\n    <tr>\n      <th>349</th>\n      <td>7723</td>\n      <td>0196784202</td>\n      <td>HARTFORD HOSPITAL (INSTITUTE OF LIVING)</td>\n      <td>200 RETREAT AVENUE</td>\n      <td>HARTFORD</td>\n      <td>CT</td>\n      <td>06106</td>\n      <td>3315</td>\n      <td>NOT AVAILABLE</td>\n      <td>GENERAL ACUTE CARE</td>\n      <td>...</td>\n      <td>NOT AVAILABLE</td>\n      <td>46</td>\n      <td>NOT AVAILABLE</td>\n      <td>09</td>\n      <td>NOT AVAILABLE</td>\n      <td>-999</td>\n      <td>-999.0</td>\n      <td>NOT AVAILABLE</td>\n      <td>NOT AVAILABLE</td>\n      <td>POINT (-72.68213 41.74967)</td>\n    </tr>\n    <tr>\n      <th>350</th>\n      <td>7733</td>\n      <td>0196784212</td>\n      <td>MAINE MEDICAL CENTER -TRANSPLANT CENTER</td>\n      <td>22 BRAMHALL ST</td>\n      <td>PORTLAND</td>\n      <td>ME</td>\n      <td>04102</td>\n      <td>NOT AVAILABLE</td>\n      <td>(207) 662-7181</td>\n      <td>SPECIAL</td>\n      <td>...</td>\n      <td>NOT AVAILABLE</td>\n      <td>NOT AVAILABLE</td>\n      <td>NOT AVAILABLE</td>\n      <td>23</td>\n      <td>NOT AVAILABLE</td>\n      <td>-999</td>\n      <td>-999.0</td>\n      <td>NOT AVAILABLE</td>\n      <td>NOT AVAILABLE</td>\n      <td>POINT (-70.27631 43.65309)</td>\n    </tr>\n  </tbody>\n</table>\n<p>351 rows × 33 columns</p>\n</div>"
          },
          "metadata": {}
        }
      ],
      "outputs_reference": null,
      "content_dependencies": null
    },
    {
      "cell_type": "code",
      "metadata": {
        "source_hash": "cbdfed8e",
        "execution_start": 1753803867169,
        "execution_millis": 134,
        "execution_context_id": "6bcbe7b0-968e-40d1-8a16-fde552e2efc5",
        "deepnote_to_be_reexecuted": true,
        "cell_id": "fb5696656db644ad816b796c6eee362b",
        "deepnote_cell_type": "code"
      },
      "source": "shelters_df",
      "block_group": "2ab7ff7c97824a3c833319608b8abfc4",
      "execution_count": 5,
      "outputs": [
        {
          "output_type": "execute_result",
          "execution_count": 5,
          "data": {
            "application/vnd.deepnote.dataframe.v3+json": {
              "column_count": 73,
              "columns": [
                {
                  "name": "SHELTER_ID",
                  "dtype": "int32",
                  "stats": {
                    "unique_count": 4585,
                    "nan_count": 0,
                    "min": "71567",
                    "max": "365382",
                    "histogram": [
                      {
                        "bin_start": 71567,
                        "bin_end": 100948.5,
                        "count": 277
                      },
                      {
                        "bin_start": 100948.5,
                        "bin_end": 130330,
                        "count": 964
                      },
                      {
                        "bin_start": 130330,
                        "bin_end": 159711.5,
                        "count": 0
                      },
                      {
                        "bin_start": 159711.5,
                        "bin_end": 189093,
                        "count": 613
                      },
                      {
                        "bin_start": 189093,
                        "bin_end": 218474.5,
                        "count": 669
                      },
                      {
                        "bin_start": 218474.5,
                        "bin_end": 247856,
                        "count": 636
                      },
                      {
                        "bin_start": 247856,
                        "bin_end": 277237.5,
                        "count": 0
                      },
                      {
                        "bin_start": 277237.5,
                        "bin_end": 306619,
                        "count": 0
                      },
                      {
                        "bin_start": 306619,
                        "bin_end": 336000.5,
                        "count": 265
                      },
                      {
                        "bin_start": 336000.5,
                        "bin_end": 365382,
                        "count": 1161
                      }
                    ],
                    "categories": null
                  }
                },
                {
                  "name": "SHELTER_NAME",
                  "dtype": "object",
                  "stats": {
                    "unique_count": 4383,
                    "nan_count": 0,
                    "min": null,
                    "max": null,
                    "histogram": null,
                    "categories": [
                      {
                        "name": "National Guard Armory",
                        "count": 9
                      },
                      {
                        "name": "First Congregational Church",
                        "count": 8
                      },
                      {
                        "name": "4381 others",
                        "count": 4568
                      }
                    ]
                  }
                },
                {
                  "name": "ADDRESS_1",
                  "dtype": "object",
                  "stats": {
                    "unique_count": 4463,
                    "nan_count": 0,
                    "min": null,
                    "max": null,
                    "histogram": null,
                    "categories": [
                      {
                        "name": "970 Rte. 146",
                        "count": 6
                      },
                      {
                        "name": "123",
                        "count": 5
                      },
                      {
                        "name": "4461 others",
                        "count": 4574
                      }
                    ]
                  }
                },
                {
                  "name": "CITY",
                  "dtype": "object",
                  "stats": {
                    "unique_count": 1293,
                    "nan_count": 0,
                    "min": null,
                    "max": null,
                    "histogram": null,
                    "categories": [
                      {
                        "name": "ALBANY",
                        "count": 53
                      },
                      {
                        "name": "SCHENECTADY",
                        "count": 48
                      },
                      {
                        "name": "1291 others",
                        "count": 4484
                      }
                    ]
                  }
                },
                {
                  "name": "COUNTY_PARISH",
                  "dtype": "object",
                  "stats": {
                    "unique_count": 135,
                    "nan_count": 1,
                    "min": null,
                    "max": null,
                    "histogram": null,
                    "categories": [
                      {
                        "name": "MIDDLESEX",
                        "count": 266
                      },
                      {
                        "name": "134 others",
                        "count": 4318
                      },
                      {
                        "name": "Missing",
                        "count": 1
                      }
                    ]
                  }
                },
                {
                  "name": "FIPS_CODE",
                  "dtype": "object",
                  "stats": {
                    "unique_count": 1,
                    "nan_count": 1050,
                    "min": null,
                    "max": null,
                    "histogram": null,
                    "categories": [
                      {
                        "name": " ",
                        "count": 3535
                      },
                      {
                        "name": "Missing",
                        "count": 1050
                      }
                    ]
                  }
                },
                {
                  "name": "STATE",
                  "dtype": "object",
                  "stats": {
                    "unique_count": 15,
                    "nan_count": 0,
                    "min": null,
                    "max": null,
                    "histogram": null,
                    "categories": [
                      {
                        "name": "MA",
                        "count": 1181
                      },
                      {
                        "name": "NY",
                        "count": 1031
                      },
                      {
                        "name": "13 others",
                        "count": 2373
                      }
                    ]
                  }
                },
                {
                  "name": "ZIP",
                  "dtype": "object",
                  "stats": {
                    "unique_count": 1555,
                    "nan_count": 0,
                    "min": null,
                    "max": null,
                    "histogram": null,
                    "categories": [
                      {
                        "name": "12901",
                        "count": 30
                      },
                      {
                        "name": "12866",
                        "count": 25
                      },
                      {
                        "name": "1553 others",
                        "count": 4530
                      }
                    ]
                  }
                },
                {
                  "name": "MAIL_ADDR_SAME_AS_PHYS_ADDR",
                  "dtype": "object",
                  "stats": {
                    "unique_count": 3,
                    "nan_count": 104,
                    "min": null,
                    "max": null,
                    "histogram": null,
                    "categories": [
                      {
                        "name": "NO",
                        "count": 2601
                      },
                      {
                        "name": "2 others",
                        "count": 1880
                      },
                      {
                        "name": "Missing",
                        "count": 104
                      }
                    ]
                  }
                },
                {
                  "name": "MAILING_ADDRESS_1",
                  "dtype": "object",
                  "stats": {
                    "unique_count": 542,
                    "nan_count": 869,
                    "min": null,
                    "max": null,
                    "histogram": null,
                    "categories": [
                      {
                        "name": " ",
                        "count": 3149
                      },
                      {
                        "name": "541 others",
                        "count": 567
                      },
                      {
                        "name": "Missing",
                        "count": 869
                      }
                    ]
                  }
                },
                {
                  "name": "MAILING_ADDRESS_2",
                  "dtype": "object",
                  "stats": {
                    "unique_count": 31,
                    "nan_count": 1028,
                    "min": null,
                    "max": null,
                    "histogram": null,
                    "categories": [
                      {
                        "name": " ",
                        "count": 3527
                      },
                      {
                        "name": "30 others",
                        "count": 30
                      },
                      {
                        "name": "Missing",
                        "count": 1028
                      }
                    ]
                  }
                },
                {
                  "name": "MAILING_CITY",
                  "dtype": "object",
                  "stats": {
                    "unique_count": 367,
                    "nan_count": 888,
                    "min": null,
                    "max": null,
                    "histogram": null,
                    "categories": [
                      {
                        "name": " ",
                        "count": 3158
                      },
                      {
                        "name": "366 others",
                        "count": 539
                      },
                      {
                        "name": "Missing",
                        "count": 888
                      }
                    ]
                  }
                },
                {
                  "name": "MAILING_COUNTY_PARISH",
                  "dtype": "object",
                  "stats": {
                    "unique_count": 14,
                    "nan_count": 1021,
                    "min": null,
                    "max": null,
                    "histogram": null,
                    "categories": [
                      {
                        "name": " ",
                        "count": 3531
                      },
                      {
                        "name": "13 others",
                        "count": 33
                      },
                      {
                        "name": "Missing",
                        "count": 1021
                      }
                    ]
                  }
                },
                {
                  "name": "MAILING_STATE",
                  "dtype": "object",
                  "stats": {
                    "unique_count": 13,
                    "nan_count": 889,
                    "min": null,
                    "max": null,
                    "histogram": null,
                    "categories": [
                      {
                        "name": " ",
                        "count": 3158
                      },
                      {
                        "name": "12 others",
                        "count": 538
                      },
                      {
                        "name": "Missing",
                        "count": 889
                      }
                    ]
                  }
                },
                {
                  "name": "MAILING_ZIP",
                  "dtype": "object",
                  "stats": {
                    "unique_count": 425,
                    "nan_count": 868,
                    "min": null,
                    "max": null,
                    "histogram": null,
                    "categories": [
                      {
                        "name": " ",
                        "count": 3158
                      },
                      {
                        "name": "424 others",
                        "count": 559
                      },
                      {
                        "name": "Missing",
                        "count": 868
                      }
                    ]
                  }
                },
                {
                  "name": "FACILITY_USAGE_CODE",
                  "dtype": "object",
                  "stats": {
                    "unique_count": 3,
                    "nan_count": 6,
                    "min": null,
                    "max": null,
                    "histogram": null,
                    "categories": [
                      {
                        "name": "EVAC",
                        "count": 2190
                      },
                      {
                        "name": "2 others",
                        "count": 2389
                      },
                      {
                        "name": "Missing",
                        "count": 6
                      }
                    ]
                  }
                },
                {
                  "name": "EVACUATION_CAPACITY",
                  "dtype": "float64",
                  "stats": {
                    "unique_count": 900,
                    "nan_count": 6,
                    "min": "0.0",
                    "max": "10848.0",
                    "histogram": [
                      {
                        "bin_start": 0,
                        "bin_end": 1084.8,
                        "count": 4244
                      },
                      {
                        "bin_start": 1084.8,
                        "bin_end": 2169.6,
                        "count": 197
                      },
                      {
                        "bin_start": 2169.6,
                        "bin_end": 3254.3999999999996,
                        "count": 73
                      },
                      {
                        "bin_start": 3254.3999999999996,
                        "bin_end": 4339.2,
                        "count": 33
                      },
                      {
                        "bin_start": 4339.2,
                        "bin_end": 5424,
                        "count": 12
                      },
                      {
                        "bin_start": 5424,
                        "bin_end": 6508.799999999999,
                        "count": 6
                      },
                      {
                        "bin_start": 6508.799999999999,
                        "bin_end": 7593.599999999999,
                        "count": 5
                      },
                      {
                        "bin_start": 7593.599999999999,
                        "bin_end": 8678.4,
                        "count": 2
                      },
                      {
                        "bin_start": 8678.4,
                        "bin_end": 9763.199999999999,
                        "count": 3
                      },
                      {
                        "bin_start": 9763.199999999999,
                        "bin_end": 10848,
                        "count": 4
                      }
                    ],
                    "categories": null
                  }
                },
                {
                  "name": "POST_IMPACT_CAPACITY",
                  "dtype": "float64",
                  "stats": {
                    "unique_count": 732,
                    "nan_count": 6,
                    "min": "0.0",
                    "max": "66717.0",
                    "histogram": [
                      {
                        "bin_start": 0,
                        "bin_end": 6671.7,
                        "count": 4570
                      },
                      {
                        "bin_start": 6671.7,
                        "bin_end": 13343.4,
                        "count": 4
                      },
                      {
                        "bin_start": 13343.4,
                        "bin_end": 20015.1,
                        "count": 0
                      },
                      {
                        "bin_start": 20015.1,
                        "bin_end": 26686.8,
                        "count": 2
                      },
                      {
                        "bin_start": 26686.8,
                        "bin_end": 33358.5,
                        "count": 0
                      },
                      {
                        "bin_start": 33358.5,
                        "bin_end": 40030.2,
                        "count": 0
                      },
                      {
                        "bin_start": 40030.2,
                        "bin_end": 46701.9,
                        "count": 0
                      },
                      {
                        "bin_start": 46701.9,
                        "bin_end": 53373.6,
                        "count": 2
                      },
                      {
                        "bin_start": 53373.6,
                        "bin_end": 60045.299999999996,
                        "count": 0
                      },
                      {
                        "bin_start": 60045.299999999996,
                        "bin_end": 66717,
                        "count": 1
                      }
                    ],
                    "categories": null
                  }
                },
                {
                  "name": "ADA_COMPLIANT",
                  "dtype": "object",
                  "stats": {
                    "unique_count": 4,
                    "nan_count": 922,
                    "min": null,
                    "max": null,
                    "histogram": null,
                    "categories": [
                      {
                        "name": " ",
                        "count": 3440
                      },
                      {
                        "name": "3 others",
                        "count": 223
                      },
                      {
                        "name": "Missing",
                        "count": 922
                      }
                    ]
                  }
                },
                {
                  "name": "WHEELCHAIR_ACCESSIBLE",
                  "dtype": "object",
                  "stats": {
                    "unique_count": 4,
                    "nan_count": 795,
                    "min": null,
                    "max": null,
                    "histogram": null,
                    "categories": [
                      {
                        "name": " ",
                        "count": 2324
                      },
                      {
                        "name": "3 others",
                        "count": 1466
                      },
                      {
                        "name": "Missing",
                        "count": 795
                      }
                    ]
                  }
                },
                {
                  "name": "PET_ACCOMMODATIONS_CODE",
                  "dtype": "object",
                  "stats": {
                    "unique_count": 3,
                    "nan_count": 938,
                    "min": null,
                    "max": null,
                    "histogram": null,
                    "categories": [
                      {
                        "name": " ",
                        "count": 3440
                      },
                      {
                        "name": "2 others",
                        "count": 207
                      },
                      {
                        "name": "Missing",
                        "count": 938
                      }
                    ]
                  }
                },
                {
                  "name": "PET_ACCOMMODATIONS_DESC",
                  "dtype": "object"
                },
                {
                  "name": "GENERATOR_ONSITE",
                  "dtype": "object"
                },
                {
                  "name": "SELF_SUFFICIENT_ELECTRICITY",
                  "dtype": "object"
                },
                {
                  "name": "LATITUDE",
                  "dtype": "float64"
                },
                {
                  "name": "LONGITUDE",
                  "dtype": "float64"
                },
                {
                  "name": "IN_100_YR_FLOODPLAIN",
                  "dtype": "object"
                },
                {
                  "name": "IN_500_YR_FLOODPLAIN",
                  "dtype": "object"
                },
                {
                  "name": "IN_SURGE_SLOSH_AREA",
                  "dtype": "object"
                },
                {
                  "name": "PRE_LANDFALL_SHELTER",
                  "dtype": "object"
                },
                {
                  "name": "SHELTER_CODE",
                  "dtype": "object"
                },
                {
                  "name": "ORG_ORGANIZATION_ID",
                  "dtype": "float64"
                },
                {
                  "name": "ORG_ORGANIZATION_NAME",
                  "dtype": "object"
                },
                {
                  "name": "ORG_MAIN_PHONE",
                  "dtype": "object"
                },
                {
                  "name": "ORG_FAX",
                  "dtype": "object"
                },
                {
                  "name": "ORG_EMAIL",
                  "dtype": "object"
                },
                {
                  "name": "ORG_HOTLINE_PHONE",
                  "dtype": "object"
                },
                {
                  "name": "ORG_OTHER_PHONE",
                  "dtype": "object"
                },
                {
                  "name": "ORG_ADDRESS",
                  "dtype": "object"
                },
                {
                  "name": "ORG_CITY",
                  "dtype": "object"
                },
                {
                  "name": "ORG_STATE",
                  "dtype": "object"
                },
                {
                  "name": "ORG_ZIP",
                  "dtype": "object"
                },
                {
                  "name": "ORG_POC_NAME",
                  "dtype": "object"
                },
                {
                  "name": "ORG_POC_PHONE",
                  "dtype": "object"
                },
                {
                  "name": "ORG_POC_AFTER_HOURS_PHONE",
                  "dtype": "object"
                },
                {
                  "name": "ORG_POC_EMAIL",
                  "dtype": "object"
                },
                {
                  "name": "ORG_HOURS_OF_OPERATION",
                  "dtype": "object"
                },
                {
                  "name": "POPULATION_CODE",
                  "dtype": "object"
                },
                {
                  "name": "INCIDENT_ID",
                  "dtype": "float64"
                },
                {
                  "name": "SHELTER_STATUS_CODE",
                  "dtype": "object"
                },
                {
                  "name": "SHELTER_OPEN_DATE",
                  "dtype": "datetime64[ms, UTC]"
                },
                {
                  "name": "SHELTER_CLOSED_DATE",
                  "dtype": "datetime64[ms, UTC]"
                },
                {
                  "name": "REPORTING_PERIOD",
                  "dtype": "object"
                },
                {
                  "name": "GENERAL_POPULATION",
                  "dtype": "float64"
                },
                {
                  "name": "MEDICAL_NEEDS_POPULATION",
                  "dtype": "float64"
                },
                {
                  "name": "OTHER_POPULATION",
                  "dtype": "float64"
                },
                {
                  "name": "OTHER_POPULATION_DESCRIPTION",
                  "dtype": "object"
                },
                {
                  "name": "TOTAL_POPULATION",
                  "dtype": "float64"
                },
                {
                  "name": "PET_POPULATION",
                  "dtype": "float64"
                },
                {
                  "name": "INCIDENT_NUMBER",
                  "dtype": "object"
                },
                {
                  "name": "INCIDENT_NAME",
                  "dtype": "object"
                },
                {
                  "name": "INCIDENT_CODE",
                  "dtype": "object"
                },
                {
                  "name": "OBJECTID",
                  "dtype": "int32"
                },
                {
                  "name": "SCORE",
                  "dtype": "float64"
                },
                {
                  "name": "STATUS",
                  "dtype": "object"
                },
                {
                  "name": "MATCH_TYPE",
                  "dtype": "object"
                },
                {
                  "name": "LOC_NAME",
                  "dtype": "object"
                },
                {
                  "name": "GEOX",
                  "dtype": "float64"
                },
                {
                  "name": "GEOY",
                  "dtype": "float64"
                },
                {
                  "name": "FACILITY_TYPE",
                  "dtype": "object"
                },
                {
                  "name": "SUBFACILITY_CODE",
                  "dtype": "object"
                },
                {
                  "name": "DATA_SOURCE_ID",
                  "dtype": "float64"
                },
                {
                  "name": "geometry",
                  "dtype": "geometry"
                },
                {
                  "name": "_deepnote_index_column",
                  "dtype": "int64"
                }
              ],
              "row_count": 4585,
              "preview_row_count": 4585,
              "rows": [
                {
                  "SHELTER_ID": 119907,
                  "SHELTER_NAME": "Cleveland Community Center",
                  "ADDRESS_1": "11 CHARLES ST",
                  "CITY": "BOSTON",
                  "COUNTY_PARISH": "SUFFOLK",
                  "FIPS_CODE": " ",
                  "STATE": "MA",
                  "ZIP": "02121",
                  "MAIL_ADDR_SAME_AS_PHYS_ADDR": "NO",
                  "MAILING_ADDRESS_1": " ",
                  "MAILING_ADDRESS_2": " ",
                  "MAILING_CITY": " ",
                  "MAILING_COUNTY_PARISH": " ",
                  "MAILING_STATE": " ",
                  "MAILING_ZIP": " ",
                  "FACILITY_USAGE_CODE": "EVAC",
                  "EVACUATION_CAPACITY": 0,
                  "POST_IMPACT_CAPACITY": 0,
                  "ADA_COMPLIANT": " ",
                  "WHEELCHAIR_ACCESSIBLE": " ",
                  "PET_ACCOMMODATIONS_CODE": " ",
                  "PET_ACCOMMODATIONS_DESC": " ",
                  "GENERATOR_ONSITE": "YES",
                  "SELF_SUFFICIENT_ELECTRICITY": "YES",
                  "LATITUDE": 42.35652328,
                  "LONGITUDE": -71.06955935,
                  "IN_100_YR_FLOODPLAIN": " ",
                  "IN_500_YR_FLOODPLAIN": " ",
                  "IN_SURGE_SLOSH_AREA": " ",
                  "PRE_LANDFALL_SHELTER": " ",
                  "SHELTER_CODE": "GENERAL",
                  "ORG_ORGANIZATION_ID": 121580,
                  "ORG_ORGANIZATION_NAME": "MASSACHUSETTS BAY",
                  "ORG_MAIN_PHONE": " ",
                  "ORG_FAX": " ",
                  "ORG_EMAIL": " ",
                  "ORG_HOTLINE_PHONE": " ",
                  "ORG_OTHER_PHONE": " ",
                  "ORG_ADDRESS": "139 MAIN STREET",
                  "ORG_CITY": "CAMBRIDGE",
                  "ORG_STATE": "MA",
                  "ORG_ZIP": "2142",
                  "ORG_POC_NAME": " ",
                  "ORG_POC_PHONE": " ",
                  "ORG_POC_AFTER_HOURS_PHONE": " ",
                  "ORG_POC_EMAIL": " ",
                  "ORG_HOURS_OF_OPERATION": "5-Aug",
                  "POPULATION_CODE": "GENERAL",
                  "INCIDENT_ID": "nan",
                  "SHELTER_STATUS_CODE": "CLOSED",
                  "SHELTER_OPEN_DATE": "NaT",
                  "SHELTER_CLOSED_DATE": "NaT",
                  "REPORTING_PERIOD": "None",
                  "GENERAL_POPULATION": "nan",
                  "MEDICAL_NEEDS_POPULATION": "nan",
                  "OTHER_POPULATION": "nan",
                  "OTHER_POPULATION_DESCRIPTION": "None",
                  "TOTAL_POPULATION": "nan",
                  "PET_POPULATION": "nan",
                  "INCIDENT_NUMBER": "None",
                  "INCIDENT_NAME": "None",
                  "INCIDENT_CODE": "None",
                  "OBJECTID": 6719,
                  "SCORE": 81,
                  "STATUS": "T",
                  "MATCH_TYPE": "A",
                  "LOC_NAME": "Street",
                  "GEOX": -71.06955935,
                  "GEOY": 42.35652328,
                  "FACILITY_TYPE": "SHELTER",
                  "SUBFACILITY_CODE": "GENPOPSHEL",
                  "DATA_SOURCE_ID": 0,
                  "geometry": "POINT (-71.06955935299999 42.356523277)",
                  "_deepnote_index_column": 220
                },
                {
                  "SHELTER_ID": 119180,
                  "SHELTER_NAME": "Sumner Avenue School",
                  "ADDRESS_1": "45 SUMNER AVE",
                  "CITY": "SPRINGFIELD",
                  "COUNTY_PARISH": "HAMPDEN",
                  "FIPS_CODE": " ",
                  "STATE": "MA",
                  "ZIP": "01108",
                  "MAIL_ADDR_SAME_AS_PHYS_ADDR": "YES",
                  "MAILING_ADDRESS_1": " ",
                  "MAILING_ADDRESS_2": " ",
                  "MAILING_CITY": " ",
                  "MAILING_COUNTY_PARISH": " ",
                  "MAILING_STATE": " ",
                  "MAILING_ZIP": " ",
                  "FACILITY_USAGE_CODE": "POST",
                  "EVACUATION_CAPACITY": 1350,
                  "POST_IMPACT_CAPACITY": 684,
                  "ADA_COMPLIANT": " ",
                  "WHEELCHAIR_ACCESSIBLE": " ",
                  "PET_ACCOMMODATIONS_CODE": " ",
                  "PET_ACCOMMODATIONS_DESC": " ",
                  "GENERATOR_ONSITE": "YES",
                  "SELF_SUFFICIENT_ELECTRICITY": " ",
                  "LATITUDE": 42.08291354,
                  "LONGITUDE": -72.57467369,
                  "IN_100_YR_FLOODPLAIN": " ",
                  "IN_500_YR_FLOODPLAIN": " ",
                  "IN_SURGE_SLOSH_AREA": " ",
                  "PRE_LANDFALL_SHELTER": " ",
                  "SHELTER_CODE": "GENERAL",
                  "ORG_ORGANIZATION_ID": 121729,
                  "ORG_ORGANIZATION_NAME": "PIONEER VALLEY CHAPTER (MA)",
                  "ORG_MAIN_PHONE": " ",
                  "ORG_FAX": " ",
                  "ORG_EMAIL": " ",
                  "ORG_HOTLINE_PHONE": " ",
                  "ORG_OTHER_PHONE": " ",
                  "ORG_ADDRESS": "506 Cottage Street",
                  "ORG_CITY": "SPRINGFIELD",
                  "ORG_STATE": "MA",
                  "ORG_ZIP": "1104",
                  "ORG_POC_NAME": " ",
                  "ORG_POC_PHONE": " ",
                  "ORG_POC_AFTER_HOURS_PHONE": " ",
                  "ORG_POC_EMAIL": " ",
                  "ORG_HOURS_OF_OPERATION": " ",
                  "POPULATION_CODE": "GENERAL",
                  "INCIDENT_ID": 0,
                  "SHELTER_STATUS_CODE": "CLOSED",
                  "SHELTER_OPEN_DATE": "NaT",
                  "SHELTER_CLOSED_DATE": "NaT",
                  "REPORTING_PERIOD": " ",
                  "GENERAL_POPULATION": 0,
                  "MEDICAL_NEEDS_POPULATION": 0,
                  "OTHER_POPULATION": 0,
                  "OTHER_POPULATION_DESCRIPTION": " ",
                  "TOTAL_POPULATION": 0,
                  "PET_POPULATION": 0,
                  "INCIDENT_NUMBER": " ",
                  "INCIDENT_NAME": " ",
                  "INCIDENT_CODE": " ",
                  "OBJECTID": 6761,
                  "SCORE": 81,
                  "STATUS": "M",
                  "MATCH_TYPE": "A",
                  "LOC_NAME": "Street",
                  "GEOX": -72.57467369,
                  "GEOY": 42.08291354,
                  "FACILITY_TYPE": "SHELTER",
                  "SUBFACILITY_CODE": "GENPOPSHEL",
                  "DATA_SOURCE_ID": 0,
                  "geometry": "POINT (-72.57467369400001 42.08291354300002)",
                  "_deepnote_index_column": 221
                },
                {
                  "SHELTER_ID": 119841,
                  "SHELTER_NAME": "Dover Sherborn High School",
                  "ADDRESS_1": "9 Junction Street",
                  "CITY": "DOVER",
                  "COUNTY_PARISH": "NORFOLK",
                  "FIPS_CODE": " ",
                  "STATE": "MA",
                  "ZIP": "02030",
                  "MAIL_ADDR_SAME_AS_PHYS_ADDR": "YES",
                  "MAILING_ADDRESS_1": " ",
                  "MAILING_ADDRESS_2": " ",
                  "MAILING_CITY": " ",
                  "MAILING_COUNTY_PARISH": " ",
                  "MAILING_STATE": " ",
                  "MAILING_ZIP": " ",
                  "FACILITY_USAGE_CODE": "POST",
                  "EVACUATION_CAPACITY": 136,
                  "POST_IMPACT_CAPACITY": 623,
                  "ADA_COMPLIANT": " ",
                  "WHEELCHAIR_ACCESSIBLE": "YES",
                  "PET_ACCOMMODATIONS_CODE": " ",
                  "PET_ACCOMMODATIONS_DESC": " ",
                  "GENERATOR_ONSITE": "YES",
                  "SELF_SUFFICIENT_ELECTRICITY": " ",
                  "LATITUDE": 42.21875614,
                  "LONGITUDE": -71.32111771,
                  "IN_100_YR_FLOODPLAIN": " ",
                  "IN_500_YR_FLOODPLAIN": " ",
                  "IN_SURGE_SLOSH_AREA": " ",
                  "PRE_LANDFALL_SHELTER": " ",
                  "SHELTER_CODE": "GENERAL",
                  "ORG_ORGANIZATION_ID": 121580,
                  "ORG_ORGANIZATION_NAME": "MASSACHUSETTS BAY",
                  "ORG_MAIN_PHONE": " ",
                  "ORG_FAX": " ",
                  "ORG_EMAIL": " ",
                  "ORG_HOTLINE_PHONE": " ",
                  "ORG_OTHER_PHONE": " ",
                  "ORG_ADDRESS": "139 MAIN STREET",
                  "ORG_CITY": "CAMBRIDGE",
                  "ORG_STATE": "MA",
                  "ORG_ZIP": "2142",
                  "ORG_POC_NAME": " ",
                  "ORG_POC_PHONE": " ",
                  "ORG_POC_AFTER_HOURS_PHONE": " ",
                  "ORG_POC_EMAIL": " ",
                  "ORG_HOURS_OF_OPERATION": "5-Aug",
                  "POPULATION_CODE": "GENERAL",
                  "INCIDENT_ID": "nan",
                  "SHELTER_STATUS_CODE": "CLOSED",
                  "SHELTER_OPEN_DATE": "NaT",
                  "SHELTER_CLOSED_DATE": "NaT",
                  "REPORTING_PERIOD": "None",
                  "GENERAL_POPULATION": "nan",
                  "MEDICAL_NEEDS_POPULATION": "nan",
                  "OTHER_POPULATION": "nan",
                  "OTHER_POPULATION_DESCRIPTION": "None",
                  "TOTAL_POPULATION": "nan",
                  "PET_POPULATION": "nan",
                  "INCIDENT_NUMBER": "None",
                  "INCIDENT_NAME": "None",
                  "INCIDENT_CODE": "None",
                  "OBJECTID": 6768,
                  "SCORE": 81,
                  "STATUS": "M",
                  "MATCH_TYPE": "A",
                  "LOC_NAME": "Street",
                  "GEOX": -71.32111771,
                  "GEOY": 42.21875614,
                  "FACILITY_TYPE": "SHELTER",
                  "SUBFACILITY_CODE": "GENPOPSHEL",
                  "DATA_SOURCE_ID": 0,
                  "geometry": "POINT (-71.321117711 42.218756136000025)",
                  "_deepnote_index_column": 222
                },
                {
                  "SHELTER_ID": 119067,
                  "SHELTER_NAME": "White Brook Middle School",
                  "ADDRESS_1": "200 Park Street",
                  "CITY": "EASTHAMPTON",
                  "COUNTY_PARISH": "HAMPSHIRE",
                  "FIPS_CODE": " ",
                  "STATE": "MA",
                  "ZIP": "01027",
                  "MAIL_ADDR_SAME_AS_PHYS_ADDR": "NO",
                  "MAILING_ADDRESS_1": " ",
                  "MAILING_ADDRESS_2": " ",
                  "MAILING_CITY": " ",
                  "MAILING_COUNTY_PARISH": " ",
                  "MAILING_STATE": " ",
                  "MAILING_ZIP": " ",
                  "FACILITY_USAGE_CODE": "EVAC",
                  "EVACUATION_CAPACITY": 397,
                  "POST_IMPACT_CAPACITY": 200,
                  "ADA_COMPLIANT": " ",
                  "WHEELCHAIR_ACCESSIBLE": "YES",
                  "PET_ACCOMMODATIONS_CODE": " ",
                  "PET_ACCOMMODATIONS_DESC": " ",
                  "GENERATOR_ONSITE": " ",
                  "SELF_SUFFICIENT_ELECTRICITY": "YES",
                  "LATITUDE": 42.25114972,
                  "LONGITUDE": -72.67899505,
                  "IN_100_YR_FLOODPLAIN": " ",
                  "IN_500_YR_FLOODPLAIN": " ",
                  "IN_SURGE_SLOSH_AREA": " ",
                  "PRE_LANDFALL_SHELTER": " ",
                  "SHELTER_CODE": "GENERAL",
                  "ORG_ORGANIZATION_ID": 121729,
                  "ORG_ORGANIZATION_NAME": "PIONEER VALLEY CHAPTER (MA)",
                  "ORG_MAIN_PHONE": " ",
                  "ORG_FAX": " ",
                  "ORG_EMAIL": " ",
                  "ORG_HOTLINE_PHONE": " ",
                  "ORG_OTHER_PHONE": " ",
                  "ORG_ADDRESS": "506 Cottage Street",
                  "ORG_CITY": "SPRINGFIELD",
                  "ORG_STATE": "MA",
                  "ORG_ZIP": "1104",
                  "ORG_POC_NAME": " ",
                  "ORG_POC_PHONE": " ",
                  "ORG_POC_AFTER_HOURS_PHONE": " ",
                  "ORG_POC_EMAIL": " ",
                  "ORG_HOURS_OF_OPERATION": " ",
                  "POPULATION_CODE": "GENERAL",
                  "INCIDENT_ID": "nan",
                  "SHELTER_STATUS_CODE": "CLOSED",
                  "SHELTER_OPEN_DATE": "NaT",
                  "SHELTER_CLOSED_DATE": "NaT",
                  "REPORTING_PERIOD": "None",
                  "GENERAL_POPULATION": "nan",
                  "MEDICAL_NEEDS_POPULATION": "nan",
                  "OTHER_POPULATION": "nan",
                  "OTHER_POPULATION_DESCRIPTION": "None",
                  "TOTAL_POPULATION": "nan",
                  "PET_POPULATION": "nan",
                  "INCIDENT_NUMBER": "None",
                  "INCIDENT_NAME": "None",
                  "INCIDENT_CODE": "None",
                  "OBJECTID": 6772,
                  "SCORE": 81,
                  "STATUS": "M",
                  "MATCH_TYPE": "A",
                  "LOC_NAME": "Street",
                  "GEOX": -72.67899505,
                  "GEOY": 42.25114972,
                  "FACILITY_TYPE": "SHELTER",
                  "SUBFACILITY_CODE": "GENPOPSHEL",
                  "DATA_SOURCE_ID": 0,
                  "geometry": "POINT (-72.67899505000003 42.251149715)",
                  "_deepnote_index_column": 223
                },
                {
                  "SHELTER_ID": 119071,
                  "SHELTER_NAME": "Whately Elementary School",
                  "ADDRESS_1": "273 LONG PLAIN RD",
                  "CITY": "SOUTH DEERFIELD",
                  "COUNTY_PARISH": "FRANKLIN",
                  "FIPS_CODE": " ",
                  "STATE": "MA",
                  "ZIP": "01373",
                  "MAIL_ADDR_SAME_AS_PHYS_ADDR": "NO",
                  "MAILING_ADDRESS_1": " ",
                  "MAILING_ADDRESS_2": " ",
                  "MAILING_CITY": " ",
                  "MAILING_COUNTY_PARISH": " ",
                  "MAILING_STATE": " ",
                  "MAILING_ZIP": " ",
                  "FACILITY_USAGE_CODE": "EVAC",
                  "EVACUATION_CAPACITY": 50,
                  "POST_IMPACT_CAPACITY": 0,
                  "ADA_COMPLIANT": " ",
                  "WHEELCHAIR_ACCESSIBLE": " ",
                  "PET_ACCOMMODATIONS_CODE": " ",
                  "PET_ACCOMMODATIONS_DESC": " ",
                  "GENERATOR_ONSITE": " ",
                  "SELF_SUFFICIENT_ELECTRICITY": " ",
                  "LATITUDE": 42.44740876,
                  "LONGITUDE": -72.60387468,
                  "IN_100_YR_FLOODPLAIN": " ",
                  "IN_500_YR_FLOODPLAIN": " ",
                  "IN_SURGE_SLOSH_AREA": " ",
                  "PRE_LANDFALL_SHELTER": " ",
                  "SHELTER_CODE": "GENERAL",
                  "ORG_ORGANIZATION_ID": 121655,
                  "ORG_ORGANIZATION_NAME": "NORTH CENTRAL MASSACHUSETTS",
                  "ORG_MAIN_PHONE": " ",
                  "ORG_FAX": " ",
                  "ORG_EMAIL": " ",
                  "ORG_HOTLINE_PHONE": " ",
                  "ORG_OTHER_PHONE": " ",
                  "ORG_ADDRESS": "114 MERRIAM AVE",
                  "ORG_CITY": "LEOMINSTER",
                  "ORG_STATE": "MA",
                  "ORG_ZIP": "1453",
                  "ORG_POC_NAME": " ",
                  "ORG_POC_PHONE": " ",
                  "ORG_POC_AFTER_HOURS_PHONE": " ",
                  "ORG_POC_EMAIL": " ",
                  "ORG_HOURS_OF_OPERATION": "8",
                  "POPULATION_CODE": "GENERAL",
                  "INCIDENT_ID": 0,
                  "SHELTER_STATUS_CODE": "CLOSED",
                  "SHELTER_OPEN_DATE": "NaT",
                  "SHELTER_CLOSED_DATE": "NaT",
                  "REPORTING_PERIOD": " ",
                  "GENERAL_POPULATION": 0,
                  "MEDICAL_NEEDS_POPULATION": 0,
                  "OTHER_POPULATION": 0,
                  "OTHER_POPULATION_DESCRIPTION": " ",
                  "TOTAL_POPULATION": 0,
                  "PET_POPULATION": 0,
                  "INCIDENT_NUMBER": " ",
                  "INCIDENT_NAME": " ",
                  "INCIDENT_CODE": " ",
                  "OBJECTID": 6773,
                  "SCORE": 81,
                  "STATUS": "M",
                  "MATCH_TYPE": "A",
                  "LOC_NAME": "Street",
                  "GEOX": -72.60387468,
                  "GEOY": 42.44740876,
                  "FACILITY_TYPE": "SHELTER",
                  "SUBFACILITY_CODE": "GENPOPSHEL",
                  "DATA_SOURCE_ID": 0,
                  "geometry": "POINT (-72.60387468099998 42.447408762)",
                  "_deepnote_index_column": 224
                },
                {
                  "SHELTER_ID": 71960,
                  "SHELTER_NAME": "York Senior Center",
                  "ADDRESS_1": "36 Main St.",
                  "CITY": "YORK",
                  "COUNTY_PARISH": "YORK",
                  "FIPS_CODE": " ",
                  "STATE": "ME",
                  "ZIP": "03909",
                  "MAIL_ADDR_SAME_AS_PHYS_ADDR": "YES",
                  "MAILING_ADDRESS_1": "36 Main St.",
                  "MAILING_ADDRESS_2": " ",
                  "MAILING_CITY": "YORK",
                  "MAILING_COUNTY_PARISH": " ",
                  "MAILING_STATE": "ME",
                  "MAILING_ZIP": "3909",
                  "FACILITY_USAGE_CODE": "EVAC",
                  "EVACUATION_CAPACITY": 73,
                  "POST_IMPACT_CAPACITY": 36,
                  "ADA_COMPLIANT": " ",
                  "WHEELCHAIR_ACCESSIBLE": "YES",
                  "PET_ACCOMMODATIONS_CODE": " ",
                  "PET_ACCOMMODATIONS_DESC": " ",
                  "GENERATOR_ONSITE": "YES",
                  "SELF_SUFFICIENT_ELECTRICITY": "YES",
                  "LATITUDE": 43.17581464,
                  "LONGITUDE": -70.61076123,
                  "IN_100_YR_FLOODPLAIN": " ",
                  "IN_500_YR_FLOODPLAIN": " ",
                  "IN_SURGE_SLOSH_AREA": " ",
                  "PRE_LANDFALL_SHELTER": " ",
                  "SHELTER_CODE": "OTHER",
                  "ORG_ORGANIZATION_ID": 119278,
                  "ORG_ORGANIZATION_NAME": "SOUTHERN MAINE CHAPTER",
                  "ORG_MAIN_PHONE": "2078741192",
                  "ORG_FAX": "2078741976",
                  "ORG_EMAIL": "PREPAREME@USA.REDCROSS.ORG",
                  "ORG_HOTLINE_PHONE": " ",
                  "ORG_OTHER_PHONE": " ",
                  "ORG_ADDRESS": "2401 CONGRESS ST",
                  "ORG_CITY": "PORTLAND",
                  "ORG_STATE": "ME",
                  "ORG_ZIP": "4102",
                  "ORG_POC_NAME": " ",
                  "ORG_POC_PHONE": " ",
                  "ORG_POC_AFTER_HOURS_PHONE": " ",
                  "ORG_POC_EMAIL": "PREPAREME@USA.REDCROSS.ORG",
                  "ORG_HOURS_OF_OPERATION": "8",
                  "POPULATION_CODE": "OTHER",
                  "INCIDENT_ID": "nan",
                  "SHELTER_STATUS_CODE": "CLOSED",
                  "SHELTER_OPEN_DATE": "NaT",
                  "SHELTER_CLOSED_DATE": "NaT",
                  "REPORTING_PERIOD": "None",
                  "GENERAL_POPULATION": "nan",
                  "MEDICAL_NEEDS_POPULATION": "nan",
                  "OTHER_POPULATION": "nan",
                  "OTHER_POPULATION_DESCRIPTION": "None",
                  "TOTAL_POPULATION": "nan",
                  "PET_POPULATION": "nan",
                  "INCIDENT_NUMBER": "None",
                  "INCIDENT_NAME": "None",
                  "INCIDENT_CODE": "None",
                  "OBJECTID": 6775,
                  "SCORE": 81,
                  "STATUS": "M",
                  "MATCH_TYPE": "A",
                  "LOC_NAME": "Street",
                  "GEOX": -70.61076123,
                  "GEOY": 43.17581464,
                  "FACILITY_TYPE": "SHELTER",
                  "SUBFACILITY_CODE": "GENPOPSHEL",
                  "DATA_SOURCE_ID": 0,
                  "geometry": "POINT (-70.61076122600002 43.175814639)",
                  "_deepnote_index_column": 225
                },
                {
                  "SHELTER_ID": 71772,
                  "SHELTER_NAME": "Marcia Buker School",
                  "ADDRESS_1": "20 High Street",
                  "CITY": "RICHMOND",
                  "COUNTY_PARISH": "SAGADAHOC",
                  "FIPS_CODE": " ",
                  "STATE": "ME",
                  "ZIP": "04357",
                  "MAIL_ADDR_SAME_AS_PHYS_ADDR": "NO",
                  "MAILING_ADDRESS_1": " ",
                  "MAILING_ADDRESS_2": " ",
                  "MAILING_CITY": " ",
                  "MAILING_COUNTY_PARISH": " ",
                  "MAILING_STATE": " ",
                  "MAILING_ZIP": " ",
                  "FACILITY_USAGE_CODE": "EVAC",
                  "EVACUATION_CAPACITY": 0,
                  "POST_IMPACT_CAPACITY": 0,
                  "ADA_COMPLIANT": " ",
                  "WHEELCHAIR_ACCESSIBLE": " ",
                  "PET_ACCOMMODATIONS_CODE": " ",
                  "PET_ACCOMMODATIONS_DESC": " ",
                  "GENERATOR_ONSITE": " ",
                  "SELF_SUFFICIENT_ELECTRICITY": " ",
                  "LATITUDE": 44.0878351,
                  "LONGITUDE": -69.80607486,
                  "IN_100_YR_FLOODPLAIN": " ",
                  "IN_500_YR_FLOODPLAIN": " ",
                  "IN_SURGE_SLOSH_AREA": " ",
                  "PRE_LANDFALL_SHELTER": " ",
                  "SHELTER_CODE": "GENERAL",
                  "ORG_ORGANIZATION_ID": 119280,
                  "ORG_ORGANIZATION_NAME": "UNITED VALLEY",
                  "ORG_MAIN_PHONE": "2077954004",
                  "ORG_FAX": "2077954037",
                  "ORG_EMAIL": "redcross@exploremaine.com",
                  "ORG_HOTLINE_PHONE": " ",
                  "ORG_OTHER_PHONE": " ",
                  "ORG_ADDRESS": "1180 Lisbon Street",
                  "ORG_CITY": "Lewiston",
                  "ORG_STATE": "ME",
                  "ORG_ZIP": "4240",
                  "ORG_POC_NAME": " ",
                  "ORG_POC_PHONE": " ",
                  "ORG_POC_AFTER_HOURS_PHONE": " ",
                  "ORG_POC_EMAIL": "redcross@exploremaine.com",
                  "ORG_HOURS_OF_OPERATION": "8:00 am -4:00 pm",
                  "POPULATION_CODE": "GENERAL",
                  "INCIDENT_ID": "nan",
                  "SHELTER_STATUS_CODE": "CLOSED",
                  "SHELTER_OPEN_DATE": "NaT",
                  "SHELTER_CLOSED_DATE": "NaT",
                  "REPORTING_PERIOD": "None",
                  "GENERAL_POPULATION": "nan",
                  "MEDICAL_NEEDS_POPULATION": "nan",
                  "OTHER_POPULATION": "nan",
                  "OTHER_POPULATION_DESCRIPTION": "None",
                  "TOTAL_POPULATION": "nan",
                  "PET_POPULATION": "nan",
                  "INCIDENT_NUMBER": "None",
                  "INCIDENT_NAME": "None",
                  "INCIDENT_CODE": "None",
                  "OBJECTID": 6776,
                  "SCORE": 81,
                  "STATUS": "M",
                  "MATCH_TYPE": "A",
                  "LOC_NAME": "Street",
                  "GEOX": -69.80607486,
                  "GEOY": 44.0878351,
                  "FACILITY_TYPE": "SHELTER",
                  "SUBFACILITY_CODE": "GENPOPSHEL",
                  "DATA_SOURCE_ID": 0,
                  "geometry": "POINT (-69.80607485500002 44.087835096)",
                  "_deepnote_index_column": 226
                },
                {
                  "SHELTER_ID": 119312,
                  "SHELTER_NAME": "Reingold Elementary School",
                  "ADDRESS_1": "70 Reingold Avenue",
                  "CITY": "FITCHBURG",
                  "COUNTY_PARISH": "WORCESTER",
                  "FIPS_CODE": " ",
                  "STATE": "MA",
                  "ZIP": "01420",
                  "MAIL_ADDR_SAME_AS_PHYS_ADDR": "YES",
                  "MAILING_ADDRESS_1": " ",
                  "MAILING_ADDRESS_2": " ",
                  "MAILING_CITY": " ",
                  "MAILING_COUNTY_PARISH": " ",
                  "MAILING_STATE": " ",
                  "MAILING_ZIP": " ",
                  "FACILITY_USAGE_CODE": "POST",
                  "EVACUATION_CAPACITY": 0,
                  "POST_IMPACT_CAPACITY": 118,
                  "ADA_COMPLIANT": " ",
                  "WHEELCHAIR_ACCESSIBLE": " ",
                  "PET_ACCOMMODATIONS_CODE": " ",
                  "PET_ACCOMMODATIONS_DESC": " ",
                  "GENERATOR_ONSITE": " ",
                  "SELF_SUFFICIENT_ELECTRICITY": " ",
                  "LATITUDE": 42.57115547,
                  "LONGITUDE": -71.82925264,
                  "IN_100_YR_FLOODPLAIN": " ",
                  "IN_500_YR_FLOODPLAIN": " ",
                  "IN_SURGE_SLOSH_AREA": "NO",
                  "PRE_LANDFALL_SHELTER": " ",
                  "SHELTER_CODE": "OTHER",
                  "ORG_ORGANIZATION_ID": 121265,
                  "ORG_ORGANIZATION_NAME": "CENTRAL MASSACHUETTS",
                  "ORG_MAIN_PHONE": " ",
                  "ORG_FAX": " ",
                  "ORG_EMAIL": " ",
                  "ORG_HOTLINE_PHONE": " ",
                  "ORG_OTHER_PHONE": " ",
                  "ORG_ADDRESS": "2000 CENTURY DR",
                  "ORG_CITY": "WORCESTER",
                  "ORG_STATE": "MA",
                  "ORG_ZIP": "1606",
                  "ORG_POC_NAME": " ",
                  "ORG_POC_PHONE": " ",
                  "ORG_POC_AFTER_HOURS_PHONE": " ",
                  "ORG_POC_EMAIL": " ",
                  "ORG_HOURS_OF_OPERATION": "8",
                  "POPULATION_CODE": "OTHER",
                  "INCIDENT_ID": "nan",
                  "SHELTER_STATUS_CODE": "CLOSED",
                  "SHELTER_OPEN_DATE": "NaT",
                  "SHELTER_CLOSED_DATE": "NaT",
                  "REPORTING_PERIOD": "None",
                  "GENERAL_POPULATION": "nan",
                  "MEDICAL_NEEDS_POPULATION": "nan",
                  "OTHER_POPULATION": "nan",
                  "OTHER_POPULATION_DESCRIPTION": "None",
                  "TOTAL_POPULATION": "nan",
                  "PET_POPULATION": "nan",
                  "INCIDENT_NUMBER": "None",
                  "INCIDENT_NAME": "None",
                  "INCIDENT_CODE": "None",
                  "OBJECTID": 6780,
                  "SCORE": 81,
                  "STATUS": "M",
                  "MATCH_TYPE": "A",
                  "LOC_NAME": "Street",
                  "GEOX": -71.82925264,
                  "GEOY": 42.57115547,
                  "FACILITY_TYPE": "SHELTER",
                  "SUBFACILITY_CODE": "GENPOPSHEL",
                  "DATA_SOURCE_ID": 0,
                  "geometry": "POINT (-71.829252644 42.57115547199999)",
                  "_deepnote_index_column": 227
                },
                {
                  "SHELTER_ID": 119313,
                  "SHELTER_NAME": "Reilly Elementary School",
                  "ADDRESS_1": "115 DOUGLAS RD",
                  "CITY": "LOWELL",
                  "COUNTY_PARISH": "MIDDLESEX",
                  "FIPS_CODE": " ",
                  "STATE": "MA",
                  "ZIP": "01852",
                  "MAIL_ADDR_SAME_AS_PHYS_ADDR": "NO",
                  "MAILING_ADDRESS_1": " ",
                  "MAILING_ADDRESS_2": " ",
                  "MAILING_CITY": " ",
                  "MAILING_COUNTY_PARISH": " ",
                  "MAILING_STATE": " ",
                  "MAILING_ZIP": " ",
                  "FACILITY_USAGE_CODE": "EVAC",
                  "EVACUATION_CAPACITY": 500,
                  "POST_IMPACT_CAPACITY": 162,
                  "ADA_COMPLIANT": " ",
                  "WHEELCHAIR_ACCESSIBLE": " ",
                  "PET_ACCOMMODATIONS_CODE": " ",
                  "PET_ACCOMMODATIONS_DESC": " ",
                  "GENERATOR_ONSITE": " ",
                  "SELF_SUFFICIENT_ELECTRICITY": " ",
                  "LATITUDE": 42.6418242,
                  "LONGITUDE": -71.27976688,
                  "IN_100_YR_FLOODPLAIN": " ",
                  "IN_500_YR_FLOODPLAIN": " ",
                  "IN_SURGE_SLOSH_AREA": " ",
                  "PRE_LANDFALL_SHELTER": " ",
                  "SHELTER_CODE": "GENERAL",
                  "ORG_ORGANIZATION_ID": 121592,
                  "ORG_ORGANIZATION_NAME": "MERRIMACK VALLEY",
                  "ORG_MAIN_PHONE": " ",
                  "ORG_FAX": " ",
                  "ORG_EMAIL": " ",
                  "ORG_HOTLINE_PHONE": " ",
                  "ORG_OTHER_PHONE": " ",
                  "ORG_ADDRESS": "177 WARD HILL AVE",
                  "ORG_CITY": "WARD HILL",
                  "ORG_STATE": "MA",
                  "ORG_ZIP": "1835",
                  "ORG_POC_NAME": " ",
                  "ORG_POC_PHONE": " ",
                  "ORG_POC_AFTER_HOURS_PHONE": " ",
                  "ORG_POC_EMAIL": " ",
                  "ORG_HOURS_OF_OPERATION": "9-4:30",
                  "POPULATION_CODE": "GENERAL",
                  "INCIDENT_ID": 0,
                  "SHELTER_STATUS_CODE": "CLOSED",
                  "SHELTER_OPEN_DATE": "NaT",
                  "SHELTER_CLOSED_DATE": "NaT",
                  "REPORTING_PERIOD": " ",
                  "GENERAL_POPULATION": 0,
                  "MEDICAL_NEEDS_POPULATION": 0,
                  "OTHER_POPULATION": 0,
                  "OTHER_POPULATION_DESCRIPTION": " ",
                  "TOTAL_POPULATION": 0,
                  "PET_POPULATION": 0,
                  "INCIDENT_NUMBER": " ",
                  "INCIDENT_NAME": " ",
                  "INCIDENT_CODE": " ",
                  "OBJECTID": 6781,
                  "SCORE": 81,
                  "STATUS": "M",
                  "MATCH_TYPE": "A",
                  "LOC_NAME": "Street",
                  "GEOX": -71.27976688,
                  "GEOY": 42.6418242,
                  "FACILITY_TYPE": "SHELTER",
                  "SUBFACILITY_CODE": "GENPOPSHEL",
                  "DATA_SOURCE_ID": 0,
                  "geometry": "POINT (-71.27976688400003 42.641824198)",
                  "_deepnote_index_column": 228
                },
                {
                  "SHELTER_ID": 120022,
                  "SHELTER_NAME": "Beebe School",
                  "ADDRESS_1": "403 PLEASANT ST",
                  "CITY": "MALDEN",
                  "COUNTY_PARISH": "MIDDLESEX",
                  "FIPS_CODE": " ",
                  "STATE": "MA",
                  "ZIP": "02148",
                  "MAIL_ADDR_SAME_AS_PHYS_ADDR": "NO",
                  "MAILING_ADDRESS_1": " ",
                  "MAILING_ADDRESS_2": " ",
                  "MAILING_CITY": " ",
                  "MAILING_COUNTY_PARISH": " ",
                  "MAILING_STATE": " ",
                  "MAILING_ZIP": " ",
                  "FACILITY_USAGE_CODE": "POST",
                  "EVACUATION_CAPACITY": 2499,
                  "POST_IMPACT_CAPACITY": 936,
                  "ADA_COMPLIANT": " ",
                  "WHEELCHAIR_ACCESSIBLE": "YES",
                  "PET_ACCOMMODATIONS_CODE": " ",
                  "PET_ACCOMMODATIONS_DESC": " ",
                  "GENERATOR_ONSITE": "YES",
                  "SELF_SUFFICIENT_ELECTRICITY": "YES",
                  "LATITUDE": 42.42690422,
                  "LONGITUDE": -71.07829177,
                  "IN_100_YR_FLOODPLAIN": " ",
                  "IN_500_YR_FLOODPLAIN": " ",
                  "IN_SURGE_SLOSH_AREA": " ",
                  "PRE_LANDFALL_SHELTER": " ",
                  "SHELTER_CODE": "GENERAL",
                  "ORG_ORGANIZATION_ID": 121580,
                  "ORG_ORGANIZATION_NAME": "MASSACHUSETTS BAY",
                  "ORG_MAIN_PHONE": " ",
                  "ORG_FAX": " ",
                  "ORG_EMAIL": " ",
                  "ORG_HOTLINE_PHONE": " ",
                  "ORG_OTHER_PHONE": " ",
                  "ORG_ADDRESS": "139 MAIN STREET",
                  "ORG_CITY": "CAMBRIDGE",
                  "ORG_STATE": "MA",
                  "ORG_ZIP": "2142",
                  "ORG_POC_NAME": " ",
                  "ORG_POC_PHONE": " ",
                  "ORG_POC_AFTER_HOURS_PHONE": " ",
                  "ORG_POC_EMAIL": " ",
                  "ORG_HOURS_OF_OPERATION": "5-Aug",
                  "POPULATION_CODE": "GENERAL",
                  "INCIDENT_ID": "nan",
                  "SHELTER_STATUS_CODE": "CLOSED",
                  "SHELTER_OPEN_DATE": "NaT",
                  "SHELTER_CLOSED_DATE": "NaT",
                  "REPORTING_PERIOD": "None",
                  "GENERAL_POPULATION": "nan",
                  "MEDICAL_NEEDS_POPULATION": "nan",
                  "OTHER_POPULATION": "nan",
                  "OTHER_POPULATION_DESCRIPTION": "None",
                  "TOTAL_POPULATION": "nan",
                  "PET_POPULATION": "nan",
                  "INCIDENT_NUMBER": "None",
                  "INCIDENT_NAME": "None",
                  "INCIDENT_CODE": "None",
                  "OBJECTID": 6782,
                  "SCORE": 81,
                  "STATUS": "M",
                  "MATCH_TYPE": "A",
                  "LOC_NAME": "Street",
                  "GEOX": -71.07829177,
                  "GEOY": 42.42690422,
                  "FACILITY_TYPE": "SHELTER",
                  "SUBFACILITY_CODE": "GENPOPSHEL",
                  "DATA_SOURCE_ID": 0,
                  "geometry": "POINT (-71.07829177000002 42.426904219)",
                  "_deepnote_index_column": 229
                }
              ],
              "type": "dataframe"
            },
            "text/plain": "      SHELTER_ID                                  SHELTER_NAME  \\\n0         218372                          Chazy Central School   \n1         183805                           Ansonia High School   \n2         184071                          GRANBY MIDDLE SCHOOL   \n3         119033                       Worcester Senior Center   \n4          71719                      Jefferson Village School   \n...          ...                                           ...   \n4580      365208                            Conard High School   \n4581      365254                          Lewiston High School   \n4582      365358        Weymouth High School (Regional Center)   \n4583      365363                           Holy Trinity Church   \n4584      365382  John A. Millar Civic Center - Community Room   \n\n                ADDRESS_1           CITY COUNTY_PARISH FIPS_CODE STATE    ZIP  \\\n0     609 Miner Farm Road          CHAZY       CLINTON              NY  12921   \n1          20 Pulaski Hwy        Ansonia     NEW HAVEN              CT   6401   \n2     321 SALMON BROOK ST         GRANBY      HARTFORD              CT  06035   \n3       128 PROVIDENCE ST      WORCESTER     WORCESTER              MA  01604   \n4        48 Washington Rd      JEFFERSON       LINCOLN              ME  04348   \n...                   ...            ...           ...       ...   ...    ...   \n4580      100 Beecwood Rd  West Hartford      Hartford      None    CT   6106   \n4581         156 East Ave       Lewiston  Androscoggin      None    ME   4240   \n4582        1 Wildcat Way       Weymouth       Norfolk      None    MA   2190   \n4583        1409 Park Ave     Woonsocket    Providence      None    RI   2895   \n4584    94 Randall Avenue        Houlton     Aroostook      None    ME   4730   \n\n     MAIL_ADDR_SAME_AS_PHYS_ADDR MAILING_ADDRESS_1  ...  SCORE STATUS  \\\n0                            YES                    ...  100.0      M   \n1                            YES                    ...   81.0      M   \n2                             NO                    ...   81.0      M   \n3                             NO                    ...   81.0      M   \n4                             NO           Box 260  ...   81.0      M   \n...                          ...               ...  ...    ...    ...   \n4580                        None              None  ...    NaN   None   \n4581                        None              None  ...    NaN   None   \n4582                        None              None  ...    NaN   None   \n4583                        None              None  ...    NaN   None   \n4584                        None              None  ...    NaN   None   \n\n     MATCH_TYPE LOC_NAME       GEOX       GEOY  FACILITY_TYPE  \\\n0             A   Street -73.433769  44.887701        SHELTER   \n1             A   Street -73.064238  41.329884        SHELTER   \n2             A   Street -72.790043  41.956001        SHELTER   \n3             A   Street -71.792237  42.247570        SHELTER   \n4             A   Street -69.432074  44.222706        SHELTER   \n...         ...      ...        ...        ...            ...   \n4580       None   Street -72.752085  41.735502        SHELTER   \n4581       None   Street -70.202282  44.093143        SHELTER   \n4582       None   Street -70.942783  42.182527        SHELTER   \n4583       None   Street -71.516473  41.984584        SHELTER   \n4584       None   Street -67.829881  46.133704        SHELTER   \n\n      SUBFACILITY_CODE DATA_SOURCE_ID                    geometry  \n0           GENPOPSHEL            0.0   POINT (-73.43377 44.8877)  \n1           GENPOPSHEL            0.0  POINT (-73.06424 41.32988)  \n2           GENPOPSHEL            0.0    POINT (-72.79004 41.956)  \n3                OTHER            0.0  POINT (-71.79224 42.24757)  \n4           GENPOPSHEL            0.0  POINT (-69.43207 44.22271)  \n...                ...            ...                         ...  \n4580          EMEREVAC          101.0   POINT (-72.75208 41.7355)  \n4581        GENPOPSHEL          101.0  POINT (-70.20228 44.09314)  \n4582        GENPOPSHEL          101.0  POINT (-70.94278 42.18253)  \n4583        GENPOPSHEL          101.0  POINT (-71.51647 41.98458)  \n4584        GENPOPSHEL          101.0   POINT (-67.82988 46.1337)  \n\n[4585 rows x 73 columns]",
            "text/html": "<div>\n<style scoped>\n    .dataframe tbody tr th:only-of-type {\n        vertical-align: middle;\n    }\n\n    .dataframe tbody tr th {\n        vertical-align: top;\n    }\n\n    .dataframe thead th {\n        text-align: right;\n    }\n</style>\n<table border=\"1\" class=\"dataframe\">\n  <thead>\n    <tr style=\"text-align: right;\">\n      <th></th>\n      <th>SHELTER_ID</th>\n      <th>SHELTER_NAME</th>\n      <th>ADDRESS_1</th>\n      <th>CITY</th>\n      <th>COUNTY_PARISH</th>\n      <th>FIPS_CODE</th>\n      <th>STATE</th>\n      <th>ZIP</th>\n      <th>MAIL_ADDR_SAME_AS_PHYS_ADDR</th>\n      <th>MAILING_ADDRESS_1</th>\n      <th>...</th>\n      <th>SCORE</th>\n      <th>STATUS</th>\n      <th>MATCH_TYPE</th>\n      <th>LOC_NAME</th>\n      <th>GEOX</th>\n      <th>GEOY</th>\n      <th>FACILITY_TYPE</th>\n      <th>SUBFACILITY_CODE</th>\n      <th>DATA_SOURCE_ID</th>\n      <th>geometry</th>\n    </tr>\n  </thead>\n  <tbody>\n    <tr>\n      <th>0</th>\n      <td>218372</td>\n      <td>Chazy Central School</td>\n      <td>609 Miner Farm Road</td>\n      <td>CHAZY</td>\n      <td>CLINTON</td>\n      <td></td>\n      <td>NY</td>\n      <td>12921</td>\n      <td>YES</td>\n      <td></td>\n      <td>...</td>\n      <td>100.0</td>\n      <td>M</td>\n      <td>A</td>\n      <td>Street</td>\n      <td>-73.433769</td>\n      <td>44.887701</td>\n      <td>SHELTER</td>\n      <td>GENPOPSHEL</td>\n      <td>0.0</td>\n      <td>POINT (-73.43377 44.8877)</td>\n    </tr>\n    <tr>\n      <th>1</th>\n      <td>183805</td>\n      <td>Ansonia High School</td>\n      <td>20 Pulaski Hwy</td>\n      <td>Ansonia</td>\n      <td>NEW HAVEN</td>\n      <td></td>\n      <td>CT</td>\n      <td>6401</td>\n      <td>YES</td>\n      <td></td>\n      <td>...</td>\n      <td>81.0</td>\n      <td>M</td>\n      <td>A</td>\n      <td>Street</td>\n      <td>-73.064238</td>\n      <td>41.329884</td>\n      <td>SHELTER</td>\n      <td>GENPOPSHEL</td>\n      <td>0.0</td>\n      <td>POINT (-73.06424 41.32988)</td>\n    </tr>\n    <tr>\n      <th>2</th>\n      <td>184071</td>\n      <td>GRANBY MIDDLE SCHOOL</td>\n      <td>321 SALMON BROOK ST</td>\n      <td>GRANBY</td>\n      <td>HARTFORD</td>\n      <td></td>\n      <td>CT</td>\n      <td>06035</td>\n      <td>NO</td>\n      <td></td>\n      <td>...</td>\n      <td>81.0</td>\n      <td>M</td>\n      <td>A</td>\n      <td>Street</td>\n      <td>-72.790043</td>\n      <td>41.956001</td>\n      <td>SHELTER</td>\n      <td>GENPOPSHEL</td>\n      <td>0.0</td>\n      <td>POINT (-72.79004 41.956)</td>\n    </tr>\n    <tr>\n      <th>3</th>\n      <td>119033</td>\n      <td>Worcester Senior Center</td>\n      <td>128 PROVIDENCE ST</td>\n      <td>WORCESTER</td>\n      <td>WORCESTER</td>\n      <td></td>\n      <td>MA</td>\n      <td>01604</td>\n      <td>NO</td>\n      <td></td>\n      <td>...</td>\n      <td>81.0</td>\n      <td>M</td>\n      <td>A</td>\n      <td>Street</td>\n      <td>-71.792237</td>\n      <td>42.247570</td>\n      <td>SHELTER</td>\n      <td>OTHER</td>\n      <td>0.0</td>\n      <td>POINT (-71.79224 42.24757)</td>\n    </tr>\n    <tr>\n      <th>4</th>\n      <td>71719</td>\n      <td>Jefferson Village School</td>\n      <td>48 Washington Rd</td>\n      <td>JEFFERSON</td>\n      <td>LINCOLN</td>\n      <td></td>\n      <td>ME</td>\n      <td>04348</td>\n      <td>NO</td>\n      <td>Box 260</td>\n      <td>...</td>\n      <td>81.0</td>\n      <td>M</td>\n      <td>A</td>\n      <td>Street</td>\n      <td>-69.432074</td>\n      <td>44.222706</td>\n      <td>SHELTER</td>\n      <td>GENPOPSHEL</td>\n      <td>0.0</td>\n      <td>POINT (-69.43207 44.22271)</td>\n    </tr>\n    <tr>\n      <th>...</th>\n      <td>...</td>\n      <td>...</td>\n      <td>...</td>\n      <td>...</td>\n      <td>...</td>\n      <td>...</td>\n      <td>...</td>\n      <td>...</td>\n      <td>...</td>\n      <td>...</td>\n      <td>...</td>\n      <td>...</td>\n      <td>...</td>\n      <td>...</td>\n      <td>...</td>\n      <td>...</td>\n      <td>...</td>\n      <td>...</td>\n      <td>...</td>\n      <td>...</td>\n      <td>...</td>\n    </tr>\n    <tr>\n      <th>4580</th>\n      <td>365208</td>\n      <td>Conard High School</td>\n      <td>100 Beecwood Rd</td>\n      <td>West Hartford</td>\n      <td>Hartford</td>\n      <td>None</td>\n      <td>CT</td>\n      <td>6106</td>\n      <td>None</td>\n      <td>None</td>\n      <td>...</td>\n      <td>NaN</td>\n      <td>None</td>\n      <td>None</td>\n      <td>Street</td>\n      <td>-72.752085</td>\n      <td>41.735502</td>\n      <td>SHELTER</td>\n      <td>EMEREVAC</td>\n      <td>101.0</td>\n      <td>POINT (-72.75208 41.7355)</td>\n    </tr>\n    <tr>\n      <th>4581</th>\n      <td>365254</td>\n      <td>Lewiston High School</td>\n      <td>156 East Ave</td>\n      <td>Lewiston</td>\n      <td>Androscoggin</td>\n      <td>None</td>\n      <td>ME</td>\n      <td>4240</td>\n      <td>None</td>\n      <td>None</td>\n      <td>...</td>\n      <td>NaN</td>\n      <td>None</td>\n      <td>None</td>\n      <td>Street</td>\n      <td>-70.202282</td>\n      <td>44.093143</td>\n      <td>SHELTER</td>\n      <td>GENPOPSHEL</td>\n      <td>101.0</td>\n      <td>POINT (-70.20228 44.09314)</td>\n    </tr>\n    <tr>\n      <th>4582</th>\n      <td>365358</td>\n      <td>Weymouth High School (Regional Center)</td>\n      <td>1 Wildcat Way</td>\n      <td>Weymouth</td>\n      <td>Norfolk</td>\n      <td>None</td>\n      <td>MA</td>\n      <td>2190</td>\n      <td>None</td>\n      <td>None</td>\n      <td>...</td>\n      <td>NaN</td>\n      <td>None</td>\n      <td>None</td>\n      <td>Street</td>\n      <td>-70.942783</td>\n      <td>42.182527</td>\n      <td>SHELTER</td>\n      <td>GENPOPSHEL</td>\n      <td>101.0</td>\n      <td>POINT (-70.94278 42.18253)</td>\n    </tr>\n    <tr>\n      <th>4583</th>\n      <td>365363</td>\n      <td>Holy Trinity Church</td>\n      <td>1409 Park Ave</td>\n      <td>Woonsocket</td>\n      <td>Providence</td>\n      <td>None</td>\n      <td>RI</td>\n      <td>2895</td>\n      <td>None</td>\n      <td>None</td>\n      <td>...</td>\n      <td>NaN</td>\n      <td>None</td>\n      <td>None</td>\n      <td>Street</td>\n      <td>-71.516473</td>\n      <td>41.984584</td>\n      <td>SHELTER</td>\n      <td>GENPOPSHEL</td>\n      <td>101.0</td>\n      <td>POINT (-71.51647 41.98458)</td>\n    </tr>\n    <tr>\n      <th>4584</th>\n      <td>365382</td>\n      <td>John A. Millar Civic Center - Community Room</td>\n      <td>94 Randall Avenue</td>\n      <td>Houlton</td>\n      <td>Aroostook</td>\n      <td>None</td>\n      <td>ME</td>\n      <td>4730</td>\n      <td>None</td>\n      <td>None</td>\n      <td>...</td>\n      <td>NaN</td>\n      <td>None</td>\n      <td>None</td>\n      <td>Street</td>\n      <td>-67.829881</td>\n      <td>46.133704</td>\n      <td>SHELTER</td>\n      <td>GENPOPSHEL</td>\n      <td>101.0</td>\n      <td>POINT (-67.82988 46.1337)</td>\n    </tr>\n  </tbody>\n</table>\n<p>4585 rows × 73 columns</p>\n</div>"
          },
          "metadata": {}
        }
      ],
      "outputs_reference": null,
      "content_dependencies": null
    },
    {
      "cell_type": "markdown",
      "metadata": {
        "color": "purple",
        "formattedRanges": [],
        "cell_id": "bbe349d67ae3426282038bf136df31c4",
        "deepnote_cell_type": "text-cell-p"
      },
      "source": "game_grid_df",
      "block_group": "a8b5b5338c6d4a16a72e3524c66a0076"
    },
    {
      "cell_type": "code",
      "metadata": {
        "source_hash": "d6162ade",
        "execution_start": 1753803867349,
        "execution_millis": 129,
        "sql_integration_id": "",
        "deepnote_table_state": {
          "sortBy": [],
          "filters": [],
          "pageSize": 10,
          "pageIndex": 2,
          "columnOrder": [
            "EASTING",
            "NORTHING",
            "kmSQ_ID",
            "GZD",
            "Shape_Leng",
            "MGRS",
            "MGRS_10km",
            "transport_score",
            "geometry"
          ],
          "hiddenColumnIds": [],
          "columnDisplayNames": [],
          "conditionalFilters": [],
          "cellFormattingRules": [],
          "wrappedTextColumnIds": []
        },
        "execution_context_id": "6bcbe7b0-968e-40d1-8a16-fde552e2efc5",
        "deepnote_table_loading": false,
        "deepnote_variable_name": "",
        "deepnote_to_be_reexecuted": true,
        "cell_id": "1a00a4ade3a6490682b9c36eb4f2544e",
        "deepnote_cell_type": "code"
      },
      "source": "game_grid_df",
      "block_group": "1d3de27eed19484298bf031754d321a3",
      "execution_count": 6,
      "outputs": [
        {
          "output_type": "execute_result",
          "execution_count": 6,
          "data": {
            "application/vnd.deepnote.dataframe.v3+json": {
              "column_count": 9,
              "columns": [
                {
                  "name": "EASTING",
                  "dtype": "object"
                },
                {
                  "name": "NORTHING",
                  "dtype": "object"
                },
                {
                  "name": "kmSQ_ID",
                  "dtype": "object"
                },
                {
                  "name": "GZD",
                  "dtype": "object"
                },
                {
                  "name": "Shape_Leng",
                  "dtype": "float64"
                },
                {
                  "name": "MGRS",
                  "dtype": "object"
                },
                {
                  "name": "MGRS_10km",
                  "dtype": "object"
                },
                {
                  "name": "transport_score",
                  "dtype": "int32"
                },
                {
                  "name": "geometry",
                  "dtype": "geometry"
                },
                {
                  "name": "_deepnote_index_column",
                  "dtype": "int64"
                }
              ],
              "row_count": 232567,
              "preview_row_count": 232567,
              "rows": [
                {
                  "EASTING": "595000mE",
                  "NORTHING": "4983000mN",
                  "kmSQ_ID": "WQ",
                  "GZD": "18T",
                  "Shape_Leng": 400000,
                  "MGRS": "18TWQ9583",
                  "MGRS_10km": "18TWQ98",
                  "transport_score": 1,
                  "geometry": "POLYGON ((-73.78209061648874 44.99395205934013, -73.79477434795774 44.99408663479039, -73.79458563511895 45.003086569589584, -73.78189991884614 45.002951950971806, -73.78209061648874 44.99395205934013))",
                  "_deepnote_index_column": 20
                },
                {
                  "EASTING": "596000mE",
                  "NORTHING": "4983000mN",
                  "kmSQ_ID": "WQ",
                  "GZD": "18T",
                  "Shape_Leng": 400000,
                  "MGRS": "18TWQ9683",
                  "MGRS_10km": "18TWQ98",
                  "transport_score": 1,
                  "geometry": "POLYGON ((-73.76940697495189 44.99381607465216, -73.78209061648874 44.99395205934013, -73.78189991884614 45.002951950971806, -73.76921429250558 45.00281592401575, -73.76940697495189 44.99381607465216))",
                  "_deepnote_index_column": 21
                },
                {
                  "EASTING": "597000mE",
                  "NORTHING": "4983000mN",
                  "kmSQ_ID": "WQ",
                  "GZD": "18T",
                  "Shape_Leng": 400000,
                  "MGRS": "18TWQ9783",
                  "MGRS_10km": "18TWQ98",
                  "transport_score": 1,
                  "geometry": "POLYGON ((-73.7567234233473 44.99367868162591, -73.76940697495189 44.99381607465216, -73.76921429250558 45.00281592401575, -73.75652875609717 45.00267848872136, -73.7567234233473 44.99367868162591))",
                  "_deepnote_index_column": 22
                },
                {
                  "EASTING": "598000mE",
                  "NORTHING": "4983000mN",
                  "kmSQ_ID": "WQ",
                  "GZD": "18T",
                  "Shape_Leng": 400000,
                  "MGRS": "18TWQ9883",
                  "MGRS_10km": "18TWQ98",
                  "transport_score": 1,
                  "geometry": "POLYGON ((-73.74403996347348 44.993539880261324, -73.7567234233473 44.99367868162591, -73.75652875609717 45.00267848872136, -73.74384331141965 45.002539644189255, -73.74403996347348 44.993539880261324))",
                  "_deepnote_index_column": 23
                },
                {
                  "EASTING": "599000mE",
                  "NORTHING": "4983000mN",
                  "kmSQ_ID": "WQ",
                  "GZD": "18T",
                  "Shape_Leng": 400000,
                  "MGRS": "18TWQ9983",
                  "MGRS_10km": "18TWQ98",
                  "transport_score": 1,
                  "geometry": "POLYGON ((-73.73135659533057 44.993399670558404, -73.74403996347348 44.993539880261324, -73.74384331141965 45.002539644189255, -73.7311579593723 45.00239939041961, -73.73135659533057 44.993399670558404))",
                  "_deepnote_index_column": 24
                },
                {
                  "EASTING": "579000mE",
                  "NORTHING": "4982000mN",
                  "kmSQ_ID": "WQ",
                  "GZD": "18T",
                  "Shape_Leng": 400000,
                  "MGRS": "18TWQ7982",
                  "MGRS_10km": "18TWQ78",
                  "transport_score": 1,
                  "geometry": "POLYGON ((-73.98519930440432 44.98693573669493, -73.99788235868385 44.98704774096052, -73.9977254836441 44.996048302587155, -73.98504044456081 44.995936262348664, -73.98519930440432 44.98693573669493))",
                  "_deepnote_index_column": 25
                },
                {
                  "EASTING": "580000mE",
                  "NORTHING": "4982000mN",
                  "kmSQ_ID": "WQ",
                  "GZD": "18T",
                  "Shape_Leng": 400000,
                  "MGRS": "18TWQ8082",
                  "MGRS_10km": "18TWQ88",
                  "transport_score": 1,
                  "geometry": "POLYGON ((-73.97251632476855 44.98682232319169, -73.98519930440432 44.98693573669493, -73.98504044456081 44.995936262348664, -73.97235548012128 44.995822814671214, -73.97251632476855 44.98682232319169))",
                  "_deepnote_index_column": 26
                },
                {
                  "EASTING": "581000mE",
                  "NORTHING": "4982000mN",
                  "kmSQ_ID": "WQ",
                  "GZD": "18T",
                  "Shape_Leng": 400000,
                  "MGRS": "18TWQ8182",
                  "MGRS_10km": "18TWQ88",
                  "transport_score": 1,
                  "geometry": "POLYGON ((-73.9598334206758 44.98670750224949, -73.97251632476855 44.98682232319169, -73.97235548012128 44.995822814671214, -73.95967059122478 44.99570795685679, -73.9598334206758 44.98670750224949))",
                  "_deepnote_index_column": 27
                },
                {
                  "EASTING": "582000mE",
                  "NORTHING": "4982000mN",
                  "kmSQ_ID": "WQ",
                  "GZD": "18T",
                  "Shape_Leng": 400000,
                  "MGRS": "18TWQ8282",
                  "MGRS_10km": "18TWQ88",
                  "transport_score": 1,
                  "geometry": "POLYGON ((-73.94715059302541 44.98659127296895, -73.9598334206758 44.98670750224949, -73.95967059122478 44.99570795685679, -73.94698577966994 44.99559169160335, -73.94715059302541 44.98659127296895))",
                  "_deepnote_index_column": 28
                },
                {
                  "EASTING": "583000mE",
                  "NORTHING": "4982000mN",
                  "kmSQ_ID": "WQ",
                  "GZD": "18T",
                  "Shape_Leng": 400000,
                  "MGRS": "18TWQ8382",
                  "MGRS_10km": "18TWQ88",
                  "transport_score": 7,
                  "geometry": "POLYGON ((-73.93446784271674 44.98647363535002, -73.94715059302541 44.98659127296895, -73.94698577966994 44.99559169160335, -73.93430104545683 44.99547401711226, -73.93446784271674 44.98647363535002))",
                  "_deepnote_index_column": 29
                }
              ],
              "type": "dataframe"
            },
            "text/plain": "         EASTING   NORTHING kmSQ_ID  GZD     Shape_Leng       MGRS MGRS_10km  \\\n0       596000mE  4984000mN      WQ  18T  400000.000000  18TWQ9684   18TWQ98   \n1       597000mE  4984000mN      WQ  18T  400000.000000  18TWQ9784   18TWQ98   \n2       598000mE  4984000mN      WQ  18T  400000.000000  18TWQ9884   18TWQ98   \n3       599000mE  4984000mN      WQ  18T  400000.000000  18TWQ9984   18TWQ98   \n4       579000mE  4983000mN      WQ  18T  400000.000000  18TWQ7983   18TWQ78   \n...          ...        ...     ...  ...            ...        ...       ...   \n232562  282000mE  4558000mN      BF  19T       0.041828  19TBF8258   19TBF85   \n232563  283000mE  4558000mN      BF  19T       0.041828  19TBF8358   19TBF85   \n232564  284000mE  4558000mN      BF  19T       0.041828  19TBF8458   19TBF85   \n232565  285000mE  4558000mN      BF  19T       0.041828  19TBF8558   19TBF85   \n232566  286000mE  4558000mN      BF  19T       0.041829  19TBF8658   19TBF85   \n\n        transport_score                                           geometry  \n0                     1  POLYGON ((-73.76921 45.00282, -73.7819 45.0029...  \n1                     1  POLYGON ((-73.75653 45.00268, -73.76921 45.002...  \n2                     1  POLYGON ((-73.74384 45.00254, -73.75653 45.002...  \n3                     1  POLYGON ((-73.73116 45.0024, -73.74384 45.0025...  \n4                     1  POLYGON ((-73.98504 44.99594, -73.99773 44.996...  \n...                 ...                                                ...  \n232562                1  POLYGON ((-71.58574 41.14431, -71.59765 41.144...  \n232563                1  POLYGON ((-71.57384 41.14458, -71.58574 41.144...  \n232564                1  POLYGON ((-71.56193 41.14484, -71.57384 41.144...  \n232565                1  POLYGON ((-71.55003 41.14511, -71.56193 41.144...  \n232566                1  POLYGON ((-71.53813 41.14537, -71.55003 41.145...  \n\n[232567 rows x 9 columns]",
            "text/html": "<div>\n<style scoped>\n    .dataframe tbody tr th:only-of-type {\n        vertical-align: middle;\n    }\n\n    .dataframe tbody tr th {\n        vertical-align: top;\n    }\n\n    .dataframe thead th {\n        text-align: right;\n    }\n</style>\n<table border=\"1\" class=\"dataframe\">\n  <thead>\n    <tr style=\"text-align: right;\">\n      <th></th>\n      <th>EASTING</th>\n      <th>NORTHING</th>\n      <th>kmSQ_ID</th>\n      <th>GZD</th>\n      <th>Shape_Leng</th>\n      <th>MGRS</th>\n      <th>MGRS_10km</th>\n      <th>transport_score</th>\n      <th>geometry</th>\n    </tr>\n  </thead>\n  <tbody>\n    <tr>\n      <th>0</th>\n      <td>596000mE</td>\n      <td>4984000mN</td>\n      <td>WQ</td>\n      <td>18T</td>\n      <td>400000.000000</td>\n      <td>18TWQ9684</td>\n      <td>18TWQ98</td>\n      <td>1</td>\n      <td>POLYGON ((-73.76921 45.00282, -73.7819 45.0029...</td>\n    </tr>\n    <tr>\n      <th>1</th>\n      <td>597000mE</td>\n      <td>4984000mN</td>\n      <td>WQ</td>\n      <td>18T</td>\n      <td>400000.000000</td>\n      <td>18TWQ9784</td>\n      <td>18TWQ98</td>\n      <td>1</td>\n      <td>POLYGON ((-73.75653 45.00268, -73.76921 45.002...</td>\n    </tr>\n    <tr>\n      <th>2</th>\n      <td>598000mE</td>\n      <td>4984000mN</td>\n      <td>WQ</td>\n      <td>18T</td>\n      <td>400000.000000</td>\n      <td>18TWQ9884</td>\n      <td>18TWQ98</td>\n      <td>1</td>\n      <td>POLYGON ((-73.74384 45.00254, -73.75653 45.002...</td>\n    </tr>\n    <tr>\n      <th>3</th>\n      <td>599000mE</td>\n      <td>4984000mN</td>\n      <td>WQ</td>\n      <td>18T</td>\n      <td>400000.000000</td>\n      <td>18TWQ9984</td>\n      <td>18TWQ98</td>\n      <td>1</td>\n      <td>POLYGON ((-73.73116 45.0024, -73.74384 45.0025...</td>\n    </tr>\n    <tr>\n      <th>4</th>\n      <td>579000mE</td>\n      <td>4983000mN</td>\n      <td>WQ</td>\n      <td>18T</td>\n      <td>400000.000000</td>\n      <td>18TWQ7983</td>\n      <td>18TWQ78</td>\n      <td>1</td>\n      <td>POLYGON ((-73.98504 44.99594, -73.99773 44.996...</td>\n    </tr>\n    <tr>\n      <th>...</th>\n      <td>...</td>\n      <td>...</td>\n      <td>...</td>\n      <td>...</td>\n      <td>...</td>\n      <td>...</td>\n      <td>...</td>\n      <td>...</td>\n      <td>...</td>\n    </tr>\n    <tr>\n      <th>232562</th>\n      <td>282000mE</td>\n      <td>4558000mN</td>\n      <td>BF</td>\n      <td>19T</td>\n      <td>0.041828</td>\n      <td>19TBF8258</td>\n      <td>19TBF85</td>\n      <td>1</td>\n      <td>POLYGON ((-71.58574 41.14431, -71.59765 41.144...</td>\n    </tr>\n    <tr>\n      <th>232563</th>\n      <td>283000mE</td>\n      <td>4558000mN</td>\n      <td>BF</td>\n      <td>19T</td>\n      <td>0.041828</td>\n      <td>19TBF8358</td>\n      <td>19TBF85</td>\n      <td>1</td>\n      <td>POLYGON ((-71.57384 41.14458, -71.58574 41.144...</td>\n    </tr>\n    <tr>\n      <th>232564</th>\n      <td>284000mE</td>\n      <td>4558000mN</td>\n      <td>BF</td>\n      <td>19T</td>\n      <td>0.041828</td>\n      <td>19TBF8458</td>\n      <td>19TBF85</td>\n      <td>1</td>\n      <td>POLYGON ((-71.56193 41.14484, -71.57384 41.144...</td>\n    </tr>\n    <tr>\n      <th>232565</th>\n      <td>285000mE</td>\n      <td>4558000mN</td>\n      <td>BF</td>\n      <td>19T</td>\n      <td>0.041828</td>\n      <td>19TBF8558</td>\n      <td>19TBF85</td>\n      <td>1</td>\n      <td>POLYGON ((-71.55003 41.14511, -71.56193 41.144...</td>\n    </tr>\n    <tr>\n      <th>232566</th>\n      <td>286000mE</td>\n      <td>4558000mN</td>\n      <td>BF</td>\n      <td>19T</td>\n      <td>0.041829</td>\n      <td>19TBF8658</td>\n      <td>19TBF85</td>\n      <td>1</td>\n      <td>POLYGON ((-71.53813 41.14537, -71.55003 41.145...</td>\n    </tr>\n  </tbody>\n</table>\n<p>232567 rows × 9 columns</p>\n</div>"
          },
          "metadata": {}
        }
      ],
      "outputs_reference": null,
      "content_dependencies": null
    },
    {
      "cell_type": "markdown",
      "metadata": {
        "cell_id": "588905b36bca4b03955359c5325da836",
        "deepnote_cell_type": "text-cell-p"
      },
      "source": "The `game_grid_df` contains 232,567 rows and 9 columns. It includes spatial data with columns such as `EASTING`, `NORTHING`, `kmSQ_ID`, `GZD`, `Shape_Leng`, `MGRS`, `MGRS_10km`, and `geometry`. Let me know if you need specific details or operations on this dataset.",
      "block_group": "1c90d45ed08e4974a363d15bec56f861"
    },
    {
      "cell_type": "code",
      "metadata": {
        "source_hash": "59d5c319",
        "execution_start": 1753803867529,
        "execution_millis": 0,
        "execution_context_id": "6bcbe7b0-968e-40d1-8a16-fde552e2efc5",
        "deepnote_to_be_reexecuted": true,
        "cell_id": "3154a5ab664e4a1d9af9cf80ae19a2cc",
        "deepnote_cell_type": "code"
      },
      "source": "game_grid_df['transport_score'].value_counts()",
      "block_group": "42957484a73541f39678aa0560655f0f",
      "execution_count": 7,
      "outputs": [
        {
          "output_type": "execute_result",
          "execution_count": 7,
          "data": {
            "text/plain": "transport_score\n1     112904\n7      51318\n2      36253\n10     23455\n3       7832\n4        805\nName: count, dtype: int64"
          },
          "metadata": {}
        }
      ],
      "outputs_reference": null,
      "content_dependencies": null
    },
    {
      "cell_type": "code",
      "metadata": {
        "source_hash": "67e7e10",
        "execution_start": 1753803867578,
        "execution_millis": 55226,
        "sql_integration_id": "",
        "execution_context_id": "6bcbe7b0-968e-40d1-8a16-fde552e2efc5",
        "deepnote_variable_name": "",
        "deepnote_to_be_reexecuted": true,
        "cell_id": "0acc9ff4ecda4a38835ebfd7ddc36d76",
        "deepnote_cell_type": "code"
      },
      "source": "game_grid_df.plot(\n    column='transport_score',\n    cmap='viridis',           \n    edgecolor='black',\n    legend=True,\n    figsize=(10, 10)\n)\n\nplt.title(\"Game Grid by Transport Score\")\nplt.xlabel(\"Longitude\")\nplt.ylabel(\"Latitude\")\nplt.show()",
      "block_group": "278c673c76644bf3b0b1cbe23c0974ea",
      "execution_count": 8,
      "outputs": [
        {
          "output_type": "error",
          "ename": "KeyboardInterrupt",
          "evalue": "",
          "traceback": [
            "\u001b[0;31m---------------------------------------------------------------------------\u001b[0m",
            "\u001b[0;31mKeyboardInterrupt\u001b[0m                         Traceback (most recent call last)",
            "Cell \u001b[0;32mIn[8], line 1\u001b[0m\n\u001b[0;32m----> 1\u001b[0m \u001b[43mgame_grid_df\u001b[49m\u001b[38;5;241;43m.\u001b[39;49m\u001b[43mplot\u001b[49m\u001b[43m(\u001b[49m\n\u001b[1;32m      2\u001b[0m \u001b[43m    \u001b[49m\u001b[43mcolumn\u001b[49m\u001b[38;5;241;43m=\u001b[39;49m\u001b[38;5;124;43m'\u001b[39;49m\u001b[38;5;124;43mtransport_score\u001b[39;49m\u001b[38;5;124;43m'\u001b[39;49m\u001b[43m,\u001b[49m\n\u001b[1;32m      3\u001b[0m \u001b[43m    \u001b[49m\u001b[43mcmap\u001b[49m\u001b[38;5;241;43m=\u001b[39;49m\u001b[38;5;124;43m'\u001b[39;49m\u001b[38;5;124;43mviridis\u001b[39;49m\u001b[38;5;124;43m'\u001b[39;49m\u001b[43m,\u001b[49m\u001b[43m           \u001b[49m\n\u001b[1;32m      4\u001b[0m \u001b[43m    \u001b[49m\u001b[43medgecolor\u001b[49m\u001b[38;5;241;43m=\u001b[39;49m\u001b[38;5;124;43m'\u001b[39;49m\u001b[38;5;124;43mblack\u001b[39;49m\u001b[38;5;124;43m'\u001b[39;49m\u001b[43m,\u001b[49m\n\u001b[1;32m      5\u001b[0m \u001b[43m    \u001b[49m\u001b[43mlegend\u001b[49m\u001b[38;5;241;43m=\u001b[39;49m\u001b[38;5;28;43;01mTrue\u001b[39;49;00m\u001b[43m,\u001b[49m\n\u001b[1;32m      6\u001b[0m \u001b[43m    \u001b[49m\u001b[43mfigsize\u001b[49m\u001b[38;5;241;43m=\u001b[39;49m\u001b[43m(\u001b[49m\u001b[38;5;241;43m10\u001b[39;49m\u001b[43m,\u001b[49m\u001b[43m \u001b[49m\u001b[38;5;241;43m10\u001b[39;49m\u001b[43m)\u001b[49m\n\u001b[1;32m      7\u001b[0m \u001b[43m)\u001b[49m\n\u001b[1;32m      9\u001b[0m plt\u001b[38;5;241m.\u001b[39mtitle(\u001b[38;5;124m\"\u001b[39m\u001b[38;5;124mGame Grid by Transport Score\u001b[39m\u001b[38;5;124m\"\u001b[39m)\n\u001b[1;32m     10\u001b[0m plt\u001b[38;5;241m.\u001b[39mxlabel(\u001b[38;5;124m\"\u001b[39m\u001b[38;5;124mLongitude\u001b[39m\u001b[38;5;124m\"\u001b[39m)\n",
            "File \u001b[0;32m~/venv/lib/python3.10/site-packages/geopandas/plotting.py:962\u001b[0m, in \u001b[0;36mGeoplotAccessor.__call__\u001b[0;34m(self, *args, **kwargs)\u001b[0m\n\u001b[1;32m    960\u001b[0m kind \u001b[38;5;241m=\u001b[39m kwargs\u001b[38;5;241m.\u001b[39mpop(\u001b[38;5;124m\"\u001b[39m\u001b[38;5;124mkind\u001b[39m\u001b[38;5;124m\"\u001b[39m, \u001b[38;5;124m\"\u001b[39m\u001b[38;5;124mgeo\u001b[39m\u001b[38;5;124m\"\u001b[39m)\n\u001b[1;32m    961\u001b[0m \u001b[38;5;28;01mif\u001b[39;00m kind \u001b[38;5;241m==\u001b[39m \u001b[38;5;124m\"\u001b[39m\u001b[38;5;124mgeo\u001b[39m\u001b[38;5;124m\"\u001b[39m:\n\u001b[0;32m--> 962\u001b[0m     \u001b[38;5;28;01mreturn\u001b[39;00m \u001b[43mplot_dataframe\u001b[49m\u001b[43m(\u001b[49m\u001b[43mdata\u001b[49m\u001b[43m,\u001b[49m\u001b[43m \u001b[49m\u001b[38;5;241;43m*\u001b[39;49m\u001b[43margs\u001b[49m\u001b[43m,\u001b[49m\u001b[43m \u001b[49m\u001b[38;5;241;43m*\u001b[39;49m\u001b[38;5;241;43m*\u001b[39;49m\u001b[43mkwargs\u001b[49m\u001b[43m)\u001b[49m\n\u001b[1;32m    963\u001b[0m \u001b[38;5;28;01mif\u001b[39;00m kind \u001b[38;5;129;01min\u001b[39;00m \u001b[38;5;28mself\u001b[39m\u001b[38;5;241m.\u001b[39m_pandas_kinds:\n\u001b[1;32m    964\u001b[0m     \u001b[38;5;66;03m# Access pandas plots\u001b[39;00m\n\u001b[1;32m    965\u001b[0m     \u001b[38;5;28;01mreturn\u001b[39;00m PlotAccessor(data)(kind\u001b[38;5;241m=\u001b[39mkind, \u001b[38;5;241m*\u001b[39m\u001b[38;5;241m*\u001b[39mkwargs)\n",
            "File \u001b[0;32m~/venv/lib/python3.10/site-packages/geopandas/plotting.py:656\u001b[0m, in \u001b[0;36mplot_dataframe\u001b[0;34m(df, column, cmap, color, ax, cax, categorical, legend, scheme, k, vmin, vmax, markersize, figsize, legend_kwds, categories, classification_kwds, missing_kwds, aspect, autolim, **style_kwds)\u001b[0m\n\u001b[1;32m    654\u001b[0m     \u001b[38;5;28;01mif\u001b[39;00m cax \u001b[38;5;129;01mis\u001b[39;00m \u001b[38;5;129;01mnot\u001b[39;00m \u001b[38;5;28;01mNone\u001b[39;00m:\n\u001b[1;32m    655\u001b[0m         \u001b[38;5;28;01mraise\u001b[39;00m \u001b[38;5;167;01mValueError\u001b[39;00m(\u001b[38;5;124m\"\u001b[39m\u001b[38;5;124m'\u001b[39m\u001b[38;5;124max\u001b[39m\u001b[38;5;124m'\u001b[39m\u001b[38;5;124m can not be None if \u001b[39m\u001b[38;5;124m'\u001b[39m\u001b[38;5;124mcax\u001b[39m\u001b[38;5;124m'\u001b[39m\u001b[38;5;124m is not.\u001b[39m\u001b[38;5;124m\"\u001b[39m)\n\u001b[0;32m--> 656\u001b[0m     fig, ax \u001b[38;5;241m=\u001b[39m \u001b[43mplt\u001b[49m\u001b[38;5;241;43m.\u001b[39;49m\u001b[43msubplots\u001b[49m\u001b[43m(\u001b[49m\u001b[43mfigsize\u001b[49m\u001b[38;5;241;43m=\u001b[39;49m\u001b[43mfigsize\u001b[49m\u001b[43m)\u001b[49m\n\u001b[1;32m    658\u001b[0m \u001b[38;5;28;01mif\u001b[39;00m aspect \u001b[38;5;241m==\u001b[39m \u001b[38;5;124m\"\u001b[39m\u001b[38;5;124mauto\u001b[39m\u001b[38;5;124m\"\u001b[39m:\n\u001b[1;32m    659\u001b[0m     \u001b[38;5;28;01mif\u001b[39;00m df\u001b[38;5;241m.\u001b[39mcrs \u001b[38;5;129;01mand\u001b[39;00m df\u001b[38;5;241m.\u001b[39mcrs\u001b[38;5;241m.\u001b[39mis_geographic:\n",
            "File \u001b[0;32m~/venv/lib/python3.10/site-packages/matplotlib/pyplot.py:1451\u001b[0m, in \u001b[0;36msubplots\u001b[0;34m(nrows, ncols, sharex, sharey, squeeze, width_ratios, height_ratios, subplot_kw, gridspec_kw, **fig_kw)\u001b[0m\n\u001b[1;32m   1307\u001b[0m \u001b[38;5;250m\u001b[39m\u001b[38;5;124;03m\"\"\"\u001b[39;00m\n\u001b[1;32m   1308\u001b[0m \u001b[38;5;124;03mCreate a figure and a set of subplots.\u001b[39;00m\n\u001b[1;32m   1309\u001b[0m \n\u001b[0;32m   (...)\u001b[0m\n\u001b[1;32m   1448\u001b[0m \n\u001b[1;32m   1449\u001b[0m \u001b[38;5;124;03m\"\"\"\u001b[39;00m\n\u001b[1;32m   1450\u001b[0m fig \u001b[38;5;241m=\u001b[39m figure(\u001b[38;5;241m*\u001b[39m\u001b[38;5;241m*\u001b[39mfig_kw)\n\u001b[0;32m-> 1451\u001b[0m axs \u001b[38;5;241m=\u001b[39m \u001b[43mfig\u001b[49m\u001b[38;5;241;43m.\u001b[39;49m\u001b[43msubplots\u001b[49m\u001b[43m(\u001b[49m\u001b[43mnrows\u001b[49m\u001b[38;5;241;43m=\u001b[39;49m\u001b[43mnrows\u001b[49m\u001b[43m,\u001b[49m\u001b[43m \u001b[49m\u001b[43mncols\u001b[49m\u001b[38;5;241;43m=\u001b[39;49m\u001b[43mncols\u001b[49m\u001b[43m,\u001b[49m\u001b[43m \u001b[49m\u001b[43msharex\u001b[49m\u001b[38;5;241;43m=\u001b[39;49m\u001b[43msharex\u001b[49m\u001b[43m,\u001b[49m\u001b[43m \u001b[49m\u001b[43msharey\u001b[49m\u001b[38;5;241;43m=\u001b[39;49m\u001b[43msharey\u001b[49m\u001b[43m,\u001b[49m\n\u001b[1;32m   1452\u001b[0m \u001b[43m                   \u001b[49m\u001b[43msqueeze\u001b[49m\u001b[38;5;241;43m=\u001b[39;49m\u001b[43msqueeze\u001b[49m\u001b[43m,\u001b[49m\u001b[43m \u001b[49m\u001b[43msubplot_kw\u001b[49m\u001b[38;5;241;43m=\u001b[39;49m\u001b[43msubplot_kw\u001b[49m\u001b[43m,\u001b[49m\n\u001b[1;32m   1453\u001b[0m \u001b[43m                   \u001b[49m\u001b[43mgridspec_kw\u001b[49m\u001b[38;5;241;43m=\u001b[39;49m\u001b[43mgridspec_kw\u001b[49m\u001b[43m,\u001b[49m\u001b[43m \u001b[49m\u001b[43mheight_ratios\u001b[49m\u001b[38;5;241;43m=\u001b[39;49m\u001b[43mheight_ratios\u001b[49m\u001b[43m,\u001b[49m\n\u001b[1;32m   1454\u001b[0m \u001b[43m                   \u001b[49m\u001b[43mwidth_ratios\u001b[49m\u001b[38;5;241;43m=\u001b[39;49m\u001b[43mwidth_ratios\u001b[49m\u001b[43m)\u001b[49m\n\u001b[1;32m   1455\u001b[0m \u001b[38;5;28;01mreturn\u001b[39;00m fig, axs\n",
            "File \u001b[0;32m~/venv/lib/python3.10/site-packages/matplotlib/figure.py:895\u001b[0m, in \u001b[0;36mFigureBase.subplots\u001b[0;34m(self, nrows, ncols, sharex, sharey, squeeze, width_ratios, height_ratios, subplot_kw, gridspec_kw)\u001b[0m\n\u001b[1;32m    892\u001b[0m     gridspec_kw[\u001b[38;5;124m'\u001b[39m\u001b[38;5;124mwidth_ratios\u001b[39m\u001b[38;5;124m'\u001b[39m] \u001b[38;5;241m=\u001b[39m width_ratios\n\u001b[1;32m    894\u001b[0m gs \u001b[38;5;241m=\u001b[39m \u001b[38;5;28mself\u001b[39m\u001b[38;5;241m.\u001b[39madd_gridspec(nrows, ncols, figure\u001b[38;5;241m=\u001b[39m\u001b[38;5;28mself\u001b[39m, \u001b[38;5;241m*\u001b[39m\u001b[38;5;241m*\u001b[39mgridspec_kw)\n\u001b[0;32m--> 895\u001b[0m axs \u001b[38;5;241m=\u001b[39m \u001b[43mgs\u001b[49m\u001b[38;5;241;43m.\u001b[39;49m\u001b[43msubplots\u001b[49m\u001b[43m(\u001b[49m\u001b[43msharex\u001b[49m\u001b[38;5;241;43m=\u001b[39;49m\u001b[43msharex\u001b[49m\u001b[43m,\u001b[49m\u001b[43m \u001b[49m\u001b[43msharey\u001b[49m\u001b[38;5;241;43m=\u001b[39;49m\u001b[43msharey\u001b[49m\u001b[43m,\u001b[49m\u001b[43m \u001b[49m\u001b[43msqueeze\u001b[49m\u001b[38;5;241;43m=\u001b[39;49m\u001b[43msqueeze\u001b[49m\u001b[43m,\u001b[49m\n\u001b[1;32m    896\u001b[0m \u001b[43m                  \u001b[49m\u001b[43msubplot_kw\u001b[49m\u001b[38;5;241;43m=\u001b[39;49m\u001b[43msubplot_kw\u001b[49m\u001b[43m)\u001b[49m\n\u001b[1;32m    897\u001b[0m \u001b[38;5;28;01mreturn\u001b[39;00m axs\n",
            "File \u001b[0;32m~/venv/lib/python3.10/site-packages/matplotlib/gridspec.py:308\u001b[0m, in \u001b[0;36mGridSpecBase.subplots\u001b[0;34m(self, sharex, sharey, squeeze, subplot_kw)\u001b[0m\n\u001b[1;32m    306\u001b[0m         subplot_kw[\u001b[38;5;124m\"\u001b[39m\u001b[38;5;124msharex\u001b[39m\u001b[38;5;124m\"\u001b[39m] \u001b[38;5;241m=\u001b[39m shared_with[sharex]\n\u001b[1;32m    307\u001b[0m         subplot_kw[\u001b[38;5;124m\"\u001b[39m\u001b[38;5;124msharey\u001b[39m\u001b[38;5;124m\"\u001b[39m] \u001b[38;5;241m=\u001b[39m shared_with[sharey]\n\u001b[0;32m--> 308\u001b[0m         axarr[row, col] \u001b[38;5;241m=\u001b[39m \u001b[43mfigure\u001b[49m\u001b[38;5;241;43m.\u001b[39;49m\u001b[43madd_subplot\u001b[49m\u001b[43m(\u001b[49m\n\u001b[1;32m    309\u001b[0m \u001b[43m            \u001b[49m\u001b[38;5;28;43mself\u001b[39;49m\u001b[43m[\u001b[49m\u001b[43mrow\u001b[49m\u001b[43m,\u001b[49m\u001b[43m \u001b[49m\u001b[43mcol\u001b[49m\u001b[43m]\u001b[49m\u001b[43m,\u001b[49m\u001b[43m \u001b[49m\u001b[38;5;241;43m*\u001b[39;49m\u001b[38;5;241;43m*\u001b[39;49m\u001b[43msubplot_kw\u001b[49m\u001b[43m)\u001b[49m\n\u001b[1;32m    311\u001b[0m \u001b[38;5;66;03m# turn off redundant tick labeling\u001b[39;00m\n\u001b[1;32m    312\u001b[0m \u001b[38;5;28;01mif\u001b[39;00m sharex \u001b[38;5;129;01min\u001b[39;00m [\u001b[38;5;124m\"\u001b[39m\u001b[38;5;124mcol\u001b[39m\u001b[38;5;124m\"\u001b[39m, \u001b[38;5;124m\"\u001b[39m\u001b[38;5;124mall\u001b[39m\u001b[38;5;124m\"\u001b[39m]:\n",
            "File \u001b[0;32m~/venv/lib/python3.10/site-packages/matplotlib/figure.py:746\u001b[0m, in \u001b[0;36mFigureBase.add_subplot\u001b[0;34m(self, *args, **kwargs)\u001b[0m\n\u001b[1;32m    743\u001b[0m         args \u001b[38;5;241m=\u001b[39m \u001b[38;5;28mtuple\u001b[39m(\u001b[38;5;28mmap\u001b[39m(\u001b[38;5;28mint\u001b[39m, \u001b[38;5;28mstr\u001b[39m(args[\u001b[38;5;241m0\u001b[39m])))\n\u001b[1;32m    744\u001b[0m     projection_class, pkw \u001b[38;5;241m=\u001b[39m \u001b[38;5;28mself\u001b[39m\u001b[38;5;241m.\u001b[39m_process_projection_requirements(\n\u001b[1;32m    745\u001b[0m         \u001b[38;5;241m*\u001b[39margs, \u001b[38;5;241m*\u001b[39m\u001b[38;5;241m*\u001b[39mkwargs)\n\u001b[0;32m--> 746\u001b[0m     ax \u001b[38;5;241m=\u001b[39m \u001b[43msubplot_class_factory\u001b[49m\u001b[43m(\u001b[49m\u001b[43mprojection_class\u001b[49m\u001b[43m)\u001b[49m\u001b[43m(\u001b[49m\u001b[38;5;28;43mself\u001b[39;49m\u001b[43m,\u001b[49m\u001b[43m \u001b[49m\u001b[38;5;241;43m*\u001b[39;49m\u001b[43margs\u001b[49m\u001b[43m,\u001b[49m\u001b[43m \u001b[49m\u001b[38;5;241;43m*\u001b[39;49m\u001b[38;5;241;43m*\u001b[39;49m\u001b[43mpkw\u001b[49m\u001b[43m)\u001b[49m\n\u001b[1;32m    747\u001b[0m     key \u001b[38;5;241m=\u001b[39m (projection_class, pkw)\n\u001b[1;32m    748\u001b[0m \u001b[38;5;28;01mreturn\u001b[39;00m \u001b[38;5;28mself\u001b[39m\u001b[38;5;241m.\u001b[39m_add_axes_internal(ax, key)\n",
            "File \u001b[0;32m~/venv/lib/python3.10/site-packages/matplotlib/axes/_subplots.py:34\u001b[0m, in \u001b[0;36mSubplotBase.__init__\u001b[0;34m(self, fig, *args, **kwargs)\u001b[0m\n\u001b[1;32m     15\u001b[0m \u001b[38;5;250m\u001b[39m\u001b[38;5;124;03m\"\"\"\u001b[39;00m\n\u001b[1;32m     16\u001b[0m \u001b[38;5;124;03mParameters\u001b[39;00m\n\u001b[1;32m     17\u001b[0m \u001b[38;5;124;03m----------\u001b[39;00m\n\u001b[0;32m   (...)\u001b[0m\n\u001b[1;32m     31\u001b[0m \u001b[38;5;124;03m    Keyword arguments are passed to the Axes (sub)class constructor.\u001b[39;00m\n\u001b[1;32m     32\u001b[0m \u001b[38;5;124;03m\"\"\"\u001b[39;00m\n\u001b[1;32m     33\u001b[0m \u001b[38;5;66;03m# _axes_class is set in the subplot_class_factory\u001b[39;00m\n\u001b[0;32m---> 34\u001b[0m \u001b[38;5;28;43mself\u001b[39;49m\u001b[38;5;241;43m.\u001b[39;49m\u001b[43m_axes_class\u001b[49m\u001b[38;5;241;43m.\u001b[39;49m\u001b[38;5;21;43m__init__\u001b[39;49m\u001b[43m(\u001b[49m\u001b[38;5;28;43mself\u001b[39;49m\u001b[43m,\u001b[49m\u001b[43m \u001b[49m\u001b[43mfig\u001b[49m\u001b[43m,\u001b[49m\u001b[43m \u001b[49m\u001b[43m[\u001b[49m\u001b[38;5;241;43m0\u001b[39;49m\u001b[43m,\u001b[49m\u001b[43m \u001b[49m\u001b[38;5;241;43m0\u001b[39;49m\u001b[43m,\u001b[49m\u001b[43m \u001b[49m\u001b[38;5;241;43m1\u001b[39;49m\u001b[43m,\u001b[49m\u001b[43m \u001b[49m\u001b[38;5;241;43m1\u001b[39;49m\u001b[43m]\u001b[49m\u001b[43m,\u001b[49m\u001b[43m \u001b[49m\u001b[38;5;241;43m*\u001b[39;49m\u001b[38;5;241;43m*\u001b[39;49m\u001b[43mkwargs\u001b[49m\u001b[43m)\u001b[49m\n\u001b[1;32m     35\u001b[0m \u001b[38;5;66;03m# This will also update the axes position.\u001b[39;00m\n\u001b[1;32m     36\u001b[0m \u001b[38;5;28mself\u001b[39m\u001b[38;5;241m.\u001b[39mset_subplotspec(SubplotSpec\u001b[38;5;241m.\u001b[39m_from_subplot_args(fig, args))\n",
            "File \u001b[0;32m~/venv/lib/python3.10/site-packages/matplotlib/axes/_base.py:653\u001b[0m, in \u001b[0;36m_AxesBase.__init__\u001b[0;34m(self, fig, rect, facecolor, frameon, sharex, sharey, label, xscale, yscale, box_aspect, **kwargs)\u001b[0m\n\u001b[1;32m    650\u001b[0m \u001b[38;5;28mself\u001b[39m\u001b[38;5;241m.\u001b[39mset_axisbelow(mpl\u001b[38;5;241m.\u001b[39mrcParams[\u001b[38;5;124m'\u001b[39m\u001b[38;5;124maxes.axisbelow\u001b[39m\u001b[38;5;124m'\u001b[39m])\n\u001b[1;32m    652\u001b[0m \u001b[38;5;28mself\u001b[39m\u001b[38;5;241m.\u001b[39m_rasterization_zorder \u001b[38;5;241m=\u001b[39m \u001b[38;5;28;01mNone\u001b[39;00m\n\u001b[0;32m--> 653\u001b[0m \u001b[38;5;28;43mself\u001b[39;49m\u001b[38;5;241;43m.\u001b[39;49m\u001b[43mclear\u001b[49m\u001b[43m(\u001b[49m\u001b[43m)\u001b[49m\n\u001b[1;32m    655\u001b[0m \u001b[38;5;66;03m# funcs used to format x and y - fall back on major formatters\u001b[39;00m\n\u001b[1;32m    656\u001b[0m \u001b[38;5;28mself\u001b[39m\u001b[38;5;241m.\u001b[39mfmt_xdata \u001b[38;5;241m=\u001b[39m \u001b[38;5;28;01mNone\u001b[39;00m\n",
            "File \u001b[0;32m~/venv/lib/python3.10/site-packages/matplotlib/axes/_base.py:1341\u001b[0m, in \u001b[0;36m_AxesBase.clear\u001b[0;34m(self)\u001b[0m\n\u001b[1;32m   1339\u001b[0m     \u001b[38;5;28mself\u001b[39m\u001b[38;5;241m.\u001b[39mcla()\n\u001b[1;32m   1340\u001b[0m \u001b[38;5;28;01melse\u001b[39;00m:\n\u001b[0;32m-> 1341\u001b[0m     \u001b[38;5;28;43mself\u001b[39;49m\u001b[38;5;241;43m.\u001b[39;49m\u001b[43m__clear\u001b[49m\u001b[43m(\u001b[49m\u001b[43m)\u001b[49m\n",
            "File \u001b[0;32m~/venv/lib/python3.10/site-packages/matplotlib/axes/_base.py:1269\u001b[0m, in \u001b[0;36m_AxesBase.__clear\u001b[0;34m(self)\u001b[0m\n\u001b[1;32m   1266\u001b[0m \u001b[38;5;28mself\u001b[39m\u001b[38;5;241m.\u001b[39mlegend_ \u001b[38;5;241m=\u001b[39m \u001b[38;5;28;01mNone\u001b[39;00m\n\u001b[1;32m   1267\u001b[0m \u001b[38;5;28mself\u001b[39m\u001b[38;5;241m.\u001b[39mcontainers \u001b[38;5;241m=\u001b[39m []\n\u001b[0;32m-> 1269\u001b[0m \u001b[38;5;28;43mself\u001b[39;49m\u001b[38;5;241;43m.\u001b[39;49m\u001b[43mgrid\u001b[49m\u001b[43m(\u001b[49m\u001b[38;5;28;43;01mFalse\u001b[39;49;00m\u001b[43m)\u001b[49m  \u001b[38;5;66;03m# Disable grid on init to use rcParameter\u001b[39;00m\n\u001b[1;32m   1270\u001b[0m \u001b[38;5;28mself\u001b[39m\u001b[38;5;241m.\u001b[39mgrid(\u001b[38;5;28mself\u001b[39m\u001b[38;5;241m.\u001b[39m_gridOn, which\u001b[38;5;241m=\u001b[39mmpl\u001b[38;5;241m.\u001b[39mrcParams[\u001b[38;5;124m'\u001b[39m\u001b[38;5;124maxes.grid.which\u001b[39m\u001b[38;5;124m'\u001b[39m],\n\u001b[1;32m   1271\u001b[0m           axis\u001b[38;5;241m=\u001b[39mmpl\u001b[38;5;241m.\u001b[39mrcParams[\u001b[38;5;124m'\u001b[39m\u001b[38;5;124maxes.grid.axis\u001b[39m\u001b[38;5;124m'\u001b[39m])\n\u001b[1;32m   1272\u001b[0m props \u001b[38;5;241m=\u001b[39m font_manager\u001b[38;5;241m.\u001b[39mFontProperties(\n\u001b[1;32m   1273\u001b[0m     size\u001b[38;5;241m=\u001b[39mmpl\u001b[38;5;241m.\u001b[39mrcParams[\u001b[38;5;124m'\u001b[39m\u001b[38;5;124maxes.titlesize\u001b[39m\u001b[38;5;124m'\u001b[39m],\n\u001b[1;32m   1274\u001b[0m     weight\u001b[38;5;241m=\u001b[39mmpl\u001b[38;5;241m.\u001b[39mrcParams[\u001b[38;5;124m'\u001b[39m\u001b[38;5;124maxes.titleweight\u001b[39m\u001b[38;5;124m'\u001b[39m])\n",
            "File \u001b[0;32m~/venv/lib/python3.10/site-packages/matplotlib/_api/deprecation.py:297\u001b[0m, in \u001b[0;36mrename_parameter.<locals>.wrapper\u001b[0;34m(*args, **kwargs)\u001b[0m\n\u001b[1;32m    292\u001b[0m     warn_deprecated(\n\u001b[1;32m    293\u001b[0m         since, message\u001b[38;5;241m=\u001b[39m\u001b[38;5;124mf\u001b[39m\u001b[38;5;124m\"\u001b[39m\u001b[38;5;124mThe \u001b[39m\u001b[38;5;132;01m{\u001b[39;00mold\u001b[38;5;132;01m!r}\u001b[39;00m\u001b[38;5;124m parameter of \u001b[39m\u001b[38;5;132;01m{\u001b[39;00mfunc\u001b[38;5;241m.\u001b[39m\u001b[38;5;18m__name__\u001b[39m\u001b[38;5;132;01m}\u001b[39;00m\u001b[38;5;124m() \u001b[39m\u001b[38;5;124m\"\u001b[39m\n\u001b[1;32m    294\u001b[0m         \u001b[38;5;124mf\u001b[39m\u001b[38;5;124m\"\u001b[39m\u001b[38;5;124mhas been renamed \u001b[39m\u001b[38;5;132;01m{\u001b[39;00mnew\u001b[38;5;132;01m!r}\u001b[39;00m\u001b[38;5;124m since Matplotlib \u001b[39m\u001b[38;5;132;01m{\u001b[39;00msince\u001b[38;5;132;01m}\u001b[39;00m\u001b[38;5;124m; support \u001b[39m\u001b[38;5;124m\"\u001b[39m\n\u001b[1;32m    295\u001b[0m         \u001b[38;5;124mf\u001b[39m\u001b[38;5;124m\"\u001b[39m\u001b[38;5;124mfor the old name will be dropped %(removal)s.\u001b[39m\u001b[38;5;124m\"\u001b[39m)\n\u001b[1;32m    296\u001b[0m     kwargs[new] \u001b[38;5;241m=\u001b[39m kwargs\u001b[38;5;241m.\u001b[39mpop(old)\n\u001b[0;32m--> 297\u001b[0m \u001b[38;5;28;01mreturn\u001b[39;00m \u001b[43mfunc\u001b[49m\u001b[43m(\u001b[49m\u001b[38;5;241;43m*\u001b[39;49m\u001b[43margs\u001b[49m\u001b[43m,\u001b[49m\u001b[43m \u001b[49m\u001b[38;5;241;43m*\u001b[39;49m\u001b[38;5;241;43m*\u001b[39;49m\u001b[43mkwargs\u001b[49m\u001b[43m)\u001b[49m\n",
            "File \u001b[0;32m~/venv/lib/python3.10/site-packages/matplotlib/axes/_base.py:3231\u001b[0m, in \u001b[0;36m_AxesBase.grid\u001b[0;34m(self, visible, which, axis, **kwargs)\u001b[0m\n\u001b[1;32m   3229\u001b[0m _api\u001b[38;5;241m.\u001b[39mcheck_in_list([\u001b[38;5;124m'\u001b[39m\u001b[38;5;124mx\u001b[39m\u001b[38;5;124m'\u001b[39m, \u001b[38;5;124m'\u001b[39m\u001b[38;5;124my\u001b[39m\u001b[38;5;124m'\u001b[39m, \u001b[38;5;124m'\u001b[39m\u001b[38;5;124mboth\u001b[39m\u001b[38;5;124m'\u001b[39m], axis\u001b[38;5;241m=\u001b[39maxis)\n\u001b[1;32m   3230\u001b[0m \u001b[38;5;28;01mif\u001b[39;00m axis \u001b[38;5;129;01min\u001b[39;00m [\u001b[38;5;124m'\u001b[39m\u001b[38;5;124mx\u001b[39m\u001b[38;5;124m'\u001b[39m, \u001b[38;5;124m'\u001b[39m\u001b[38;5;124mboth\u001b[39m\u001b[38;5;124m'\u001b[39m]:\n\u001b[0;32m-> 3231\u001b[0m     \u001b[38;5;28;43mself\u001b[39;49m\u001b[38;5;241;43m.\u001b[39;49m\u001b[43mxaxis\u001b[49m\u001b[38;5;241;43m.\u001b[39;49m\u001b[43mgrid\u001b[49m\u001b[43m(\u001b[49m\u001b[43mvisible\u001b[49m\u001b[43m,\u001b[49m\u001b[43m \u001b[49m\u001b[43mwhich\u001b[49m\u001b[38;5;241;43m=\u001b[39;49m\u001b[43mwhich\u001b[49m\u001b[43m,\u001b[49m\u001b[43m \u001b[49m\u001b[38;5;241;43m*\u001b[39;49m\u001b[38;5;241;43m*\u001b[39;49m\u001b[43mkwargs\u001b[49m\u001b[43m)\u001b[49m\n\u001b[1;32m   3232\u001b[0m \u001b[38;5;28;01mif\u001b[39;00m axis \u001b[38;5;129;01min\u001b[39;00m [\u001b[38;5;124m'\u001b[39m\u001b[38;5;124my\u001b[39m\u001b[38;5;124m'\u001b[39m, \u001b[38;5;124m'\u001b[39m\u001b[38;5;124mboth\u001b[39m\u001b[38;5;124m'\u001b[39m]:\n\u001b[1;32m   3233\u001b[0m     \u001b[38;5;28mself\u001b[39m\u001b[38;5;241m.\u001b[39myaxis\u001b[38;5;241m.\u001b[39mgrid(visible, which\u001b[38;5;241m=\u001b[39mwhich, \u001b[38;5;241m*\u001b[39m\u001b[38;5;241m*\u001b[39mkwargs)\n",
            "File \u001b[0;32m~/venv/lib/python3.10/site-packages/matplotlib/_api/deprecation.py:297\u001b[0m, in \u001b[0;36mrename_parameter.<locals>.wrapper\u001b[0;34m(*args, **kwargs)\u001b[0m\n\u001b[1;32m    292\u001b[0m     warn_deprecated(\n\u001b[1;32m    293\u001b[0m         since, message\u001b[38;5;241m=\u001b[39m\u001b[38;5;124mf\u001b[39m\u001b[38;5;124m\"\u001b[39m\u001b[38;5;124mThe \u001b[39m\u001b[38;5;132;01m{\u001b[39;00mold\u001b[38;5;132;01m!r}\u001b[39;00m\u001b[38;5;124m parameter of \u001b[39m\u001b[38;5;132;01m{\u001b[39;00mfunc\u001b[38;5;241m.\u001b[39m\u001b[38;5;18m__name__\u001b[39m\u001b[38;5;132;01m}\u001b[39;00m\u001b[38;5;124m() \u001b[39m\u001b[38;5;124m\"\u001b[39m\n\u001b[1;32m    294\u001b[0m         \u001b[38;5;124mf\u001b[39m\u001b[38;5;124m\"\u001b[39m\u001b[38;5;124mhas been renamed \u001b[39m\u001b[38;5;132;01m{\u001b[39;00mnew\u001b[38;5;132;01m!r}\u001b[39;00m\u001b[38;5;124m since Matplotlib \u001b[39m\u001b[38;5;132;01m{\u001b[39;00msince\u001b[38;5;132;01m}\u001b[39;00m\u001b[38;5;124m; support \u001b[39m\u001b[38;5;124m\"\u001b[39m\n\u001b[1;32m    295\u001b[0m         \u001b[38;5;124mf\u001b[39m\u001b[38;5;124m\"\u001b[39m\u001b[38;5;124mfor the old name will be dropped %(removal)s.\u001b[39m\u001b[38;5;124m\"\u001b[39m)\n\u001b[1;32m    296\u001b[0m     kwargs[new] \u001b[38;5;241m=\u001b[39m kwargs\u001b[38;5;241m.\u001b[39mpop(old)\n\u001b[0;32m--> 297\u001b[0m \u001b[38;5;28;01mreturn\u001b[39;00m \u001b[43mfunc\u001b[49m\u001b[43m(\u001b[49m\u001b[38;5;241;43m*\u001b[39;49m\u001b[43margs\u001b[49m\u001b[43m,\u001b[49m\u001b[43m \u001b[49m\u001b[38;5;241;43m*\u001b[39;49m\u001b[38;5;241;43m*\u001b[39;49m\u001b[43mkwargs\u001b[49m\u001b[43m)\u001b[49m\n",
            "File \u001b[0;32m~/venv/lib/python3.10/site-packages/matplotlib/axis.py:1593\u001b[0m, in \u001b[0;36mAxis.grid\u001b[0;34m(self, visible, which, **kwargs)\u001b[0m\n\u001b[1;32m   1590\u001b[0m \u001b[38;5;28;01mif\u001b[39;00m which \u001b[38;5;129;01min\u001b[39;00m [\u001b[38;5;124m'\u001b[39m\u001b[38;5;124mmajor\u001b[39m\u001b[38;5;124m'\u001b[39m, \u001b[38;5;124m'\u001b[39m\u001b[38;5;124mboth\u001b[39m\u001b[38;5;124m'\u001b[39m]:\n\u001b[1;32m   1591\u001b[0m     gridkw[\u001b[38;5;124m'\u001b[39m\u001b[38;5;124mgridOn\u001b[39m\u001b[38;5;124m'\u001b[39m] \u001b[38;5;241m=\u001b[39m (\u001b[38;5;129;01mnot\u001b[39;00m \u001b[38;5;28mself\u001b[39m\u001b[38;5;241m.\u001b[39m_major_tick_kw[\u001b[38;5;124m'\u001b[39m\u001b[38;5;124mgridOn\u001b[39m\u001b[38;5;124m'\u001b[39m]\n\u001b[1;32m   1592\u001b[0m                         \u001b[38;5;28;01mif\u001b[39;00m visible \u001b[38;5;129;01mis\u001b[39;00m \u001b[38;5;28;01mNone\u001b[39;00m \u001b[38;5;28;01melse\u001b[39;00m visible)\n\u001b[0;32m-> 1593\u001b[0m     \u001b[38;5;28;43mself\u001b[39;49m\u001b[38;5;241;43m.\u001b[39;49m\u001b[43mset_tick_params\u001b[49m\u001b[43m(\u001b[49m\u001b[43mwhich\u001b[49m\u001b[38;5;241;43m=\u001b[39;49m\u001b[38;5;124;43m'\u001b[39;49m\u001b[38;5;124;43mmajor\u001b[39;49m\u001b[38;5;124;43m'\u001b[39;49m\u001b[43m,\u001b[49m\u001b[43m \u001b[49m\u001b[38;5;241;43m*\u001b[39;49m\u001b[38;5;241;43m*\u001b[39;49m\u001b[43mgridkw\u001b[49m\u001b[43m)\u001b[49m\n\u001b[1;32m   1594\u001b[0m \u001b[38;5;28mself\u001b[39m\u001b[38;5;241m.\u001b[39mstale \u001b[38;5;241m=\u001b[39m \u001b[38;5;28;01mTrue\u001b[39;00m\n",
            "File \u001b[0;32m~/venv/lib/python3.10/site-packages/matplotlib/axis.py:940\u001b[0m, in \u001b[0;36mAxis.set_tick_params\u001b[0;34m(self, which, reset, **kwargs)\u001b[0m\n\u001b[1;32m    938\u001b[0m \u001b[38;5;28;01mif\u001b[39;00m which \u001b[38;5;129;01min\u001b[39;00m [\u001b[38;5;124m'\u001b[39m\u001b[38;5;124mmajor\u001b[39m\u001b[38;5;124m'\u001b[39m, \u001b[38;5;124m'\u001b[39m\u001b[38;5;124mboth\u001b[39m\u001b[38;5;124m'\u001b[39m]:\n\u001b[1;32m    939\u001b[0m     \u001b[38;5;28mself\u001b[39m\u001b[38;5;241m.\u001b[39m_major_tick_kw\u001b[38;5;241m.\u001b[39mupdate(kwtrans)\n\u001b[0;32m--> 940\u001b[0m     \u001b[38;5;28;01mfor\u001b[39;00m tick \u001b[38;5;129;01min\u001b[39;00m \u001b[38;5;28;43mself\u001b[39;49m\u001b[38;5;241;43m.\u001b[39;49m\u001b[43mmajorTicks\u001b[49m:\n\u001b[1;32m    941\u001b[0m         tick\u001b[38;5;241m.\u001b[39m_apply_params(\u001b[38;5;241m*\u001b[39m\u001b[38;5;241m*\u001b[39mkwtrans)\n\u001b[1;32m    942\u001b[0m \u001b[38;5;28;01mif\u001b[39;00m which \u001b[38;5;129;01min\u001b[39;00m [\u001b[38;5;124m'\u001b[39m\u001b[38;5;124mminor\u001b[39m\u001b[38;5;124m'\u001b[39m, \u001b[38;5;124m'\u001b[39m\u001b[38;5;124mboth\u001b[39m\u001b[38;5;124m'\u001b[39m]:\n",
            "File \u001b[0;32m~/venv/lib/python3.10/site-packages/matplotlib/axis.py:599\u001b[0m, in \u001b[0;36m_LazyTickList.__get__\u001b[0;34m(self, instance, cls)\u001b[0m\n\u001b[1;32m    597\u001b[0m \u001b[38;5;28;01mif\u001b[39;00m \u001b[38;5;28mself\u001b[39m\u001b[38;5;241m.\u001b[39m_major:\n\u001b[1;32m    598\u001b[0m     instance\u001b[38;5;241m.\u001b[39mmajorTicks \u001b[38;5;241m=\u001b[39m []\n\u001b[0;32m--> 599\u001b[0m     tick \u001b[38;5;241m=\u001b[39m \u001b[43minstance\u001b[49m\u001b[38;5;241;43m.\u001b[39;49m\u001b[43m_get_tick\u001b[49m\u001b[43m(\u001b[49m\u001b[43mmajor\u001b[49m\u001b[38;5;241;43m=\u001b[39;49m\u001b[38;5;28;43;01mTrue\u001b[39;49;00m\u001b[43m)\u001b[49m\n\u001b[1;32m    600\u001b[0m     instance\u001b[38;5;241m.\u001b[39mmajorTicks\u001b[38;5;241m.\u001b[39mappend(tick)\n\u001b[1;32m    601\u001b[0m     \u001b[38;5;28;01mreturn\u001b[39;00m instance\u001b[38;5;241m.\u001b[39mmajorTicks\n",
            "File \u001b[0;32m~/venv/lib/python3.10/site-packages/matplotlib/axis.py:1483\u001b[0m, in \u001b[0;36mAxis._get_tick\u001b[0;34m(self, major)\u001b[0m\n\u001b[1;32m   1479\u001b[0m     \u001b[38;5;28;01mraise\u001b[39;00m \u001b[38;5;167;01mNotImplementedError\u001b[39;00m(\n\u001b[1;32m   1480\u001b[0m         \u001b[38;5;124mf\u001b[39m\u001b[38;5;124m\"\u001b[39m\u001b[38;5;124mThe Axis subclass \u001b[39m\u001b[38;5;132;01m{\u001b[39;00m\u001b[38;5;28mself\u001b[39m\u001b[38;5;241m.\u001b[39m\u001b[38;5;18m__class__\u001b[39m\u001b[38;5;241m.\u001b[39m\u001b[38;5;18m__name__\u001b[39m\u001b[38;5;132;01m}\u001b[39;00m\u001b[38;5;124m must define \u001b[39m\u001b[38;5;124m\"\u001b[39m\n\u001b[1;32m   1481\u001b[0m         \u001b[38;5;124m\"\u001b[39m\u001b[38;5;124m_tick_class or reimplement _get_tick()\u001b[39m\u001b[38;5;124m\"\u001b[39m)\n\u001b[1;32m   1482\u001b[0m tick_kw \u001b[38;5;241m=\u001b[39m \u001b[38;5;28mself\u001b[39m\u001b[38;5;241m.\u001b[39m_major_tick_kw \u001b[38;5;28;01mif\u001b[39;00m major \u001b[38;5;28;01melse\u001b[39;00m \u001b[38;5;28mself\u001b[39m\u001b[38;5;241m.\u001b[39m_minor_tick_kw\n\u001b[0;32m-> 1483\u001b[0m \u001b[38;5;28;01mreturn\u001b[39;00m \u001b[38;5;28;43mself\u001b[39;49m\u001b[38;5;241;43m.\u001b[39;49m\u001b[43m_tick_class\u001b[49m\u001b[43m(\u001b[49m\u001b[38;5;28;43mself\u001b[39;49m\u001b[38;5;241;43m.\u001b[39;49m\u001b[43maxes\u001b[49m\u001b[43m,\u001b[49m\u001b[43m \u001b[49m\u001b[38;5;241;43m0\u001b[39;49m\u001b[43m,\u001b[49m\u001b[43m \u001b[49m\u001b[43mmajor\u001b[49m\u001b[38;5;241;43m=\u001b[39;49m\u001b[43mmajor\u001b[49m\u001b[43m,\u001b[49m\u001b[43m \u001b[49m\u001b[38;5;241;43m*\u001b[39;49m\u001b[38;5;241;43m*\u001b[39;49m\u001b[43mtick_kw\u001b[49m\u001b[43m)\u001b[49m\n",
            "File \u001b[0;32m~/venv/lib/python3.10/site-packages/matplotlib/axis.py:422\u001b[0m, in \u001b[0;36mXTick.__init__\u001b[0;34m(self, *args, **kwargs)\u001b[0m\n\u001b[1;32m    421\u001b[0m \u001b[38;5;28;01mdef\u001b[39;00m\u001b[38;5;250m \u001b[39m\u001b[38;5;21m__init__\u001b[39m(\u001b[38;5;28mself\u001b[39m, \u001b[38;5;241m*\u001b[39margs, \u001b[38;5;241m*\u001b[39m\u001b[38;5;241m*\u001b[39mkwargs):\n\u001b[0;32m--> 422\u001b[0m     \u001b[38;5;28;43msuper\u001b[39;49m\u001b[43m(\u001b[49m\u001b[43m)\u001b[49m\u001b[38;5;241;43m.\u001b[39;49m\u001b[38;5;21;43m__init__\u001b[39;49m\u001b[43m(\u001b[49m\u001b[38;5;241;43m*\u001b[39;49m\u001b[43margs\u001b[49m\u001b[43m,\u001b[49m\u001b[43m \u001b[49m\u001b[38;5;241;43m*\u001b[39;49m\u001b[38;5;241;43m*\u001b[39;49m\u001b[43mkwargs\u001b[49m\u001b[43m)\u001b[49m\n\u001b[1;32m    423\u001b[0m     \u001b[38;5;66;03m# x in data coords, y in axes coords\u001b[39;00m\n\u001b[1;32m    424\u001b[0m     ax \u001b[38;5;241m=\u001b[39m \u001b[38;5;28mself\u001b[39m\u001b[38;5;241m.\u001b[39maxes\n",
            "File \u001b[0;32m~/venv/lib/python3.10/site-packages/matplotlib/axis.py:183\u001b[0m, in \u001b[0;36mTick.__init__\u001b[0;34m(self, axes, loc, size, width, color, tickdir, pad, labelsize, labelcolor, zorder, gridOn, tick1On, tick2On, label1On, label2On, major, labelrotation, grid_color, grid_linestyle, grid_linewidth, grid_alpha, **kwargs)\u001b[0m\n\u001b[1;32m    174\u001b[0m \u001b[38;5;28mself\u001b[39m\u001b[38;5;241m.\u001b[39mlabel1 \u001b[38;5;241m=\u001b[39m mtext\u001b[38;5;241m.\u001b[39mText(\n\u001b[1;32m    175\u001b[0m     np\u001b[38;5;241m.\u001b[39mnan, np\u001b[38;5;241m.\u001b[39mnan,\n\u001b[1;32m    176\u001b[0m     fontsize\u001b[38;5;241m=\u001b[39mlabelsize, color\u001b[38;5;241m=\u001b[39mlabelcolor, visible\u001b[38;5;241m=\u001b[39mlabel1On,\n\u001b[1;32m    177\u001b[0m     rotation\u001b[38;5;241m=\u001b[39m\u001b[38;5;28mself\u001b[39m\u001b[38;5;241m.\u001b[39m_labelrotation[\u001b[38;5;241m1\u001b[39m])\n\u001b[1;32m    178\u001b[0m \u001b[38;5;28mself\u001b[39m\u001b[38;5;241m.\u001b[39mlabel2 \u001b[38;5;241m=\u001b[39m mtext\u001b[38;5;241m.\u001b[39mText(\n\u001b[1;32m    179\u001b[0m     np\u001b[38;5;241m.\u001b[39mnan, np\u001b[38;5;241m.\u001b[39mnan,\n\u001b[1;32m    180\u001b[0m     fontsize\u001b[38;5;241m=\u001b[39mlabelsize, color\u001b[38;5;241m=\u001b[39mlabelcolor, visible\u001b[38;5;241m=\u001b[39mlabel2On,\n\u001b[1;32m    181\u001b[0m     rotation\u001b[38;5;241m=\u001b[39m\u001b[38;5;28mself\u001b[39m\u001b[38;5;241m.\u001b[39m_labelrotation[\u001b[38;5;241m1\u001b[39m])\n\u001b[0;32m--> 183\u001b[0m \u001b[38;5;28;43mself\u001b[39;49m\u001b[38;5;241;43m.\u001b[39;49m\u001b[43m_apply_tickdir\u001b[49m\u001b[43m(\u001b[49m\u001b[43mtickdir\u001b[49m\u001b[43m)\u001b[49m\n\u001b[1;32m    185\u001b[0m \u001b[38;5;28;01mfor\u001b[39;00m artist \u001b[38;5;129;01min\u001b[39;00m [\u001b[38;5;28mself\u001b[39m\u001b[38;5;241m.\u001b[39mtick1line, \u001b[38;5;28mself\u001b[39m\u001b[38;5;241m.\u001b[39mtick2line, \u001b[38;5;28mself\u001b[39m\u001b[38;5;241m.\u001b[39mgridline,\n\u001b[1;32m    186\u001b[0m                \u001b[38;5;28mself\u001b[39m\u001b[38;5;241m.\u001b[39mlabel1, \u001b[38;5;28mself\u001b[39m\u001b[38;5;241m.\u001b[39mlabel2]:\n\u001b[1;32m    187\u001b[0m     \u001b[38;5;28mself\u001b[39m\u001b[38;5;241m.\u001b[39m_set_artist_props(artist)\n",
            "File \u001b[0;32m~/venv/lib/python3.10/site-packages/matplotlib/axis.py:457\u001b[0m, in \u001b[0;36mXTick._apply_tickdir\u001b[0;34m(self, tickdir)\u001b[0m\n\u001b[1;32m    451\u001b[0m \u001b[38;5;28msuper\u001b[39m()\u001b[38;5;241m.\u001b[39m_apply_tickdir(tickdir)\n\u001b[1;32m    452\u001b[0m mark1, mark2 \u001b[38;5;241m=\u001b[39m {\n\u001b[1;32m    453\u001b[0m     \u001b[38;5;124m'\u001b[39m\u001b[38;5;124mout\u001b[39m\u001b[38;5;124m'\u001b[39m: (mlines\u001b[38;5;241m.\u001b[39mTICKDOWN, mlines\u001b[38;5;241m.\u001b[39mTICKUP),\n\u001b[1;32m    454\u001b[0m     \u001b[38;5;124m'\u001b[39m\u001b[38;5;124min\u001b[39m\u001b[38;5;124m'\u001b[39m: (mlines\u001b[38;5;241m.\u001b[39mTICKUP, mlines\u001b[38;5;241m.\u001b[39mTICKDOWN),\n\u001b[1;32m    455\u001b[0m     \u001b[38;5;124m'\u001b[39m\u001b[38;5;124minout\u001b[39m\u001b[38;5;124m'\u001b[39m: (\u001b[38;5;124m'\u001b[39m\u001b[38;5;124m|\u001b[39m\u001b[38;5;124m'\u001b[39m, \u001b[38;5;124m'\u001b[39m\u001b[38;5;124m|\u001b[39m\u001b[38;5;124m'\u001b[39m),\n\u001b[1;32m    456\u001b[0m }[\u001b[38;5;28mself\u001b[39m\u001b[38;5;241m.\u001b[39m_tickdir]\n\u001b[0;32m--> 457\u001b[0m \u001b[38;5;28;43mself\u001b[39;49m\u001b[38;5;241;43m.\u001b[39;49m\u001b[43mtick1line\u001b[49m\u001b[38;5;241;43m.\u001b[39;49m\u001b[43mset_marker\u001b[49m\u001b[43m(\u001b[49m\u001b[43mmark1\u001b[49m\u001b[43m)\u001b[49m\n\u001b[1;32m    458\u001b[0m \u001b[38;5;28mself\u001b[39m\u001b[38;5;241m.\u001b[39mtick2line\u001b[38;5;241m.\u001b[39mset_marker(mark2)\n",
            "File \u001b[0;32m~/venv/lib/python3.10/site-packages/matplotlib/lines.py:1195\u001b[0m, in \u001b[0;36mLine2D.set_marker\u001b[0;34m(self, marker)\u001b[0m\n\u001b[1;32m   1184\u001b[0m \u001b[38;5;129m@_docstring\u001b[39m\u001b[38;5;241m.\u001b[39minterpd\n\u001b[1;32m   1185\u001b[0m \u001b[38;5;28;01mdef\u001b[39;00m\u001b[38;5;250m \u001b[39m\u001b[38;5;21mset_marker\u001b[39m(\u001b[38;5;28mself\u001b[39m, marker):\n\u001b[1;32m   1186\u001b[0m \u001b[38;5;250m    \u001b[39m\u001b[38;5;124;03m\"\"\"\u001b[39;00m\n\u001b[1;32m   1187\u001b[0m \u001b[38;5;124;03m    Set the line marker.\u001b[39;00m\n\u001b[1;32m   1188\u001b[0m \n\u001b[0;32m   (...)\u001b[0m\n\u001b[1;32m   1193\u001b[0m \u001b[38;5;124;03m        arguments.\u001b[39;00m\n\u001b[1;32m   1194\u001b[0m \u001b[38;5;124;03m    \"\"\"\u001b[39;00m\n\u001b[0;32m-> 1195\u001b[0m     \u001b[38;5;28mself\u001b[39m\u001b[38;5;241m.\u001b[39m_marker \u001b[38;5;241m=\u001b[39m \u001b[43mMarkerStyle\u001b[49m\u001b[43m(\u001b[49m\u001b[43mmarker\u001b[49m\u001b[43m,\u001b[49m\u001b[43m \u001b[49m\u001b[38;5;28;43mself\u001b[39;49m\u001b[38;5;241;43m.\u001b[39;49m\u001b[43m_marker\u001b[49m\u001b[38;5;241;43m.\u001b[39;49m\u001b[43mget_fillstyle\u001b[49m\u001b[43m(\u001b[49m\u001b[43m)\u001b[49m\u001b[43m)\u001b[49m\n\u001b[1;32m   1196\u001b[0m     \u001b[38;5;28mself\u001b[39m\u001b[38;5;241m.\u001b[39mstale \u001b[38;5;241m=\u001b[39m \u001b[38;5;28;01mTrue\u001b[39;00m\n",
            "File \u001b[0;32m~/venv/lib/python3.10/site-packages/matplotlib/markers.py:272\u001b[0m, in \u001b[0;36mMarkerStyle.__init__\u001b[0;34m(self, marker, fillstyle, transform, capstyle, joinstyle)\u001b[0m\n\u001b[1;32m    267\u001b[0m     marker \u001b[38;5;241m=\u001b[39m \u001b[38;5;124m\"\u001b[39m\u001b[38;5;124m\"\u001b[39m\n\u001b[1;32m    268\u001b[0m     _api\u001b[38;5;241m.\u001b[39mwarn_deprecated(\n\u001b[1;32m    269\u001b[0m         \u001b[38;5;124m\"\u001b[39m\u001b[38;5;124m3.6\u001b[39m\u001b[38;5;124m\"\u001b[39m, message\u001b[38;5;241m=\u001b[39m\u001b[38;5;124m\"\u001b[39m\u001b[38;5;124mMarkerStyle(None) is deprecated since \u001b[39m\u001b[38;5;124m\"\u001b[39m\n\u001b[1;32m    270\u001b[0m         \u001b[38;5;124m\"\u001b[39m\u001b[38;5;132;01m%(since)s\u001b[39;00m\u001b[38;5;124m; support will be removed \u001b[39m\u001b[38;5;132;01m%(removal)s\u001b[39;00m\u001b[38;5;124m.  Use \u001b[39m\u001b[38;5;124m\"\u001b[39m\n\u001b[1;32m    271\u001b[0m         \u001b[38;5;124m\"\u001b[39m\u001b[38;5;124mMarkerStyle(\u001b[39m\u001b[38;5;124m'\u001b[39m\u001b[38;5;124m'\u001b[39m\u001b[38;5;124m) to construct an empty MarkerStyle.\u001b[39m\u001b[38;5;124m\"\u001b[39m)\n\u001b[0;32m--> 272\u001b[0m \u001b[38;5;28;43mself\u001b[39;49m\u001b[38;5;241;43m.\u001b[39;49m\u001b[43m_set_marker\u001b[49m\u001b[43m(\u001b[49m\u001b[43mmarker\u001b[49m\u001b[43m)\u001b[49m\n",
            "File \u001b[0;32m~/venv/lib/python3.10/site-packages/matplotlib/markers.py:347\u001b[0m, in \u001b[0;36mMarkerStyle._set_marker\u001b[0;34m(self, marker)\u001b[0m\n\u001b[1;32m    345\u001b[0m \u001b[38;5;28;01melif\u001b[39;00m \u001b[38;5;28misinstance\u001b[39m(marker, Path):\n\u001b[1;32m    346\u001b[0m     \u001b[38;5;28mself\u001b[39m\u001b[38;5;241m.\u001b[39m_marker_function \u001b[38;5;241m=\u001b[39m \u001b[38;5;28mself\u001b[39m\u001b[38;5;241m.\u001b[39m_set_path_marker\n\u001b[0;32m--> 347\u001b[0m \u001b[38;5;28;01melif\u001b[39;00m (\u001b[38;5;28;43misinstance\u001b[39;49m\u001b[43m(\u001b[49m\u001b[43mmarker\u001b[49m\u001b[43m,\u001b[49m\u001b[43m \u001b[49m\u001b[43mSized\u001b[49m\u001b[43m)\u001b[49m \u001b[38;5;129;01mand\u001b[39;00m \u001b[38;5;28mlen\u001b[39m(marker) \u001b[38;5;129;01min\u001b[39;00m (\u001b[38;5;241m2\u001b[39m, \u001b[38;5;241m3\u001b[39m) \u001b[38;5;129;01mand\u001b[39;00m\n\u001b[1;32m    348\u001b[0m         marker[\u001b[38;5;241m1\u001b[39m] \u001b[38;5;129;01min\u001b[39;00m (\u001b[38;5;241m0\u001b[39m, \u001b[38;5;241m1\u001b[39m, \u001b[38;5;241m2\u001b[39m)):\n\u001b[1;32m    349\u001b[0m     \u001b[38;5;28mself\u001b[39m\u001b[38;5;241m.\u001b[39m_marker_function \u001b[38;5;241m=\u001b[39m \u001b[38;5;28mself\u001b[39m\u001b[38;5;241m.\u001b[39m_set_tuple_marker\n\u001b[1;32m    350\u001b[0m \u001b[38;5;28;01melif\u001b[39;00m (\u001b[38;5;129;01mnot\u001b[39;00m \u001b[38;5;28misinstance\u001b[39m(marker, (np\u001b[38;5;241m.\u001b[39mndarray, \u001b[38;5;28mlist\u001b[39m)) \u001b[38;5;129;01mand\u001b[39;00m\n\u001b[1;32m    351\u001b[0m       marker \u001b[38;5;129;01min\u001b[39;00m \u001b[38;5;28mself\u001b[39m\u001b[38;5;241m.\u001b[39mmarkers):\n",
            "File \u001b[0;32m/usr/local/lib/python3.10/abc.py:119\u001b[0m, in \u001b[0;36mABCMeta.__instancecheck__\u001b[0;34m(cls, instance)\u001b[0m\n\u001b[1;32m    117\u001b[0m \u001b[38;5;28;01mdef\u001b[39;00m\u001b[38;5;250m \u001b[39m\u001b[38;5;21m__instancecheck__\u001b[39m(\u001b[38;5;28mcls\u001b[39m, instance):\n\u001b[1;32m    118\u001b[0m \u001b[38;5;250m    \u001b[39m\u001b[38;5;124;03m\"\"\"Override for isinstance(instance, cls).\"\"\"\u001b[39;00m\n\u001b[0;32m--> 119\u001b[0m     \u001b[38;5;28;01mreturn\u001b[39;00m \u001b[43m_abc_instancecheck\u001b[49m\u001b[43m(\u001b[49m\u001b[38;5;28;43mcls\u001b[39;49m\u001b[43m,\u001b[49m\u001b[43m \u001b[49m\u001b[43minstance\u001b[49m\u001b[43m)\u001b[49m\n",
            "File \u001b[0;32m/usr/local/lib/python3.10/abc.py:123\u001b[0m, in \u001b[0;36mABCMeta.__subclasscheck__\u001b[0;34m(cls, subclass)\u001b[0m\n\u001b[1;32m    121\u001b[0m \u001b[38;5;28;01mdef\u001b[39;00m\u001b[38;5;250m \u001b[39m\u001b[38;5;21m__subclasscheck__\u001b[39m(\u001b[38;5;28mcls\u001b[39m, subclass):\n\u001b[1;32m    122\u001b[0m \u001b[38;5;250m    \u001b[39m\u001b[38;5;124;03m\"\"\"Override for issubclass(subclass, cls).\"\"\"\u001b[39;00m\n\u001b[0;32m--> 123\u001b[0m     \u001b[38;5;28;01mreturn\u001b[39;00m \u001b[43m_abc_subclasscheck\u001b[49m\u001b[43m(\u001b[49m\u001b[38;5;28;43mcls\u001b[39;49m\u001b[43m,\u001b[49m\u001b[43m \u001b[49m\u001b[43msubclass\u001b[49m\u001b[43m)\u001b[49m\n",
            "File \u001b[0;32m/usr/local/lib/python3.10/abc.py:123\u001b[0m, in \u001b[0;36mABCMeta.__subclasscheck__\u001b[0;34m(cls, subclass)\u001b[0m\n\u001b[1;32m    121\u001b[0m \u001b[38;5;28;01mdef\u001b[39;00m\u001b[38;5;250m \u001b[39m\u001b[38;5;21m__subclasscheck__\u001b[39m(\u001b[38;5;28mcls\u001b[39m, subclass):\n\u001b[1;32m    122\u001b[0m \u001b[38;5;250m    \u001b[39m\u001b[38;5;124;03m\"\"\"Override for issubclass(subclass, cls).\"\"\"\u001b[39;00m\n\u001b[0;32m--> 123\u001b[0m     \u001b[38;5;28;01mreturn\u001b[39;00m \u001b[43m_abc_subclasscheck\u001b[49m\u001b[43m(\u001b[49m\u001b[38;5;28;43mcls\u001b[39;49m\u001b[43m,\u001b[49m\u001b[43m \u001b[49m\u001b[43msubclass\u001b[49m\u001b[43m)\u001b[49m\n",
            "    \u001b[0;31m[... skipping similar frames: ABCMeta.__subclasscheck__ at line 123 (2 times)]\u001b[0m\n",
            "File \u001b[0;32m/usr/local/lib/python3.10/abc.py:123\u001b[0m, in \u001b[0;36mABCMeta.__subclasscheck__\u001b[0;34m(cls, subclass)\u001b[0m\n\u001b[1;32m    121\u001b[0m \u001b[38;5;28;01mdef\u001b[39;00m\u001b[38;5;250m \u001b[39m\u001b[38;5;21m__subclasscheck__\u001b[39m(\u001b[38;5;28mcls\u001b[39m, subclass):\n\u001b[1;32m    122\u001b[0m \u001b[38;5;250m    \u001b[39m\u001b[38;5;124;03m\"\"\"Override for issubclass(subclass, cls).\"\"\"\u001b[39;00m\n\u001b[0;32m--> 123\u001b[0m     \u001b[38;5;28;01mreturn\u001b[39;00m \u001b[43m_abc_subclasscheck\u001b[49m\u001b[43m(\u001b[49m\u001b[38;5;28;43mcls\u001b[39;49m\u001b[43m,\u001b[49m\u001b[43m \u001b[49m\u001b[43msubclass\u001b[49m\u001b[43m)\u001b[49m\n",
            "\u001b[0;31mKeyboardInterrupt\u001b[0m: "
          ]
        },
        {
          "data": {
            "text/plain": "<Figure size 1000x1000 with 0 Axes>"
          },
          "metadata": {},
          "output_type": "display_data"
        }
      ],
      "outputs_reference": null,
      "content_dependencies": null
    },
    {
      "cell_type": "markdown",
      "metadata": {
        "cell_id": "35f3341231624ee0816b00395a5a4715",
        "deepnote_cell_type": "text-cell-p"
      },
      "source": "The plot has been generated successfully, displaying the game grid by transport score using the 'viridis' colormap. Let me know if you need further analysis or adjustments.",
      "block_group": "8da4db8806ae4bab837bf748decb33e1"
    },
    {
      "cell_type": "markdown",
      "metadata": {
        "formattedRanges": [
          {
            "type": "marks",
            "marks": {
              "bold": true
            },
            "toCodePoint": 49,
            "fromCodePoint": 0
          }
        ],
        "cell_id": "1d715de43e074e458a7ab2dabd6676de",
        "deepnote_cell_type": "text-cell-p"
      },
      "source": "Convert Game Grid into routing network (provided)\r\nTravel time in minutes between two cells x, y: T(x,y) = 20/(x.transport_score + y.transport_score)\r\nEach grid cell can be connected only to immediate neighbors (up to 8: NW, N, NE, E, SE, S, SW, W)\r",
      "block_group": "274f45f630294a81bc4b8d1761377192"
    },
    {
      "cell_type": "code",
      "metadata": {
        "source_hash": "295085b9",
        "execution_start": 1753803640042,
        "execution_millis": 60057,
        "execution_context_id": "6bcbe7b0-968e-40d1-8a16-fde552e2efc5",
        "deepnote_to_be_reexecuted": true,
        "cell_id": "e314207388934e99ac9b366a228cf66c",
        "deepnote_cell_type": "code"
      },
      "source": "\n# G = nx.Graph()\n# for idx, row in game_grid_df.iterrows():\n#     G.add_node(idx, transport_score=row['transport_score'], geometry=row.geometry)\n\n# adj = gpd.sjoin(game_grid_df, game_grid_df, how=\"inner\", predicate='touches')\n\n# adj = adj.reset_index()\n\n# adj = adj.rename(columns={'index': 'index_left', 'index_right': 'index_right'}) \n\n# print(adj.columns)\n# adj = adj[adj['index_left'] < adj['index_right']] \n\n# for i, j in zip(adj['index_left'], adj['index_right']):\n#     s_i = game_grid_df.at[i, 'transport_score']\n#     s_j = game_grid_df.at[j, 'transport_score']\n#     G.add_edge(i, j, weight=20.0 / (s_i + s_j))\n\n# print(len(game_grid_df))\n# print(G.number_of_nodes())\n# print(G.number_of_edges())\n# adj[\"index_left\"].value_counts()\n\n# # nx.draw_networkx(G, pos=nx.get_node_attributes(G, 'geometry'), node_color=nx.get_node_attributes(G, 'transport_score'), node_size=10)",
      "block_group": "d97fbdf4afc04b26a3ba7b551c73afba",
      "execution_count": 9,
      "outputs": [
        {
          "name": "stdout",
          "text": "Index(['index_left', 'EASTING_left', 'NORTHING_left', 'kmSQ_ID_left',\n       'GZD_left', 'Shape_Leng_left', 'MGRS_left', 'MGRS_10km_left',\n       'transport_score_left', 'geometry', 'index_right', 'EASTING_right',\n       'NORTHING_right', 'kmSQ_ID_right', 'GZD_right', 'Shape_Leng_right',\n       'MGRS_right', 'MGRS_10km_right', 'transport_score_right'],\n      dtype='object')\n232567\n232567\n1302971\n",
          "output_type": "stream"
        }
      ],
      "outputs_reference": null,
      "content_dependencies": null
    },
    {
      "cell_type": "code",
      "metadata": {
        "source_hash": "b3f552be",
        "execution_start": 1753804406278,
        "execution_millis": 1,
        "execution_context_id": "6bcbe7b0-968e-40d1-8a16-fde552e2efc5",
        "deepnote_to_be_reexecuted": true,
        "cell_id": "fe1afb0e3e2f4e46a77c1558a8b267ae",
        "deepnote_cell_type": "code"
      },
      "source": "print(game_grid_df.iloc[1][\"EASTING\"])",
      "block_group": "7b8ce654a66247038aa60918e8178719",
      "execution_count": 33,
      "outputs": [
        {
          "name": "stdout",
          "text": "597000mE\n",
          "output_type": "stream"
        }
      ],
      "outputs_reference": null,
      "content_dependencies": null
    },
    {
      "cell_type": "code",
      "metadata": {
        "source_hash": "78fdb898",
        "execution_start": 1753811190209,
        "execution_millis": 28467,
        "execution_context_id": "985ff817-7ce4-41b9-b8fb-fc7eeb87fa87",
        "deepnote_to_be_reexecuted": true,
        "cell_id": "29261e5200a34b88bb924d653f0d2085",
        "deepnote_cell_type": "code"
      },
      "source": "G = nx.Graph()\nfor idx, row in game_grid_df.iterrows():\n    G.add_node(idx, transport_score=row['transport_score'], geometry = row.geometry)\n\ndirs = {\n    \"N\":  (0, 1000),\n    \"NE\": (1000, 1000),\n    \"E\":  (1000, 0),\n    \"SE\": (1000, -1000),\n    \"S\":  (0, -1000),\n    \"SW\": (-1000, -1000),\n    \"W\":  (-1000, 0),\n    \"NW\": (-1000, 1000),\n}\n# print(dirs[\"N\"])\ncoord_to_index = {\n    (row.E, row.N): idx for idx, row in game_grid_df.iterrows()\n}\nfor idx, row in game_grid_df.iterrows():\n    e, n = row.E, row.N\n    trans1 = row.transport_score\n    for dx, dy in dirs.values():\n        neighbor_coord = (e + dx, n + dy)\n        neighbor_idx = coord_to_index.get(neighbor_coord)\n        if neighbor_idx is not None:\n            trans2 = game_grid_df.loc[neighbor_idx, 'transport_score']\n            G.add_edge(idx, neighbor_idx, weight=20.0 / (trans1 + trans2))\n\n# for curr_index in range(len(game_grid_df[:10])):\n#     for potential_index in range(len(game_grid_df[:10])): \n#         for key in dirs.keys():\n#             # print(type(current_node))\n#             # print(type(potential_node))\n#             changex = dirs[key][0]\n#             changey = dirs[key][1]\n#             if(int(game_grid_df.iloc[curr_index][\"EASTING\"][:-2])+changex==int(game_grid_df.iloc[potential_index][\"EASTING\"][:-2]) and int(game_grid_df.iloc[curr_index][\"NORTHING\"][:-2])+changey==int(game_grid_df.iloc[potential_index][\"NORTHING\"][:-2])):\n#                 trans1 = game_grid_df.iloc[curr_index][\"transport_score\"]\n#                 trans2 = game_grid_df.iloc[potential_index][\"transport_score\"]\n#                 G.add_edge(curr_index,potential_index,weight = 20.0/(trans1+trans2))\nprint(len(game_grid_df))\nprint(G.number_of_nodes())\nprint(G.number_of_edges())\n# Eddie \n",
      "block_group": "878ab420d8da4ad9864fdaf819f40f49",
      "execution_count": 51,
      "outputs": [
        {
          "name": "stdout",
          "text": "232567\n232567\n8\n[(0, 1), (1, 2), (2, 3), (4, 5), (5, 6), (6, 7), (7, 8), (8, 9)]\n",
          "output_type": "stream"
        }
      ],
      "outputs_reference": null,
      "content_dependencies": null
    },
    {
      "cell_type": "code",
      "metadata": {
        "source_hash": "15f22b4a",
        "execution_start": 1753812030967,
        "execution_millis": 658911,
        "execution_context_id": "985ff817-7ce4-41b9-b8fb-fc7eeb87fa87",
        "deepnote_to_be_reexecuted": true,
        "cell_id": "6ba5f41357e140ed8d73d6b4e1afa402",
        "deepnote_cell_type": "code"
      },
      "source": "myGraph = nx.Graph()\n\ndef define_weight(node1, node2, df):\n    df = df.reset_index().set_index('MGRS').drop(columns=['index', 'MGRS_10km'])\n    weight = 20 / (df.loc[node1].transport_score + df.loc[node2].transport_score)\n    return weight\n    \nfor i in range(0, len(potential_nodes)):\n    neighbors = []\n    \n    node1_x_coordinate = int(potential_nodes[i][-4:-2])\n    node1_y_coordinate = int(potential_nodes[i][-2:])\n    node1_area_code = potential_nodes[i][-6:-4]\n    node1_map_code = potential_nodes[i][:-6]\n    node1_prefix = potential_nodes[i][:-4]\n    for j in range(len(potential_nodes)):\n        \n        # Make sure Node 1 and Node 2 are not coincident\n        node2_x_coordinate = int(potential_nodes[j][-4:-2])\n        node2_y_coordinate = int(potential_nodes[j][-2:])\n        node2_area_code = potential_nodes[j][-6:-4]\n        node2_map_code = potential_nodes[j][:-6]\n        node2_prefix = potential_nodes[j][:-4]\n        \n        if (potential_nodes[i] != potential_nodes[j]):\n            # 8 Neighbors\n            if (node1_x_coordinate == node2_x_coordinate):\n                if (node2_y_coordinate == node1_y_coordinate + 1 or node2_y_coordinate == node1_y_coordinate - 1):\n                    neighbors.append(potential_nodes[j])\n            elif (node1_y_coordinate == node2_y_coordinate):\n                if (node2_x_coordinate == node1_x_coordinate + 1 or node2_x_coordinate == node1_x_coordinate - 1):\n                    neighbors.append(potential_nodes[j])\n            elif (node2_x_coordinate == node1_x_coordinate + 1 and node2_y_coordinate == node1_y_coordinate + 1):\n                neighbors.append(potential_nodes[j])\n                \n            elif (node2_x_coordinate == node1_x_coordinate + 1 and node2_y_coordinate == node1_y_coordinate - 1):\n                neighbors.append(potential_nodes[j])    \n    \n            elif (node2_x_coordinate == node1_x_coordinate - 1 and node2_y_coordinate == node1_y_coordinate + 1):\n                neighbors.append(potential_nodes[j]) \n    \n            elif (node2_x_coordinate == node1_x_coordinate - 1 and node2_y_coordinate == node1_y_coordinate - 1):\n                neighbors.append(potential_nodes[j])\n    \n            # Stop when finding all the neighbors\n            if len(neighbors) == 8:\n                break\n            \n    for neighbor_node in neighbors:\n        weight = define_weight(potential_nodes[i], neighbor_node, game_grid_df)\n        myGraph.add_edge(potential_nodes[i], neighbor_node, weight = weight)",
      "block_group": "2346574457bf48309db2f5426c292df1",
      "execution_count": 102,
      "outputs": [
        {
          "data": {
            "text/plain": "<IPython.core.display.HTML object>",
            "text/html": "\n            <style>\n                .geemap-dark {\n                    --jp-widgets-color: white;\n                    --jp-widgets-label-color: white;\n                    --jp-ui-font-color1: white;\n                    --jp-layout-color2: #454545;\n                    background-color: #383838;\n                }\n\n                .geemap-dark .jupyter-button {\n                    --jp-layout-color3: #383838;\n                }\n\n                .geemap-colab {\n                    background-color: var(--colab-primary-surface-color, white);\n                }\n\n                .geemap-colab .jupyter-button {\n                    --jp-layout-color3: var(--colab-primary-surface-color, white);\n                }\n            </style>\n            "
          },
          "metadata": {},
          "output_type": "display_data"
        },
        {
          "output_type": "error",
          "ename": "KeyboardInterrupt",
          "evalue": "",
          "traceback": [
            "\u001b[0;31m---------------------------------------------------------------------------\u001b[0m",
            "\u001b[0;31mKeyboardInterrupt\u001b[0m                         Traceback (most recent call last)",
            "Cell \u001b[0;32mIn[102], line 47\u001b[0m\n\u001b[1;32m     45\u001b[0m             \u001b[38;5;28;01mbreak\u001b[39;00m\n\u001b[1;32m     46\u001b[0m \u001b[38;5;28;01mfor\u001b[39;00m neighbor_node \u001b[38;5;129;01min\u001b[39;00m neighbors:\n\u001b[0;32m---> 47\u001b[0m     weight \u001b[38;5;241m=\u001b[39m \u001b[43mdefine_weight\u001b[49m\u001b[43m(\u001b[49m\u001b[43mpotential_nodes\u001b[49m\u001b[43m[\u001b[49m\u001b[43mi\u001b[49m\u001b[43m]\u001b[49m\u001b[43m,\u001b[49m\u001b[43m \u001b[49m\u001b[43mneighbor_node\u001b[49m\u001b[43m,\u001b[49m\u001b[43m \u001b[49m\u001b[43mgame_grid_df\u001b[49m\u001b[43m)\u001b[49m\n\u001b[1;32m     48\u001b[0m     myGraph\u001b[38;5;241m.\u001b[39madd_edge(potential_nodes[i], neighbor_node, weight \u001b[38;5;241m=\u001b[39m weight)\n",
            "Cell \u001b[0;32mIn[102], line 5\u001b[0m, in \u001b[0;36mdefine_weight\u001b[0;34m(node1, node2, df)\u001b[0m\n\u001b[1;32m      3\u001b[0m \u001b[38;5;28;01mdef\u001b[39;00m\u001b[38;5;250m \u001b[39m\u001b[38;5;21mdefine_weight\u001b[39m(node1, node2, df):\n\u001b[1;32m      4\u001b[0m     df \u001b[38;5;241m=\u001b[39m df\u001b[38;5;241m.\u001b[39mreset_index()\u001b[38;5;241m.\u001b[39mset_index(\u001b[38;5;124m'\u001b[39m\u001b[38;5;124mMGRS\u001b[39m\u001b[38;5;124m'\u001b[39m)\u001b[38;5;241m.\u001b[39mdrop(columns\u001b[38;5;241m=\u001b[39m[\u001b[38;5;124m'\u001b[39m\u001b[38;5;124mindex\u001b[39m\u001b[38;5;124m'\u001b[39m, \u001b[38;5;124m'\u001b[39m\u001b[38;5;124mMGRS_10km\u001b[39m\u001b[38;5;124m'\u001b[39m])\n\u001b[0;32m----> 5\u001b[0m     weight \u001b[38;5;241m=\u001b[39m \u001b[38;5;241m20\u001b[39m \u001b[38;5;241m/\u001b[39m (\u001b[43mdf\u001b[49m\u001b[38;5;241;43m.\u001b[39;49m\u001b[43mloc\u001b[49m\u001b[43m[\u001b[49m\u001b[43mnode1\u001b[49m\u001b[43m]\u001b[49m\u001b[38;5;241m.\u001b[39mtransport_score \u001b[38;5;241m+\u001b[39m df\u001b[38;5;241m.\u001b[39mloc[node2]\u001b[38;5;241m.\u001b[39mtransport_score)\n\u001b[1;32m      6\u001b[0m     \u001b[38;5;28;01mreturn\u001b[39;00m weight\n",
            "File \u001b[0;32m~/venv/lib/python3.10/site-packages/pandas/core/indexing.py:1153\u001b[0m, in \u001b[0;36m_LocationIndexer.__getitem__\u001b[0;34m(self, key)\u001b[0m\n\u001b[1;32m   1150\u001b[0m axis \u001b[38;5;241m=\u001b[39m \u001b[38;5;28mself\u001b[39m\u001b[38;5;241m.\u001b[39maxis \u001b[38;5;129;01mor\u001b[39;00m \u001b[38;5;241m0\u001b[39m\n\u001b[1;32m   1152\u001b[0m maybe_callable \u001b[38;5;241m=\u001b[39m com\u001b[38;5;241m.\u001b[39mapply_if_callable(key, \u001b[38;5;28mself\u001b[39m\u001b[38;5;241m.\u001b[39mobj)\n\u001b[0;32m-> 1153\u001b[0m \u001b[38;5;28;01mreturn\u001b[39;00m \u001b[38;5;28;43mself\u001b[39;49m\u001b[38;5;241;43m.\u001b[39;49m\u001b[43m_getitem_axis\u001b[49m\u001b[43m(\u001b[49m\u001b[43mmaybe_callable\u001b[49m\u001b[43m,\u001b[49m\u001b[43m \u001b[49m\u001b[43maxis\u001b[49m\u001b[38;5;241;43m=\u001b[39;49m\u001b[43maxis\u001b[49m\u001b[43m)\u001b[49m\n",
            "File \u001b[0;32m~/venv/lib/python3.10/site-packages/pandas/core/indexing.py:1393\u001b[0m, in \u001b[0;36m_LocIndexer._getitem_axis\u001b[0;34m(self, key, axis)\u001b[0m\n\u001b[1;32m   1391\u001b[0m \u001b[38;5;66;03m# fall thru to straight lookup\u001b[39;00m\n\u001b[1;32m   1392\u001b[0m \u001b[38;5;28mself\u001b[39m\u001b[38;5;241m.\u001b[39m_validate_key(key, axis)\n\u001b[0;32m-> 1393\u001b[0m \u001b[38;5;28;01mreturn\u001b[39;00m \u001b[38;5;28;43mself\u001b[39;49m\u001b[38;5;241;43m.\u001b[39;49m\u001b[43m_get_label\u001b[49m\u001b[43m(\u001b[49m\u001b[43mkey\u001b[49m\u001b[43m,\u001b[49m\u001b[43m \u001b[49m\u001b[43maxis\u001b[49m\u001b[38;5;241;43m=\u001b[39;49m\u001b[43maxis\u001b[49m\u001b[43m)\u001b[49m\n",
            "File \u001b[0;32m~/venv/lib/python3.10/site-packages/pandas/core/indexing.py:1343\u001b[0m, in \u001b[0;36m_LocIndexer._get_label\u001b[0;34m(self, label, axis)\u001b[0m\n\u001b[1;32m   1341\u001b[0m \u001b[38;5;28;01mdef\u001b[39;00m\u001b[38;5;250m \u001b[39m\u001b[38;5;21m_get_label\u001b[39m(\u001b[38;5;28mself\u001b[39m, label, axis: AxisInt):\n\u001b[1;32m   1342\u001b[0m     \u001b[38;5;66;03m# GH#5567 this will fail if the label is not present in the axis.\u001b[39;00m\n\u001b[0;32m-> 1343\u001b[0m     \u001b[38;5;28;01mreturn\u001b[39;00m \u001b[38;5;28;43mself\u001b[39;49m\u001b[38;5;241;43m.\u001b[39;49m\u001b[43mobj\u001b[49m\u001b[38;5;241;43m.\u001b[39;49m\u001b[43mxs\u001b[49m\u001b[43m(\u001b[49m\u001b[43mlabel\u001b[49m\u001b[43m,\u001b[49m\u001b[43m \u001b[49m\u001b[43maxis\u001b[49m\u001b[38;5;241;43m=\u001b[39;49m\u001b[43maxis\u001b[49m\u001b[43m)\u001b[49m\n",
            "File \u001b[0;32m~/venv/lib/python3.10/site-packages/pandas/core/generic.py:4236\u001b[0m, in \u001b[0;36mNDFrame.xs\u001b[0;34m(self, key, axis, level, drop_level)\u001b[0m\n\u001b[1;32m   4234\u001b[0m             new_index \u001b[38;5;241m=\u001b[39m index[loc]\n\u001b[1;32m   4235\u001b[0m \u001b[38;5;28;01melse\u001b[39;00m:\n\u001b[0;32m-> 4236\u001b[0m     loc \u001b[38;5;241m=\u001b[39m \u001b[43mindex\u001b[49m\u001b[38;5;241;43m.\u001b[39;49m\u001b[43mget_loc\u001b[49m\u001b[43m(\u001b[49m\u001b[43mkey\u001b[49m\u001b[43m)\u001b[49m\n\u001b[1;32m   4238\u001b[0m     \u001b[38;5;28;01mif\u001b[39;00m \u001b[38;5;28misinstance\u001b[39m(loc, np\u001b[38;5;241m.\u001b[39mndarray):\n\u001b[1;32m   4239\u001b[0m         \u001b[38;5;28;01mif\u001b[39;00m loc\u001b[38;5;241m.\u001b[39mdtype \u001b[38;5;241m==\u001b[39m np\u001b[38;5;241m.\u001b[39mbool_:\n",
            "File \u001b[0;32m~/venv/lib/python3.10/site-packages/pandas/core/indexes/base.py:3791\u001b[0m, in \u001b[0;36mIndex.get_loc\u001b[0;34m(self, key)\u001b[0m\n\u001b[1;32m   3789\u001b[0m casted_key \u001b[38;5;241m=\u001b[39m \u001b[38;5;28mself\u001b[39m\u001b[38;5;241m.\u001b[39m_maybe_cast_indexer(key)\n\u001b[1;32m   3790\u001b[0m \u001b[38;5;28;01mtry\u001b[39;00m:\n\u001b[0;32m-> 3791\u001b[0m     \u001b[38;5;28;01mreturn\u001b[39;00m \u001b[38;5;28;43mself\u001b[39;49m\u001b[38;5;241;43m.\u001b[39;49m\u001b[43m_engine\u001b[49m\u001b[38;5;241;43m.\u001b[39;49m\u001b[43mget_loc\u001b[49m\u001b[43m(\u001b[49m\u001b[43mcasted_key\u001b[49m\u001b[43m)\u001b[49m\n\u001b[1;32m   3792\u001b[0m \u001b[38;5;28;01mexcept\u001b[39;00m \u001b[38;5;167;01mKeyError\u001b[39;00m \u001b[38;5;28;01mas\u001b[39;00m err:\n\u001b[1;32m   3793\u001b[0m     \u001b[38;5;28;01mif\u001b[39;00m \u001b[38;5;28misinstance\u001b[39m(casted_key, \u001b[38;5;28mslice\u001b[39m) \u001b[38;5;129;01mor\u001b[39;00m (\n\u001b[1;32m   3794\u001b[0m         \u001b[38;5;28misinstance\u001b[39m(casted_key, abc\u001b[38;5;241m.\u001b[39mIterable)\n\u001b[1;32m   3795\u001b[0m         \u001b[38;5;129;01mand\u001b[39;00m \u001b[38;5;28many\u001b[39m(\u001b[38;5;28misinstance\u001b[39m(x, \u001b[38;5;28mslice\u001b[39m) \u001b[38;5;28;01mfor\u001b[39;00m x \u001b[38;5;129;01min\u001b[39;00m casted_key)\n\u001b[1;32m   3796\u001b[0m     ):\n",
            "File \u001b[0;32mindex.pyx:152\u001b[0m, in \u001b[0;36mpandas._libs.index.IndexEngine.get_loc\u001b[0;34m()\u001b[0m\n",
            "File \u001b[0;32mindex.pyx:176\u001b[0m, in \u001b[0;36mpandas._libs.index.IndexEngine.get_loc\u001b[0;34m()\u001b[0m\n",
            "File \u001b[0;32mindex.pyx:219\u001b[0m, in \u001b[0;36mpandas._libs.index.IndexEngine._get_loc_duplicates\u001b[0;34m()\u001b[0m\n",
            "File \u001b[0;32mindex.pyx:227\u001b[0m, in \u001b[0;36mpandas._libs.index.IndexEngine._maybe_get_bool_indexer\u001b[0;34m()\u001b[0m\n",
            "File \u001b[0;32mindex.pyx:111\u001b[0m, in \u001b[0;36mpandas._libs.index._unpack_bool_indexer\u001b[0;34m()\u001b[0m\n",
            "File \u001b[0;32m~/venv/lib/python3.10/site-packages/numpy/core/multiarray.py:346\u001b[0m, in \u001b[0;36mwhere\u001b[0;34m(condition, x, y)\u001b[0m\n\u001b[1;32m    256\u001b[0m \u001b[38;5;250m    \u001b[39m\u001b[38;5;124;03m\"\"\"\u001b[39;00m\n\u001b[1;32m    257\u001b[0m \u001b[38;5;124;03m    inner(a, b, /)\u001b[39;00m\n\u001b[1;32m    258\u001b[0m \n\u001b[0;32m   (...)\u001b[0m\n\u001b[1;32m    341\u001b[0m \n\u001b[1;32m    342\u001b[0m \u001b[38;5;124;03m    \"\"\"\u001b[39;00m\n\u001b[1;32m    343\u001b[0m     \u001b[38;5;28;01mreturn\u001b[39;00m (a, b)\n\u001b[0;32m--> 346\u001b[0m \u001b[38;5;129m@array_function_from_c_func_and_dispatcher\u001b[39m(_multiarray_umath\u001b[38;5;241m.\u001b[39mwhere)\n\u001b[1;32m    347\u001b[0m \u001b[38;5;28;01mdef\u001b[39;00m\u001b[38;5;250m \u001b[39m\u001b[38;5;21mwhere\u001b[39m(condition, x\u001b[38;5;241m=\u001b[39m\u001b[38;5;28;01mNone\u001b[39;00m, y\u001b[38;5;241m=\u001b[39m\u001b[38;5;28;01mNone\u001b[39;00m):\n\u001b[1;32m    348\u001b[0m \u001b[38;5;250m    \u001b[39m\u001b[38;5;124;03m\"\"\"\u001b[39;00m\n\u001b[1;32m    349\u001b[0m \u001b[38;5;124;03m    where(condition, [x, y], /)\u001b[39;00m\n\u001b[1;32m    350\u001b[0m \n\u001b[0;32m   (...)\u001b[0m\n\u001b[1;32m    416\u001b[0m \u001b[38;5;124;03m           [ 0,  3, -1]])\u001b[39;00m\n\u001b[1;32m    417\u001b[0m \u001b[38;5;124;03m    \"\"\"\u001b[39;00m\n\u001b[1;32m    418\u001b[0m     \u001b[38;5;28;01mreturn\u001b[39;00m (condition, x, y)\n",
            "\u001b[0;31mKeyboardInterrupt\u001b[0m: "
          ]
        }
      ],
      "outputs_reference": null,
      "content_dependencies": null
    },
    {
      "cell_type": "code",
      "metadata": {
        "source_hash": "596fa61b",
        "execution_start": 1753813029296,
        "execution_millis": 1,
        "execution_context_id": "985ff817-7ce4-41b9-b8fb-fc7eeb87fa87",
        "deepnote_to_be_reexecuted": true,
        "cell_id": "1b9596b6142a4606933a91f939ea6a55",
        "deepnote_cell_type": "code"
      },
      "source": "#Thinh Gia Ha\nprint(myGraph.number_of_edges())",
      "block_group": "59255548a78941718d6b13f468695f13",
      "execution_count": 108,
      "outputs": [
        {
          "data": {
            "text/plain": "<IPython.core.display.HTML object>",
            "text/html": "\n            <style>\n                .geemap-dark {\n                    --jp-widgets-color: white;\n                    --jp-widgets-label-color: white;\n                    --jp-ui-font-color1: white;\n                    --jp-layout-color2: #454545;\n                    background-color: #383838;\n                }\n\n                .geemap-dark .jupyter-button {\n                    --jp-layout-color3: #383838;\n                }\n\n                .geemap-colab {\n                    background-color: var(--colab-primary-surface-color, white);\n                }\n\n                .geemap-colab .jupyter-button {\n                    --jp-layout-color3: var(--colab-primary-surface-color, white);\n                }\n            </style>\n            "
          },
          "metadata": {},
          "output_type": "display_data"
        },
        {
          "name": "stdout",
          "text": "1454\n",
          "output_type": "stream"
        }
      ],
      "outputs_reference": null,
      "content_dependencies": null
    },
    {
      "cell_type": "code",
      "metadata": {
        "source_hash": "146993c0",
        "execution_start": 1753967127638,
        "execution_millis": 76310,
        "execution_context_id": "c74293c2-2daa-45ba-8e85-7f1e73b7d376",
        "cell_id": "b99d4687cc33448494a030148f695ac2",
        "deepnote_cell_type": "code"
      },
      "source": "grid_merc = game_grid_df.to_crs(epsg=3857)\nfig, ax = plt.subplots(1, 1, figsize=(10, 10))\ngrid_merc.plot(ax=ax, color='white', alpha=0.3)\n\nperimeter = d2_forecasts.to_crs(epsg=3857).geometry.union_all().convex_hull\ngpd.GeoSeries([perimeter]).plot(ax=ax, color='gray', alpha=0.5)\ninner_perimeter = perimeter.buffer(-32180) #20 miles\ngpd.GeoSeries([inner_perimeter]).plot(ax=ax, color='red', alpha=0.5)\n\n#hospital_df.to_crs(epsg=3857).plot(ax=ax, color='brown', alpha = 0.65)\n\nwestover_airbase = gpd.GeoDataFrame(geometry=[Point(-72.5436, 42.1991)], crs='EPSG:4326')\nwestover_airbase = westover_airbase.to_crs(epsg=3857)\n\ngrid_wgs = game_grid_df.to_crs(epsg=4326)\npoly = grid_wgs.geometry.union_all()\ntags = {'aeroway' :  'aerodrome'}\nairfields = ox.features_from_polygon(poly, tags=tags)\nairfields_merc = airfields.to_crs(epsg=3857)\ndistr_cntrs = airfields_merc[airfields_merc.within(perimeter)]\ndistr_cntrs = distr_cntrs[~distr_cntrs.within(inner_perimeter)]  \ndistr_cntrs = distr_cntrs[~distr_cntrs['name'].str.contains('Seaplane', case=False, na=False)]\ndistr_cntrs = distr_cntrs.iloc[list(range(0,1)) + list(range(1,2)) + list(range(3,4)) + list(range(6,7))]\ndistr_cntrs = pd.concat([distr_cntrs, westover_airbase], ignore_index=True)\ndistr_cntrs.loc[4, 'name'] = \"Westover Air Reserve Base\"\ndistr_cntrs = distr_cntrs.iloc[[1, 4, 0, 3, 2]]\ndistr_cntrs.iloc[0:1].plot(ax=ax, color='blue')\ndistr_cntrs.iloc[1:2].plot(ax=ax, color='pink')\ndistr_cntrs.iloc[2:3].plot(ax=ax, color='purple')\ndistr_cntrs.iloc[3:4].plot(ax=ax, color='orange')\ndistr_cntrs.iloc[4:5].plot(ax=ax, color='green')\nshelters_df.plot(ax=ax, color='yellow')\n#distr_cntrs.plot(ax=ax, color='yellow')\nctx.add_basemap(ax, source=ctx.providers.OpenStreetMap.Mapnik)\nax.set_axis_off()\nax.legend()\n\nplt.show()",
      "block_group": "f5a41881716048a2ae1d348e8c5a08c8",
      "execution_count": 25,
      "outputs": [
        {
          "name": "stderr",
          "text": "/root/venv/lib/python3.10/site-packages/osmnx/_overpass.py:267: UserWarning: This area is 114 times your configured Overpass max query area size. It will automatically be divided up into multiple sub-queries accordingly. This may take a long time.\n  multi_poly_proj = utils_geo._consolidate_subdivide_geometry(poly_proj)\nNo artists with labels found to put in legend.  Note that artists whose label start with an underscore are ignored when legend() is called with no argument.\n",
          "output_type": "stream"
        },
        {
          "data": {
            "text/plain": "<Figure size 1000x1000 with 1 Axes>",
            "image/png": "[encoded data removed]"
          },
          "metadata": {
            "image/png": {
              "width": 775,
              "height": 790
            }
          },
          "output_type": "display_data"
        }
      ],
      "outputs_reference": null,
      "content_dependencies": null
    },
    {
      "cell_type": "code",
      "metadata": {
        "source_hash": "3cb910a1",
        "execution_start": 1753966286198,
        "execution_millis": 32766,
        "execution_context_id": "c74293c2-2daa-45ba-8e85-7f1e73b7d376",
        "cell_id": "7ddb227148f14f6882a6ecd395e5f9a5",
        "deepnote_cell_type": "code"
      },
      "source": "",
      "block_group": "6cb4dae871a443089ba2cfd9f4dda181",
      "execution_count": 7,
      "outputs": [
        {
          "data": {
            "text/plain": "<IPython.core.display.HTML object>",
            "text/html": "<p>To authorize access needed by Earth Engine, open the following\n        URL in a web browser and follow the instructions:</p>\n        <p><a href=https://code.earthengine.google.com/client-auth?scopes=https%3A//www.googleapis.com/auth/earthengine%20https%3A//www.googleapis.com/auth/cloud-platform%20https%3A//www.googleapis.com/auth/drive%20https%3A//www.googleapis.com/auth/devstorage.full_control&request_id=-CG3UdPgPj8ey2438P6uIdEMLHxKg7bkJpZlgpuve5Y&tc=IFWIsskmJXhUdgHayEUZhyR3V4kNZjcd-qWmL3vNF3U&cc=ZFCPH1WdROFwhLt-DCEFfoGBoIJfFda8-N0BcKyalSI>https://code.earthengine.google.com/client-auth?scopes=https%3A//www.googleapis.com/auth/earthengine%20https%3A//www.googleapis.com/auth/cloud-platform%20https%3A//www.googleapis.com/auth/drive%20https%3A//www.googleapis.com/auth/devstorage.full_control&request_id=-CG3UdPgPj8ey2438P6uIdEMLHxKg7bkJpZlgpuve5Y&tc=IFWIsskmJXhUdgHayEUZhyR3V4kNZjcd-qWmL3vNF3U&cc=ZFCPH1WdROFwhLt-DCEFfoGBoIJfFda8-N0BcKyalSI</a></p>\n        <p>The authorization workflow will generate a code, which you should paste in the box below.</p>\n        "
          },
          "metadata": {},
          "output_type": "display_data"
        },
        {
          "output_type": "error",
          "ename": "EEException",
          "evalue": "Cannot authenticate: Invalid request.",
          "traceback": [
            "\u001b[0;31m---------------------------------------------------------------------------\u001b[0m",
            "\u001b[0;31mEEException\u001b[0m                               Traceback (most recent call last)",
            "Cell \u001b[0;32mIn[7], line 2\u001b[0m\n\u001b[1;32m      1\u001b[0m \u001b[38;5;28;01mtry\u001b[39;00m:\n\u001b[0;32m----> 2\u001b[0m     \u001b[43mee\u001b[49m\u001b[38;5;241;43m.\u001b[39;49m\u001b[43mInitialize\u001b[49m\u001b[43m(\u001b[49m\u001b[43m)\u001b[49m\n\u001b[1;32m      3\u001b[0m \u001b[38;5;28;01mexcept\u001b[39;00m \u001b[38;5;167;01mException\u001b[39;00m \u001b[38;5;28;01mas\u001b[39;00m e:\n",
            "File \u001b[0;32m~/venv/lib/python3.10/site-packages/ee/_utils.py:38\u001b[0m, in \u001b[0;36maccept_opt_prefix.<locals>.opt_fixed.<locals>.wrapper\u001b[0;34m(*args, **kwargs)\u001b[0m\n\u001b[1;32m     37\u001b[0m       kwargs[new_key] \u001b[38;5;241m=\u001b[39m old_key_val\n\u001b[0;32m---> 38\u001b[0m \u001b[38;5;28;01mreturn\u001b[39;00m \u001b[43mfunc\u001b[49m\u001b[43m(\u001b[49m\u001b[38;5;241;43m*\u001b[39;49m\u001b[43margs\u001b[49m\u001b[43m,\u001b[49m\u001b[43m \u001b[49m\u001b[38;5;241;43m*\u001b[39;49m\u001b[38;5;241;43m*\u001b[39;49m\u001b[43mkwargs\u001b[49m\u001b[43m)\u001b[49m\n",
            "File \u001b[0;32m~/venv/lib/python3.10/site-packages/ee/__init__.py:188\u001b[0m, in \u001b[0;36mInitialize\u001b[0;34m(credentials, url, cloud_api_key, http_transport, project)\u001b[0m\n\u001b[1;32m    187\u001b[0m \u001b[38;5;28;01mif\u001b[39;00m credentials \u001b[38;5;241m==\u001b[39m \u001b[38;5;124m'\u001b[39m\u001b[38;5;124mpersistent\u001b[39m\u001b[38;5;124m'\u001b[39m:\n\u001b[0;32m--> 188\u001b[0m   credentials \u001b[38;5;241m=\u001b[39m \u001b[43mdata\u001b[49m\u001b[38;5;241;43m.\u001b[39;49m\u001b[43mget_persistent_credentials\u001b[49m\u001b[43m(\u001b[49m\u001b[43m)\u001b[49m\n\u001b[1;32m    189\u001b[0m \u001b[38;5;28;01mif\u001b[39;00m \u001b[38;5;129;01mnot\u001b[39;00m project \u001b[38;5;129;01mand\u001b[39;00m credentials \u001b[38;5;129;01mand\u001b[39;00m \u001b[38;5;28mhasattr\u001b[39m(credentials, \u001b[38;5;124m'\u001b[39m\u001b[38;5;124mquota_project_id\u001b[39m\u001b[38;5;124m'\u001b[39m):\n",
            "File \u001b[0;32m~/venv/lib/python3.10/site-packages/ee/data.py:282\u001b[0m, in \u001b[0;36mget_persistent_credentials\u001b[0;34m()\u001b[0m\n\u001b[1;32m    281\u001b[0m     \u001b[38;5;28;01mreturn\u001b[39;00m credentials\n\u001b[0;32m--> 282\u001b[0m \u001b[38;5;28;01mraise\u001b[39;00m ee_exception\u001b[38;5;241m.\u001b[39mEEException(  \u001b[38;5;66;03m# pylint: disable=raise-missing-from\u001b[39;00m\n\u001b[1;32m    283\u001b[0m     \u001b[38;5;124m'\u001b[39m\u001b[38;5;124mPlease authorize access to your Earth Engine account by \u001b[39m\u001b[38;5;124m'\u001b[39m\n\u001b[1;32m    284\u001b[0m     \u001b[38;5;124m'\u001b[39m\u001b[38;5;124mrunning\u001b[39m\u001b[38;5;130;01m\\n\u001b[39;00m\u001b[38;5;130;01m\\n\u001b[39;00m\u001b[38;5;124mearthengine authenticate\u001b[39m\u001b[38;5;130;01m\\n\u001b[39;00m\u001b[38;5;130;01m\\n\u001b[39;00m\u001b[38;5;124m'\u001b[39m\n\u001b[1;32m    285\u001b[0m     \u001b[38;5;124m'\u001b[39m\u001b[38;5;124min your command line, or ee.Authenticate() in Python, and then retry.\u001b[39m\u001b[38;5;124m'\u001b[39m\n\u001b[1;32m    286\u001b[0m )\n",
            "\u001b[0;31mEEException\u001b[0m: Please authorize access to your Earth Engine account by running\n\nearthengine authenticate\n\nin your command line, or ee.Authenticate() in Python, and then retry.",
            "\nDuring handling of the above exception, another exception occurred:\n",
            "\u001b[0;31mEEException\u001b[0m                               Traceback (most recent call last)",
            "Cell \u001b[0;32mIn[7], line 4\u001b[0m\n\u001b[1;32m      2\u001b[0m     ee\u001b[38;5;241m.\u001b[39mInitialize()\n\u001b[1;32m      3\u001b[0m \u001b[38;5;28;01mexcept\u001b[39;00m \u001b[38;5;167;01mException\u001b[39;00m \u001b[38;5;28;01mas\u001b[39;00m e:\n\u001b[0;32m----> 4\u001b[0m     \u001b[43mee\u001b[49m\u001b[38;5;241;43m.\u001b[39;49m\u001b[43mAuthenticate\u001b[49m\u001b[43m(\u001b[49m\u001b[43m)\u001b[49m\n\u001b[1;32m      5\u001b[0m     ee\u001b[38;5;241m.\u001b[39mInitialize()\n\u001b[1;32m      6\u001b[0m \u001b[38;5;66;03m#Only maps population density for New England (from Google Earth Engine)\u001b[39;00m\n",
            "File \u001b[0;32m~/venv/lib/python3.10/site-packages/ee/__init__.py:159\u001b[0m, in \u001b[0;36mAuthenticate\u001b[0;34m(authorization_code, quiet, code_verifier, auth_mode, scopes, force)\u001b[0m\n\u001b[1;32m    128\u001b[0m \u001b[38;5;28;01mdef\u001b[39;00m\u001b[38;5;250m \u001b[39m\u001b[38;5;21mAuthenticate\u001b[39m(\n\u001b[1;32m    129\u001b[0m     authorization_code: Optional[\u001b[38;5;28mstr\u001b[39m] \u001b[38;5;241m=\u001b[39m \u001b[38;5;28;01mNone\u001b[39;00m,\n\u001b[1;32m    130\u001b[0m     quiet: Optional[\u001b[38;5;28mbool\u001b[39m] \u001b[38;5;241m=\u001b[39m \u001b[38;5;28;01mNone\u001b[39;00m,\n\u001b[0;32m   (...)\u001b[0m\n\u001b[1;32m    134\u001b[0m     force: \u001b[38;5;28mbool\u001b[39m \u001b[38;5;241m=\u001b[39m \u001b[38;5;28;01mFalse\u001b[39;00m,\n\u001b[1;32m    135\u001b[0m ) \u001b[38;5;241m-\u001b[39m\u001b[38;5;241m>\u001b[39m Optional[\u001b[38;5;28mbool\u001b[39m]:\n\u001b[1;32m    136\u001b[0m \u001b[38;5;250m  \u001b[39m\u001b[38;5;124;03m\"\"\"Prompts the user to authorize access to Earth Engine via OAuth2.\u001b[39;00m\n\u001b[1;32m    137\u001b[0m \n\u001b[1;32m    138\u001b[0m \u001b[38;5;124;03m  Args:\u001b[39;00m\n\u001b[0;32m   (...)\u001b[0m\n\u001b[1;32m    157\u001b[0m \u001b[38;5;124;03m    True if we found valid credentials and didn't run the auth flow.\u001b[39;00m\n\u001b[1;32m    158\u001b[0m \u001b[38;5;124;03m  \"\"\"\u001b[39;00m\n\u001b[0;32m--> 159\u001b[0m   \u001b[38;5;28;01mreturn\u001b[39;00m \u001b[43moauth\u001b[49m\u001b[38;5;241;43m.\u001b[39;49m\u001b[43mauthenticate\u001b[49m\u001b[43m(\u001b[49m\u001b[43mauthorization_code\u001b[49m\u001b[43m,\u001b[49m\u001b[43m \u001b[49m\u001b[43mquiet\u001b[49m\u001b[43m,\u001b[49m\u001b[43m \u001b[49m\u001b[43mcode_verifier\u001b[49m\u001b[43m,\u001b[49m\u001b[43m \u001b[49m\u001b[43mauth_mode\u001b[49m\u001b[43m,\u001b[49m\n\u001b[1;32m    160\u001b[0m \u001b[43m                            \u001b[49m\u001b[43mscopes\u001b[49m\u001b[43m,\u001b[49m\u001b[43m \u001b[49m\u001b[43mforce\u001b[49m\u001b[43m)\u001b[49m\n",
            "File \u001b[0;32m~/venv/lib/python3.10/site-packages/ee/oauth.py:553\u001b[0m, in \u001b[0;36mauthenticate\u001b[0;34m(cli_authorization_code, quiet, cli_code_verifier, auth_mode, scopes, force)\u001b[0m\n\u001b[1;32m    550\u001b[0m \u001b[38;5;28;01mif\u001b[39;00m flow\u001b[38;5;241m.\u001b[39mdisplay_instructions(quiet):\n\u001b[1;32m    551\u001b[0m   _open_new_browser(flow\u001b[38;5;241m.\u001b[39mauth_url)\n\u001b[0;32m--> 553\u001b[0m \u001b[43mflow\u001b[49m\u001b[38;5;241;43m.\u001b[39;49m\u001b[43msave_code\u001b[49m\u001b[43m(\u001b[49m\u001b[43m)\u001b[49m\n",
            "File \u001b[0;32m~/venv/lib/python3.10/site-packages/ee/oauth.py:603\u001b[0m, in \u001b[0;36mFlow.save_code\u001b[0;34m(self, code)\u001b[0m\n\u001b[1;32m    601\u001b[0m   redirect_uri \u001b[38;5;241m=\u001b[39m \u001b[38;5;28mself\u001b[39m\u001b[38;5;241m.\u001b[39mserver\u001b[38;5;241m.\u001b[39murl\n\u001b[1;32m    602\u001b[0m   code \u001b[38;5;241m=\u001b[39m \u001b[38;5;28mself\u001b[39m\u001b[38;5;241m.\u001b[39mserver\u001b[38;5;241m.\u001b[39mfetch_code()  \u001b[38;5;66;03m# Waits for oauth callback\u001b[39;00m\n\u001b[0;32m--> 603\u001b[0m \u001b[43m_obtain_and_write_token\u001b[49m\u001b[43m(\u001b[49m\u001b[43mcode\u001b[49m\u001b[43m,\u001b[49m\u001b[43m \u001b[49m\u001b[38;5;28;43mself\u001b[39;49m\u001b[38;5;241;43m.\u001b[39;49m\u001b[43mcode_verifier\u001b[49m\u001b[43m,\u001b[49m\u001b[43m \u001b[49m\u001b[38;5;28;43mself\u001b[39;49m\u001b[38;5;241;43m.\u001b[39;49m\u001b[43mscopes\u001b[49m\u001b[43m,\u001b[49m\u001b[43m \u001b[49m\u001b[43mredirect_uri\u001b[49m\u001b[43m)\u001b[49m\n",
            "File \u001b[0;32m~/venv/lib/python3.10/site-packages/ee/oauth.py:270\u001b[0m, in \u001b[0;36m_obtain_and_write_token\u001b[0;34m(auth_code, code_verifier, scopes, redirect_uri)\u001b[0m\n\u001b[1;32m    267\u001b[0m fetched_info \u001b[38;5;241m=\u001b[39m json\u001b[38;5;241m.\u001b[39mloads(\n\u001b[1;32m    268\u001b[0m     urllib\u001b[38;5;241m.\u001b[39mrequest\u001b[38;5;241m.\u001b[39murlopen(fetch_client)\u001b[38;5;241m.\u001b[39mread()\u001b[38;5;241m.\u001b[39mdecode())\n\u001b[1;32m    269\u001b[0m \u001b[38;5;28;01mif\u001b[39;00m \u001b[38;5;124m'\u001b[39m\u001b[38;5;124merror\u001b[39m\u001b[38;5;124m'\u001b[39m \u001b[38;5;129;01min\u001b[39;00m fetched_info:\n\u001b[0;32m--> 270\u001b[0m   \u001b[38;5;28;01mraise\u001b[39;00m ee_exception\u001b[38;5;241m.\u001b[39mEEException(\n\u001b[1;32m    271\u001b[0m       \u001b[38;5;124m'\u001b[39m\u001b[38;5;124mCannot authenticate: \u001b[39m\u001b[38;5;132;01m%s\u001b[39;00m\u001b[38;5;124m'\u001b[39m \u001b[38;5;241m%\u001b[39m fetched_info[\u001b[38;5;124m'\u001b[39m\u001b[38;5;124merror\u001b[39m\u001b[38;5;124m'\u001b[39m]\n\u001b[1;32m    272\u001b[0m   )\n\u001b[1;32m    273\u001b[0m client_info \u001b[38;5;241m=\u001b[39m {k: fetched_info[k] \u001b[38;5;28;01mfor\u001b[39;00m k \u001b[38;5;129;01min\u001b[39;00m [\u001b[38;5;124m'\u001b[39m\u001b[38;5;124mclient_id\u001b[39m\u001b[38;5;124m'\u001b[39m, \u001b[38;5;124m'\u001b[39m\u001b[38;5;124mclient_secret\u001b[39m\u001b[38;5;124m'\u001b[39m]}\n\u001b[1;32m    274\u001b[0m scopes \u001b[38;5;241m=\u001b[39m fetched_info\u001b[38;5;241m.\u001b[39mget(\u001b[38;5;124m'\u001b[39m\u001b[38;5;124mscopes\u001b[39m\u001b[38;5;124m'\u001b[39m) \u001b[38;5;129;01mor\u001b[39;00m scopes\n",
            "\u001b[0;31mEEException\u001b[0m: Cannot authenticate: Invalid request."
          ]
        }
      ],
      "outputs_reference": null,
      "content_dependencies": null
    },
    {
      "cell_type": "code",
      "metadata": {
        "source_hash": "2d26ac3",
        "execution_start": 1753813385186,
        "execution_millis": 352,
        "execution_context_id": "985ff817-7ce4-41b9-b8fb-fc7eeb87fa87",
        "deepnote_to_be_reexecuted": true,
        "cell_id": "1df0f835484f4c7cac0799f4b5f7c369",
        "deepnote_cell_type": "code"
      },
      "source": "#Only maps population density for New England (from Google Earth Engine)\nstates = (ee.FeatureCollection(\"TIGER/2018/States\").filter(ee.Filter.inList('NAME', ['Maine', 'New Hampshire', 'Vermont','Massachusetts', 'Rhode Island', 'Connecticut'])))\nne_union = states.union()\n\n#Loads the GPWv4 density ImageCollection from Earth Engine and clips to New England region\npop_col = ee.ImageCollection('CIESIN/GPWv411/GPW_Population_Density')\npop2020 = (pop_col\n      .filterDate('2020-01-01', '2021-01-01')\n      .first()\n      .select('population_density')\n)\npop_ne = pop2020.clip(ne_union)\n\n#Renders with Folium\nmap = folium.Map(location=[43.5, -71.5], zoom_start=6)\nvis_params = {'min': 0, 'max': 1000,'palette': ['ffffff','a1dab4','41b6c4','2c7fb8','253494']}\n\n# Fix: Ensure Earth Engine is initialized before using it\ntry:\n    ee.Initialize()\nexcept Exception as e:\n    print(\"Error initializing Earth Engine: \", e)\n\nmap_id = pop_ne.getMapId(vis_params)\nfolium.TileLayer(tiles=map_id['tile_fetcher'].url_format, attr='Google Earth Engine', name='2020 Pop Density (NE)', overlay=True, control=True).add_to(map)\n\n# Display the map\nmap",
      "block_group": "3161b7fd9383415aab4d420248a91caf",
      "execution_count": 111,
      "outputs": [
        {
          "data": {
            "text/plain": "<IPython.core.display.HTML object>",
            "text/html": "\n            <style>\n                .geemap-dark {\n                    --jp-widgets-color: white;\n                    --jp-widgets-label-color: white;\n                    --jp-ui-font-color1: white;\n                    --jp-layout-color2: #454545;\n                    background-color: #383838;\n                }\n\n                .geemap-dark .jupyter-button {\n                    --jp-layout-color3: #383838;\n                }\n\n                .geemap-colab {\n                    background-color: var(--colab-primary-surface-color, white);\n                }\n\n                .geemap-colab .jupyter-button {\n                    --jp-layout-color3: var(--colab-primary-surface-color, white);\n                }\n            </style>\n            "
          },
          "metadata": {},
          "output_type": "display_data"
        },
        {
          "output_type": "error",
          "ename": "EEException",
          "evalue": "Earth Engine client library not initialized. See http://goo.gle/ee-auth.",
          "traceback": [
            "\u001b[0;31m---------------------------------------------------------------------------\u001b[0m",
            "\u001b[0;31mEEException\u001b[0m                               Traceback (most recent call last)",
            "Cell \u001b[0;32mIn[111], line 7\u001b[0m\n\u001b[1;32m      3\u001b[0m \u001b[38;5;28;01mimport\u001b[39;00m\u001b[38;5;250m \u001b[39m\u001b[38;5;21;01mfolium\u001b[39;00m\n\u001b[1;32m      6\u001b[0m \u001b[38;5;66;03m#Only maps population density for New England (from Google Earth Engine)\u001b[39;00m\n\u001b[0;32m----> 7\u001b[0m states \u001b[38;5;241m=\u001b[39m (\u001b[43mee\u001b[49m\u001b[38;5;241;43m.\u001b[39;49m\u001b[43mFeatureCollection\u001b[49m\u001b[43m(\u001b[49m\u001b[38;5;124;43m\"\u001b[39;49m\u001b[38;5;124;43mTIGER/2018/States\u001b[39;49m\u001b[38;5;124;43m\"\u001b[39;49m\u001b[43m)\u001b[49m\u001b[38;5;241m.\u001b[39mfilter(ee\u001b[38;5;241m.\u001b[39mFilter\u001b[38;5;241m.\u001b[39minList(\u001b[38;5;124m'\u001b[39m\u001b[38;5;124mNAME\u001b[39m\u001b[38;5;124m'\u001b[39m, [\u001b[38;5;124m'\u001b[39m\u001b[38;5;124mMaine\u001b[39m\u001b[38;5;124m'\u001b[39m, \u001b[38;5;124m'\u001b[39m\u001b[38;5;124mNew Hampshire\u001b[39m\u001b[38;5;124m'\u001b[39m, \u001b[38;5;124m'\u001b[39m\u001b[38;5;124mVermont\u001b[39m\u001b[38;5;124m'\u001b[39m,\u001b[38;5;124m'\u001b[39m\u001b[38;5;124mMassachusetts\u001b[39m\u001b[38;5;124m'\u001b[39m, \u001b[38;5;124m'\u001b[39m\u001b[38;5;124mRhode Island\u001b[39m\u001b[38;5;124m'\u001b[39m, \u001b[38;5;124m'\u001b[39m\u001b[38;5;124mConnecticut\u001b[39m\u001b[38;5;124m'\u001b[39m])))\n\u001b[1;32m      8\u001b[0m ne_union \u001b[38;5;241m=\u001b[39m states\u001b[38;5;241m.\u001b[39munion()\n\u001b[1;32m     10\u001b[0m \u001b[38;5;66;03m#Loads the GPWv4 density ImageCollection from Earth Engine and clips to New England region\u001b[39;00m\n",
            "File \u001b[0;32m~/venv/lib/python3.10/site-packages/ee/computedobject.py:28\u001b[0m, in \u001b[0;36mComputedObjectMetaclass.__call__\u001b[0;34m(cls, *args, **kwargs)\u001b[0m\n\u001b[1;32m     26\u001b[0m   \u001b[38;5;28;01mreturn\u001b[39;00m args[\u001b[38;5;241m0\u001b[39m]\n\u001b[1;32m     27\u001b[0m \u001b[38;5;28;01melse\u001b[39;00m:\n\u001b[0;32m---> 28\u001b[0m   \u001b[38;5;28;01mreturn\u001b[39;00m \u001b[38;5;28;43mtype\u001b[39;49m\u001b[38;5;241;43m.\u001b[39;49m\u001b[38;5;21;43m__call__\u001b[39;49m\u001b[43m(\u001b[49m\u001b[38;5;28;43mcls\u001b[39;49m\u001b[43m,\u001b[49m\u001b[43m \u001b[49m\u001b[38;5;241;43m*\u001b[39;49m\u001b[43margs\u001b[49m\u001b[43m,\u001b[49m\u001b[43m \u001b[49m\u001b[38;5;241;43m*\u001b[39;49m\u001b[38;5;241;43m*\u001b[39;49m\u001b[43mkwargs\u001b[49m\u001b[43m)\u001b[49m\n",
            "File \u001b[0;32m~/venv/lib/python3.10/site-packages/ee/_utils.py:38\u001b[0m, in \u001b[0;36maccept_opt_prefix.<locals>.opt_fixed.<locals>.wrapper\u001b[0;34m(*args, **kwargs)\u001b[0m\n\u001b[1;32m     36\u001b[0m     \u001b[38;5;28;01mif\u001b[39;00m new_key \u001b[38;5;129;01mnot\u001b[39;00m \u001b[38;5;129;01min\u001b[39;00m kwargs:\n\u001b[1;32m     37\u001b[0m       kwargs[new_key] \u001b[38;5;241m=\u001b[39m old_key_val\n\u001b[0;32m---> 38\u001b[0m \u001b[38;5;28;01mreturn\u001b[39;00m \u001b[43mfunc\u001b[49m\u001b[43m(\u001b[49m\u001b[38;5;241;43m*\u001b[39;49m\u001b[43margs\u001b[49m\u001b[43m,\u001b[49m\u001b[43m \u001b[49m\u001b[38;5;241;43m*\u001b[39;49m\u001b[38;5;241;43m*\u001b[39;49m\u001b[43mkwargs\u001b[49m\u001b[43m)\u001b[49m\n",
            "File \u001b[0;32m~/venv/lib/python3.10/site-packages/ee/deprecation.py:126\u001b[0m, in \u001b[0;36mWarnForDeprecatedAsset.<locals>.Decorator.<locals>.Wrapper\u001b[0;34m(*args, **kwargs)\u001b[0m\n\u001b[1;32m    124\u001b[0m   \u001b[38;5;28;01mif\u001b[39;00m asset:\n\u001b[1;32m    125\u001b[0m     _IssueAssetDeprecationWarning(asset)\n\u001b[0;32m--> 126\u001b[0m \u001b[38;5;28;01mreturn\u001b[39;00m \u001b[43mfunc\u001b[49m\u001b[43m(\u001b[49m\u001b[38;5;241;43m*\u001b[39;49m\u001b[43margs\u001b[49m\u001b[43m,\u001b[49m\u001b[43m \u001b[49m\u001b[38;5;241;43m*\u001b[39;49m\u001b[38;5;241;43m*\u001b[39;49m\u001b[43mkwargs\u001b[49m\u001b[43m)\u001b[49m\n",
            "File \u001b[0;32m~/venv/lib/python3.10/site-packages/ee/featurecollection.py:60\u001b[0m, in \u001b[0;36mFeatureCollection.__init__\u001b[0;34m(self, args, column)\u001b[0m\n\u001b[1;32m     33\u001b[0m \u001b[38;5;129m@_utils\u001b[39m\u001b[38;5;241m.\u001b[39maccept_opt_prefix(\u001b[38;5;124m'\u001b[39m\u001b[38;5;124mopt_column\u001b[39m\u001b[38;5;124m'\u001b[39m)\n\u001b[1;32m     34\u001b[0m \u001b[38;5;129m@deprecation\u001b[39m\u001b[38;5;241m.\u001b[39mWarnForDeprecatedAsset(\u001b[38;5;124m'\u001b[39m\u001b[38;5;124margs\u001b[39m\u001b[38;5;124m'\u001b[39m)\n\u001b[1;32m     35\u001b[0m \u001b[38;5;28;01mdef\u001b[39;00m\u001b[38;5;250m \u001b[39m\u001b[38;5;21m__init__\u001b[39m(\n\u001b[0;32m   (...)\u001b[0m\n\u001b[1;32m     45\u001b[0m     column: Any \u001b[38;5;241m|\u001b[39m \u001b[38;5;28;01mNone\u001b[39;00m \u001b[38;5;241m=\u001b[39m \u001b[38;5;28;01mNone\u001b[39;00m,\n\u001b[1;32m     46\u001b[0m ):\n\u001b[1;32m     47\u001b[0m \u001b[38;5;250m  \u001b[39m\u001b[38;5;124;03m\"\"\"Constructs a collection features.\u001b[39;00m\n\u001b[1;32m     48\u001b[0m \n\u001b[1;32m     49\u001b[0m \u001b[38;5;124;03m  Args:\u001b[39;00m\n\u001b[0;32m   (...)\u001b[0m\n\u001b[1;32m     58\u001b[0m \u001b[38;5;124;03m    EEException: if passed something other than the above.\u001b[39;00m\n\u001b[1;32m     59\u001b[0m \u001b[38;5;124;03m  \"\"\"\u001b[39;00m\n\u001b[0;32m---> 60\u001b[0m   \u001b[38;5;28;43mself\u001b[39;49m\u001b[38;5;241;43m.\u001b[39;49m\u001b[43minitialize\u001b[49m\u001b[43m(\u001b[49m\u001b[43m)\u001b[49m\n\u001b[1;32m     62\u001b[0m   \u001b[38;5;66;03m# Wrap geometries with features.\u001b[39;00m\n\u001b[1;32m     63\u001b[0m   \u001b[38;5;28;01mif\u001b[39;00m \u001b[38;5;28misinstance\u001b[39m(args, geometry\u001b[38;5;241m.\u001b[39mGeometry):\n",
            "File \u001b[0;32m~/venv/lib/python3.10/site-packages/ee/featurecollection.py:106\u001b[0m, in \u001b[0;36mFeatureCollection.initialize\u001b[0;34m(cls)\u001b[0m\n\u001b[1;32m    104\u001b[0m \u001b[38;5;250m\u001b[39m\u001b[38;5;124;03m\"\"\"Imports API functions to this class.\"\"\"\u001b[39;00m\n\u001b[1;32m    105\u001b[0m \u001b[38;5;28;01mif\u001b[39;00m \u001b[38;5;129;01mnot\u001b[39;00m \u001b[38;5;28mcls\u001b[39m\u001b[38;5;241m.\u001b[39m_initialized:\n\u001b[0;32m--> 106\u001b[0m   \u001b[38;5;28;43msuper\u001b[39;49m\u001b[43m(\u001b[49m\u001b[43m)\u001b[49m\u001b[38;5;241;43m.\u001b[39;49m\u001b[43minitialize\u001b[49m\u001b[43m(\u001b[49m\u001b[43m)\u001b[49m\n\u001b[1;32m    107\u001b[0m   apifunction\u001b[38;5;241m.\u001b[39mApiFunction\u001b[38;5;241m.\u001b[39mimportApi(\u001b[38;5;28mcls\u001b[39m, \u001b[38;5;28mcls\u001b[39m\u001b[38;5;241m.\u001b[39mname(), \u001b[38;5;28mcls\u001b[39m\u001b[38;5;241m.\u001b[39mname())\n\u001b[1;32m    108\u001b[0m   \u001b[38;5;28mcls\u001b[39m\u001b[38;5;241m.\u001b[39m_initialized \u001b[38;5;241m=\u001b[39m \u001b[38;5;28;01mTrue\u001b[39;00m\n",
            "File \u001b[0;32m~/venv/lib/python3.10/site-packages/ee/collection.py:50\u001b[0m, in \u001b[0;36mCollection.initialize\u001b[0;34m(cls)\u001b[0m\n\u001b[1;32m     48\u001b[0m \u001b[38;5;250m\u001b[39m\u001b[38;5;124;03m\"\"\"Imports API functions to this class.\"\"\"\u001b[39;00m\n\u001b[1;32m     49\u001b[0m \u001b[38;5;28;01mif\u001b[39;00m \u001b[38;5;129;01mnot\u001b[39;00m \u001b[38;5;28mcls\u001b[39m\u001b[38;5;241m.\u001b[39m_initialized:\n\u001b[0;32m---> 50\u001b[0m   \u001b[43mapifunction\u001b[49m\u001b[38;5;241;43m.\u001b[39;49m\u001b[43mApiFunction\u001b[49m\u001b[38;5;241;43m.\u001b[39;49m\u001b[43mimportApi\u001b[49m\u001b[43m(\u001b[49m\u001b[38;5;28;43mcls\u001b[39;49m\u001b[43m,\u001b[49m\u001b[43m \u001b[49m\u001b[38;5;28;43mcls\u001b[39;49m\u001b[38;5;241;43m.\u001b[39;49m\u001b[43mname\u001b[49m\u001b[43m(\u001b[49m\u001b[43m)\u001b[49m\u001b[43m,\u001b[49m\u001b[43m \u001b[49m\u001b[38;5;28;43mcls\u001b[39;49m\u001b[38;5;241;43m.\u001b[39;49m\u001b[43mname\u001b[49m\u001b[43m(\u001b[49m\u001b[43m)\u001b[49m\u001b[43m)\u001b[49m\n\u001b[1;32m     51\u001b[0m   apifunction\u001b[38;5;241m.\u001b[39mApiFunction\u001b[38;5;241m.\u001b[39mimportApi(\n\u001b[1;32m     52\u001b[0m       \u001b[38;5;28mcls\u001b[39m, \u001b[38;5;124m'\u001b[39m\u001b[38;5;124mAggregateFeatureCollection\u001b[39m\u001b[38;5;124m'\u001b[39m, \u001b[38;5;28mcls\u001b[39m\u001b[38;5;241m.\u001b[39mname(), \u001b[38;5;124m'\u001b[39m\u001b[38;5;124maggregate_\u001b[39m\u001b[38;5;124m'\u001b[39m)\n\u001b[1;32m     53\u001b[0m   \u001b[38;5;28mcls\u001b[39m\u001b[38;5;241m.\u001b[39m_initialized \u001b[38;5;241m=\u001b[39m \u001b[38;5;28;01mTrue\u001b[39;00m\n",
            "File \u001b[0;32m~/venv/lib/python3.10/site-packages/ee/_utils.py:38\u001b[0m, in \u001b[0;36maccept_opt_prefix.<locals>.opt_fixed.<locals>.wrapper\u001b[0;34m(*args, **kwargs)\u001b[0m\n\u001b[1;32m     36\u001b[0m     \u001b[38;5;28;01mif\u001b[39;00m new_key \u001b[38;5;129;01mnot\u001b[39;00m \u001b[38;5;129;01min\u001b[39;00m kwargs:\n\u001b[1;32m     37\u001b[0m       kwargs[new_key] \u001b[38;5;241m=\u001b[39m old_key_val\n\u001b[0;32m---> 38\u001b[0m \u001b[38;5;28;01mreturn\u001b[39;00m \u001b[43mfunc\u001b[49m\u001b[43m(\u001b[49m\u001b[38;5;241;43m*\u001b[39;49m\u001b[43margs\u001b[49m\u001b[43m,\u001b[49m\u001b[43m \u001b[49m\u001b[38;5;241;43m*\u001b[39;49m\u001b[38;5;241;43m*\u001b[39;49m\u001b[43mkwargs\u001b[49m\u001b[43m)\u001b[49m\n",
            "File \u001b[0;32m~/venv/lib/python3.10/site-packages/ee/apifunction.py:199\u001b[0m, in \u001b[0;36mApiFunction.importApi\u001b[0;34m(cls, target, prefix, type_name, prepend)\u001b[0m\n\u001b[1;32m    179\u001b[0m \u001b[38;5;129m@classmethod\u001b[39m\n\u001b[1;32m    180\u001b[0m \u001b[38;5;129m@_utils\u001b[39m\u001b[38;5;241m.\u001b[39maccept_opt_prefix(\u001b[38;5;124m'\u001b[39m\u001b[38;5;124mopt_prepend\u001b[39m\u001b[38;5;124m'\u001b[39m)\n\u001b[1;32m    181\u001b[0m \u001b[38;5;28;01mdef\u001b[39;00m\u001b[38;5;250m \u001b[39m\u001b[38;5;21mimportApi\u001b[39m(\n\u001b[0;32m   (...)\u001b[0m\n\u001b[1;32m    186\u001b[0m     prepend: \u001b[38;5;28mstr\u001b[39m \u001b[38;5;241m|\u001b[39m \u001b[38;5;28;01mNone\u001b[39;00m \u001b[38;5;241m=\u001b[39m \u001b[38;5;28;01mNone\u001b[39;00m,\n\u001b[1;32m    187\u001b[0m ) \u001b[38;5;241m-\u001b[39m\u001b[38;5;241m>\u001b[39m \u001b[38;5;28;01mNone\u001b[39;00m:\n\u001b[1;32m    188\u001b[0m \u001b[38;5;250m  \u001b[39m\u001b[38;5;124;03m\"\"\"Adds all API functions that begin with a given prefix to a target class.\u001b[39;00m\n\u001b[1;32m    189\u001b[0m \n\u001b[1;32m    190\u001b[0m \u001b[38;5;124;03m  Args:\u001b[39;00m\n\u001b[0;32m   (...)\u001b[0m\n\u001b[1;32m    197\u001b[0m \u001b[38;5;124;03m      functions.\u001b[39;00m\n\u001b[1;32m    198\u001b[0m \u001b[38;5;124;03m  \"\"\"\u001b[39;00m\n\u001b[0;32m--> 199\u001b[0m   \u001b[38;5;28;43mcls\u001b[39;49m\u001b[38;5;241;43m.\u001b[39;49m\u001b[43minitialize\u001b[49m\u001b[43m(\u001b[49m\u001b[43m)\u001b[49m\n\u001b[1;32m    200\u001b[0m   prepend \u001b[38;5;241m=\u001b[39m prepend \u001b[38;5;129;01mor\u001b[39;00m \u001b[38;5;124m'\u001b[39m\u001b[38;5;124m'\u001b[39m\n\u001b[1;32m    201\u001b[0m   \u001b[38;5;28;01mfor\u001b[39;00m name, api_func \u001b[38;5;129;01min\u001b[39;00m \u001b[38;5;28mcls\u001b[39m\u001b[38;5;241m.\u001b[39m_api\u001b[38;5;241m.\u001b[39mitems():\n",
            "File \u001b[0;32m~/venv/lib/python3.10/site-packages/ee/apifunction.py:163\u001b[0m, in \u001b[0;36mApiFunction.initialize\u001b[0;34m(cls)\u001b[0m\n\u001b[1;32m    161\u001b[0m \u001b[38;5;250m\u001b[39m\u001b[38;5;124;03m\"\"\"Initializes the list of signatures from the Earth Engine front-end.\"\"\"\u001b[39;00m\n\u001b[1;32m    162\u001b[0m \u001b[38;5;28;01mif\u001b[39;00m \u001b[38;5;129;01mnot\u001b[39;00m \u001b[38;5;28mcls\u001b[39m\u001b[38;5;241m.\u001b[39m_api:\n\u001b[0;32m--> 163\u001b[0m   signatures \u001b[38;5;241m=\u001b[39m \u001b[43mdata\u001b[49m\u001b[38;5;241;43m.\u001b[39;49m\u001b[43mgetAlgorithms\u001b[49m\u001b[43m(\u001b[49m\u001b[43m)\u001b[49m\n\u001b[1;32m    164\u001b[0m   api \u001b[38;5;241m=\u001b[39m {}\n\u001b[1;32m    165\u001b[0m   \u001b[38;5;28;01mfor\u001b[39;00m name, sig \u001b[38;5;129;01min\u001b[39;00m signatures\u001b[38;5;241m.\u001b[39mitems():\n\u001b[1;32m    166\u001b[0m     \u001b[38;5;66;03m# Strip type parameters.\u001b[39;00m\n",
            "File \u001b[0;32m~/venv/lib/python3.10/site-packages/ee/data.py:1484\u001b[0m, in \u001b[0;36mgetAlgorithms\u001b[0;34m()\u001b[0m\n\u001b[1;32m   1467\u001b[0m \u001b[38;5;250m\u001b[39m\u001b[38;5;124;03m\"\"\"Get the list of algorithms.\u001b[39;00m\n\u001b[1;32m   1468\u001b[0m \n\u001b[1;32m   1469\u001b[0m \u001b[38;5;124;03mReturns:\u001b[39;00m\n\u001b[0;32m   (...)\u001b[0m\n\u001b[1;32m   1480\u001b[0m \u001b[38;5;124;03m              is not specified.\u001b[39;00m\n\u001b[1;32m   1481\u001b[0m \u001b[38;5;124;03m\"\"\"\u001b[39;00m\n\u001b[1;32m   1482\u001b[0m \u001b[38;5;28;01mtry\u001b[39;00m:\n\u001b[1;32m   1483\u001b[0m   call \u001b[38;5;241m=\u001b[39m (\n\u001b[0;32m-> 1484\u001b[0m       \u001b[43m_get_cloud_projects\u001b[49m\u001b[43m(\u001b[49m\u001b[43m)\u001b[49m\n\u001b[1;32m   1485\u001b[0m       \u001b[38;5;241m.\u001b[39malgorithms()\n\u001b[1;32m   1486\u001b[0m       \u001b[38;5;241m.\u001b[39mlist(parent\u001b[38;5;241m=\u001b[39m_get_projects_path(), prettyPrint\u001b[38;5;241m=\u001b[39m\u001b[38;5;28;01mFalse\u001b[39;00m)\n\u001b[1;32m   1487\u001b[0m   )\n\u001b[1;32m   1488\u001b[0m \u001b[38;5;28;01mexcept\u001b[39;00m \u001b[38;5;167;01mTypeError\u001b[39;00m:\n\u001b[1;32m   1489\u001b[0m   call \u001b[38;5;241m=\u001b[39m (\n\u001b[1;32m   1490\u001b[0m       _get_cloud_projects()\n\u001b[1;32m   1491\u001b[0m       \u001b[38;5;241m.\u001b[39malgorithms()\n\u001b[1;32m   1492\u001b[0m       \u001b[38;5;241m.\u001b[39mlist(project\u001b[38;5;241m=\u001b[39m_get_projects_path(), prettyPrint\u001b[38;5;241m=\u001b[39m\u001b[38;5;28;01mFalse\u001b[39;00m)\n\u001b[1;32m   1493\u001b[0m   )\n",
            "File \u001b[0;32m~/venv/lib/python3.10/site-packages/ee/data.py:353\u001b[0m, in \u001b[0;36m_get_cloud_projects\u001b[0;34m()\u001b[0m\n\u001b[1;32m    351\u001b[0m \u001b[38;5;28;01mdef\u001b[39;00m\u001b[38;5;250m \u001b[39m\u001b[38;5;21m_get_cloud_projects\u001b[39m() \u001b[38;5;241m-\u001b[39m\u001b[38;5;241m>\u001b[39m Any:\n\u001b[1;32m    352\u001b[0m   \u001b[38;5;28;01mif\u001b[39;00m _cloud_api_resource \u001b[38;5;129;01mis\u001b[39;00m \u001b[38;5;28;01mNone\u001b[39;00m:\n\u001b[0;32m--> 353\u001b[0m     \u001b[38;5;28;01mraise\u001b[39;00m ee_exception\u001b[38;5;241m.\u001b[39mEEException(_NOT_INITIALIZED_MESSAGE)\n\u001b[1;32m    354\u001b[0m   \u001b[38;5;28;01mreturn\u001b[39;00m _cloud_api_resource\u001b[38;5;241m.\u001b[39mprojects()\n",
            "\u001b[0;31mEEException\u001b[0m: Earth Engine client library not initialized. See http://goo.gle/ee-auth."
          ]
        }
      ],
      "outputs_reference": null,
      "content_dependencies": null
    },
    {
      "cell_type": "code",
      "metadata": {
        "source_hash": "9fe0feee",
        "execution_start": 1753973507007,
        "execution_millis": 0,
        "execution_context_id": "13c78a89-1c6c-43ad-9c9a-4b8130ed7861",
        "cell_id": "0197b0a78f4b4d6b9da713989c6b7934",
        "deepnote_cell_type": "code"
      },
      "source": "import pandas as pd\n\n#obi\ngdf = pd.concat([distr_cntrs, westover_airbase], ignore_index=True)\ngdf.loc[len(gdf) - 1, 'name'] = \"air base\"\ngdf = gdf.iloc[[1, 4, 0, 3, 2]].copy()\n\nchosenCopy = gdf.copy()\nchosenCopy[\"node id\"] = None \nfor _, row in chosenCopy.iterrows():\n    geom = row.geometry\n    closest = None\n    min = float('inf')\n\n    for i, v in G.nodes(data=True):\n        nodeGeom = v.geometry\n\n        dist = nodeGeom.distance(geom)\n        if dist < min:\n            min = dist\n            closest = i\n\n    chosenCopy.at['node_id'] = closest\n    print(f\"'{row.get('name', 'Nameless')}' mapped to Gnode: {closest} (dist: {min:.2f} m)\")",
      "block_group": "8106e932a76a4c8b88e2fdf3c08344d0",
      "execution_count": 4,
      "outputs": [
        {
          "output_type": "error",
          "ename": "NameError",
          "evalue": "name 'distr_cntrs' is not defined",
          "traceback": [
            "\u001b[0;31m---------------------------------------------------------------------------\u001b[0m",
            "\u001b[0;31mNameError\u001b[0m                                 Traceback (most recent call last)",
            "Cell \u001b[0;32mIn[4], line 4\u001b[0m\n\u001b[1;32m      1\u001b[0m \u001b[38;5;28;01mimport\u001b[39;00m\u001b[38;5;250m \u001b[39m\u001b[38;5;21;01mpandas\u001b[39;00m\u001b[38;5;250m \u001b[39m\u001b[38;5;28;01mas\u001b[39;00m\u001b[38;5;250m \u001b[39m\u001b[38;5;21;01mpd\u001b[39;00m\n\u001b[1;32m      3\u001b[0m \u001b[38;5;66;03m#obi\u001b[39;00m\n\u001b[0;32m----> 4\u001b[0m gdf \u001b[38;5;241m=\u001b[39m pd\u001b[38;5;241m.\u001b[39mconcat([\u001b[43mdistr_cntrs\u001b[49m, westover_airbase], ignore_index\u001b[38;5;241m=\u001b[39m\u001b[38;5;28;01mTrue\u001b[39;00m)\n\u001b[1;32m      5\u001b[0m gdf\u001b[38;5;241m.\u001b[39mloc[\u001b[38;5;28mlen\u001b[39m(gdf) \u001b[38;5;241m-\u001b[39m \u001b[38;5;241m1\u001b[39m, \u001b[38;5;124m'\u001b[39m\u001b[38;5;124mname\u001b[39m\u001b[38;5;124m'\u001b[39m] \u001b[38;5;241m=\u001b[39m \u001b[38;5;124m\"\u001b[39m\u001b[38;5;124mair base\u001b[39m\u001b[38;5;124m\"\u001b[39m\n\u001b[1;32m      6\u001b[0m gdf \u001b[38;5;241m=\u001b[39m gdf\u001b[38;5;241m.\u001b[39miloc[[\u001b[38;5;241m1\u001b[39m, \u001b[38;5;241m4\u001b[39m, \u001b[38;5;241m0\u001b[39m, \u001b[38;5;241m3\u001b[39m, \u001b[38;5;241m2\u001b[39m]]\u001b[38;5;241m.\u001b[39mcopy()\n",
            "\u001b[0;31mNameError\u001b[0m: name 'distr_cntrs' is not defined"
          ]
        }
      ],
      "outputs_reference": null,
      "content_dependencies": null
    },
    {
      "cell_type": "code",
      "metadata": {
        "source_hash": "37ca9f0c",
        "execution_start": 1753815463363,
        "execution_millis": 9055,
        "execution_context_id": "e39abdf8-609b-475b-b8d7-76a998ace730",
        "deepnote_to_be_reexecuted": true,
        "cell_id": "6f887081769f4a2396697b636ca30c7f",
        "deepnote_cell_type": "code"
      },
      "source": "ee.Authenticate()\n\nee.Initialize()\n\ngrid_merc = game_grid_df.to_crs(epsg=3857)\nforecasts_merc = d1_forecasts.to_crs(epsg=3857)\nhospitals_merc = hospital_df.to_crs(epsg=3857)\n\nperimeter = forecasts_merc.geometry.union_all().convex_hull\ninner_perimeter = perimeter.buffer(-32180)\n\ngrid_wgs = game_grid_df.to_crs(epsg=4326)\npoly = grid_wgs.geometry.union_all()\ntags = {'aeroway' : 'aerodrome'}\nairfields = ox.features_from_polygon(poly, tags=tags)\nairfields_merc = airfields.to_crs(epsg=3857)\n\ndistr_cntrs = airfields_merc[airfields_merc.within(perimeter)]\ndistr_cntrs = distr_cntrs[~distr_cntrs.within(inner_perimeter)]  \ndistr_cntrs = distr_cntrs[~distr_cntrs['name'].str.contains('Seaplane', case=False, na=False)]\ndistr_cntrs = distr_cntrs.iloc[list(range(0,1)) + list(range(1,2)) + list(range(3,4)) + list(range(6,7))]\n\nbounds = grid_merc.total_bounds\nregion = ee.Geometry.Rectangle(list(bounds), proj='EPSG:3857', geodesic=False)\n\npop_col = ee.ImageCollection('CIESIN/GPWv411/GPW_Population_Density')\npop2020 = (\n    pop_col\n    .filterDate('2020-01-01', '2021-01-01')\n    .first()\n    .select('population_density')\n)\n\nimg, meta = geemap.ee_to_numpy(image=pop2020, region=region, default_value=0)\n\nfig, ax = plt.subplots(1, 1, figsize=(12, 12))\nax.set_axis_off()\n\nax.imshow(img, extent=meta['extent'], cmap='Blues', vmin=0, vmax=1000, alpha=0.8)\n\ngrid_merc.plot(ax=ax, color='white', alpha=0.2)\ngpd.GeoSeries([perimeter]).plot(ax=ax, facecolor='gray', alpha=0.3)\ngpd.GeoSeries([inner_perimeter]).plot(ax=ax, facecolor='red', alpha=0.3)\nhospitals_merc.plot(ax=ax, color='purple', label='Hospitals', marker='P')\ndistr_cntrs.plot(ax=ax, color='yellow', label='Distribution Centers', marker='*')\n\nax.legend(loc='upper right')\n\nplt.show()",
      "block_group": "a23cbcbf420645ddb39f32dee7594ca2",
      "execution_count": 10,
      "outputs": [
        {
          "output_type": "error",
          "ename": "KeyboardInterrupt",
          "evalue": "",
          "traceback": [
            "\u001b[0;31m---------------------------------------------------------------------------\u001b[0m",
            "\u001b[0;31mKeyboardInterrupt\u001b[0m                         Traceback (most recent call last)",
            "Cell \u001b[0;32mIn[10], line 9\u001b[0m\n\u001b[1;32m      6\u001b[0m \u001b[38;5;28;01mfrom\u001b[39;00m\u001b[38;5;250m \u001b[39m\u001b[38;5;21;01mshapely\u001b[39;00m\u001b[38;5;21;01m.\u001b[39;00m\u001b[38;5;21;01mgeometry\u001b[39;00m\u001b[38;5;250m \u001b[39m\u001b[38;5;28;01mimport\u001b[39;00m Point\n\u001b[1;32m      7\u001b[0m \u001b[38;5;28;01mimport\u001b[39;00m\u001b[38;5;250m \u001b[39m\u001b[38;5;21;01mosmnx\u001b[39;00m\u001b[38;5;250m \u001b[39m\u001b[38;5;28;01mas\u001b[39;00m\u001b[38;5;250m \u001b[39m\u001b[38;5;21;01mox\u001b[39;00m\n\u001b[0;32m----> 9\u001b[0m \u001b[43mee\u001b[49m\u001b[38;5;241;43m.\u001b[39;49m\u001b[43mAuthenticate\u001b[49m\u001b[43m(\u001b[49m\u001b[43m)\u001b[49m\n\u001b[1;32m     11\u001b[0m ee\u001b[38;5;241m.\u001b[39mInitialize()\n\u001b[1;32m     13\u001b[0m grid_merc \u001b[38;5;241m=\u001b[39m game_grid_df\u001b[38;5;241m.\u001b[39mto_crs(epsg\u001b[38;5;241m=\u001b[39m\u001b[38;5;241m3857\u001b[39m)\n",
            "File \u001b[0;32m~/venv/lib/python3.10/site-packages/ee/__init__.py:159\u001b[0m, in \u001b[0;36mAuthenticate\u001b[0;34m(authorization_code, quiet, code_verifier, auth_mode, scopes, force)\u001b[0m\n\u001b[1;32m    128\u001b[0m \u001b[38;5;28;01mdef\u001b[39;00m\u001b[38;5;250m \u001b[39m\u001b[38;5;21mAuthenticate\u001b[39m(\n\u001b[1;32m    129\u001b[0m     authorization_code: Optional[\u001b[38;5;28mstr\u001b[39m] \u001b[38;5;241m=\u001b[39m \u001b[38;5;28;01mNone\u001b[39;00m,\n\u001b[1;32m    130\u001b[0m     quiet: Optional[\u001b[38;5;28mbool\u001b[39m] \u001b[38;5;241m=\u001b[39m \u001b[38;5;28;01mNone\u001b[39;00m,\n\u001b[0;32m   (...)\u001b[0m\n\u001b[1;32m    134\u001b[0m     force: \u001b[38;5;28mbool\u001b[39m \u001b[38;5;241m=\u001b[39m \u001b[38;5;28;01mFalse\u001b[39;00m,\n\u001b[1;32m    135\u001b[0m ) \u001b[38;5;241m-\u001b[39m\u001b[38;5;241m>\u001b[39m Optional[\u001b[38;5;28mbool\u001b[39m]:\n\u001b[1;32m    136\u001b[0m \u001b[38;5;250m  \u001b[39m\u001b[38;5;124;03m\"\"\"Prompts the user to authorize access to Earth Engine via OAuth2.\u001b[39;00m\n\u001b[1;32m    137\u001b[0m \n\u001b[1;32m    138\u001b[0m \u001b[38;5;124;03m  Args:\u001b[39;00m\n\u001b[0;32m   (...)\u001b[0m\n\u001b[1;32m    157\u001b[0m \u001b[38;5;124;03m    True if we found valid credentials and didn't run the auth flow.\u001b[39;00m\n\u001b[1;32m    158\u001b[0m \u001b[38;5;124;03m  \"\"\"\u001b[39;00m\n\u001b[0;32m--> 159\u001b[0m   \u001b[38;5;28;01mreturn\u001b[39;00m \u001b[43moauth\u001b[49m\u001b[38;5;241;43m.\u001b[39;49m\u001b[43mauthenticate\u001b[49m\u001b[43m(\u001b[49m\u001b[43mauthorization_code\u001b[49m\u001b[43m,\u001b[49m\u001b[43m \u001b[49m\u001b[43mquiet\u001b[49m\u001b[43m,\u001b[49m\u001b[43m \u001b[49m\u001b[43mcode_verifier\u001b[49m\u001b[43m,\u001b[49m\u001b[43m \u001b[49m\u001b[43mauth_mode\u001b[49m\u001b[43m,\u001b[49m\n\u001b[1;32m    160\u001b[0m \u001b[43m                            \u001b[49m\u001b[43mscopes\u001b[49m\u001b[43m,\u001b[49m\u001b[43m \u001b[49m\u001b[43mforce\u001b[49m\u001b[43m)\u001b[49m\n",
            "File \u001b[0;32m~/venv/lib/python3.10/site-packages/ee/oauth.py:521\u001b[0m, in \u001b[0;36mauthenticate\u001b[0;34m(cli_authorization_code, quiet, cli_code_verifier, auth_mode, scopes, force)\u001b[0m\n\u001b[1;32m    518\u001b[0m   _obtain_and_write_token(cli_authorization_code, cli_code_verifier, scopes)\n\u001b[1;32m    519\u001b[0m   \u001b[38;5;28;01mreturn\u001b[39;00m\n\u001b[0;32m--> 521\u001b[0m \u001b[38;5;28;01mif\u001b[39;00m \u001b[38;5;129;01mnot\u001b[39;00m force \u001b[38;5;129;01mand\u001b[39;00m \u001b[43m_valid_credentials_exist\u001b[49m\u001b[43m(\u001b[49m\u001b[43m)\u001b[49m:\n\u001b[1;32m    522\u001b[0m   \u001b[38;5;28;01mreturn\u001b[39;00m \u001b[38;5;28;01mTrue\u001b[39;00m\n\u001b[1;32m    524\u001b[0m \u001b[38;5;28;01mif\u001b[39;00m \u001b[38;5;129;01mnot\u001b[39;00m auth_mode:\n",
            "File \u001b[0;32m~/venv/lib/python3.10/site-packages/ee/oauth.py:131\u001b[0m, in \u001b[0;36m_valid_credentials_exist\u001b[0;34m()\u001b[0m\n\u001b[1;32m    129\u001b[0m \u001b[38;5;28;01mdef\u001b[39;00m\u001b[38;5;250m \u001b[39m\u001b[38;5;21m_valid_credentials_exist\u001b[39m() \u001b[38;5;241m-\u001b[39m\u001b[38;5;241m>\u001b[39m \u001b[38;5;28mbool\u001b[39m:\n\u001b[1;32m    130\u001b[0m   \u001b[38;5;28;01mtry\u001b[39;00m:\n\u001b[0;32m--> 131\u001b[0m     creds \u001b[38;5;241m=\u001b[39m \u001b[43mee_data\u001b[49m\u001b[38;5;241;43m.\u001b[39;49m\u001b[43mget_persistent_credentials\u001b[49m\u001b[43m(\u001b[49m\u001b[43m)\u001b[49m\n\u001b[1;32m    132\u001b[0m     \u001b[38;5;28;01mreturn\u001b[39;00m is_valid_credentials(creds)\n\u001b[1;32m    133\u001b[0m   \u001b[38;5;28;01mexcept\u001b[39;00m ee_exception\u001b[38;5;241m.\u001b[39mEEException:\n",
            "File \u001b[0;32m~/venv/lib/python3.10/site-packages/ee/data.py:271\u001b[0m, in \u001b[0;36mget_persistent_credentials\u001b[0;34m()\u001b[0m\n\u001b[1;32m    266\u001b[0m   \u001b[38;5;28;01mwith\u001b[39;00m warnings\u001b[38;5;241m.\u001b[39mcatch_warnings():\n\u001b[1;32m    267\u001b[0m     \u001b[38;5;66;03m# _default.py gives incorrect advice here: gcloud config set project\u001b[39;00m\n\u001b[1;32m    268\u001b[0m     \u001b[38;5;66;03m# sets the default resource project but we need the quota project.\u001b[39;00m\n\u001b[1;32m    269\u001b[0m     warnings\u001b[38;5;241m.\u001b[39mfilterwarnings(\u001b[38;5;124m'\u001b[39m\u001b[38;5;124mignore\u001b[39m\u001b[38;5;124m'\u001b[39m, \u001b[38;5;124m'\u001b[39m\u001b[38;5;124m.*(No project ID|quota project).*\u001b[39m\u001b[38;5;124m'\u001b[39m)\n\u001b[0;32m--> 271\u001b[0m     credentials, unused_project_id \u001b[38;5;241m=\u001b[39m \u001b[43mgoogle\u001b[49m\u001b[38;5;241;43m.\u001b[39;49m\u001b[43mauth\u001b[49m\u001b[38;5;241;43m.\u001b[39;49m\u001b[43mdefault\u001b[49m\u001b[43m(\u001b[49m\u001b[43m)\u001b[49m\n\u001b[1;32m    272\u001b[0m \u001b[38;5;28;01mexcept\u001b[39;00m google\u001b[38;5;241m.\u001b[39mauth\u001b[38;5;241m.\u001b[39mexceptions\u001b[38;5;241m.\u001b[39mDefaultCredentialsError:\n\u001b[1;32m    273\u001b[0m   \u001b[38;5;28;01mpass\u001b[39;00m\n",
            "File \u001b[0;32m~/venv/lib/python3.10/site-packages/google/auth/_default.py:651\u001b[0m, in \u001b[0;36mdefault\u001b[0;34m(scopes, request, quota_project_id, default_scopes)\u001b[0m\n\u001b[1;32m    639\u001b[0m checkers \u001b[38;5;241m=\u001b[39m (\n\u001b[1;32m    640\u001b[0m     \u001b[38;5;66;03m# Avoid passing scopes here to prevent passing scopes to user credentials.\u001b[39;00m\n\u001b[1;32m    641\u001b[0m     \u001b[38;5;66;03m# with_scopes_if_required() below will ensure scopes/default scopes are\u001b[39;00m\n\u001b[0;32m   (...)\u001b[0m\n\u001b[1;32m    647\u001b[0m     \u001b[38;5;28;01mlambda\u001b[39;00m: _get_gce_credentials(request, quota_project_id\u001b[38;5;241m=\u001b[39mquota_project_id),\n\u001b[1;32m    648\u001b[0m )\n\u001b[1;32m    650\u001b[0m \u001b[38;5;28;01mfor\u001b[39;00m checker \u001b[38;5;129;01min\u001b[39;00m checkers:\n\u001b[0;32m--> 651\u001b[0m     credentials, project_id \u001b[38;5;241m=\u001b[39m \u001b[43mchecker\u001b[49m\u001b[43m(\u001b[49m\u001b[43m)\u001b[49m\n\u001b[1;32m    652\u001b[0m     \u001b[38;5;28;01mif\u001b[39;00m credentials \u001b[38;5;129;01mis\u001b[39;00m \u001b[38;5;129;01mnot\u001b[39;00m \u001b[38;5;28;01mNone\u001b[39;00m:\n\u001b[1;32m    653\u001b[0m         credentials \u001b[38;5;241m=\u001b[39m with_scopes_if_required(\n\u001b[1;32m    654\u001b[0m             credentials, scopes, default_scopes\u001b[38;5;241m=\u001b[39mdefault_scopes\n\u001b[1;32m    655\u001b[0m         )\n",
            "File \u001b[0;32m~/venv/lib/python3.10/site-packages/google/auth/_default.py:647\u001b[0m, in \u001b[0;36mdefault.<locals>.<lambda>\u001b[0;34m()\u001b[0m\n\u001b[1;32m    633\u001b[0m \u001b[38;5;28;01mfrom\u001b[39;00m\u001b[38;5;250m \u001b[39m\u001b[38;5;21;01mgoogle\u001b[39;00m\u001b[38;5;21;01m.\u001b[39;00m\u001b[38;5;21;01mauth\u001b[39;00m\u001b[38;5;21;01m.\u001b[39;00m\u001b[38;5;21;01mcredentials\u001b[39;00m\u001b[38;5;250m \u001b[39m\u001b[38;5;28;01mimport\u001b[39;00m CredentialsWithQuotaProject\n\u001b[1;32m    635\u001b[0m explicit_project_id \u001b[38;5;241m=\u001b[39m os\u001b[38;5;241m.\u001b[39menviron\u001b[38;5;241m.\u001b[39mget(\n\u001b[1;32m    636\u001b[0m     environment_vars\u001b[38;5;241m.\u001b[39mPROJECT, os\u001b[38;5;241m.\u001b[39menviron\u001b[38;5;241m.\u001b[39mget(environment_vars\u001b[38;5;241m.\u001b[39mLEGACY_PROJECT)\n\u001b[1;32m    637\u001b[0m )\n\u001b[1;32m    639\u001b[0m checkers \u001b[38;5;241m=\u001b[39m (\n\u001b[1;32m    640\u001b[0m     \u001b[38;5;66;03m# Avoid passing scopes here to prevent passing scopes to user credentials.\u001b[39;00m\n\u001b[1;32m    641\u001b[0m     \u001b[38;5;66;03m# with_scopes_if_required() below will ensure scopes/default scopes are\u001b[39;00m\n\u001b[1;32m    642\u001b[0m     \u001b[38;5;66;03m# safely set on the returned credentials since requires_scopes will\u001b[39;00m\n\u001b[1;32m    643\u001b[0m     \u001b[38;5;66;03m# guard against setting scopes on user credentials.\u001b[39;00m\n\u001b[1;32m    644\u001b[0m     \u001b[38;5;28;01mlambda\u001b[39;00m: _get_explicit_environ_credentials(quota_project_id\u001b[38;5;241m=\u001b[39mquota_project_id),\n\u001b[1;32m    645\u001b[0m     \u001b[38;5;28;01mlambda\u001b[39;00m: _get_gcloud_sdk_credentials(quota_project_id\u001b[38;5;241m=\u001b[39mquota_project_id),\n\u001b[1;32m    646\u001b[0m     _get_gae_credentials,\n\u001b[0;32m--> 647\u001b[0m     \u001b[38;5;28;01mlambda\u001b[39;00m: \u001b[43m_get_gce_credentials\u001b[49m\u001b[43m(\u001b[49m\u001b[43mrequest\u001b[49m\u001b[43m,\u001b[49m\u001b[43m \u001b[49m\u001b[43mquota_project_id\u001b[49m\u001b[38;5;241;43m=\u001b[39;49m\u001b[43mquota_project_id\u001b[49m\u001b[43m)\u001b[49m,\n\u001b[1;32m    648\u001b[0m )\n\u001b[1;32m    650\u001b[0m \u001b[38;5;28;01mfor\u001b[39;00m checker \u001b[38;5;129;01min\u001b[39;00m checkers:\n\u001b[1;32m    651\u001b[0m     credentials, project_id \u001b[38;5;241m=\u001b[39m checker()\n",
            "File \u001b[0;32m~/venv/lib/python3.10/site-packages/google/auth/_default.py:350\u001b[0m, in \u001b[0;36m_get_gce_credentials\u001b[0;34m(request, quota_project_id)\u001b[0m\n\u001b[1;32m    347\u001b[0m \u001b[38;5;28;01mif\u001b[39;00m request \u001b[38;5;129;01mis\u001b[39;00m \u001b[38;5;28;01mNone\u001b[39;00m:\n\u001b[1;32m    348\u001b[0m     request \u001b[38;5;241m=\u001b[39m google\u001b[38;5;241m.\u001b[39mauth\u001b[38;5;241m.\u001b[39mtransport\u001b[38;5;241m.\u001b[39m_http_client\u001b[38;5;241m.\u001b[39mRequest()\n\u001b[0;32m--> 350\u001b[0m \u001b[38;5;28;01mif\u001b[39;00m \u001b[43m_metadata\u001b[49m\u001b[38;5;241;43m.\u001b[39;49m\u001b[43mis_on_gce\u001b[49m\u001b[43m(\u001b[49m\u001b[43mrequest\u001b[49m\u001b[38;5;241;43m=\u001b[39;49m\u001b[43mrequest\u001b[49m\u001b[43m)\u001b[49m:\n\u001b[1;32m    351\u001b[0m     \u001b[38;5;66;03m# Get the project ID.\u001b[39;00m\n\u001b[1;32m    352\u001b[0m     \u001b[38;5;28;01mtry\u001b[39;00m:\n\u001b[1;32m    353\u001b[0m         project_id \u001b[38;5;241m=\u001b[39m _metadata\u001b[38;5;241m.\u001b[39mget_project_id(request\u001b[38;5;241m=\u001b[39mrequest)\n",
            "File \u001b[0;32m~/venv/lib/python3.10/site-packages/google/auth/compute_engine/_metadata.py:78\u001b[0m, in \u001b[0;36mis_on_gce\u001b[0;34m(request)\u001b[0m\n\u001b[1;32m     68\u001b[0m \u001b[38;5;28;01mdef\u001b[39;00m\u001b[38;5;250m \u001b[39m\u001b[38;5;21mis_on_gce\u001b[39m(request):\n\u001b[1;32m     69\u001b[0m \u001b[38;5;250m    \u001b[39m\u001b[38;5;124;03m\"\"\"Checks to see if the code runs on Google Compute Engine\u001b[39;00m\n\u001b[1;32m     70\u001b[0m \n\u001b[1;32m     71\u001b[0m \u001b[38;5;124;03m    Args:\u001b[39;00m\n\u001b[0;32m   (...)\u001b[0m\n\u001b[1;32m     76\u001b[0m \u001b[38;5;124;03m        bool: True if the code runs on Google Compute Engine, False otherwise.\u001b[39;00m\n\u001b[1;32m     77\u001b[0m \u001b[38;5;124;03m    \"\"\"\u001b[39;00m\n\u001b[0;32m---> 78\u001b[0m     \u001b[38;5;28;01mif\u001b[39;00m \u001b[43mping\u001b[49m\u001b[43m(\u001b[49m\u001b[43mrequest\u001b[49m\u001b[43m)\u001b[49m:\n\u001b[1;32m     79\u001b[0m         \u001b[38;5;28;01mreturn\u001b[39;00m \u001b[38;5;28;01mTrue\u001b[39;00m\n\u001b[1;32m     81\u001b[0m     \u001b[38;5;28;01mif\u001b[39;00m os\u001b[38;5;241m.\u001b[39mname \u001b[38;5;241m==\u001b[39m \u001b[38;5;124m\"\u001b[39m\u001b[38;5;124mnt\u001b[39m\u001b[38;5;124m\"\u001b[39m:\n\u001b[1;32m     82\u001b[0m         \u001b[38;5;66;03m# TODO: implement GCE residency detection on Windows\u001b[39;00m\n",
            "File \u001b[0;32m~/venv/lib/python3.10/site-packages/google/auth/compute_engine/_metadata.py:129\u001b[0m, in \u001b[0;36mping\u001b[0;34m(request, timeout, retry_count)\u001b[0m\n\u001b[1;32m    125\u001b[0m headers[metrics\u001b[38;5;241m.\u001b[39mAPI_CLIENT_HEADER] \u001b[38;5;241m=\u001b[39m metrics\u001b[38;5;241m.\u001b[39mmds_ping()\n\u001b[1;32m    127\u001b[0m backoff \u001b[38;5;241m=\u001b[39m ExponentialBackoff(total_attempts\u001b[38;5;241m=\u001b[39mretry_count)\n\u001b[0;32m--> 129\u001b[0m \u001b[38;5;28;01mfor\u001b[39;00m attempt \u001b[38;5;129;01min\u001b[39;00m backoff:\n\u001b[1;32m    130\u001b[0m     \u001b[38;5;28;01mtry\u001b[39;00m:\n\u001b[1;32m    131\u001b[0m         response \u001b[38;5;241m=\u001b[39m request(\n\u001b[1;32m    132\u001b[0m             url\u001b[38;5;241m=\u001b[39m_METADATA_IP_ROOT, method\u001b[38;5;241m=\u001b[39m\u001b[38;5;124m\"\u001b[39m\u001b[38;5;124mGET\u001b[39m\u001b[38;5;124m\"\u001b[39m, headers\u001b[38;5;241m=\u001b[39mheaders, timeout\u001b[38;5;241m=\u001b[39mtimeout\n\u001b[1;32m    133\u001b[0m         )\n",
            "File \u001b[0;32m~/venv/lib/python3.10/site-packages/google/auth/_exponential_backoff.py:133\u001b[0m, in \u001b[0;36mExponentialBackoff.__next__\u001b[0;34m(self)\u001b[0m\n\u001b[1;32m    129\u001b[0m     \u001b[38;5;28;01mreturn\u001b[39;00m \u001b[38;5;28mself\u001b[39m\u001b[38;5;241m.\u001b[39m_backoff_count\n\u001b[1;32m    131\u001b[0m jitter \u001b[38;5;241m=\u001b[39m \u001b[38;5;28mself\u001b[39m\u001b[38;5;241m.\u001b[39m_calculate_jitter()\n\u001b[0;32m--> 133\u001b[0m \u001b[43mtime\u001b[49m\u001b[38;5;241;43m.\u001b[39;49m\u001b[43msleep\u001b[49m\u001b[43m(\u001b[49m\u001b[43mjitter\u001b[49m\u001b[43m)\u001b[49m\n\u001b[1;32m    135\u001b[0m \u001b[38;5;28mself\u001b[39m\u001b[38;5;241m.\u001b[39m_current_wait_in_seconds \u001b[38;5;241m*\u001b[39m\u001b[38;5;241m=\u001b[39m \u001b[38;5;28mself\u001b[39m\u001b[38;5;241m.\u001b[39m_multiplier\n\u001b[1;32m    136\u001b[0m \u001b[38;5;28;01mreturn\u001b[39;00m \u001b[38;5;28mself\u001b[39m\u001b[38;5;241m.\u001b[39m_backoff_count\n",
            "\u001b[0;31mKeyboardInterrupt\u001b[0m: "
          ]
        }
      ],
      "outputs_reference": null,
      "content_dependencies": null
    },
    {
      "cell_type": "code",
      "metadata": {
        "source_hash": "68ac4858",
        "execution_start": 1753814287836,
        "execution_millis": 2860,
        "execution_context_id": "985ff817-7ce4-41b9-b8fb-fc7eeb87fa87",
        "deepnote_to_be_reexecuted": true,
        "cell_id": "434fab813a8446f082411816790c648d",
        "deepnote_cell_type": "code"
      },
      "source": "# Forecasts\nday1_forecast = gpd.read_file('https://files.bwsi-remote-sensing.net/data/final/day1/day1_forecasts_2025.geojson')",
      "block_group": "bcddcbc39e80428791c9cc5826c3ee52",
      "execution_count": 156,
      "outputs": [
        {
          "data": {
            "text/plain": "<IPython.core.display.HTML object>",
            "text/html": "\n            <style>\n                .geemap-dark {\n                    --jp-widgets-color: white;\n                    --jp-widgets-label-color: white;\n                    --jp-ui-font-color1: white;\n                    --jp-layout-color2: #454545;\n                    background-color: #383838;\n                }\n\n                .geemap-dark .jupyter-button {\n                    --jp-layout-color3: #383838;\n                }\n\n                .geemap-colab {\n                    background-color: var(--colab-primary-surface-color, white);\n                }\n\n                .geemap-colab .jupyter-button {\n                    --jp-layout-color3: var(--colab-primary-surface-color, white);\n                }\n            </style>\n            "
          },
          "metadata": {},
          "output_type": "display_data"
        }
      ],
      "outputs_reference": null,
      "content_dependencies": null
    },
    {
      "cell_type": "code",
      "metadata": {
        "source_hash": "4655c426",
        "execution_start": 1753814292208,
        "execution_millis": 0,
        "execution_context_id": "985ff817-7ce4-41b9-b8fb-fc7eeb87fa87",
        "deepnote_to_be_reexecuted": true,
        "cell_id": "6e231aed301b4f569e250cda53d3414f",
        "deepnote_cell_type": "code"
      },
      "source": "random_color = lambda: np.random.random(3)",
      "block_group": "361a5b039aeb45328c8e98a33307d92d",
      "execution_count": 159,
      "outputs": [
        {
          "data": {
            "text/plain": "<IPython.core.display.HTML object>",
            "text/html": "\n            <style>\n                .geemap-dark {\n                    --jp-widgets-color: white;\n                    --jp-widgets-label-color: white;\n                    --jp-ui-font-color1: white;\n                    --jp-layout-color2: #454545;\n                    background-color: #383838;\n                }\n\n                .geemap-dark .jupyter-button {\n                    --jp-layout-color3: #383838;\n                }\n\n                .geemap-colab {\n                    background-color: var(--colab-primary-surface-color, white);\n                }\n\n                .geemap-colab .jupyter-button {\n                    --jp-layout-color3: var(--colab-primary-surface-color, white);\n                }\n            </style>\n            "
          },
          "metadata": {},
          "output_type": "display_data"
        }
      ],
      "outputs_reference": null,
      "content_dependencies": null
    },
    {
      "cell_type": "code",
      "metadata": {
        "source_hash": "3c16069a",
        "execution_start": 1753814296878,
        "execution_millis": 47,
        "execution_context_id": "985ff817-7ce4-41b9-b8fb-fc7eeb87fa87",
        "deepnote_to_be_reexecuted": true,
        "cell_id": "f31a5440ba5d4e238afdf828430757ef",
        "deepnote_cell_type": "code"
      },
      "source": "day1_forecast\n",
      "block_group": "b9384e86d26f4e28b1bebdfb18b8fe3d",
      "execution_count": 162,
      "outputs": [
        {
          "data": {
            "text/plain": "<IPython.core.display.HTML object>",
            "text/html": "\n            <style>\n                .geemap-dark {\n                    --jp-widgets-color: white;\n                    --jp-widgets-label-color: white;\n                    --jp-ui-font-color1: white;\n                    --jp-layout-color2: #454545;\n                    background-color: #383838;\n                }\n\n                .geemap-dark .jupyter-button {\n                    --jp-layout-color3: #383838;\n                }\n\n                .geemap-colab {\n                    background-color: var(--colab-primary-surface-color, white);\n                }\n\n                .geemap-colab .jupyter-button {\n                    --jp-layout-color3: var(--colab-primary-surface-color, white);\n                }\n            </style>\n            "
          },
          "metadata": {},
          "output_type": "display_data"
        },
        {
          "output_type": "execute_result",
          "execution_count": 162,
          "data": {
            "application/vnd.deepnote.dataframe.v3+json": {
              "column_count": 6,
              "columns": [
                {
                  "name": "prediction",
                  "dtype": "int32",
                  "stats": {
                    "unique_count": 20,
                    "nan_count": 0,
                    "min": "1",
                    "max": "20",
                    "histogram": [
                      {
                        "bin_start": 1,
                        "bin_end": 2.9,
                        "count": 16
                      },
                      {
                        "bin_start": 2.9,
                        "bin_end": 4.8,
                        "count": 16
                      },
                      {
                        "bin_start": 4.8,
                        "bin_end": 6.699999999999999,
                        "count": 16
                      },
                      {
                        "bin_start": 6.699999999999999,
                        "bin_end": 8.6,
                        "count": 16
                      },
                      {
                        "bin_start": 8.6,
                        "bin_end": 10.5,
                        "count": 16
                      },
                      {
                        "bin_start": 10.5,
                        "bin_end": 12.399999999999999,
                        "count": 16
                      },
                      {
                        "bin_start": 12.399999999999999,
                        "bin_end": 14.299999999999999,
                        "count": 16
                      },
                      {
                        "bin_start": 14.299999999999999,
                        "bin_end": 16.2,
                        "count": 16
                      },
                      {
                        "bin_start": 16.2,
                        "bin_end": 18.099999999999998,
                        "count": 16
                      },
                      {
                        "bin_start": 18.099999999999998,
                        "bin_end": 20,
                        "count": 16
                      }
                    ],
                    "categories": null
                  }
                },
                {
                  "name": "forecastHour",
                  "dtype": "int32",
                  "stats": {
                    "unique_count": 8,
                    "nan_count": 0,
                    "min": "12",
                    "max": "120",
                    "histogram": [
                      {
                        "bin_start": 12,
                        "bin_end": 22.8,
                        "count": 20
                      },
                      {
                        "bin_start": 22.8,
                        "bin_end": 33.6,
                        "count": 20
                      },
                      {
                        "bin_start": 33.6,
                        "bin_end": 44.400000000000006,
                        "count": 20
                      },
                      {
                        "bin_start": 44.400000000000006,
                        "bin_end": 55.2,
                        "count": 20
                      },
                      {
                        "bin_start": 55.2,
                        "bin_end": 66,
                        "count": 20
                      },
                      {
                        "bin_start": 66,
                        "bin_end": 76.80000000000001,
                        "count": 20
                      },
                      {
                        "bin_start": 76.80000000000001,
                        "bin_end": 87.60000000000001,
                        "count": 0
                      },
                      {
                        "bin_start": 87.60000000000001,
                        "bin_end": 98.4,
                        "count": 20
                      },
                      {
                        "bin_start": 98.4,
                        "bin_end": 109.2,
                        "count": 0
                      },
                      {
                        "bin_start": 109.2,
                        "bin_end": 120,
                        "count": 20
                      }
                    ],
                    "categories": null
                  }
                },
                {
                  "name": "datetime",
                  "dtype": "datetime64[ms]",
                  "stats": {
                    "unique_count": 8,
                    "nan_count": 0,
                    "min": "2023-08-02 08:00:00",
                    "max": "2023-08-06 20:00:00",
                    "histogram": [
                      {
                        "bin_start": 1690963200000,
                        "bin_end": 1691002080000,
                        "count": 20
                      },
                      {
                        "bin_start": 1691002080000,
                        "bin_end": 1691040960000,
                        "count": 20
                      },
                      {
                        "bin_start": 1691040960000,
                        "bin_end": 1691079840000,
                        "count": 20
                      },
                      {
                        "bin_start": 1691079840000,
                        "bin_end": 1691118720000,
                        "count": 20
                      },
                      {
                        "bin_start": 1691118720000,
                        "bin_end": 1691157600000,
                        "count": 20
                      },
                      {
                        "bin_start": 1691157600000,
                        "bin_end": 1691196480000,
                        "count": 20
                      },
                      {
                        "bin_start": 1691196480000,
                        "bin_end": 1691235360000,
                        "count": 0
                      },
                      {
                        "bin_start": 1691235360000,
                        "bin_end": 1691274240000,
                        "count": 20
                      },
                      {
                        "bin_start": 1691274240000,
                        "bin_end": 1691313120000,
                        "count": 0
                      },
                      {
                        "bin_start": 1691313120000,
                        "bin_end": 1691352000000,
                        "count": 20
                      }
                    ],
                    "categories": null
                  }
                },
                {
                  "name": "maxWinds",
                  "dtype": "int32",
                  "stats": {
                    "unique_count": 7,
                    "nan_count": 0,
                    "min": "65",
                    "max": "105",
                    "histogram": [
                      {
                        "bin_start": 65,
                        "bin_end": 69,
                        "count": 20
                      },
                      {
                        "bin_start": 69,
                        "bin_end": 73,
                        "count": 20
                      },
                      {
                        "bin_start": 73,
                        "bin_end": 77,
                        "count": 20
                      },
                      {
                        "bin_start": 77,
                        "bin_end": 81,
                        "count": 0
                      },
                      {
                        "bin_start": 81,
                        "bin_end": 85,
                        "count": 0
                      },
                      {
                        "bin_start": 85,
                        "bin_end": 89,
                        "count": 40
                      },
                      {
                        "bin_start": 89,
                        "bin_end": 93,
                        "count": 20
                      },
                      {
                        "bin_start": 93,
                        "bin_end": 97,
                        "count": 0
                      },
                      {
                        "bin_start": 97,
                        "bin_end": 101,
                        "count": 20
                      },
                      {
                        "bin_start": 101,
                        "bin_end": 105,
                        "count": 20
                      }
                    ],
                    "categories": null
                  }
                },
                {
                  "name": "category",
                  "dtype": "int32",
                  "stats": {
                    "unique_count": 3,
                    "nan_count": 0,
                    "min": "1",
                    "max": "3",
                    "histogram": [
                      {
                        "bin_start": 1,
                        "bin_end": 1.2,
                        "count": 60
                      },
                      {
                        "bin_start": 1.2,
                        "bin_end": 1.4,
                        "count": 0
                      },
                      {
                        "bin_start": 1.4,
                        "bin_end": 1.6,
                        "count": 0
                      },
                      {
                        "bin_start": 1.6,
                        "bin_end": 1.8,
                        "count": 0
                      },
                      {
                        "bin_start": 1.8,
                        "bin_end": 2,
                        "count": 0
                      },
                      {
                        "bin_start": 2,
                        "bin_end": 2.2,
                        "count": 60
                      },
                      {
                        "bin_start": 2.2,
                        "bin_end": 2.4000000000000004,
                        "count": 0
                      },
                      {
                        "bin_start": 2.4000000000000004,
                        "bin_end": 2.6,
                        "count": 0
                      },
                      {
                        "bin_start": 2.6,
                        "bin_end": 2.8,
                        "count": 0
                      },
                      {
                        "bin_start": 2.8,
                        "bin_end": 3,
                        "count": 40
                      }
                    ],
                    "categories": null
                  }
                },
                {
                  "name": "geometry",
                  "dtype": "geometry",
                  "stats": {
                    "unique_count": 160,
                    "nan_count": 0,
                    "min": null,
                    "max": null,
                    "histogram": null,
                    "categories": [
                      {
                        "name": "POINT (-69.75497134942385 37.90491072604487)",
                        "count": 1
                      },
                      {
                        "name": "POINT (-70.50737773574964 38.868564112044716)",
                        "count": 1
                      },
                      {
                        "name": "158 others",
                        "count": 158
                      }
                    ]
                  }
                },
                {
                  "name": "_deepnote_index_column",
                  "dtype": "int64"
                }
              ],
              "row_count": 160,
              "preview_row_count": 160,
              "rows": [
                {
                  "prediction": 1,
                  "forecastHour": 12,
                  "datetime": "2023-08-02 08:00:00",
                  "maxWinds": 70,
                  "category": 1,
                  "geometry": "POINT (-69.75497134942385 37.90491072604487)",
                  "_deepnote_index_column": 0
                },
                {
                  "prediction": 1,
                  "forecastHour": 24,
                  "datetime": "2023-08-02 20:00:00",
                  "maxWinds": 75,
                  "category": 1,
                  "geometry": "POINT (-70.50737773574964 38.868564112044716)",
                  "_deepnote_index_column": 1
                },
                {
                  "prediction": 1,
                  "forecastHour": 36,
                  "datetime": "2023-08-03 08:00:00",
                  "maxWinds": 85,
                  "category": 2,
                  "geometry": "POINT (-71.35866263992321 39.413128558947164)",
                  "_deepnote_index_column": 2
                },
                {
                  "prediction": 1,
                  "forecastHour": 48,
                  "datetime": "2023-08-03 20:00:00",
                  "maxWinds": 85,
                  "category": 2,
                  "geometry": "POINT (-71.72151873164647 40.51757953366444)",
                  "_deepnote_index_column": 3
                },
                {
                  "prediction": 1,
                  "forecastHour": 60,
                  "datetime": "2023-08-04 08:00:00",
                  "maxWinds": 100,
                  "category": 3,
                  "geometry": "POINT (-71.48969249254021 41.1848588229654)",
                  "_deepnote_index_column": 4
                },
                {
                  "prediction": 1,
                  "forecastHour": 72,
                  "datetime": "2023-08-04 20:00:00",
                  "maxWinds": 105,
                  "category": 3,
                  "geometry": "POINT (-71.67249657342846 41.631049782747674)",
                  "_deepnote_index_column": 5
                },
                {
                  "prediction": 1,
                  "forecastHour": 96,
                  "datetime": "2023-08-05 20:00:00",
                  "maxWinds": 90,
                  "category": 2,
                  "geometry": "POINT (-72.11828450866204 42.76030957563003)",
                  "_deepnote_index_column": 6
                },
                {
                  "prediction": 1,
                  "forecastHour": 120,
                  "datetime": "2023-08-06 20:00:00",
                  "maxWinds": 65,
                  "category": 1,
                  "geometry": "POINT (-69.29122402437653 43.43793745258908)",
                  "_deepnote_index_column": 7
                },
                {
                  "prediction": 2,
                  "forecastHour": 12,
                  "datetime": "2023-08-02 08:00:00",
                  "maxWinds": 70,
                  "category": 1,
                  "geometry": "POINT (-69.83377130432231 37.95511479583568)",
                  "_deepnote_index_column": 8
                },
                {
                  "prediction": 2,
                  "forecastHour": 24,
                  "datetime": "2023-08-02 20:00:00",
                  "maxWinds": 75,
                  "category": 1,
                  "geometry": "POINT (-70.4329130687191 38.89559537271619)",
                  "_deepnote_index_column": 9
                }
              ],
              "type": "dataframe"
            },
            "text/plain": "     prediction  forecastHour            datetime  maxWinds  category  \\\n0             1            12 2023-08-02 08:00:00        70         1   \n1             1            24 2023-08-02 20:00:00        75         1   \n2             1            36 2023-08-03 08:00:00        85         2   \n3             1            48 2023-08-03 20:00:00        85         2   \n4             1            60 2023-08-04 08:00:00       100         3   \n..          ...           ...                 ...       ...       ...   \n155          20            48 2023-08-03 20:00:00        85         2   \n156          20            60 2023-08-04 08:00:00       100         3   \n157          20            72 2023-08-04 20:00:00       105         3   \n158          20            96 2023-08-05 20:00:00        90         2   \n159          20           120 2023-08-06 20:00:00        65         1   \n\n                       geometry  \n0    POINT (-69.75497 37.90491)  \n1    POINT (-70.50738 38.86856)  \n2    POINT (-71.35866 39.41313)  \n3    POINT (-71.72152 40.51758)  \n4    POINT (-71.48969 41.18486)  \n..                          ...  \n155  POINT (-71.49297 40.27587)  \n156  POINT (-70.95934 42.12895)  \n157  POINT (-71.61717 40.70945)  \n158  POINT (-70.44554 43.65152)  \n159   POINT (-67.9482 42.73349)  \n\n[160 rows x 6 columns]",
            "text/html": "<div>\n<style scoped>\n    .dataframe tbody tr th:only-of-type {\n        vertical-align: middle;\n    }\n\n    .dataframe tbody tr th {\n        vertical-align: top;\n    }\n\n    .dataframe thead th {\n        text-align: right;\n    }\n</style>\n<table border=\"1\" class=\"dataframe\">\n  <thead>\n    <tr style=\"text-align: right;\">\n      <th></th>\n      <th>prediction</th>\n      <th>forecastHour</th>\n      <th>datetime</th>\n      <th>maxWinds</th>\n      <th>category</th>\n      <th>geometry</th>\n    </tr>\n  </thead>\n  <tbody>\n    <tr>\n      <th>0</th>\n      <td>1</td>\n      <td>12</td>\n      <td>2023-08-02 08:00:00</td>\n      <td>70</td>\n      <td>1</td>\n      <td>POINT (-69.75497 37.90491)</td>\n    </tr>\n    <tr>\n      <th>1</th>\n      <td>1</td>\n      <td>24</td>\n      <td>2023-08-02 20:00:00</td>\n      <td>75</td>\n      <td>1</td>\n      <td>POINT (-70.50738 38.86856)</td>\n    </tr>\n    <tr>\n      <th>2</th>\n      <td>1</td>\n      <td>36</td>\n      <td>2023-08-03 08:00:00</td>\n      <td>85</td>\n      <td>2</td>\n      <td>POINT (-71.35866 39.41313)</td>\n    </tr>\n    <tr>\n      <th>3</th>\n      <td>1</td>\n      <td>48</td>\n      <td>2023-08-03 20:00:00</td>\n      <td>85</td>\n      <td>2</td>\n      <td>POINT (-71.72152 40.51758)</td>\n    </tr>\n    <tr>\n      <th>4</th>\n      <td>1</td>\n      <td>60</td>\n      <td>2023-08-04 08:00:00</td>\n      <td>100</td>\n      <td>3</td>\n      <td>POINT (-71.48969 41.18486)</td>\n    </tr>\n    <tr>\n      <th>...</th>\n      <td>...</td>\n      <td>...</td>\n      <td>...</td>\n      <td>...</td>\n      <td>...</td>\n      <td>...</td>\n    </tr>\n    <tr>\n      <th>155</th>\n      <td>20</td>\n      <td>48</td>\n      <td>2023-08-03 20:00:00</td>\n      <td>85</td>\n      <td>2</td>\n      <td>POINT (-71.49297 40.27587)</td>\n    </tr>\n    <tr>\n      <th>156</th>\n      <td>20</td>\n      <td>60</td>\n      <td>2023-08-04 08:00:00</td>\n      <td>100</td>\n      <td>3</td>\n      <td>POINT (-70.95934 42.12895)</td>\n    </tr>\n    <tr>\n      <th>157</th>\n      <td>20</td>\n      <td>72</td>\n      <td>2023-08-04 20:00:00</td>\n      <td>105</td>\n      <td>3</td>\n      <td>POINT (-71.61717 40.70945)</td>\n    </tr>\n    <tr>\n      <th>158</th>\n      <td>20</td>\n      <td>96</td>\n      <td>2023-08-05 20:00:00</td>\n      <td>90</td>\n      <td>2</td>\n      <td>POINT (-70.44554 43.65152)</td>\n    </tr>\n    <tr>\n      <th>159</th>\n      <td>20</td>\n      <td>120</td>\n      <td>2023-08-06 20:00:00</td>\n      <td>65</td>\n      <td>1</td>\n      <td>POINT (-67.9482 42.73349)</td>\n    </tr>\n  </tbody>\n</table>\n<p>160 rows × 6 columns</p>\n</div>"
          },
          "metadata": {}
        }
      ],
      "outputs_reference": null,
      "content_dependencies": null
    },
    {
      "cell_type": "markdown",
      "metadata": {
        "formattedRanges": [
          {
            "url": "https://github.com/bwsi-hadr/final-exercise-template/blob/master/final_exercise_reference.ipynb",
            "type": "link",
            "ranges": [],
            "toCodePoint": 95,
            "fromCodePoint": 0
          }
        ],
        "cell_id": "8090713538f94273bbdfa2652b0bec3b",
        "deepnote_cell_type": "text-cell-p"
      },
      "source": "https://github.com/bwsi-hadr/final-exercise-template/blob/master/final_exercise_reference.ipynb",
      "block_group": "0cffbe18cd8f410d8d652d13a2f19a0e"
    },
    {
      "cell_type": "code",
      "metadata": {
        "source_hash": "daf38ed3",
        "execution_start": 1753814302791,
        "execution_millis": 2594,
        "execution_context_id": "985ff817-7ce4-41b9-b8fb-fc7eeb87fa87",
        "deepnote_to_be_reexecuted": true,
        "cell_id": "5632e02f81174518ac423d8a5d682434",
        "deepnote_cell_type": "code"
      },
      "source": "fig, ax = plt.subplots(1, 1, figsize=(10,10))\nfor pred_id, pred in day1_forecast.groupby('prediction'):\n    c = random_color()\n    pred.plot(color=c, ax=ax)\n    line_to_plot = LineString(pred.geometry.values)\n    ax.plot(line_to_plot.xy[0], line_to_plot.xy[1], color=c, label=f'{pred_id}')\nax.legend(title='prediction id')",
      "block_group": "0c07e538ed08430e98b42b139751973c",
      "execution_count": 165,
      "outputs": [
        {
          "data": {
            "text/plain": "<IPython.core.display.HTML object>",
            "text/html": "\n            <style>\n                .geemap-dark {\n                    --jp-widgets-color: white;\n                    --jp-widgets-label-color: white;\n                    --jp-ui-font-color1: white;\n                    --jp-layout-color2: #454545;\n                    background-color: #383838;\n                }\n\n                .geemap-dark .jupyter-button {\n                    --jp-layout-color3: #383838;\n                }\n\n                .geemap-colab {\n                    background-color: var(--colab-primary-surface-color, white);\n                }\n\n                .geemap-colab .jupyter-button {\n                    --jp-layout-color3: var(--colab-primary-surface-color, white);\n                }\n            </style>\n            "
          },
          "metadata": {},
          "output_type": "display_data"
        },
        {
          "output_type": "execute_result",
          "execution_count": 165,
          "data": {
            "text/plain": "<matplotlib.legend.Legend at 0x7fcba4accc10>"
          },
          "metadata": {}
        },
        {
          "data": {
            "text/plain": "<Figure size 1000x1000 with 1 Axes>",
            "image/png": "[encoded data removed]"
          },
          "metadata": {
            "image/png": {
              "width": 495,
              "height": 813
            }
          },
          "output_type": "display_data"
        }
      ],
      "outputs_reference": null,
      "content_dependencies": null
    },
    {
      "cell_type": "code",
      "metadata": {
        "source_hash": "65a2b6d4",
        "execution_start": 1753814354246,
        "execution_context_id": "985ff817-7ce4-41b9-b8fb-fc7eeb87fa87",
        "deepnote_to_be_reexecuted": true,
        "cell_id": "029af8129f324dd8880da5955c7bd721",
        "deepnote_cell_type": "code"
      },
      "source": "day1_track = gpd.read_file('https://files.bwsi-remote-sensing.net/data/final/day1/day1_track_past.geojson')\nday1_track.plot()",
      "block_group": "51c3dd9aa3ce432cb1d4ec3c6e3b1199",
      "execution_count": 168,
      "outputs": [
        {
          "data": {
            "text/plain": "<IPython.core.display.HTML object>",
            "text/html": "\n            <style>\n                .geemap-dark {\n                    --jp-widgets-color: white;\n                    --jp-widgets-label-color: white;\n                    --jp-ui-font-color1: white;\n                    --jp-layout-color2: #454545;\n                    background-color: #383838;\n                }\n\n                .geemap-dark .jupyter-button {\n                    --jp-layout-color3: #383838;\n                }\n\n                .geemap-colab {\n                    background-color: var(--colab-primary-surface-color, white);\n                }\n\n                .geemap-colab .jupyter-button {\n                    --jp-layout-color3: var(--colab-primary-surface-color, white);\n                }\n            </style>\n            "
          },
          "metadata": {},
          "output_type": "display_data"
        },
        {
          "output_type": "execute_result",
          "execution_count": 168,
          "data": {
            "text/plain": "<AxesSubplot: >"
          },
          "metadata": {}
        },
        {
          "data": {
            "text/plain": "<Figure size 640x480 with 1 Axes>",
            "image/png": "[encoded data removed]"
          },
          "metadata": {
            "image/png": {
              "width": 466,
              "height": 413
            }
          },
          "output_type": "display_data"
        }
      ],
      "outputs_reference": null,
      "content_dependencies": null
    },
    {
      "cell_type": "code",
      "metadata": {
        "source_hash": "13fad293",
        "execution_start": 1753814425696,
        "execution_millis": 15527,
        "execution_context_id": "985ff817-7ce4-41b9-b8fb-fc7eeb87fa87",
        "deepnote_to_be_reexecuted": true,
        "cell_id": "8460fd91b8af4e10bd33adce69294a2b",
        "deepnote_cell_type": "code"
      },
      "source": "hospital_df = gpd.read_file('Hospitals_2025.geojson')\nshelters_df = gpd.read_file('Shelters_2025.geojson')\ngame_grid_df = gpd.read_file('game_grid_2025.geojson')",
      "block_group": "4b39c5e067da4abcb19bd5ff103b41ed",
      "execution_count": 171,
      "outputs": [
        {
          "data": {
            "text/plain": "<IPython.core.display.HTML object>",
            "text/html": "\n            <style>\n                .geemap-dark {\n                    --jp-widgets-color: white;\n                    --jp-widgets-label-color: white;\n                    --jp-ui-font-color1: white;\n                    --jp-layout-color2: #454545;\n                    background-color: #383838;\n                }\n\n                .geemap-dark .jupyter-button {\n                    --jp-layout-color3: #383838;\n                }\n\n                .geemap-colab {\n                    background-color: var(--colab-primary-surface-color, white);\n                }\n\n                .geemap-colab .jupyter-button {\n                    --jp-layout-color3: var(--colab-primary-surface-color, white);\n                }\n            </style>\n            "
          },
          "metadata": {},
          "output_type": "display_data"
        }
      ],
      "outputs_reference": null,
      "content_dependencies": null
    },
    {
      "cell_type": "code",
      "metadata": {
        "source_hash": "87d1131d",
        "execution_start": 1753814529207,
        "execution_millis": 9,
        "execution_context_id": "985ff817-7ce4-41b9-b8fb-fc7eeb87fa87",
        "deepnote_to_be_reexecuted": true,
        "cell_id": "e924c5eb46124b298d440df02b57cb51",
        "deepnote_cell_type": "code"
      },
      "source": "w,s,e,n = game_grid_df.total_bounds\nprint(w,s,e,n)",
      "block_group": "346c557317d1425e9545e16125c4112b",
      "execution_count": 182,
      "outputs": [
        {
          "data": {
            "text/plain": "<IPython.core.display.HTML object>",
            "text/html": "\n            <style>\n                .geemap-dark {\n                    --jp-widgets-color: white;\n                    --jp-widgets-label-color: white;\n                    --jp-ui-font-color1: white;\n                    --jp-layout-color2: #454545;\n                    background-color: #383838;\n                }\n\n                .geemap-dark .jupyter-button {\n                    --jp-layout-color3: #383838;\n                }\n\n                .geemap-colab {\n                    background-color: var(--colab-primary-surface-color, white);\n                }\n\n                .geemap-colab .jupyter-button {\n                    --jp-layout-color3: var(--colab-primary-surface-color, white);\n                }\n            </style>\n            "
          },
          "metadata": {},
          "output_type": "display_data"
        },
        {
          "name": "stdout",
          "text": "-74.0062751207002 40.995556258214776 -66.93832921282291 47.46624330268622\n",
          "output_type": "stream"
        }
      ],
      "outputs_reference": null,
      "content_dependencies": null
    },
    {
      "cell_type": "code",
      "metadata": {
        "source_hash": "326bfc2",
        "execution_start": 1753814529267,
        "execution_millis": 45805,
        "execution_context_id": "985ff817-7ce4-41b9-b8fb-fc7eeb87fa87",
        "deepnote_to_be_reexecuted": true,
        "cell_id": "5746bd0e02cf4d4e9c184a84b9da8a15",
        "deepnote_cell_type": "code"
      },
      "source": "buffered_game_grid = game_grid_df.to_crs('epsg:3857')\nbuffered_game_grid.geometry = buffered_game_grid.buffer(10)\nneighboring_gdf = gpd.sjoin(buffered_game_grid, game_grid_df.to_crs('epsg:3857'), predicate='overlaps')",
      "block_group": "72ba3ab31359409e9e3917e97d406e50",
      "execution_count": 183,
      "outputs": [
        {
          "data": {
            "text/plain": "<IPython.core.display.HTML object>",
            "text/html": "\n            <style>\n                .geemap-dark {\n                    --jp-widgets-color: white;\n                    --jp-widgets-label-color: white;\n                    --jp-ui-font-color1: white;\n                    --jp-layout-color2: #454545;\n                    background-color: #383838;\n                }\n\n                .geemap-dark .jupyter-button {\n                    --jp-layout-color3: #383838;\n                }\n\n                .geemap-colab {\n                    background-color: var(--colab-primary-surface-color, white);\n                }\n\n                .geemap-colab .jupyter-button {\n                    --jp-layout-color3: var(--colab-primary-surface-color, white);\n                }\n            </style>\n            "
          },
          "metadata": {},
          "output_type": "display_data"
        }
      ],
      "outputs_reference": null,
      "content_dependencies": null
    },
    {
      "cell_type": "code",
      "metadata": {
        "source_hash": "5117de51",
        "execution_start": 1753814575164,
        "execution_millis": 3285,
        "execution_context_id": "985ff817-7ce4-41b9-b8fb-fc7eeb87fa87",
        "deepnote_to_be_reexecuted": true,
        "cell_id": "823bb602cb8f49ebba18bf0885607da5",
        "deepnote_cell_type": "code"
      },
      "source": "neighboring_gdf",
      "block_group": "cc0489f22bb94f9d87571312701b5d00",
      "execution_count": 184,
      "outputs": [
        {
          "data": {
            "text/plain": "<IPython.core.display.HTML object>",
            "text/html": "\n            <style>\n                .geemap-dark {\n                    --jp-widgets-color: white;\n                    --jp-widgets-label-color: white;\n                    --jp-ui-font-color1: white;\n                    --jp-layout-color2: #454545;\n                    background-color: #383838;\n                }\n\n                .geemap-dark .jupyter-button {\n                    --jp-layout-color3: #383838;\n                }\n\n                .geemap-colab {\n                    background-color: var(--colab-primary-surface-color, white);\n                }\n\n                .geemap-colab .jupyter-button {\n                    --jp-layout-color3: var(--colab-primary-surface-color, white);\n                }\n            </style>\n            "
          },
          "metadata": {},
          "output_type": "display_data"
        },
        {
          "output_type": "execute_result",
          "execution_count": 184,
          "data": {
            "application/vnd.deepnote.dataframe.v3+json": {
              "column_count": 18,
              "columns": [
                {
                  "name": "EASTING_left",
                  "dtype": "object"
                },
                {
                  "name": "NORTHING_left",
                  "dtype": "object"
                },
                {
                  "name": "kmSQ_ID_left",
                  "dtype": "object"
                },
                {
                  "name": "GZD_left",
                  "dtype": "object"
                },
                {
                  "name": "Shape_Leng_left",
                  "dtype": "float64"
                },
                {
                  "name": "MGRS_left",
                  "dtype": "object"
                },
                {
                  "name": "MGRS_10km_left",
                  "dtype": "object"
                },
                {
                  "name": "transport_score_left",
                  "dtype": "int32"
                },
                {
                  "name": "geometry",
                  "dtype": "geometry"
                },
                {
                  "name": "index_right",
                  "dtype": "int64"
                },
                {
                  "name": "EASTING_right",
                  "dtype": "object"
                },
                {
                  "name": "NORTHING_right",
                  "dtype": "object"
                },
                {
                  "name": "kmSQ_ID_right",
                  "dtype": "object"
                },
                {
                  "name": "GZD_right",
                  "dtype": "object"
                },
                {
                  "name": "Shape_Leng_right",
                  "dtype": "float64"
                },
                {
                  "name": "MGRS_right",
                  "dtype": "object"
                },
                {
                  "name": "MGRS_10km_right",
                  "dtype": "object"
                },
                {
                  "name": "transport_score_right",
                  "dtype": "int32"
                },
                {
                  "name": "_deepnote_index_column",
                  "dtype": "int64"
                }
              ],
              "row_count": 2609058,
              "preview_row_count": 2609058,
              "rows": [
                {
                  "EASTING_left": "596000mE",
                  "NORTHING_left": "4984000mN",
                  "kmSQ_ID_left": "WQ",
                  "GZD_left": "18T",
                  "Shape_Leng_left": 400000,
                  "MGRS_left": "18TWQ9684",
                  "MGRS_10km_left": "18TWQ98",
                  "transport_score_left": 1,
                  "geometry": "POLYGON ((-8211941.3724081125 5621964.655267792, -8211941.43539888 5621963.675924736, -8211941.59408002 5621962.70747187, -8211941.846923304 5621961.759236176, -8211942.191493648 5621960.8403499285, -8211942.624472562 5621959.959662743, -8211943.14169011 5621959.125656348, -8211943.738165068 5621958.346362897, -8211944.4081529025 5621957.629287616, -8211945.145201091 5621956.981336517, -8211945.942211263 5621956.408749892, -8211946.791507569 5621955.917042213, -8211947.684910601 5621955.510949019, -8211948.613816165 5621955.194381317, -8211949.5692781545 5621954.97038791, -8211950.542094696 5621954.841126033, -8211951.522896785 5621954.807840585, -8213363.68036141 5621976.223578811, -8213364.659579822 5621976.2865763195, -8213365.627909954 5621976.445239933, -8213366.576028359 5621976.698041979, -8213367.4948062 5621977.042548385, -8213368.375397141 5621977.475442114, -8213369.209322522 5621977.992555105, -8213369.988552999 5621978.5889083985, -8213370.705585848 5621979.258760083, -82…",
                  "index_right": 20,
                  "EASTING_right": "595000mE",
                  "NORTHING_right": "4983000mN",
                  "kmSQ_ID_right": "WQ",
                  "GZD_right": "18T",
                  "Shape_Leng_right": 400000,
                  "MGRS_right": "18TWQ9583",
                  "MGRS_10km_right": "18TWQ98",
                  "transport_score_right": 1,
                  "_deepnote_index_column": 0
                },
                {
                  "EASTING_left": "596000mE",
                  "NORTHING_left": "4984000mN",
                  "kmSQ_ID_left": "WQ",
                  "GZD_left": "18T",
                  "Shape_Leng_left": 400000,
                  "MGRS_left": "18TWQ9684",
                  "MGRS_10km_left": "18TWQ98",
                  "transport_score_left": 1,
                  "geometry": "POLYGON ((-8211941.3724081125 5621964.655267792, -8211941.43539888 5621963.675924736, -8211941.59408002 5621962.70747187, -8211941.846923304 5621961.759236176, -8211942.191493648 5621960.8403499285, -8211942.624472562 5621959.959662743, -8211943.14169011 5621959.125656348, -8211943.738165068 5621958.346362897, -8211944.4081529025 5621957.629287616, -8211945.145201091 5621956.981336517, -8211945.942211263 5621956.408749892, -8211946.791507569 5621955.917042213, -8211947.684910601 5621955.510949019, -8211948.613816165 5621955.194381317, -8211949.5692781545 5621954.97038791, -8211950.542094696 5621954.841126033, -8211951.522896785 5621954.807840585, -8213363.68036141 5621976.223578811, -8213364.659579822 5621976.2865763195, -8213365.627909954 5621976.445239933, -8213366.576028359 5621976.698041979, -8213367.4948062 5621977.042548385, -8213368.375397141 5621977.475442114, -8213369.209322522 5621977.992555105, -8213369.988552999 5621978.5889083985, -8213370.705585848 5621979.258760083, -82…",
                  "index_right": 22,
                  "EASTING_right": "597000mE",
                  "NORTHING_right": "4983000mN",
                  "kmSQ_ID_right": "WQ",
                  "GZD_right": "18T",
                  "Shape_Leng_right": 400000,
                  "MGRS_right": "18TWQ9783",
                  "MGRS_10km_right": "18TWQ98",
                  "transport_score_right": 1,
                  "_deepnote_index_column": 0
                },
                {
                  "EASTING_left": "596000mE",
                  "NORTHING_left": "4984000mN",
                  "kmSQ_ID_left": "WQ",
                  "GZD_left": "18T",
                  "Shape_Leng_left": 400000,
                  "MGRS_left": "18TWQ9684",
                  "MGRS_10km_left": "18TWQ98",
                  "transport_score_left": 1,
                  "geometry": "POLYGON ((-8211941.3724081125 5621964.655267792, -8211941.43539888 5621963.675924736, -8211941.59408002 5621962.70747187, -8211941.846923304 5621961.759236176, -8211942.191493648 5621960.8403499285, -8211942.624472562 5621959.959662743, -8211943.14169011 5621959.125656348, -8211943.738165068 5621958.346362897, -8211944.4081529025 5621957.629287616, -8211945.145201091 5621956.981336517, -8211945.942211263 5621956.408749892, -8211946.791507569 5621955.917042213, -8211947.684910601 5621955.510949019, -8211948.613816165 5621955.194381317, -8211949.5692781545 5621954.97038791, -8211950.542094696 5621954.841126033, -8211951.522896785 5621954.807840585, -8213363.68036141 5621976.223578811, -8213364.659579822 5621976.2865763195, -8213365.627909954 5621976.445239933, -8213366.576028359 5621976.698041979, -8213367.4948062 5621977.042548385, -8213368.375397141 5621977.475442114, -8213369.209322522 5621977.992555105, -8213369.988552999 5621978.5889083985, -8213370.705585848 5621979.258760083, -82…",
                  "index_right": 21,
                  "EASTING_right": "596000mE",
                  "NORTHING_right": "4983000mN",
                  "kmSQ_ID_right": "WQ",
                  "GZD_right": "18T",
                  "Shape_Leng_right": 400000,
                  "MGRS_right": "18TWQ9683",
                  "MGRS_10km_right": "18TWQ98",
                  "transport_score_right": 1,
                  "_deepnote_index_column": 0
                },
                {
                  "EASTING_left": "596000mE",
                  "NORTHING_left": "4984000mN",
                  "kmSQ_ID_left": "WQ",
                  "GZD_left": "18T",
                  "Shape_Leng_left": 400000,
                  "MGRS_left": "18TWQ9684",
                  "MGRS_10km_left": "18TWQ98",
                  "transport_score_left": 1,
                  "geometry": "POLYGON ((-8211941.3724081125 5621964.655267792, -8211941.43539888 5621963.675924736, -8211941.59408002 5621962.70747187, -8211941.846923304 5621961.759236176, -8211942.191493648 5621960.8403499285, -8211942.624472562 5621959.959662743, -8211943.14169011 5621959.125656348, -8211943.738165068 5621958.346362897, -8211944.4081529025 5621957.629287616, -8211945.145201091 5621956.981336517, -8211945.942211263 5621956.408749892, -8211946.791507569 5621955.917042213, -8211947.684910601 5621955.510949019, -8211948.613816165 5621955.194381317, -8211949.5692781545 5621954.97038791, -8211950.542094696 5621954.841126033, -8211951.522896785 5621954.807840585, -8213363.68036141 5621976.223578811, -8213364.659579822 5621976.2865763195, -8213365.627909954 5621976.445239933, -8213366.576028359 5621976.698041979, -8213367.4948062 5621977.042548385, -8213368.375397141 5621977.475442114, -8213369.209322522 5621977.992555105, -8213369.988552999 5621978.5889083985, -8213370.705585848 5621979.258760083, -82…",
                  "index_right": 1,
                  "EASTING_right": "597000mE",
                  "NORTHING_right": "4984000mN",
                  "kmSQ_ID_right": "WQ",
                  "GZD_right": "18T",
                  "Shape_Leng_right": 400000,
                  "MGRS_right": "18TWQ9784",
                  "MGRS_10km_right": "18TWQ98",
                  "transport_score_right": 1,
                  "_deepnote_index_column": 0
                },
                {
                  "EASTING_left": "597000mE",
                  "NORTHING_left": "4984000mN",
                  "kmSQ_ID_left": "WQ",
                  "GZD_left": "18T",
                  "Shape_Leng_left": 400000,
                  "MGRS_left": "18TWQ9784",
                  "MGRS_10km_left": "18TWQ98",
                  "transport_score_left": 1,
                  "geometry": "POLYGON ((-8210529.224978433 5621943.016296203, -8210529.2881220495 5621942.036962334, -8210529.4469544655 5621941.068533602, -8210529.699945994 5621940.120336771, -8210530.044660118 5621939.201503753, -8210530.477776961 5621938.320883662, -8210530.995125252 5621937.486957592, -8210531.591722501 5621936.707756934, -8210532.261822991 5621935.990786029, -8210532.998973101 5621935.342949894, -8210533.796073476 5621934.770487723, -8210534.645447383 5621934.278912794, -8210535.538914655 5621933.872959377, -8210536.467870472 5621933.556537137, -8210537.423368228 5621933.332693479, -8210538.396205695 5621933.203584201, -8210539.377013653 5621933.17045273, -8211951.524467075 5621954.807864522, -8211952.503675017 5621954.871015749, -8211953.47197967 5621955.0298312595, -8211954.420057848 5621955.28278192, -8211955.338781111 5621955.627432231, -8211956.219303656 5621956.060463772, -8211957.053147494 5621956.57770716, -8211957.832284074 5621957.174182188, -8211958.549211587 5621957.844145778, -8…",
                  "index_right": 0,
                  "EASTING_right": "596000mE",
                  "NORTHING_right": "4984000mN",
                  "kmSQ_ID_right": "WQ",
                  "GZD_right": "18T",
                  "Shape_Leng_right": 400000,
                  "MGRS_right": "18TWQ9684",
                  "MGRS_10km_right": "18TWQ98",
                  "transport_score_right": 1,
                  "_deepnote_index_column": 1
                },
                {
                  "EASTING_left": "597000mE",
                  "NORTHING_left": "4984000mN",
                  "kmSQ_ID_left": "WQ",
                  "GZD_left": "18T",
                  "Shape_Leng_left": 400000,
                  "MGRS_left": "18TWQ9784",
                  "MGRS_10km_left": "18TWQ98",
                  "transport_score_left": 1,
                  "geometry": "POLYGON ((-8210529.224978433 5621943.016296203, -8210529.2881220495 5621942.036962334, -8210529.4469544655 5621941.068533602, -8210529.699945994 5621940.120336771, -8210530.044660118 5621939.201503753, -8210530.477776961 5621938.320883662, -8210530.995125252 5621937.486957592, -8210531.591722501 5621936.707756934, -8210532.261822991 5621935.990786029, -8210532.998973101 5621935.342949894, -8210533.796073476 5621934.770487723, -8210534.645447383 5621934.278912794, -8210535.538914655 5621933.872959377, -8210536.467870472 5621933.556537137, -8210537.423368228 5621933.332693479, -8210538.396205695 5621933.203584201, -8210539.377013653 5621933.17045273, -8211951.524467075 5621954.807864522, -8211952.503675017 5621954.871015749, -8211953.47197967 5621955.0298312595, -8211954.420057848 5621955.28278192, -8211955.338781111 5621955.627432231, -8211956.219303656 5621956.060463772, -8211957.053147494 5621956.57770716, -8211957.832284074 5621957.174182188, -8211958.549211587 5621957.844145778, -8…",
                  "index_right": 23,
                  "EASTING_right": "598000mE",
                  "NORTHING_right": "4983000mN",
                  "kmSQ_ID_right": "WQ",
                  "GZD_right": "18T",
                  "Shape_Leng_right": 400000,
                  "MGRS_right": "18TWQ9883",
                  "MGRS_10km_right": "18TWQ98",
                  "transport_score_right": 1,
                  "_deepnote_index_column": 1
                },
                {
                  "EASTING_left": "597000mE",
                  "NORTHING_left": "4984000mN",
                  "kmSQ_ID_left": "WQ",
                  "GZD_left": "18T",
                  "Shape_Leng_left": 400000,
                  "MGRS_left": "18TWQ9784",
                  "MGRS_10km_left": "18TWQ98",
                  "transport_score_left": 1,
                  "geometry": "POLYGON ((-8210529.224978433 5621943.016296203, -8210529.2881220495 5621942.036962334, -8210529.4469544655 5621941.068533602, -8210529.699945994 5621940.120336771, -8210530.044660118 5621939.201503753, -8210530.477776961 5621938.320883662, -8210530.995125252 5621937.486957592, -8210531.591722501 5621936.707756934, -8210532.261822991 5621935.990786029, -8210532.998973101 5621935.342949894, -8210533.796073476 5621934.770487723, -8210534.645447383 5621934.278912794, -8210535.538914655 5621933.872959377, -8210536.467870472 5621933.556537137, -8210537.423368228 5621933.332693479, -8210538.396205695 5621933.203584201, -8210539.377013653 5621933.17045273, -8211951.524467075 5621954.807864522, -8211952.503675017 5621954.871015749, -8211953.47197967 5621955.0298312595, -8211954.420057848 5621955.28278192, -8211955.338781111 5621955.627432231, -8211956.219303656 5621956.060463772, -8211957.053147494 5621956.57770716, -8211957.832284074 5621957.174182188, -8211958.549211587 5621957.844145778, -8…",
                  "index_right": 22,
                  "EASTING_right": "597000mE",
                  "NORTHING_right": "4983000mN",
                  "kmSQ_ID_right": "WQ",
                  "GZD_right": "18T",
                  "Shape_Leng_right": 400000,
                  "MGRS_right": "18TWQ9783",
                  "MGRS_10km_right": "18TWQ98",
                  "transport_score_right": 1,
                  "_deepnote_index_column": 1
                },
                {
                  "EASTING_left": "597000mE",
                  "NORTHING_left": "4984000mN",
                  "kmSQ_ID_left": "WQ",
                  "GZD_left": "18T",
                  "Shape_Leng_left": 400000,
                  "MGRS_left": "18TWQ9784",
                  "MGRS_10km_left": "18TWQ98",
                  "transport_score_left": 1,
                  "geometry": "POLYGON ((-8210529.224978433 5621943.016296203, -8210529.2881220495 5621942.036962334, -8210529.4469544655 5621941.068533602, -8210529.699945994 5621940.120336771, -8210530.044660118 5621939.201503753, -8210530.477776961 5621938.320883662, -8210530.995125252 5621937.486957592, -8210531.591722501 5621936.707756934, -8210532.261822991 5621935.990786029, -8210532.998973101 5621935.342949894, -8210533.796073476 5621934.770487723, -8210534.645447383 5621934.278912794, -8210535.538914655 5621933.872959377, -8210536.467870472 5621933.556537137, -8210537.423368228 5621933.332693479, -8210538.396205695 5621933.203584201, -8210539.377013653 5621933.17045273, -8211951.524467075 5621954.807864522, -8211952.503675017 5621954.871015749, -8211953.47197967 5621955.0298312595, -8211954.420057848 5621955.28278192, -8211955.338781111 5621955.627432231, -8211956.219303656 5621956.060463772, -8211957.053147494 5621956.57770716, -8211957.832284074 5621957.174182188, -8211958.549211587 5621957.844145778, -8…",
                  "index_right": 21,
                  "EASTING_right": "596000mE",
                  "NORTHING_right": "4983000mN",
                  "kmSQ_ID_right": "WQ",
                  "GZD_right": "18T",
                  "Shape_Leng_right": 400000,
                  "MGRS_right": "18TWQ9683",
                  "MGRS_10km_right": "18TWQ98",
                  "transport_score_right": 1,
                  "_deepnote_index_column": 1
                },
                {
                  "EASTING_left": "597000mE",
                  "NORTHING_left": "4984000mN",
                  "kmSQ_ID_left": "WQ",
                  "GZD_left": "18T",
                  "Shape_Leng_left": 400000,
                  "MGRS_left": "18TWQ9784",
                  "MGRS_10km_left": "18TWQ98",
                  "transport_score_left": 1,
                  "geometry": "POLYGON ((-8210529.224978433 5621943.016296203, -8210529.2881220495 5621942.036962334, -8210529.4469544655 5621941.068533602, -8210529.699945994 5621940.120336771, -8210530.044660118 5621939.201503753, -8210530.477776961 5621938.320883662, -8210530.995125252 5621937.486957592, -8210531.591722501 5621936.707756934, -8210532.261822991 5621935.990786029, -8210532.998973101 5621935.342949894, -8210533.796073476 5621934.770487723, -8210534.645447383 5621934.278912794, -8210535.538914655 5621933.872959377, -8210536.467870472 5621933.556537137, -8210537.423368228 5621933.332693479, -8210538.396205695 5621933.203584201, -8210539.377013653 5621933.17045273, -8211951.524467075 5621954.807864522, -8211952.503675017 5621954.871015749, -8211953.47197967 5621955.0298312595, -8211954.420057848 5621955.28278192, -8211955.338781111 5621955.627432231, -8211956.219303656 5621956.060463772, -8211957.053147494 5621956.57770716, -8211957.832284074 5621957.174182188, -8211958.549211587 5621957.844145778, -8…",
                  "index_right": 2,
                  "EASTING_right": "598000mE",
                  "NORTHING_right": "4984000mN",
                  "kmSQ_ID_right": "WQ",
                  "GZD_right": "18T",
                  "Shape_Leng_right": 400000,
                  "MGRS_right": "18TWQ9884",
                  "MGRS_10km_right": "18TWQ98",
                  "transport_score_right": 1,
                  "_deepnote_index_column": 1
                },
                {
                  "EASTING_left": "598000mE",
                  "NORTHING_left": "4984000mN",
                  "kmSQ_ID_left": "WQ",
                  "GZD_left": "18T",
                  "Shape_Leng_left": 400000,
                  "MGRS_left": "18TWQ9884",
                  "MGRS_10km_left": "18TWQ98",
                  "transport_score_left": 1,
                  "geometry": "POLYGON ((-8209117.087760444 5621921.155510326, -8209117.151056981 5621920.176185653, -8209117.310040744 5621919.207781074, -8209117.563180589 5621918.25962313, -8209117.908038567 5621917.340843373, -8209118.341293408 5621916.460290416, -8209118.858772508 5621915.626444719, -8209119.455492112 5621914.847336908, -8209120.125705314 5621914.130470441, -8209120.862957402 5621913.482749339, -8209121.660148025 5621912.910411697, -8209122.509599573 5621912.4189696, -8209123.403131121 5621912.013156047, -8209124.332137216 5621911.69687936, -8209125.287670755 5621911.473185546, -8209126.260529155 5621911.344228963, -8209127.2413429795 5621911.311251571, -8210539.378584967 5621933.170476929, -8210540.357782256 5621933.233781957, -8210541.326061248 5621933.392749414, -8210542.274099014 5621933.645848705, -8210543.192767516 5621933.990642904, -8210544.073221494 5621934.423812212, -8210544.906983632 5621934.941185923, -8210545.686026174 5621935.537782582, -8210546.402848229 5621936.207857951, -821…",
                  "index_right": 24,
                  "EASTING_right": "599000mE",
                  "NORTHING_right": "4983000mN",
                  "kmSQ_ID_right": "WQ",
                  "GZD_right": "18T",
                  "Shape_Leng_right": 400000,
                  "MGRS_right": "18TWQ9983",
                  "MGRS_10km_right": "18TWQ98",
                  "transport_score_right": 1,
                  "_deepnote_index_column": 2
                }
              ],
              "type": "dataframe"
            },
            "text/plain": "       EASTING_left NORTHING_left kmSQ_ID_left GZD_left  Shape_Leng_left  \\\n0          596000mE     4984000mN           WQ      18T    400000.000000   \n0          596000mE     4984000mN           WQ      18T    400000.000000   \n0          596000mE     4984000mN           WQ      18T    400000.000000   \n0          596000mE     4984000mN           WQ      18T    400000.000000   \n1          597000mE     4984000mN           WQ      18T    400000.000000   \n...             ...           ...          ...      ...              ...   \n232565     285000mE     4558000mN           BF      19T         0.041828   \n232565     285000mE     4558000mN           BF      19T         0.041828   \n232566     286000mE     4558000mN           BF      19T         0.041829   \n232566     286000mE     4558000mN           BF      19T         0.041829   \n232566     286000mE     4558000mN           BF      19T         0.041829   \n\n        MGRS_left MGRS_10km_left  transport_score_left  \\\n0       18TWQ9684        18TWQ98                     1   \n0       18TWQ9684        18TWQ98                     1   \n0       18TWQ9684        18TWQ98                     1   \n0       18TWQ9684        18TWQ98                     1   \n1       18TWQ9784        18TWQ98                     1   \n...           ...            ...                   ...   \n232565  19TBF8558        19TBF85                     1   \n232565  19TBF8558        19TBF85                     1   \n232566  19TBF8658        19TBF85                     1   \n232566  19TBF8658        19TBF85                     1   \n232566  19TBF8658        19TBF85                     1   \n\n                                                 geometry  index_right  \\\n0       POLYGON ((-8211941.372 5621964.655, -8211941.4...           20   \n0       POLYGON ((-8211941.372 5621964.655, -8211941.4...           22   \n0       POLYGON ((-8211941.372 5621964.655, -8211941.4...           21   \n0       POLYGON ((-8211941.372 5621964.655, -8211941.4...            1   \n1       POLYGON ((-8210529.225 5621943.016, -8210529.2...            0   \n...                                                   ...          ...   \n232565  POLYGON ((-7964902.902 5033768.824, -7964902.9...       232559   \n232565  POLYGON ((-7964902.902 5033768.824, -7964902.9...       232560   \n232566  POLYGON ((-7963577.664 5033807.714, -7963577.6...       232565   \n232566  POLYGON ((-7963577.664 5033807.714, -7963577.6...       232559   \n232566  POLYGON ((-7963577.664 5033807.714, -7963577.6...       232560   \n\n       EASTING_right NORTHING_right kmSQ_ID_right GZD_right  Shape_Leng_right  \\\n0           595000mE      4983000mN            WQ       18T     400000.000000   \n0           597000mE      4983000mN            WQ       18T     400000.000000   \n0           596000mE      4983000mN            WQ       18T     400000.000000   \n0           597000mE      4984000mN            WQ       18T     400000.000000   \n1           596000mE      4984000mN            WQ       18T     400000.000000   \n...              ...            ...           ...       ...               ...   \n232565      285000mE      4559000mN            BF       19T          0.041832   \n232565      286000mE      4559000mN            BF       19T          0.041832   \n232566      285000mE      4558000mN            BF       19T          0.041828   \n232566      285000mE      4559000mN            BF       19T          0.041832   \n232566      286000mE      4559000mN            BF       19T          0.041832   \n\n       MGRS_right MGRS_10km_right  transport_score_right  \n0       18TWQ9583         18TWQ98                      1  \n0       18TWQ9783         18TWQ98                      1  \n0       18TWQ9683         18TWQ98                      1  \n0       18TWQ9784         18TWQ98                      1  \n1       18TWQ9684         18TWQ98                      1  \n...           ...             ...                    ...  \n232565  19TBF8559         19TBF85                      2  \n232565  19TBF8659         19TBF85                      1  \n232566  19TBF8558         19TBF85                      1  \n232566  19TBF8559         19TBF85                      2  \n232566  19TBF8659         19TBF85                      1  \n\n[2609058 rows x 18 columns]",
            "text/html": "<div>\n<style scoped>\n    .dataframe tbody tr th:only-of-type {\n        vertical-align: middle;\n    }\n\n    .dataframe tbody tr th {\n        vertical-align: top;\n    }\n\n    .dataframe thead th {\n        text-align: right;\n    }\n</style>\n<table border=\"1\" class=\"dataframe\">\n  <thead>\n    <tr style=\"text-align: right;\">\n      <th></th>\n      <th>EASTING_left</th>\n      <th>NORTHING_left</th>\n      <th>kmSQ_ID_left</th>\n      <th>GZD_left</th>\n      <th>Shape_Leng_left</th>\n      <th>MGRS_left</th>\n      <th>MGRS_10km_left</th>\n      <th>transport_score_left</th>\n      <th>geometry</th>\n      <th>index_right</th>\n      <th>EASTING_right</th>\n      <th>NORTHING_right</th>\n      <th>kmSQ_ID_right</th>\n      <th>GZD_right</th>\n      <th>Shape_Leng_right</th>\n      <th>MGRS_right</th>\n      <th>MGRS_10km_right</th>\n      <th>transport_score_right</th>\n    </tr>\n  </thead>\n  <tbody>\n    <tr>\n      <th>0</th>\n      <td>596000mE</td>\n      <td>4984000mN</td>\n      <td>WQ</td>\n      <td>18T</td>\n      <td>400000.000000</td>\n      <td>18TWQ9684</td>\n      <td>18TWQ98</td>\n      <td>1</td>\n      <td>POLYGON ((-8211941.372 5621964.655, -8211941.4...</td>\n      <td>20</td>\n      <td>595000mE</td>\n      <td>4983000mN</td>\n      <td>WQ</td>\n      <td>18T</td>\n      <td>400000.000000</td>\n      <td>18TWQ9583</td>\n      <td>18TWQ98</td>\n      <td>1</td>\n    </tr>\n    <tr>\n      <th>0</th>\n      <td>596000mE</td>\n      <td>4984000mN</td>\n      <td>WQ</td>\n      <td>18T</td>\n      <td>400000.000000</td>\n      <td>18TWQ9684</td>\n      <td>18TWQ98</td>\n      <td>1</td>\n      <td>POLYGON ((-8211941.372 5621964.655, -8211941.4...</td>\n      <td>22</td>\n      <td>597000mE</td>\n      <td>4983000mN</td>\n      <td>WQ</td>\n      <td>18T</td>\n      <td>400000.000000</td>\n      <td>18TWQ9783</td>\n      <td>18TWQ98</td>\n      <td>1</td>\n    </tr>\n    <tr>\n      <th>0</th>\n      <td>596000mE</td>\n      <td>4984000mN</td>\n      <td>WQ</td>\n      <td>18T</td>\n      <td>400000.000000</td>\n      <td>18TWQ9684</td>\n      <td>18TWQ98</td>\n      <td>1</td>\n      <td>POLYGON ((-8211941.372 5621964.655, -8211941.4...</td>\n      <td>21</td>\n      <td>596000mE</td>\n      <td>4983000mN</td>\n      <td>WQ</td>\n      <td>18T</td>\n      <td>400000.000000</td>\n      <td>18TWQ9683</td>\n      <td>18TWQ98</td>\n      <td>1</td>\n    </tr>\n    <tr>\n      <th>0</th>\n      <td>596000mE</td>\n      <td>4984000mN</td>\n      <td>WQ</td>\n      <td>18T</td>\n      <td>400000.000000</td>\n      <td>18TWQ9684</td>\n      <td>18TWQ98</td>\n      <td>1</td>\n      <td>POLYGON ((-8211941.372 5621964.655, -8211941.4...</td>\n      <td>1</td>\n      <td>597000mE</td>\n      <td>4984000mN</td>\n      <td>WQ</td>\n      <td>18T</td>\n      <td>400000.000000</td>\n      <td>18TWQ9784</td>\n      <td>18TWQ98</td>\n      <td>1</td>\n    </tr>\n    <tr>\n      <th>1</th>\n      <td>597000mE</td>\n      <td>4984000mN</td>\n      <td>WQ</td>\n      <td>18T</td>\n      <td>400000.000000</td>\n      <td>18TWQ9784</td>\n      <td>18TWQ98</td>\n      <td>1</td>\n      <td>POLYGON ((-8210529.225 5621943.016, -8210529.2...</td>\n      <td>0</td>\n      <td>596000mE</td>\n      <td>4984000mN</td>\n      <td>WQ</td>\n      <td>18T</td>\n      <td>400000.000000</td>\n      <td>18TWQ9684</td>\n      <td>18TWQ98</td>\n      <td>1</td>\n    </tr>\n    <tr>\n      <th>...</th>\n      <td>...</td>\n      <td>...</td>\n      <td>...</td>\n      <td>...</td>\n      <td>...</td>\n      <td>...</td>\n      <td>...</td>\n      <td>...</td>\n      <td>...</td>\n      <td>...</td>\n      <td>...</td>\n      <td>...</td>\n      <td>...</td>\n      <td>...</td>\n      <td>...</td>\n      <td>...</td>\n      <td>...</td>\n      <td>...</td>\n    </tr>\n    <tr>\n      <th>232565</th>\n      <td>285000mE</td>\n      <td>4558000mN</td>\n      <td>BF</td>\n      <td>19T</td>\n      <td>0.041828</td>\n      <td>19TBF8558</td>\n      <td>19TBF85</td>\n      <td>1</td>\n      <td>POLYGON ((-7964902.902 5033768.824, -7964902.9...</td>\n      <td>232559</td>\n      <td>285000mE</td>\n      <td>4559000mN</td>\n      <td>BF</td>\n      <td>19T</td>\n      <td>0.041832</td>\n      <td>19TBF8559</td>\n      <td>19TBF85</td>\n      <td>2</td>\n    </tr>\n    <tr>\n      <th>232565</th>\n      <td>285000mE</td>\n      <td>4558000mN</td>\n      <td>BF</td>\n      <td>19T</td>\n      <td>0.041828</td>\n      <td>19TBF8558</td>\n      <td>19TBF85</td>\n      <td>1</td>\n      <td>POLYGON ((-7964902.902 5033768.824, -7964902.9...</td>\n      <td>232560</td>\n      <td>286000mE</td>\n      <td>4559000mN</td>\n      <td>BF</td>\n      <td>19T</td>\n      <td>0.041832</td>\n      <td>19TBF8659</td>\n      <td>19TBF85</td>\n      <td>1</td>\n    </tr>\n    <tr>\n      <th>232566</th>\n      <td>286000mE</td>\n      <td>4558000mN</td>\n      <td>BF</td>\n      <td>19T</td>\n      <td>0.041829</td>\n      <td>19TBF8658</td>\n      <td>19TBF85</td>\n      <td>1</td>\n      <td>POLYGON ((-7963577.664 5033807.714, -7963577.6...</td>\n      <td>232565</td>\n      <td>285000mE</td>\n      <td>4558000mN</td>\n      <td>BF</td>\n      <td>19T</td>\n      <td>0.041828</td>\n      <td>19TBF8558</td>\n      <td>19TBF85</td>\n      <td>1</td>\n    </tr>\n    <tr>\n      <th>232566</th>\n      <td>286000mE</td>\n      <td>4558000mN</td>\n      <td>BF</td>\n      <td>19T</td>\n      <td>0.041829</td>\n      <td>19TBF8658</td>\n      <td>19TBF85</td>\n      <td>1</td>\n      <td>POLYGON ((-7963577.664 5033807.714, -7963577.6...</td>\n      <td>232559</td>\n      <td>285000mE</td>\n      <td>4559000mN</td>\n      <td>BF</td>\n      <td>19T</td>\n      <td>0.041832</td>\n      <td>19TBF8559</td>\n      <td>19TBF85</td>\n      <td>2</td>\n    </tr>\n    <tr>\n      <th>232566</th>\n      <td>286000mE</td>\n      <td>4558000mN</td>\n      <td>BF</td>\n      <td>19T</td>\n      <td>0.041829</td>\n      <td>19TBF8658</td>\n      <td>19TBF85</td>\n      <td>1</td>\n      <td>POLYGON ((-7963577.664 5033807.714, -7963577.6...</td>\n      <td>232560</td>\n      <td>286000mE</td>\n      <td>4559000mN</td>\n      <td>BF</td>\n      <td>19T</td>\n      <td>0.041832</td>\n      <td>19TBF8659</td>\n      <td>19TBF85</td>\n      <td>1</td>\n    </tr>\n  </tbody>\n</table>\n<p>2609058 rows × 18 columns</p>\n</div>"
          },
          "metadata": {}
        }
      ],
      "outputs_reference": null,
      "content_dependencies": null
    },
    {
      "cell_type": "code",
      "metadata": {
        "source_hash": "69a4db95",
        "execution_start": 1753814618467,
        "execution_millis": 8917,
        "execution_context_id": "985ff817-7ce4-41b9-b8fb-fc7eeb87fa87",
        "deepnote_to_be_reexecuted": true,
        "cell_id": "1689c500427b4affad6186b162815778",
        "deepnote_cell_type": "code"
      },
      "source": "transport_network = networkx.DiGraph()\ntransport_network.add_nodes_from(game_grid_df['MGRS']) #add nodes, 1 for every entry of MGRS\n# calculate travel time as an edge feature\nneighboring_gdf['travel_time'] = 20/ (neighboring_gdf['transport_score_left'] + neighboring_gdf['transport_score_right'])\n# create edges from (origin, destination, travel_time)\ntransport_network.add_weighted_edges_from(zip(neighboring_gdf['MGRS_left'], neighboring_gdf['MGRS_right'], neighboring_gdf['travel_time']))",
      "block_group": "f53f54a6d2364f4fa0a588308477faf2",
      "execution_count": 188,
      "outputs": [
        {
          "data": {
            "text/plain": "<IPython.core.display.HTML object>",
            "text/html": "\n            <style>\n                .geemap-dark {\n                    --jp-widgets-color: white;\n                    --jp-widgets-label-color: white;\n                    --jp-ui-font-color1: white;\n                    --jp-layout-color2: #454545;\n                    background-color: #383838;\n                }\n\n                .geemap-dark .jupyter-button {\n                    --jp-layout-color3: #383838;\n                }\n\n                .geemap-colab {\n                    background-color: var(--colab-primary-surface-color, white);\n                }\n\n                .geemap-colab .jupyter-button {\n                    --jp-layout-color3: var(--colab-primary-surface-color, white);\n                }\n            </style>\n            "
          },
          "metadata": {},
          "output_type": "display_data"
        }
      ],
      "outputs_reference": null,
      "content_dependencies": null
    },
    {
      "cell_type": "code",
      "metadata": {
        "source_hash": "23f55db7",
        "execution_start": 1753814639804,
        "execution_millis": 57122,
        "execution_context_id": "985ff817-7ce4-41b9-b8fb-fc7eeb87fa87",
        "deepnote_to_be_reexecuted": true,
        "cell_id": "c1c1c3849ae348b594a912d26a6aef6c",
        "deepnote_cell_type": "code"
      },
      "source": "networkx.write_graphml(transport_network, 'transport_network_pre.graphml')",
      "block_group": "ae50d66c48a14627a81f1f40958753e3",
      "execution_count": 190,
      "outputs": [
        {
          "data": {
            "text/plain": "<IPython.core.display.HTML object>",
            "text/html": "\n            <style>\n                .geemap-dark {\n                    --jp-widgets-color: white;\n                    --jp-widgets-label-color: white;\n                    --jp-ui-font-color1: white;\n                    --jp-layout-color2: #454545;\n                    background-color: #383838;\n                }\n\n                .geemap-dark .jupyter-button {\n                    --jp-layout-color3: #383838;\n                }\n\n                .geemap-colab {\n                    background-color: var(--colab-primary-surface-color, white);\n                }\n\n                .geemap-colab .jupyter-button {\n                    --jp-layout-color3: var(--colab-primary-surface-color, white);\n                }\n            </style>\n            "
          },
          "metadata": {},
          "output_type": "display_data"
        }
      ],
      "outputs_reference": null,
      "content_dependencies": null
    },
    {
      "cell_type": "code",
      "metadata": {
        "source_hash": "5fbe974d",
        "execution_start": 1753814833459,
        "execution_millis": 57294,
        "execution_context_id": "4f3e2829-e6ce-4b8d-87b3-e021ab5c7197",
        "deepnote_to_be_reexecuted": true,
        "cell_id": "b4d19a806e504ac1b99b3fcbfde05a1f",
        "deepnote_cell_type": "code"
      },
      "source": "transport_network_loaded = networkx.read_graphml('transport_network_pre.graphml')",
      "block_group": "249cf3e0e4d440d8a02a407b71e32412",
      "execution_count": 22,
      "outputs": [],
      "outputs_reference": null,
      "content_dependencies": null
    },
    {
      "cell_type": "code",
      "metadata": {
        "deepnote_to_be_reexecuted": true,
        "cell_id": "454112c7b1224aa786a86ad74a4804fd",
        "deepnote_cell_type": "code"
      },
      "source": "# plotting a route\ndef plot_route(game_grid_df, transport_network, route, ax, buffer=0.01, color=None):\n    '''\n    plots a route on the game_grid network\n    \n    game_grid: gdf of the game grid\n    transport_network: networkx object representing network\n    route: list of MGRS ID's of shelters in order of the route\n    buffer: how much to buffer the routes for visibility\n    ax: matplotlib axes object to plot on\n    color: color of the route to plot\n    '''\n    if color == None:\n        color = np.random.random(3)\n    full_route = []\n    for idx in range(len(route)-1):\n        orig = route[idx]\n        dest = route[idx+1]\n        full_route = full_route + networkx.astar_path(transport_network, orig, dest)\n    game_grid_df.set_index('MGRS').loc[full_route].buffer(buffer).plot(ax=ax, color=color)",
      "block_group": "c9117a3a0c69482383904ba9808b42bd",
      "execution_count": null,
      "outputs": [],
      "outputs_reference": null,
      "content_dependencies": null
    },
    {
      "cell_type": "code",
      "metadata": {
        "deepnote_to_be_reexecuted": true,
        "cell_id": "b327568a3caa4cef8f3798818ae947d5",
        "deepnote_cell_type": "code"
      },
      "source": "# example of plotting transport score and route\nfig = plt.figure(figsize=(10,10))\nax = fig.add_subplot(1,1,1)\ngame_grid_df.plot(column='transport_score', cmap='Greys', alpha=0.8, ax=ax)\n#plotting for random origin and destination for reference\nplot_route(game_grid_df,\n           transport_network, \n           [np.random.choice(game_grid_df['MGRS']),\n            np.random.choice(game_grid_df['MGRS'])],\n           ax=ax,\n           buffer=0.01)\nctx.add_basemap(ax,\n                crs=game_grid_df.crs,\n                source=ctx.providers.Stamen.TonerBackground)\nax.set_xlim([w,e]) # from overall bounds\nax.set_ylim([s,n])\nplt.show()",
      "block_group": "19c6c6395af540e696a011bd99511dda",
      "execution_count": null,
      "outputs": [],
      "outputs_reference": null,
      "content_dependencies": null
    },
    {
      "cell_type": "code",
      "metadata": {
        "deepnote_to_be_reexecuted": true,
        "cell_id": "6dfb64f9e65f4cdca6ea39bbad1f625c",
        "deepnote_cell_type": "code"
      },
      "source": "",
      "block_group": "1a16238431fa46c8a4220d93f80364b0",
      "execution_count": null,
      "outputs": [],
      "outputs_reference": null,
      "content_dependencies": null
    },
    {
      "cell_type": "markdown",
      "source": "<a style='text-decoration:none;line-height:16px;display:flex;color:#5B5B62;padding:10px;justify-content:end;' href='https://deepnote.com?utm_source=created-in-deepnote-cell&projectId=2dcc0f2a-2908-4fb2-84a7-f396276d2cf8' target=\"_blank\">\n<img alt='Created in deepnote.com' style='display:inline;max-height:16px;margin:0px;margin-right:7.5px;' src='data:image/svg+xml;base64,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' > </img>\nCreated in <span style='font-weight:600;margin-left:4px;'>Deepnote</span></a>",
      "metadata": {
        "created_in_deepnote_cell": true,
        "deepnote_cell_type": "markdown"
      }
    }
  ],
  "nbformat": 4,
  "nbformat_minor": 0,
  "metadata": {
    "deepnote_notebook_id": "55563c5c371a403caeb98333ce8297c5"
  }
}