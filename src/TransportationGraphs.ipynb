{
  "nbformat": 4,
  "nbformat_minor": 0,
  "metadata": {
    "colab": {
      "provenance": []
    },
    "kernelspec": {
      "name": "python3",
      "display_name": "Python 3"
    },
    "language_info": {
      "name": "python"
    }
  },
  "cells": [
    {
      "cell_type": "code",
      "execution_count": 1,
      "metadata": {
        "colab": {
          "base_uri": "https://localhost:8080/"
        },
        "id": "G-vfCoBxGyPY",
        "outputId": "91214e75-8083-4aa5-a9e1-c9e7938dcf64"
      },
      "outputs": [
        {
          "output_type": "stream",
          "name": "stdout",
          "text": [
            "Requirement already satisfied: numpy in /usr/local/lib/python3.11/dist-packages (2.0.2)\n",
            "Requirement already satisfied: pandas in /usr/local/lib/python3.11/dist-packages (2.2.2)\n",
            "Requirement already satisfied: geopandas in /usr/local/lib/python3.11/dist-packages (1.1.1)\n",
            "Requirement already satisfied: matplotlib in /usr/local/lib/python3.11/dist-packages (3.10.0)\n",
            "Requirement already satisfied: networkx in /usr/local/lib/python3.11/dist-packages (3.5)\n",
            "Collecting osmnx\n",
            "  Downloading osmnx-2.0.5-py3-none-any.whl.metadata (4.9 kB)\n",
            "Collecting contextily\n",
            "  Downloading contextily-1.6.2-py3-none-any.whl.metadata (2.9 kB)\n",
            "Requirement already satisfied: folium in /usr/local/lib/python3.11/dist-packages (0.20.0)\n",
            "Requirement already satisfied: shapely in /usr/local/lib/python3.11/dist-packages (2.1.1)\n",
            "Collecting EE\n",
            "  Downloading ee-0.2.tar.gz (3.0 kB)\n",
            "  Preparing metadata (setup.py) ... \u001b[?25l\u001b[?25hdone\n",
            "Requirement already satisfied: python-dateutil>=2.8.2 in /usr/local/lib/python3.11/dist-packages (from pandas) (2.9.0.post0)\n",
            "Requirement already satisfied: pytz>=2020.1 in /usr/local/lib/python3.11/dist-packages (from pandas) (2025.2)\n",
            "Requirement already satisfied: tzdata>=2022.7 in /usr/local/lib/python3.11/dist-packages (from pandas) (2025.2)\n",
            "Requirement already satisfied: pyogrio>=0.7.2 in /usr/local/lib/python3.11/dist-packages (from geopandas) (0.11.0)\n",
            "Requirement already satisfied: packaging in /usr/local/lib/python3.11/dist-packages (from geopandas) (25.0)\n",
            "Requirement already satisfied: pyproj>=3.5.0 in /usr/local/lib/python3.11/dist-packages (from geopandas) (3.7.1)\n",
            "Requirement already satisfied: contourpy>=1.0.1 in /usr/local/lib/python3.11/dist-packages (from matplotlib) (1.3.3)\n",
            "Requirement already satisfied: cycler>=0.10 in /usr/local/lib/python3.11/dist-packages (from matplotlib) (0.12.1)\n",
            "Requirement already satisfied: fonttools>=4.22.0 in /usr/local/lib/python3.11/dist-packages (from matplotlib) (4.59.0)\n",
            "Requirement already satisfied: kiwisolver>=1.3.1 in /usr/local/lib/python3.11/dist-packages (from matplotlib) (1.4.8)\n",
            "Requirement already satisfied: pillow>=8 in /usr/local/lib/python3.11/dist-packages (from matplotlib) (11.3.0)\n",
            "Requirement already satisfied: pyparsing>=2.3.1 in /usr/local/lib/python3.11/dist-packages (from matplotlib) (3.2.3)\n",
            "Requirement already satisfied: requests>=2.27 in /usr/local/lib/python3.11/dist-packages (from osmnx) (2.32.3)\n",
            "Requirement already satisfied: geopy in /usr/local/lib/python3.11/dist-packages (from contextily) (2.4.1)\n",
            "Collecting mercantile (from contextily)\n",
            "  Downloading mercantile-1.2.1-py3-none-any.whl.metadata (4.8 kB)\n",
            "Collecting rasterio (from contextily)\n",
            "  Downloading rasterio-1.4.3-cp311-cp311-manylinux_2_17_x86_64.manylinux2014_x86_64.whl.metadata (9.1 kB)\n",
            "Requirement already satisfied: joblib in /usr/local/lib/python3.11/dist-packages (from contextily) (1.5.1)\n",
            "Requirement already satisfied: xyzservices in /usr/local/lib/python3.11/dist-packages (from contextily) (2025.4.0)\n",
            "Requirement already satisfied: branca>=0.6.0 in /usr/local/lib/python3.11/dist-packages (from folium) (0.8.1)\n",
            "Requirement already satisfied: jinja2>=2.9 in /usr/local/lib/python3.11/dist-packages (from folium) (3.1.6)\n",
            "Collecting blessings (from EE)\n",
            "  Downloading blessings-1.7-py3-none-any.whl.metadata (19 kB)\n",
            "Requirement already satisfied: MarkupSafe>=2.0 in /usr/local/lib/python3.11/dist-packages (from jinja2>=2.9->folium) (3.0.2)\n",
            "Requirement already satisfied: certifi in /usr/local/lib/python3.11/dist-packages (from pyogrio>=0.7.2->geopandas) (2025.7.14)\n",
            "Requirement already satisfied: six>=1.5 in /usr/local/lib/python3.11/dist-packages (from python-dateutil>=2.8.2->pandas) (1.17.0)\n",
            "Requirement already satisfied: charset-normalizer<4,>=2 in /usr/local/lib/python3.11/dist-packages (from requests>=2.27->osmnx) (3.4.2)\n",
            "Requirement already satisfied: idna<4,>=2.5 in /usr/local/lib/python3.11/dist-packages (from requests>=2.27->osmnx) (3.10)\n",
            "Requirement already satisfied: urllib3<3,>=1.21.1 in /usr/local/lib/python3.11/dist-packages (from requests>=2.27->osmnx) (2.5.0)\n",
            "Requirement already satisfied: geographiclib<3,>=1.52 in /usr/local/lib/python3.11/dist-packages (from geopy->contextily) (2.0)\n",
            "Requirement already satisfied: click>=3.0 in /usr/local/lib/python3.11/dist-packages (from mercantile->contextily) (8.2.1)\n",
            "Collecting affine (from rasterio->contextily)\n",
            "  Downloading affine-2.4.0-py3-none-any.whl.metadata (4.0 kB)\n",
            "Requirement already satisfied: attrs in /usr/local/lib/python3.11/dist-packages (from rasterio->contextily) (25.3.0)\n",
            "Collecting cligj>=0.5 (from rasterio->contextily)\n",
            "  Downloading cligj-0.7.2-py3-none-any.whl.metadata (5.0 kB)\n",
            "Collecting click-plugins (from rasterio->contextily)\n",
            "  Downloading click_plugins-1.1.1.2-py2.py3-none-any.whl.metadata (6.5 kB)\n",
            "Downloading osmnx-2.0.5-py3-none-any.whl (101 kB)\n",
            "\u001b[2K   \u001b[90m━━━━━━━━━━━━━━━━━━━━━━━━━━━━━━━━━━━━━━━━\u001b[0m \u001b[32m101.3/101.3 kB\u001b[0m \u001b[31m4.0 MB/s\u001b[0m eta \u001b[36m0:00:00\u001b[0m\n",
            "\u001b[?25hDownloading contextily-1.6.2-py3-none-any.whl (17 kB)\n",
            "Downloading blessings-1.7-py3-none-any.whl (18 kB)\n",
            "Downloading mercantile-1.2.1-py3-none-any.whl (14 kB)\n",
            "Downloading rasterio-1.4.3-cp311-cp311-manylinux_2_17_x86_64.manylinux2014_x86_64.whl (22.2 MB)\n",
            "\u001b[2K   \u001b[90m━━━━━━━━━━━━━━━━━━━━━━━━━━━━━━━━━━━━━━━━\u001b[0m \u001b[32m22.2/22.2 MB\u001b[0m \u001b[31m51.7 MB/s\u001b[0m eta \u001b[36m0:00:00\u001b[0m\n",
            "\u001b[?25hDownloading cligj-0.7.2-py3-none-any.whl (7.1 kB)\n",
            "Downloading affine-2.4.0-py3-none-any.whl (15 kB)\n",
            "Downloading click_plugins-1.1.1.2-py2.py3-none-any.whl (11 kB)\n",
            "Building wheels for collected packages: EE\n",
            "  Building wheel for EE (setup.py) ... \u001b[?25l\u001b[?25hdone\n",
            "  Created wheel for EE: filename=ee-0.2-py3-none-any.whl size=3655 sha256=e8ab455af789c94a1acecca9717cd1a8887090cb06cf0dc54e81dbbc324f6a25\n",
            "  Stored in directory: /root/.cache/pip/wheels/a0/6d/ee/1d25db5c1257f6b86266fa4c20a2439110c42e8759486066f7\n",
            "Successfully built EE\n",
            "Installing collected packages: mercantile, cligj, click-plugins, blessings, affine, rasterio, EE, contextily, osmnx\n",
            "Successfully installed EE-0.2 affine-2.4.0 blessings-1.7 click-plugins-1.1.1.2 cligj-0.7.2 contextily-1.6.2 mercantile-1.2.1 osmnx-2.0.5 rasterio-1.4.3\n"
          ]
        }
      ],
      "source": [
        "!pip install numpy pandas geopandas matplotlib networkx osmnx contextily folium shapely EE\n",
        "import networkx as nx # need networkx >= 2.5\n",
        "import osmnx as ox\n",
        "import contextily as ctx\n",
        "from matplotlib import pyplot as plt\n",
        "from shapely.geometry import Polygon, Point\n",
        "import folium\n",
        "import numpy as np\n",
        "import matplotlib.patches as mpatches\n",
        "import geopandas as gpd\n",
        "from shapely.ops import nearest_points\n",
        "import matplotlib.pyplot as plt\n",
        "import pandas as pd"
      ]
    },
    {
      "cell_type": "code",
      "source": [
        "hospital_df = gpd.read_file('Hospitals_2025.geojson')\n",
        "shelters_df = gpd.read_file('Shelters_2025.geojson')\n",
        "game_grid_df = gpd.read_file('game_grid_2025.geojson')"
      ],
      "metadata": {
        "id": "M7RFkHowG3K9"
      },
      "execution_count": null,
      "outputs": []
    },
    {
      "cell_type": "code",
      "source": [
        "game_grid_df['coords'] = game_grid_df.apply(lambda x: (x['EASTING'], x['NORTHING']), axis=1)\n",
        "game_grid_df = game_grid_df.drop_duplicates('coords')\n",
        "game_grid_df"
      ],
      "metadata": {
        "id": "yJuegcHOG9w4"
      },
      "execution_count": null,
      "outputs": []
    },
    {
      "cell_type": "code",
      "source": [
        "poly1 = game_grid_df[\"geometry\"][0]\n",
        "poly2 = game_grid_df[\"geometry\"][1]\n",
        "\n",
        "fig, ax = plt.subplots()\n",
        "for poly, color in zip([poly1, poly2], ['blue', 'green']):\n",
        "    x, y = poly.exterior.xy\n",
        "    ax.fill(x, y, alpha=0.5, fc=color, ec='black')\n",
        "\n",
        "ax.set_aspect('equal')\n",
        "ax.set_title(\"Polygons from Data File\")\n",
        "plt.show()"
      ],
      "metadata": {
        "id": "QxITsCp7HBDU"
      },
      "execution_count": null,
      "outputs": []
    },
    {
      "cell_type": "code",
      "source": [
        "import geopandas as gpd\n",
        "import networkx as nx\n",
        "from shapely.geometry.base import BaseGeometry\n",
        "\n",
        "G = nx.Graph()\n",
        "sindex = game_grid_df.sindex\n",
        "\n",
        "# for idx, row in game_grid_df.iterrows():\n",
        "#     G.add_node(idx, transport_score=row['transport_score'], geometry=row.geometry)\n",
        "\n",
        "for idx, row in game_grid_df.iterrows():\n",
        "    geom = row.geometry\n",
        "    mgrs = row['MGRS']\n",
        "\n",
        "    possible_matches_idx = list(sindex.intersection(geom.bounds))\n",
        "    for potential_idx in possible_matches_idx:\n",
        "        if potential_idx <= idx:\n",
        "            continue\n",
        "\n",
        "        potential_row = game_grid_df.iloc[potential_idx]\n",
        "        if geom.intersects(potential_row.geometry) and mgrs != potential_row['MGRS']:\n",
        "            weight = 20.0 / (row['transport_score'] + potential_row['transport_score'])\n",
        "            G.add_edge(idx, potential_idx, weight=weight)\n"
      ],
      "metadata": {
        "id": "SsW_CxJHHHRK"
      },
      "execution_count": null,
      "outputs": []
    },
    {
      "cell_type": "code",
      "source": [
        "print(G.number_of_nodes())\n",
        "print(G.number_of_edges())\n",
        "# print(G.edges(5000))"
      ],
      "metadata": {
        "id": "lMfWW22SHNvo"
      },
      "execution_count": null,
      "outputs": []
    },
    {
      "cell_type": "code",
      "source": [
        "import networkx as nx\n",
        "\n",
        "for node, data in G.nodes(data=True):\n",
        "    if 'geometry' in data:\n",
        "        data['geometry'] = data['geometry'].wkt\n",
        "\n",
        "\n",
        "nx.write_graphml(G, \"graph_pre.graphml\")"
      ],
      "metadata": {
        "id": "2Kw-2sIqHPWe"
      },
      "execution_count": null,
      "outputs": []
    }
  ]
}